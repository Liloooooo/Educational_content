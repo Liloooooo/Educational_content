{
 "cells": [
  {
   "cell_type": "code",
   "execution_count": 68,
   "id": "2d081682",
   "metadata": {},
   "outputs": [],
   "source": [
    "#code for binary trees 1 \n",
    "\n",
    "class BinaryTree: \n",
    "    def __init__(self): \n",
    "        self.root = None\n",
    "        self.last = None \n",
    "        self.first = None \n",
    "        \n",
    "    def insert_last_in_tree(self, node):   \n",
    "        assert isinstance(node, BinaryNode)\n",
    "        if self.root is None: #tree is empty\n",
    "            self.root, self.last, self.first = node, node, node\n",
    "        else: #self.last exists \n",
    "            self.last.right = node\n",
    "            self.last.right.parent = self.last #new with parent \n",
    "            self.last = node\n",
    "            \n",
    "            \n",
    "    def delete_first_in_tree(self): \n",
    "        assert self.first\n",
    "        if self.first.right is None: #node is a leaf or root \n",
    "            if self.first == self.root: #node is root\n",
    "                self.root, self.first, self.last = None, None, None \n",
    "            else: #node is leaf and has no right child, remove leaf\n",
    "                self.first.parent.left = None \n",
    "                self.first = self.first.parent \n",
    "        else: #node has a right child \n",
    "            if self.first == self.root: #is root with right child \n",
    "                self.root = self.first.right\n",
    "                self.first = self.root.first_in_subtree()\n",
    "                self.root.parent.right = None #disconnect from former root \n",
    "                self.root.parent = None \n",
    "            else: #is on left side of root and has right child\n",
    "                self.first.parent.left = self.first.right \n",
    "                self.first.right.parent = self.first.parent\n",
    "                self.first = self.first.right.first_in_subtree() \n",
    "                \n",
    "\n",
    "                \n",
    "                \n",
    "       \n",
    "class BinaryNode():\n",
    "    def __init__(self, order_number, other_info = {}, tree = BinaryTree()):\n",
    "        self.key = order_number\n",
    "        self.additional = other_info\n",
    "        self.left = None\n",
    "        self.right = None\n",
    "        self.parent = None\n",
    "        self.tree = tree \n",
    "        \n",
    "    def find_node_by_number(self, number):\n",
    "        \"\"\" return BinaryNode object, with queried order number. If multiple, return first found. Assume ordered keys\"\"\"\n",
    "        assert isinstance(number, int)\n",
    "        if number == self.key: \n",
    "            return self \n",
    "        elif number < self.key: \n",
    "            if self.left:\n",
    "                self = self.left\n",
    "                return self.find_node_by_number(number)\n",
    "        elif number > self.key: \n",
    "            if self.right:\n",
    "                self = self.right\n",
    "                return self.find_node_by_number(number)\n",
    "        return f'Order number {number} not found in tree'\n",
    "        \n",
    "    def first_in_subtree(self): \n",
    "        \"\"\" returns BinaryNode object that comes first in Traversal Order in the subtree starting from self\"\"\"\n",
    "        if self.left is None: \n",
    "            return self \n",
    "        else: \n",
    "            self = self.left\n",
    "            return self.first_in_subtree()\n",
    "        \n",
    "\n",
    "        \n",
    "    def __str__(self): \n",
    "        if self.right and self.left: \n",
    "            return f'Node with order_number {self.key} and children {self.left.key} and {self.right.key}'\n",
    "        elif self.right: \n",
    "            return f'Node with order_number {self.key} and children (left None) and {self.right.key}'\n",
    "        elif self.left: \n",
    "            return f'Node with order_number {self.key} and children {self.left.key} and (right None)'\n",
    "        return f'Node with order_number {self.key} and no children'"
   ]
  },
  {
   "cell_type": "code",
   "execution_count": 69,
   "id": "ed84aaa0",
   "metadata": {},
   "outputs": [],
   "source": [
    "#tests \n",
    "\n",
    "#build sample tree first \n",
    "\n",
    "tree = BinaryTree()\n",
    "\n",
    "node_202 = BinaryNode(202, tree=tree)\n",
    "node_502 = BinaryNode(502, tree=tree)\n",
    "node_501 = BinaryNode(501, tree=tree)\n",
    "node_555 = BinaryNode(555, tree=tree)\n",
    "node_190 = BinaryNode(190, tree=tree)\n",
    "node_29 = BinaryNode(29, tree=tree)\n",
    "node_14 = BinaryNode(14, tree=tree)\n",
    "node_88 = BinaryNode(88, tree=tree)\n",
    "node_181 = BinaryNode(181, tree=tree)\n",
    "\n",
    "#make children and parents\n",
    "\n",
    "#right tree\n",
    "node_555.parent = node_502\n",
    "node_501.parent = node_502\n",
    "node_502.right = node_555\n",
    "node_502.left = node_501\n",
    "node_502.parent = node_202\n",
    "\n",
    "#left tree\n",
    "node_181.parent = node_88\n",
    "node_88.right = node_181\n",
    "node_88.parent = node_29\n",
    "\n",
    "node_14.parent = node_29\n",
    "node_29.left = node_14\n",
    "node_29.right = node_88\n",
    "\n",
    "node_29.parent = node_190\n",
    "node_190.left = node_29\n",
    "node_190.parent = node_202\n",
    "\n",
    "#root \n",
    "node_202.left = node_190\n",
    "node_202.right = node_502\n",
    "\n",
    "tree.last = node_555\n",
    "tree.first = node_14\n",
    "tree.root = node_202\n",
    "\n"
   ]
  },
  {
   "cell_type": "code",
   "execution_count": 76,
   "id": "9ad71993",
   "metadata": {},
   "outputs": [
    {
     "name": "stdout",
     "output_type": "stream",
     "text": [
      "Node with order_number 190 and children 29 and (right None)\n",
      "Node with order_number 181 and no children\n",
      "Order number 188 not found in tree\n",
      "Node with order_number 502 and children 501 and 555\n",
      "Node with order_number 555 and no children\n",
      "Node with order_number 555 and no children\n",
      "Order number 555 not found in tree\n",
      "Node with order_number 88 and children (left None) and 181\n"
     ]
    }
   ],
   "source": [
    "print(node_202.find_node_by_number(190))\n",
    "print(node_202.find_node_by_number(181))\n",
    "print(node_202.find_node_by_number(188))\n",
    "print(node_202.find_node_by_number(502))\n",
    "print(node_202.find_node_by_number(555))\n",
    "print(node_502.find_node_by_number(555))\n",
    "print(node_29.find_node_by_number(555))\n",
    "print(node_29.find_node_by_number(88))"
   ]
  },
  {
   "cell_type": "code",
   "execution_count": 51,
   "id": "372f1ac7",
   "metadata": {},
   "outputs": [
    {
     "name": "stdout",
     "output_type": "stream",
     "text": [
      "before insertion of 556: \n",
      "node_556.parent None \n",
      "node_555.right None\n",
      "after insertion of 556 \n",
      "tree.last 556 \n",
      "tree.first 14 \n",
      "tree.root 202\n",
      "\n",
      "node_556.parent Node with order_number 555 and children (left None) and 556 \n",
      "node_555.right Node with order_number 556 and no children\n"
     ]
    }
   ],
   "source": [
    "#test insert_last_in_tree\n",
    "\n",
    "node_556 = BinaryNode(556, tree=tree)\n",
    "\n",
    "#print('tree.last', tree.last.key, 'tree.first', tree.first.key, 'tree.root', tree.root.key)\n",
    "print('before insertion of 556: \\nnode_556.parent', node_556.parent, '\\nnode_555.right', node_555.right)\n",
    "\n",
    "tree.insert_last_in_tree(node_556)\n",
    "print('after insertion of 556 \\ntree.last', tree.last.key, '\\ntree.first', tree.first.key, '\\ntree.root', tree.root.key)\n",
    "print('\\nnode_556.parent', node_556.parent, '\\nnode_555.right', node_555.right)\n"
   ]
  },
  {
   "cell_type": "code",
   "execution_count": 52,
   "id": "505f7cf3",
   "metadata": {},
   "outputs": [
    {
     "name": "stdout",
     "output_type": "stream",
     "text": [
      "Node with order_number 14 and no children\n",
      "Node with order_number 14 and no children\n",
      "Node with order_number 88 and children (left None) and 181\n",
      "Node with order_number 14 and no children\n",
      "Node with order_number 501 and no children\n",
      "Node with order_number 501 and no children\n",
      "Node with order_number 555 and children (left None) and 556\n"
     ]
    }
   ],
   "source": [
    "#test first_in_subtree()\n",
    "\n",
    "print(node_29.first_in_subtree())\n",
    "print(node_14.first_in_subtree())\n",
    "print(node_88.first_in_subtree())\n",
    "print(node_202.first_in_subtree())\n",
    "print(node_502.first_in_subtree())\n",
    "print(node_501.first_in_subtree())\n",
    "print(node_555.first_in_subtree())"
   ]
  },
  {
   "cell_type": "code",
   "execution_count": 53,
   "id": "9ed1dd28",
   "metadata": {},
   "outputs": [
    {
     "name": "stdout",
     "output_type": "stream",
     "text": [
      "Node with order_number 29 and children (left None) and 88\n"
     ]
    }
   ],
   "source": [
    "#test tree.delete_first_in_tree()\n",
    "\n",
    "tree.delete_first_in_tree()\n",
    "print(node_202.first_in_subtree()) #now 29"
   ]
  },
  {
   "cell_type": "code",
   "execution_count": 54,
   "id": "75ecbddc",
   "metadata": {},
   "outputs": [
    {
     "name": "stdout",
     "output_type": "stream",
     "text": [
      "Node with order_number 88 and children (left None) and 181\n"
     ]
    }
   ],
   "source": [
    "tree.delete_first_in_tree()\n",
    "print(node_202.first_in_subtree()) #now 88"
   ]
  },
  {
   "cell_type": "code",
   "execution_count": 55,
   "id": "c3903847",
   "metadata": {},
   "outputs": [
    {
     "name": "stdout",
     "output_type": "stream",
     "text": [
      "Node with order_number 181 and no children\n"
     ]
    }
   ],
   "source": [
    "tree.delete_first_in_tree()\n",
    "print(node_202.first_in_subtree()) #181"
   ]
  },
  {
   "cell_type": "code",
   "execution_count": 56,
   "id": "b3e7cdc9",
   "metadata": {},
   "outputs": [
    {
     "name": "stdout",
     "output_type": "stream",
     "text": [
      "Node with order_number 190 and no children\n"
     ]
    }
   ],
   "source": [
    "tree.delete_first_in_tree()\n",
    "print(node_202.first_in_subtree()) #190"
   ]
  },
  {
   "cell_type": "code",
   "execution_count": 57,
   "id": "f29eeb85",
   "metadata": {},
   "outputs": [
    {
     "name": "stdout",
     "output_type": "stream",
     "text": [
      "Node with order_number 202 and children (left None) and 502\n"
     ]
    }
   ],
   "source": [
    "tree.delete_first_in_tree()\n",
    "print(node_202.first_in_subtree()) #202"
   ]
  },
  {
   "cell_type": "code",
   "execution_count": 58,
   "id": "8160ddd2",
   "metadata": {},
   "outputs": [
    {
     "name": "stdout",
     "output_type": "stream",
     "text": [
      "Node with order_number 202 and no children\n",
      "Node with order_number 502 and children 501 and 555\n",
      "Node with order_number 501 and no children\n"
     ]
    }
   ],
   "source": [
    "tree.delete_first_in_tree()\n",
    "print(node_202.first_in_subtree()) #still 202, disconnected\n",
    "print(tree.root) #502\n",
    "print(tree.first) # 501"
   ]
  },
  {
   "cell_type": "code",
   "execution_count": 59,
   "id": "b681d85d",
   "metadata": {},
   "outputs": [
    {
     "name": "stdout",
     "output_type": "stream",
     "text": [
      "Node with order_number 502 and children (left None) and 555\n",
      "Node with order_number 502 and children (left None) and 555\n",
      "Node with order_number 502 and children (left None) and 555\n"
     ]
    }
   ],
   "source": [
    "tree.delete_first_in_tree()\n",
    "print(node_502.first_in_subtree()) #still 502\n",
    "print(tree.root) #502\n",
    "print(tree.first) # 502"
   ]
  },
  {
   "cell_type": "code",
   "execution_count": 60,
   "id": "f295cadb",
   "metadata": {},
   "outputs": [
    {
     "name": "stdout",
     "output_type": "stream",
     "text": [
      "Node with order_number 502 and no children\n",
      "Node with order_number 555 and children (left None) and 556\n",
      "Node with order_number 555 and children (left None) and 556\n"
     ]
    }
   ],
   "source": [
    "tree.delete_first_in_tree()\n",
    "print(node_502.first_in_subtree()) #still 502, disconnected\n",
    "print(tree.root) #555\n",
    "print(tree.first) # 555"
   ]
  },
  {
   "cell_type": "code",
   "execution_count": null,
   "id": "79b59384",
   "metadata": {},
   "outputs": [],
   "source": []
  }
 ],
 "metadata": {
  "kernelspec": {
   "display_name": "Python 3 (ipykernel)",
   "language": "python",
   "name": "python3"
  },
  "language_info": {
   "codemirror_mode": {
    "name": "ipython",
    "version": 3
   },
   "file_extension": ".py",
   "mimetype": "text/x-python",
   "name": "python",
   "nbconvert_exporter": "python",
   "pygments_lexer": "ipython3",
   "version": "3.8.10"
  }
 },
 "nbformat": 4,
 "nbformat_minor": 5
}
