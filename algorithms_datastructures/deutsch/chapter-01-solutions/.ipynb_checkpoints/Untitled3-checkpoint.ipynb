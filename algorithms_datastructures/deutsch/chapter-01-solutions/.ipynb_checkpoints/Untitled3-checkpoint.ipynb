{
 "cells": [
  {
   "cell_type": "code",
   "execution_count": 21,
   "id": "392ee050-b842-490b-b5e5-609ecf6bbe85",
   "metadata": {},
   "outputs": [],
   "source": [
    "from tree import BinaryTree, BinaryNode\n",
    "\n",
    "\n",
    "def sample_tree(): \n",
    "    node_14 = BinaryNode(order_id=14, product_id = [333], payment = 'invoice')\n",
    "\n",
    "    node_29 = BinaryNode(order_id=29)\n",
    "    node_88 = BinaryNode(order_id=88)\n",
    "    node_181 = BinaryNode(order_id=181)\n",
    "    node_190 = BinaryNode(order_id=190)\n",
    "    node_202 = BinaryNode(order_id=202)\n",
    "    node_501 = BinaryNode(order_id=501)\n",
    "    node_502 = BinaryNode(order_id=502)\n",
    "    node_555 = BinaryNode(order_id=555)\n",
    "    node_14.parent = node_29\n",
    "    node_181.parent = node_88\n",
    "    node_88.parent = node_29\n",
    "    node_88.right = node_181\n",
    "    node_29.parent = node_190\n",
    "    node_29.right = node_88\n",
    "    node_29.left = node_14\n",
    "    node_190.parent = node_202\n",
    "    node_190.left = node_29\n",
    "    node_501.parent = node_502\n",
    "    node_555.parent = node_502 \n",
    "    node_502.parent = node_202\n",
    "    node_502.left = node_501\n",
    "    node_502.right = node_555\n",
    "    node_202.right = node_502\n",
    "    node_202.left = node_190\n",
    "    tree = BinaryTree()\n",
    "    tree.root = node_202\n",
    "    tree.first = node_14\n",
    "    tree.last = node_555 \n",
    "    return tree\n",
    "\n",
    "\n"
   ]
  },
  {
   "cell_type": "code",
   "execution_count": 22,
   "id": "89ee075f-fe82-4615-a3b8-68fa8b7bc8b5",
   "metadata": {},
   "outputs": [],
   "source": [
    "tree = sample_tree()"
   ]
  },
  {
   "cell_type": "code",
   "execution_count": 23,
   "id": "cd5f8885-b488-4d7c-96c5-3e1cfabed73b",
   "metadata": {},
   "outputs": [
    {
     "data": {
      "text/plain": [
       "{'root': <tree.BinaryNode at 0x7f70e843b190>,\n",
       " 'first': <tree.BinaryNode at 0x7f70e849efd0>,\n",
       " 'last': <tree.BinaryNode at 0x7f70e863bd90>}"
      ]
     },
     "execution_count": 23,
     "metadata": {},
     "output_type": "execute_result"
    }
   ],
   "source": [
    "tree.__dict__"
   ]
  },
  {
   "cell_type": "code",
   "execution_count": 24,
   "id": "31ea746f-80a1-46c0-ae1a-d787274dd7c6",
   "metadata": {},
   "outputs": [
    {
     "name": "stdout",
     "output_type": "stream",
     "text": [
      "Empty tree\n"
     ]
    }
   ],
   "source": [
    "node_29 = tree.find_node(order_id = 29)"
   ]
  },
  {
   "cell_type": "code",
   "execution_count": null,
   "id": "35ec66d1-ef8e-4b67-8907-1bffc9afa999",
   "metadata": {},
   "outputs": [],
   "source": []
  }
 ],
 "metadata": {
  "kernelspec": {
   "display_name": "Python 3 (ipykernel)",
   "language": "python",
   "name": "python3"
  },
  "language_info": {
   "codemirror_mode": {
    "name": "ipython",
    "version": 3
   },
   "file_extension": ".py",
   "mimetype": "text/x-python",
   "name": "python",
   "nbconvert_exporter": "python",
   "pygments_lexer": "ipython3",
   "version": "3.8.10"
  }
 },
 "nbformat": 4,
 "nbformat_minor": 5
}
