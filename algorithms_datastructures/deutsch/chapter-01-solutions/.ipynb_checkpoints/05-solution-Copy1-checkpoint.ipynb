{
 "cells": [
  {
   "cell_type": "markdown",
   "id": "79582d4b-7aa1-47a6-99a3-20b6f352d518",
   "metadata": {
    "cell_content_type": "markdown_copyable",
    "changed": false,
    "deletable": false,
    "editable": true,
    "original-content": "# Binärbäume (Lösung)\nModul 5 | Kapitel 1 | Notebook 2\n***\nWillkommen bei deiner zweiten Übung zu Algorithmen und Datenstrukturen. In dieser Übung wirst du den Datentyp Binärbaum kennenlernen und mehrere Traversierungs-Algorithmen implementieren. Nach dieser Übung kannst du\n* die Klasse `BinaryTree` rekursiv implementieren\n* drei Traversierungen rekursiv implementieren\n* eine Traversierung mit Hilfe eines Zwischenspeichers implementieren\n***"
   },
   "source": [
    "# Binärbäume 2 (optional) (Lösung)\n",
    "Modul 5 | Kapitel 1 | Notebook 2\n",
    "***\n",
    "Willkommen bei deiner letzten Übung zu Algorithmen und Datenstrukturen. In dieser Übung wirst du die Datenstruktur Binärbaum um die Methode `delete_node(self, order_id)` erweitern.  \n",
    "\n",
    "In diesem Notebook wirst du: \n",
    "* ein Element aus der Mitte heraus löschen \n",
    "\n",
    " \n",
    "***"
   ]
  },
  {
   "cell_type": "markdown",
   "id": "1e6676c7-676b-4135-ad65-3d6d31059aad",
   "metadata": {
    "messageType": "szenario",
    "tags": []
   },
   "source": [
    "**Szenario**: Die Firma, deren Warenwirtschaftssystem wir bereits in der vorigen Übung betrachtet haben, ist inzwischen sehr erfolgreich auf dem Markt. Aufträge gehen fast im Sekundentakt ein. Leider führt das gestiegene Auftragsvolumen auch dazu, dass sich die Stornierungen vor Versand der Artikel häufen. Deine zuvor implementierte Linked List hat bisher gute Dienste geleistet, ist allerdings nicht auf die erhöhten Anforderungen ausgerichtet. "
   ]
  },
  {
   "cell_type": "markdown",
   "id": "f13a69aa-84ce-422b-b4ae-f2751c4b050e",
   "metadata": {},
   "source": [
    "\n",
    "\n",
    "In der vorigen Übung hast den Binärbaum bereits angelegt. \n",
    "Bisher profitieren wir allerdings noch nicht von dem wesentlichen Vorteil: der Binärbaum ist besser als die Linked List darin, ein Element aus der Mitte heraus zu löschen. \n",
    "Erinnern wir uns: der wesentliche Vorteil entsteht durch das schnellere Auffinden, wenn wir nach einer Auftragsnummer suchen. Die entsprechende Methode hast du bereits implementiert. \n",
    "Du hast auch bereits eine Löschung vorgenommen: die am Anfang. \n",
    "\n",
    "Wollen wir allerdings aus der Mitte heraus löschen, ist das potentiell komplizierter: \n",
    "wir dürfen hier nicht mehr davon ausgehen, dass unsere zu löschende Node maximal ein Kind besitzt. \n",
    "Wollen wir eine Node mit zwei Kindern löschen, läuft das strukturell vollkommen anders ab. \n",
    "\n",
    "Doch auch der einfachere Fall birgt Komplikationen. Denn wir wissen nun nicht mehr automatisch, dass die zu entfernende Node ein linkes Kind war. \n",
    "Setzen wir uns zunächst einmal mit dem einfacheren Fall auseinander, dass die Node maximal ein Kind hat. "
   ]
  },
  {
   "cell_type": "markdown",
   "id": "95771570-6725-4c24-857f-f79be394be00",
   "metadata": {},
   "source": [
    "! Wir implementieren hier eine von vielen möglichen Versionen. Wenn du eine andere bevorzugst, kannst du sie natürlich auch gerne nehmen. \n",
    "Wenn du das Gefühl hast, dass sie eleganter ist als die hier genutzte, poste sie doch gerne im Forum!\n",
    "\n",
    "**[NN]: Gefällt mir! Gerne als Achtung-Box.**"
   ]
  },
  {
   "cell_type": "markdown",
   "id": "3a9b8d72-e6ed-482e-a789-6751f04e4fa0",
   "metadata": {},
   "source": [
    "## Ein Element mit maximal einem Kind löschen\n",
    "\n",
    "`delete_node(self, order_id)` in `BinaryTree` wird zuerst die Node identifizieren, und anschließend löschen. \n",
    "Später werden wir sehen, dass ein einziger Rekursionsschritt nötig sein wird für den Fall, dass die Node zwei Kinder hat. \n",
    "Wir möchten dann aber nicht noch einmal die Node suchen, denn dadurch würde unser Code nur noch in *O(h^2)* implementiert werden können, also ineffizient sein.  \n",
    "\n",
    "Das würden wir aber tun, wenn wir `delete_node(self, order_id)` im `BinaryTree` nochmal aufrufen würden.  \n",
    "Daher bietet es sich an, eine Hilfsfunktion `delete(self)` in `BinaryNode` zu implementieren. \n",
    "\n",
    "Der Docstring ist kurz.  \n",
    "```python\n",
    "def delete(self): \n",
    "    \"\"\"\n",
    "    Delete self. Presumes node is not None and node is either not root or is root and has two children.\n",
    "    \n",
    "    Returns: self \n",
    "    \n",
    "    \"\"\"\n",
    "```\n"
   ]
  },
  {
   "cell_type": "markdown",
   "id": "91019156-4931-436a-bf5d-0983e96de8c8",
   "metadata": {},
   "source": [
    "!Aufgabe \n",
    "Notiere dir zuerst den Pseudocode der Methode `delete(self, order_id)` in der Klasse `BinaryNode`, sowie etwaiger Helferfunktionen.\n",
    "Den Pseudocode der bereits implementierten Methoden brauchst du natürlich nicht nochmal aufzuschreiben. \n",
    "Notiere dir hier zunächst den Code für den Fall, dass die Node maximal ein Kind besitzt. Entsprechend dem Docstring darfst du davon ausgehen, dass die Node nicht Wurzel im Baum ist, und dass sie einen Wert hat, also nicht `None` ist.\n"
   ]
  },
  {
   "cell_type": "code",
   "execution_count": null,
   "id": "b810e6af-5ce9-4e10-8040-e531361460e5",
   "metadata": {},
   "outputs": [],
   "source": [
    "#Lösung (auch als Aufklapptext)\n",
    "\n",
    "#def BinaryNode.delete(self): \n",
    "    #if number of children is 0: \n",
    "        #if self was right child to parent: \n",
    "            #set parent.right pointer to None \n",
    "        #else if self was left child to parent: \n",
    "            #set parent.left pointer to None \n",
    "        #return self\n",
    "    #else if number of children is 1: \n",
    "        #if is right child to parent: \n",
    "            #if left child: \n",
    "                #reset parent pointer of child\n",
    "                #reset child pointer of parent \n",
    "            #else if right child: \n",
    "                #reset parent pointer of child\n",
    "                #reset child pointer of parent \n",
    "        #if is left child to parent: \n",
    "            #analog \n",
    "        #return self\n",
    "        \n",
    "        \n",
    "#mögliche Helferfunktionen in BinaryNode: is_right_child(self) (bool), #number_children(self)"
   ]
  },
  {
   "cell_type": "markdown",
   "id": "ad717321-4083-4055-96a2-9a0a32af13f3",
   "metadata": {},
   "source": [
    "!Aufgabe \n",
    "Implementiere nun zunächst diese Version von delete und teste sie anhand der folgenden Zelle "
   ]
  },
  {
   "cell_type": "code",
   "execution_count": null,
   "id": "38135022-91bd-4d2a-bd37-60d1d8077692",
   "metadata": {},
   "outputs": [],
   "source": [
    "#pytest für delete noch zu implementieren "
   ]
  },
  {
   "cell_type": "markdown",
   "id": "6e7bdd9b-b49b-40fe-b74c-364b17afa7d6",
   "metadata": {},
   "source": [
    "Als nächstes solltest du `delete_node(self, order_id)` anlegen. Wir konzentrieren uns auch hier zunächst auf den Fall, dass die zu entfernende Node maximal ein Kind hat. \n",
    "\n",
    "```python \n",
    "\"\"\"Delete Node with corresponding order_id and return deleted Node. If no Node deleted, return None.\"\"\"\n",
    "```"
   ]
  },
  {
   "cell_type": "markdown",
   "id": "2fdef3b0-1a91-40f7-8f29-b95ec4f8d0f8",
   "metadata": {},
   "source": [
    "!Aufgabe \n",
    "Notiere dir auch hier wieder zunächst den Pseudocode der Methode `delete_node(self, order_id)` in der Klasse `BinaryTree`, sowie etwaiger Helferfunktionen. \n",
    "Betrachte zunächst nur den Fall, dass die Node maximal ein Kind besitzt. Denke daran, dass die Node auch die Wurzel sein kann. "
   ]
  },
  {
   "cell_type": "code",
   "execution_count": null,
   "id": "430d4d08-a64f-49f1-bddb-a5549d7b5052",
   "metadata": {},
   "outputs": [],
   "source": [
    "#Lösung (auch als Aufklapptext)\n",
    "\n",
    "#def BinaryTree.delete_node(self, order_id): \n",
    "    #identify node \n",
    "    #if None: \n",
    "        #return None \n",
    "    #else if not root: \n",
    "        #node.delete()\n",
    "    #else if node is root node: \n",
    "        #if node has no child: \n",
    "            #set root to None \n",
    "        #else if node has one child: \n",
    "            #if right child: \n",
    "                #set root to right child \n",
    "                #set right.parent to None \n",
    "            #if left child: \n",
    "                #set root to left child\n",
    "                #set left.parent to None \n",
    "\n",
    "#optionale Hilfsfunktionen in BinaryNode: \n",
    "    #number_children()  \n",
    "    #is_right_child (Bool)\n",
    "    "
   ]
  },
  {
   "cell_type": "markdown",
   "id": "eefcbd3f-7911-46c5-b277-f8777e95b316",
   "metadata": {},
   "source": [
    "!Aufgabe\n",
    "Implementiere deinen Pseudocode nun. Teste ihn anhand der folgenden Zelle. "
   ]
  },
  {
   "cell_type": "code",
   "execution_count": 27,
   "id": "41b9de8b-9d7f-4372-9391-31572a1c5dd7",
   "metadata": {},
   "outputs": [
    {
     "name": "stdout",
     "output_type": "stream",
     "text": [
      "\u001b[1m============================= test session starts ==============================\u001b[0m\n",
      "platform linux -- Python 3.8.10, pytest-6.2.4, py-1.11.0, pluggy-0.13.1\n",
      "rootdir: /home/jovyan/work/pyprog/stackfuel-python-programmer-product-de/module-05/chapter-01-solutions\n",
      "plugins: anyio-3.5.0\n",
      "collected 1 item                                                               \u001b[0m\n",
      "\n",
      "test_tree.py \u001b[32m.\u001b[0m\u001b[32m                                                           [100%]\u001b[0m\n",
      "\n",
      "\u001b[32m============================== \u001b[32m\u001b[1m1 passed\u001b[0m\u001b[32m in 0.04s\u001b[0m\u001b[32m ===============================\u001b[0m\n"
     ]
    }
   ],
   "source": [
    "!pytest test_tree.py::test_delete_node #aktuell ohne root case, vielleicht root mit reinnehmen "
   ]
  },
  {
   "cell_type": "markdown",
   "id": "92802e4e-81f9-4dab-8212-8d52fa015d22",
   "metadata": {},
   "source": [
    "## Eine Node mit zwei Kindern löschen \n",
    "\n",
    "Rufe dir nochmal in Erinnerung, wie das Löschen im Fall von zwei Kindern funktioniert: \n",
    "    wir tauschen die Node, bzw. ihre Werte, mit ihrem Nachfolger aus. Der Nachfolger ist die erste Node (der ITO) in dem rechten Kind. \n",
    "    Praktischerweise hat diese Nachfolgernode dann gezwungenermaßen wieder dieselben Eigenschaften, von der wir bereits in `delete_first(self)` profitiert hatten: die Nachfolgerin hat maximal ein Kind. \n",
    "    Andernfalls könnte sie nie die erste Node in dem Unterbaum sein. \n",
    "    \n",
    "Zur Veranschaulichung soll dir nochmal folgendes Bild dienen: \n",
    "    [Abbildung: gif mit Austausch bei zwei Nodes ]"
   ]
  },
  {
   "cell_type": "markdown",
   "id": "e4627414-ac0c-41ad-87b6-88c9381497a1",
   "metadata": {},
   "source": [
    "!Aufgabe \n",
    "Erweitere zunächst deine Methode `delete(self)` um den Fall, dass die Node zwei Kinder hat. Notiere wieder zunächst den Pseudocode.\n",
    "\n",
    "**[NN]: delete_node() returned nicht in jedem Fall den gelöschten node.**"
   ]
  },
  {
   "cell_type": "code",
   "execution_count": null,
   "id": "6d9a22ca-d1ba-4333-b1ff-774b37f8d8ed",
   "metadata": {},
   "outputs": [],
   "source": [
    "#Hint:\n",
    "#1) Es sollten nur die Werte selbst ausgetauscht werden, nicht aber die Grundstruktur. Damit bekommt self zwar neue Werte, behält aber Kinder und Eltern bei. Welche Node muss anschließend entfernt werden? \n",
    "#2) der Code ist derselbe, ob die Node root ist oder nicht, weil parent hier nicht genutzt wird.  \n",
    "    \n",
    "#def BinaryNode.delete(self): \n",
    "    #if number of children is 0: \n",
    "        #implemented\n",
    "    #else if number of children is 1: \n",
    "        #implemented\n",
    "    #else if number of children is 2: \n",
    "        #if node is root (has no parent): \n",
    "            #identify swap node (find first in right subtree)\n",
    "            #swap values with self \n",
    "            #recursive call to swap_node.delete()\n",
    "\n",
    "#Helper function first() if not yet implemented, finds first in subtree according to inherent traversal order "
   ]
  },
  {
   "cell_type": "markdown",
   "id": "4a5930df-50cb-45c5-982d-b4091db84f83",
   "metadata": {},
   "source": [
    "!Aufgabe\n",
    "Erweitere `delete()` nun in deiner Klasse `BinaryNode`. Nutze wieder `test_tree.py` um deinen Code zu überprüfen."
   ]
  },
  {
   "cell_type": "code",
   "execution_count": null,
   "id": "ec18cbe7-e1e5-4b87-8a14-b3edd94946e4",
   "metadata": {},
   "outputs": [],
   "source": [
    "#pytest for delete() yet to be implemented "
   ]
  },
  {
   "cell_type": "markdown",
   "id": "be13f5ba-f648-46bc-a161-2154ce968a66",
   "metadata": {},
   "source": [
    "Als letztes müssen wir noch unsere Funktion `delete_node(self, order_id)` in `BinaryTree` anpassen. Unter Umständen musst du dich nur um den Fall kümmern, dass die zu löschende Node die Wurzel mit zwei Kindern ist. \n",
    "Du kannst die Ergänzung dieses Mal direkt ins Skript schreiben. "
   ]
  },
  {
   "cell_type": "markdown",
   "id": "91475c7a-7688-40bb-ac1c-336d1a8b77fe",
   "metadata": {},
   "source": [
    "!Aufgabe \n",
    "Ergänze `delete_node(self, order_id)` so, dass die Node auch zwei Kinder haben kann. Teste anschließend wieder deinen Code anhand der folgenden beiden Zellen. "
   ]
  },
  {
   "cell_type": "code",
   "execution_count": null,
   "id": "673f452c-7ee1-4954-8f8b-9ad48e7dfbc9",
   "metadata": {},
   "outputs": [],
   "source": [
    "!pytest test_tree.py::test_delete_node_involved"
   ]
  },
  {
   "cell_type": "code",
   "execution_count": null,
   "id": "1bf5f6b6-6f59-46aa-95d0-a77dab1b85c3",
   "metadata": {},
   "outputs": [],
   "source": [
    "!pytest test_tree.py::test_delete_node_root"
   ]
  },
  {
   "cell_type": "markdown",
   "id": "f058e323-efc6-481c-817c-9310929752db",
   "metadata": {
    "messageType": "glueckwunsch",
    "tags": []
   },
   "source": [
    "**Glückwunsch**: du hast die Methode `delete(self, order_id)` in deine Binärbaumstruktur effizient implementiert. \n",
    "Dabei hast du deine Kenntnisse im Schreiben und Design von Klassen weiter vertieft. "
   ]
  },
  {
   "cell_type": "markdown",
   "id": "d17ae68e-e82f-425e-b75f-36211b8b9ca8",
   "metadata": {
    "messageType": "merke",
    "tags": []
   },
   "source": [
    "**Merke:**\n",
    "* eine Node in einem Binärbaum zu löschen, erfordert eine strukturierte Vorgehensweise \n",
    "* Die Binärbaumstruktur ist in Python nicht angelegt. \n",
    "* Wir haben uns noch nicht darum gekümmert, wie unser Baum am besten ausgeglichen wird. Wir werden uns im folgenden Textteil damit beschäftigen."
   ]
  },
  {
   "cell_type": "code",
   "execution_count": null,
   "id": "6753c46f-2bea-4a7e-89e3-a9a0c0a1a8ff",
   "metadata": {
    "cell_content_type": "markdown_copyable",
    "changed": false,
    "deletable": false,
    "editable": true,
    "original-content": "## Implementierung von Binärbäumen\n\nImplementiere nun die rekursive Definition des Binärbaums. Es ist dafür nur eine Klasse notwendig und du kannst direkt im Notebook arbeiten.\n\nErstelle eine Klasse `BinaryTree`. Diese hat folgende Attribute:\n* Wert der Wurzel des (Teil-)Baums (`value`)\n* Linker Knoten ausgehend von der Wurzel des (Teil-)Baums (`left`)\n* Rechter Knoten ausgehend von der Wurzel des (Teil-)Baums (`right`)\n\nNutze den folgenden Docstring, um die Klasse zu erstellen:\n\n**`BinaryTree`**\n\n```python\n\"\"\"Recursive definiton of a binary tree. \"\"\"\n```\n\nErinnere dich an die rekursive Definition. Sie beginnt damit, dass jeder Binärbaum entweder leer ist oder aus Knoten bzw. Teilbäumen besteht. Dass ein (Teil-)Baum leer ist, können wir mit dem `None` Wert in Python ausdrücken. Wenn eine neue Wurzel eines (Teil-) **initialisiert** wird, sind linker und rechter Knoten ausgehend von dieser Wurzel leer. Die Formulierung in Python lautet:\n\n```python \nself.left = None\nself.right = None\n```"
   },
   "outputs": [],
   "source": []
  },
  {
   "cell_type": "code",
   "execution_count": 1,
   "id": "383dbd03",
   "metadata": {
    "cell_content_type": "code_user",
    "changed": false,
    "deletable": false,
    "editable": true,
    "hint": "Wenn du willst, kannst du diese Codezelle gern im Forum unter *Binärbäume* diskutieren.",
    "original-content": "# Lösung:\nclass BinaryTree():\n    \"\"\"Recursive definiton of a binary tree.\"\"\"\n    def __init__(self, value):\n        self.value = value\n        self.left = None\n        self.right = None"
   },
   "outputs": [],
   "source": []
  },
  {
   "cell_type": "code",
   "execution_count": null,
   "id": "4aa488f4-2280-44a7-94e1-9538a1b05e51",
   "metadata": {
    "cell_content_type": "markdown_copyable",
    "changed": false,
    "deletable": false,
    "editable": true,
    "original-content": "Du solltest folgendes Ergebnis erhalten haben: \n\n`H / G \\ B`\n\nJetzt erstellen wir den gesamten Beispielbaum. Führe wieder die nächste Codezelle zum Testen deiner Klasse aus."
   },
   "outputs": [],
   "source": [
    "\n",
    "\n"
   ]
  },
  {
   "cell_type": "markdown",
   "id": "114c7435",
   "metadata": {
    "cell_content_type": "markdown_default",
    "changed": false,
    "deletable": false,
    "editable": false,
    "original-content": "***\nHast du eine Frage zu dieser Übung? Schau ins Forum, ob sie bereits gestellt und beantwortet wurde.\n***\nFehler gefunden? Kontaktiere den Support unter support@stackfuel.com .\n***"
   },
   "source": [
    "***\n",
    "Hast du eine Frage zu dieser Übung? Schau ins Forum, ob sie bereits gestellt und beantwortet wurde.\n",
    "***\n",
    "Fehler gefunden? Kontaktiere den Support unter support@stackfuel.com .\n",
    "***"
   ]
  },
  {
   "cell_type": "code",
   "execution_count": null,
   "id": "7728740d",
   "metadata": {},
   "outputs": [],
   "source": []
  }
 ],
 "metadata": {
  "content_id": "b0bf1f06-575a-4370-8123-ec4f2efd3a5d",
  "content_language": "de",
  "content_title": "Binärbäume",
  "content_type": "solution",
  "kernelspec": {
   "display_name": "Python 3 (ipykernel)",
   "language": "python",
   "name": "python3"
  },
  "language_info": {
   "codemirror_mode": {
    "name": "ipython",
    "version": 3
   },
   "file_extension": ".py",
   "mimetype": "text/x-python",
   "name": "python",
   "nbconvert_exporter": "python",
   "pygments_lexer": "ipython3",
   "version": "3.8.10"
  }
 },
 "nbformat": 4,
 "nbformat_minor": 5
}
