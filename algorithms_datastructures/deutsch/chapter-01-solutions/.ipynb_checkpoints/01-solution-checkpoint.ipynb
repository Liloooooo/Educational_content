{
 "cells": [
  {
   "cell_type": "markdown",
   "id": "ffbd1ab0-917d-4ea7-bb43-768176b7b38f",
   "metadata": {
    "cell_content_type": "markdown_default",
    "changed": false,
    "deletable": false,
    "editable": false,
    "original-content": "# Einführung: Algorithmen (Lösung)\n\nModul Algorithmen und Datenstrukturen | Kapitel 1 | Notebook 1\n\n***\nHerzlich willkommen zu deiner ersten Übung im Modul Algorithmen und Datenstrukturen! In dieser Übung werden wir die rekursive Implementierung von Algorithmen kennenlernen. \nNach dieser Übung kannst du: \n* rekursive und iterative Algorithmen unterscheiden, \n* benennen, wann rekursive Algorithmen vorteilhaft sind, \n* den Binärsuchalgorithmus rekursiv implementieren.\n\n***",
    "protected": false,
    "selectable": false,
    "tags": []
   },
   "source": [
    "# Einführung: Algorithmen (Lösung)\n",
    "\n",
    "Modul Algorithmen und Datenstrukturen | Kapitel 1 | Notebook 1\n",
    "\n",
    "***\n",
    "Herzlich willkommen zu deiner ersten Übung im Modul Algorithmen und Datenstrukturen! In dieser Übung werden wir die rekursive Implementierung von Algorithmen kennenlernen. \n",
    "Nach dieser Übung kannst du: \n",
    "* rekursive und iterative Algorithmen unterscheiden, \n",
    "* benennen, wann rekursive Algorithmen vorteilhaft sind, \n",
    "* den Binärsuchalgorithmus rekursiv implementieren.\n",
    "\n",
    "***"
   ]
  },
  {
   "cell_type": "markdown",
   "id": "dddecb3d-ee29-4a94-abf3-63ab444f72d9",
   "metadata": {
    "cell_content_type": "markdown_default",
    "changed": false,
    "deletable": false,
    "editable": false,
    "original-content": "## Der lineare Suchalgorithmus",
    "protected": false,
    "selectable": false
   },
   "source": [
    "## Der lineare Suchalgorithmus"
   ]
  },
  {
   "cell_type": "markdown",
   "id": "c0a4af5b-09ac-4ee8-a777-851e3b39ffb2",
   "metadata": {
    "cell_content_type": "markdown_default",
    "changed": false,
    "deletable": false,
    "editable": false,
    "original-content": "Kehren wir nochmal zu unserem Buchsuchbeispiel aus der Textlektion zurück. \nUnser Algorithmus wurde folgendermaßen beschrieben: \n\n1)\tBeginne ganz links im Regal mit der Suche.  \n2)\tWenn kein Buch an der Position vorhanden ist, beende die Suche und melde, dass der gesuchte Titel nicht gefunden wurde.  \n3)\tWenn ein Buch vorhanden ist, schaue dir den Titel des Buches an. Wenn der Titel dem gesuchten entspricht, gib das Buch und dessen Position aus und beende die Suche.\n4)\tBewege dich eine Position nach rechts und wiederhole alle Schritte ab Schritt 2.\n\n\nWir haben gesehen, dass dieser Algorithmus eine Laufzeitkomplexität von $O(n)$ hat, und dass wir von einem *linearen Suchalgorithmus* sprechen. Wir haben außerdem diskutiert, dass es keinen schnelleren Algorithmus geben kann - zumindest nicht, wenn die Bibliothek nicht sortiert ist. Anders sieht es aus, wenn unsere Bibliothek schon sortiert ist. Der schnellere Algorthmus, den wir in diesem Zusammenhang kennengelernt haben, ist der *Binärsuchalgorithmus*. Diesen wollen wir später in dieser Übung implementieren.\n",
    "protected": false,
    "selectable": false
   },
   "source": [
    "Kehren wir nochmal zu unserem Buchsuchbeispiel aus der Textlektion zurück. \n",
    "Unser Algorithmus wurde folgendermaßen beschrieben: \n",
    "\n",
    "1)\tBeginne ganz links im Regal mit der Suche.  \n",
    "2)\tWenn kein Buch an der Position vorhanden ist, beende die Suche und melde, dass der gesuchte Titel nicht gefunden wurde.  \n",
    "3)\tWenn ein Buch vorhanden ist, schaue dir den Titel des Buches an. Wenn der Titel dem gesuchten entspricht, gib das Buch und dessen Position aus und beende die Suche.\n",
    "4)\tBewege dich eine Position nach rechts und wiederhole alle Schritte ab Schritt 2.\n",
    "\n",
    "\n",
    "Wir haben gesehen, dass dieser Algorithmus eine Laufzeitkomplexität von $O(n)$ hat, und dass wir von einem *linearen Suchalgorithmus* sprechen. Wir haben außerdem diskutiert, dass es keinen schnelleren Algorithmus geben kann - zumindest nicht, wenn die Bibliothek nicht sortiert ist. Anders sieht es aus, wenn unsere Bibliothek schon sortiert ist. Der schnellere Algorthmus, den wir in diesem Zusammenhang kennengelernt haben, ist der *Binärsuchalgorithmus*. Diesen wollen wir später in dieser Übung implementieren.\n"
   ]
  },
  {
   "cell_type": "markdown",
   "id": "8432c92f-7a40-4b80-8b3e-ae4fab749969",
   "metadata": {
    "cell_content_type": "markdown_selectable",
    "changed": false,
    "deletable": false,
    "editable": false,
    "original-content": "Unseren linearen Suchalgorithmus können wir in Code übersetzen. Bei der Implementierung von Funktionen oder Algorithmen stehen uns oft zwei konzeptionelle Ansätze zur Verfügung: der iterative und der rekursive Ansatz.\n\n* Bei der **iterativen** Methode betrachten wir das Problem \"von vorne\". Wir verwenden Schleifenstrukturen, wie `for` oder `while`, um die Daten zu durchsuchen. Diese Strukturen sind in der Regel intuitiv und uns vertraut.\n\n* Bei der **rekursiven** Methode ruft sich eine Funktion selbst mit geänderten Argumenten auf, bis eine Basisbedingung erfüllt ist, die den rekursiven Aufruf beendet. Rekursion kann oft eleganter und kürzer in der Schreibweise sein. Der Ansatz ist allerdings etwas gewöhnungsbedürftig und erfordert ein wenig Übung. \n\nFür unseren linearen Suchalgorithmus werden wir uns zuerst die iterative Version anschauen. Konzeptionell werden wir durch unsere Datenliste gehen und jedes Element überprüfen, bis wir entweder das gesuchte Element finden oder feststellen, dass es nicht in der Liste vorhanden ist.\n ",
    "protected": false,
    "selectable": true
   },
   "source": [
    "Unseren linearen Suchalgorithmus können wir in Code übersetzen. Bei der Implementierung von Funktionen oder Algorithmen stehen uns oft zwei konzeptionelle Ansätze zur Verfügung: der iterative und der rekursive Ansatz.\n",
    "\n",
    "* Bei der **iterativen** Methode betrachten wir das Problem \"von vorne\". Wir verwenden Schleifenstrukturen, wie `for` oder `while`, um die Daten zu durchsuchen. Diese Strukturen sind in der Regel intuitiv und uns vertraut.\n",
    "\n",
    "* Bei der **rekursiven** Methode ruft sich eine Funktion selbst mit geänderten Argumenten auf, bis eine Basisbedingung erfüllt ist, die den rekursiven Aufruf beendet. Rekursion kann oft eleganter und kürzer in der Schreibweise sein. Der Ansatz ist allerdings etwas gewöhnungsbedürftig und erfordert ein wenig Übung. \n",
    "\n",
    "Für unseren linearen Suchalgorithmus werden wir uns zuerst die iterative Version anschauen. Konzeptionell werden wir durch unsere Datenliste gehen und jedes Element überprüfen, bis wir entweder das gesuchte Element finden oder feststellen, dass es nicht in der Liste vorhanden ist.\n",
    " "
   ]
  },
  {
   "cell_type": "markdown",
   "id": "d8fb1240-1ae1-45a6-a40c-a03b0e76ce2d",
   "metadata": {
    "cell_content_type": "markdown_selectable",
    "changed": false,
    "deletable": false,
    "editable": false,
    "original-content": "##### <font color=\"#17415F\">Codebeispiel I</font>\n> Die Funktion `linear_search_iter()` ist ein Beispiel für eine iterative Implementierung unseres linearen Suchalgorithmus. ",
    "protected": false,
    "selectable": true,
    "tags": []
   },
   "source": [
    "##### <font color=\"#17415F\">Codebeispiel I</font>\n",
    "> Die Funktion `linear_search_iter()` ist ein Beispiel für eine iterative Implementierung unseres linearen Suchalgorithmus. "
   ]
  },
  {
   "cell_type": "code",
   "execution_count": 18,
   "id": "d138c6e6-63e7-4046-b0a6-a3cbee4c6ef8",
   "metadata": {
    "cell_content_type": "code_demo",
    "changed": false,
    "deletable": false,
    "editable": true,
    "hint": "Wenn du willst, kannst du diese Codezelle gern im Forum unter *Einführung: Algorithmen* diskutieren.",
    "original-content": "def linear_search_iter(title, library): \n    \"\"\"\n    Return book with given title as well as position in library and None as well as -1 if nothing is found. \n    \n    Args: \n        title (str): book title to be searched for. \n        library (list): list of book titles in the library. \n        \n    Returns: \n        (title, index position in library) and (None, -1) if title was not found.\n        \n    \"\"\"\n    \n    if len(library) > 0: \n      pos = 0\n      while pos < len(library): \n          if title == library[pos]: \n              return (title, pos)\n          pos += 1\n    return (None, -1)",
    "protected": false,
    "selectable": true
   },
   "outputs": [],
   "source": [
    "def linear_search_iter(title, library): \n",
    "    \"\"\"\n",
    "    Return book with given title as well as position in library and None as well as -1 if nothing is found. \n",
    "    \n",
    "    Args: \n",
    "        title (str): book title to be searched for. \n",
    "        library (list): list of book titles in the library. \n",
    "        \n",
    "    Returns: \n",
    "        (title, index position in library) and (None, -1) if title was not found.\n",
    "        \n",
    "    \"\"\"\n",
    "    \n",
    "    if len(library) > 0: \n",
    "      pos = 0\n",
    "      while pos < len(library): \n",
    "          if title == library[pos]: \n",
    "              return (title, pos)\n",
    "          pos += 1\n",
    "    return (None, -1)"
   ]
  },
  {
   "cell_type": "markdown",
   "id": "a7af3bf2-0390-4448-8577-f66289ef67aa",
   "metadata": {
    "cell_content_type": "markdown_selectable",
    "changed": false,
    "deletable": false,
    "editable": false,
    "original-content": "In dieser Implementierung nutzen wir eine `while`-Schleife, um alle Einträge von `library` linear zu durchsuchen. \nWir hatten bereits festgestellt, dass der lineare Suchalgorithmus, wie oben beschrieben, eine Laufzeitkomplextität von $O(n)$ hat. Unsere Implementierung sollte dieselbe Laufzeitkomplexität haben. Ist das auch wirklich so?\n\nIn `linear_search_iter()` haben wir eine bereits eingebaute Methode für Listen genutzt: `len()`. Wenn wir die Laufzeitkomplexität unseres Algorithmus bewerten wollen, müssen wir ebenfalls die Laufzeit von `len()` betrachten. Eine naive Implementierung, in der alle Listenelemente durchgegangen und dabei gezählt werden, hätte eine lineare Laufzeit. Allerdings ist die Laufzeitkomplexität der Funktion `len()` tatsächlich $O(1)$. Das hängt damit zusammen, wie `list` als Datenstruktur implementiert ist. Darauf werden wir im zweiten Teil des Moduls nochmal stossen. Soviel jedoch schonmal vorweg: In Python ist die Länge einer Liste als Attribut gespeichert, so dass beim Aufruf der Methode `len()`  dieser Wert direkt abgerufen wird, ohne dass die Liste durchlaufen werden muss. \nDiese konstante Laufzeit ist damit vernachlässigbar im Vergleich zur linearen Laufzeit, welche wir in jedem Fall haben, da unsere `while`-Schleife im Zweifel alle Einträge durchläuft, wenn vorher keine Treffer gefunden wurden. ",
    "protected": false,
    "selectable": true
   },
   "source": [
    "In dieser Implementierung nutzen wir eine `while`-Schleife, um alle Einträge von `library` linear zu durchsuchen. \n",
    "Wir hatten bereits festgestellt, dass der lineare Suchalgorithmus, wie oben beschrieben, eine Laufzeitkomplextität von $O(n)$ hat. Unsere Implementierung sollte dieselbe Laufzeitkomplexität haben. Ist das auch wirklich so?\n",
    "\n",
    "In `linear_search_iter()` haben wir eine bereits eingebaute Methode für Listen genutzt: `len()`. Wenn wir die Laufzeitkomplexität unseres Algorithmus bewerten wollen, müssen wir ebenfalls die Laufzeit von `len()` betrachten. Eine naive Implementierung, in der alle Listenelemente durchgegangen und dabei gezählt werden, hätte eine lineare Laufzeit. Allerdings ist die Laufzeitkomplexität der Funktion `len()` tatsächlich $O(1)$. Das hängt damit zusammen, wie `list` als Datenstruktur implementiert ist. Darauf werden wir im zweiten Teil des Moduls nochmal stossen. Soviel jedoch schonmal vorweg: In Python ist die Länge einer Liste als Attribut gespeichert, so dass beim Aufruf der Methode `len()`  dieser Wert direkt abgerufen wird, ohne dass die Liste durchlaufen werden muss. \n",
    "Diese konstante Laufzeit ist damit vernachlässigbar im Vergleich zur linearen Laufzeit, welche wir in jedem Fall haben, da unsere `while`-Schleife im Zweifel alle Einträge durchläuft, wenn vorher keine Treffer gefunden wurden. "
   ]
  },
  {
   "cell_type": "markdown",
   "id": "8bd0760d-3ebc-4d6c-a98f-3bee2f92a88f",
   "metadata": {
    "cell_content_type": "markdown_default",
    "changed": false,
    "deletable": false,
    "editable": false,
    "original-content": "Wenden wir uns nun der rekursiven Lösung zu. Hierbei gestalten wir unsere Implementierung so, dass sich die Funktion immer wieder selbst aufruft. Dabei verkleinert sich der Suchbereich bei jedem Aufruf, solange, bis das gesuchte Element gefunden wird oder der Suchbereich erschöpft ist. ",
    "protected": false,
    "selectable": false
   },
   "source": [
    "Wenden wir uns nun der rekursiven Lösung zu. Hierbei gestalten wir unsere Implementierung so, dass sich die Funktion immer wieder selbst aufruft. Dabei verkleinert sich der Suchbereich bei jedem Aufruf, solange, bis das gesuchte Element gefunden wird oder der Suchbereich erschöpft ist. "
   ]
  },
  {
   "cell_type": "markdown",
   "id": "ee9a6cba-9dbd-4f27-bab8-fbc6ab2e5510",
   "metadata": {
    "cell_content_type": "markdown_selectable",
    "changed": false,
    "deletable": false,
    "editable": false,
    "original-content": "##### <font color=\"#17415F\">Codebeispiel II</font>\n> Die Funktion `linear_search_rec()` ist ein Beispiel für eine rekursive Implementierung unserer linearen Suche. ",
    "protected": false,
    "selectable": true
   },
   "source": [
    "##### <font color=\"#17415F\">Codebeispiel II</font>\n",
    "> Die Funktion `linear_search_rec()` ist ein Beispiel für eine rekursive Implementierung unserer linearen Suche. "
   ]
  },
  {
   "cell_type": "code",
   "execution_count": 2,
   "id": "680e4907-87dd-46e3-9b0b-4f42bd01e901",
   "metadata": {
    "cell_content_type": "code_demo",
    "changed": false,
    "deletable": false,
    "editable": true,
    "hint": "Wenn du willst, kannst du diese Codezelle gern im Forum unter *Einführung: Algorithmen* diskutieren.",
    "original-content": "def linear_search_rec(title, library, index=0): \n    \"\"\"\n    Recursively return book with given title as well as position in library and None as well as -1 if nothing is found. \n    \n    Args: \n        title (str): book title to be searched for. \n        library (list): list of book titles in the library.\n        index (int): index to be checked in current recursive step.\n        \n    Returns: \n        (title, index position in library) and (None, -1) if title was not found.\n        \n    \"\"\"\n    \n    if index == len(library): #base case 1: no title found\n        return (None, -1)\n    if library[index] == title: #base case 2: title found \n        return (title, index)\n    return linear_search_rec(title, library, index+1) #recursion ",
    "protected": false,
    "selectable": true
   },
   "outputs": [],
   "source": [
    "def linear_search_rec(title, library, index=0): \n",
    "    \"\"\"\n",
    "    Recursively return book with given title as well as position in library and None as well as -1 if nothing is found. \n",
    "    \n",
    "    Args: \n",
    "        title (str): book title to be searched for. \n",
    "        library (list): list of book titles in the library.\n",
    "        index (int): index to be checked in current recursive step.\n",
    "        \n",
    "    Returns: \n",
    "        (title, index position in library) and (None, -1) if title was not found.\n",
    "        \n",
    "    \"\"\"\n",
    "    \n",
    "    if index == len(library): #base case 1: no title found\n",
    "        return (None, -1)\n",
    "    if library[index] == title: #base case 2: title found \n",
    "        return (title, index)\n",
    "    return linear_search_rec(title, library, index+1) #recursion "
   ]
  },
  {
   "cell_type": "markdown",
   "id": "70f15fba-28e6-483b-b950-1c308fa933e6",
   "metadata": {
    "cell_content_type": "markdown_selectable",
    "changed": false,
    "deletable": false,
    "editable": false,
    "original-content": "Betrachten wir genauer, wie diese rekursive Implementierung funktioniert. Neben den Parametern `title` und `library` gibt es ein zusätzliches Argument `index`. Dieses dient als Zeiger, der uns durch die Bücherliste führt und im Verlauf der Rekursion angepasst wird.\n\nIn jeder rekursiven Funktion gibt es einen oder mehrere Basisfälle, die die Rekursion beenden. In unserer Implementierung haben wir zwei solcher Fälle:\n\n1. Wenn das Ende des Regals (oder der Liste) erreicht ist und das gesuchte Buch nicht gefunden wurde.\n2. Wenn das Buch an der aktuellen Position (`index`) mit dem gesuchten Titel übereinstimmt.\n\nFalls keiner dieser Basisfälle eintritt, geht die Funktion in den rekursiven Schritt und ruft sich selbst mit einem inkrementierten `index` auf. Dies ermöglicht es uns, systematisch durch die Bücherliste zu gehen, ohne eine Schleife zu verwenden. Durch das Anpassen des `index`-Wertes bei jedem rekursiven Aufruf wird sichergestellt, dass die Suche voranschreitet und schließlich einen Basisfall erreicht.\n\nZusammengefasst zeichnet sich eine Rekursion durch folgende Merkmale aus:\n\n* Es gibt **mindestens einen Basisfall**, der die Rekursion beendet.\n* Oftmals werden **zusätzliche Argumente** verwendet, die speziell für den rekursiven Prozess wichtig sind. Es ist sinnvoll, diesen Argumenten Standardwerte zuzuweisen, um die Benutzerfreundlichkeit zu erhöhen.\n* Die Funktion **ruft sich selbst auf**, wobei die Argumente so angepasst werden, dass der rekursive Prozess Fortschritte macht und schließlich einen Basisfall erreicht.",
    "protected": false,
    "selectable": true
   },
   "source": [
    "Betrachten wir genauer, wie diese rekursive Implementierung funktioniert. Neben den Parametern `title` und `library` gibt es ein zusätzliches Argument `index`. Dieses dient als Zeiger, der uns durch die Bücherliste führt und im Verlauf der Rekursion angepasst wird.\n",
    "\n",
    "In jeder rekursiven Funktion gibt es einen oder mehrere Basisfälle, die die Rekursion beenden. In unserer Implementierung haben wir zwei solcher Fälle:\n",
    "\n",
    "1. Wenn das Ende des Regals (oder der Liste) erreicht ist und das gesuchte Buch nicht gefunden wurde.\n",
    "2. Wenn das Buch an der aktuellen Position (`index`) mit dem gesuchten Titel übereinstimmt.\n",
    "\n",
    "Falls keiner dieser Basisfälle eintritt, geht die Funktion in den rekursiven Schritt und ruft sich selbst mit einem inkrementierten `index` auf. Dies ermöglicht es uns, systematisch durch die Bücherliste zu gehen, ohne eine Schleife zu verwenden. Durch das Anpassen des `index`-Wertes bei jedem rekursiven Aufruf wird sichergestellt, dass die Suche voranschreitet und schließlich einen Basisfall erreicht.\n",
    "\n",
    "Zusammengefasst zeichnet sich eine Rekursion durch folgende Merkmale aus:\n",
    "\n",
    "* Es gibt **mindestens einen Basisfall**, der die Rekursion beendet.\n",
    "* Oftmals werden **zusätzliche Argumente** verwendet, die speziell für den rekursiven Prozess wichtig sind. Es ist sinnvoll, diesen Argumenten Standardwerte zuzuweisen, um die Benutzerfreundlichkeit zu erhöhen.\n",
    "* Die Funktion **ruft sich selbst auf**, wobei die Argumente so angepasst werden, dass der rekursive Prozess Fortschritte macht und schließlich einen Basisfall erreicht."
   ]
  },
  {
   "cell_type": "markdown",
   "id": "fde5a9e9-0cdb-459d-8c72-42d165eade57",
   "metadata": {
    "cell_content_type": "markdown_default",
    "changed": false,
    "deletable": false,
    "editable": false,
    "original-content": "Nun bist du dran. Versuche nun selbst, einen Algorithmus rekursiv zu implementieren. Der Algorithmus ist vergleichbar mit unserem bisherigen linearen Suchalgorithmus, mit dem Unterschied, dass die Suche nun rechts im Regal beginnen sollte. Schreibe deinen Code direkt in die Zelle, wir benötigen für diese Übung kein Skript. ",
    "protected": false,
    "selectable": false
   },
   "source": [
    "Nun bist du dran. Versuche nun selbst, einen Algorithmus rekursiv zu implementieren. Der Algorithmus ist vergleichbar mit unserem bisherigen linearen Suchalgorithmus, mit dem Unterschied, dass die Suche nun rechts im Regal beginnen sollte. Schreibe deinen Code direkt in die Zelle, wir benötigen für diese Übung kein Skript. "
   ]
  },
  {
   "cell_type": "markdown",
   "id": "9a0471b9-62be-44c8-9938-c01fde908f1e",
   "metadata": {
    "cell_content_type": "markdown_selectable",
    "changed": false,
    "deletable": false,
    "editable": false,
    "original-content": "##### <font color=\"#3399DB\">Aufgabe 1</font>\n> Schreibe eine rekursive Funktion `linear_search_rec_inv()`. Gehe dazu analog zu `linear_search_rec()` vor, starte allerdings deine Suche rechts. Die Indexpositionen sollen wie bisher ausgegeben werden. Nutze zum Testen deines Codes die vorbereiteten Tests in der darauffolgenden Zelle.",
    "protected": false,
    "selectable": true
   },
   "source": [
    "##### <font color=\"#3399DB\">Aufgabe 1</font>\n",
    "> Schreibe eine rekursive Funktion `linear_search_rec_inv()`. Gehe dazu analog zu `linear_search_rec()` vor, starte allerdings deine Suche rechts. Die Indexpositionen sollen wie bisher ausgegeben werden. Nutze zum Testen deines Codes die vorbereiteten Tests in der darauffolgenden Zelle."
   ]
  },
  {
   "cell_type": "code",
   "execution_count": 2,
   "id": "4907b1fb-bd3a-4b48-b80e-f55f1f2567f1",
   "metadata": {
    "cell_content_type": "code_user",
    "changed": false,
    "deletable": false,
    "editable": true,
    "hint": "Du kannst die Variable *index* zunächst mit None belegen, und sie dann innerhalb der Funktion mit dem Startwert überschreiben.",
    "hint_counter": 0,
    "original-content": "#Lösung\ndef linear_search_rec_inv(title, library, index=None): \n    \"\"\"\n    Recursively return book with given title as well as position in library and None as well as -1 if nothing is found. \n    \n    Args: \n        title (str): book title to be searched for. \n        library (list): list of book titles in the library.\n        index (int): index to be checked in current recursive step.\n        \n    Returns: \n        (title, index position in library) and (None, -1) if title was not found.\n        \n    \"\"\"\n    \n    if index is None: \n        index = len(library) -1\n    if library[index] == title: #base case\n        return (title, index)\n    if index == 0: \n        return (None, -1)\n    return linear_search_rec_inv(title, library, index-1) #recursion ",
    "protected": false,
    "selectable": true,
    "tags": []
   },
   "outputs": [],
   "source": [
    "#Lösung\n",
    "def linear_search_rec_inv(title, library, index=None): \n",
    "    \"\"\"\n",
    "    Recursively return book with given title as well as position in library and None as well as -1 if nothing is found. \n",
    "    \n",
    "    Args: \n",
    "        title (str): book title to be searched for. \n",
    "        library (list): list of book titles in the library.\n",
    "        index (int): index to be checked in current recursive step.\n",
    "        \n",
    "    Returns: \n",
    "        (title, index position in library) and (None, -1) if title was not found.\n",
    "        \n",
    "    \"\"\"\n",
    "    \n",
    "    if index is None: \n",
    "        index = len(library) -1\n",
    "    if library[index] == title: #base case\n",
    "        return (title, index)\n",
    "    if index == 0: \n",
    "        return (None, -1)\n",
    "    return linear_search_rec_inv(title, library, index-1) #recursion "
   ]
  },
  {
   "cell_type": "code",
   "execution_count": 3,
   "id": "ae2a8130-c176-4b72-9c67-e05918245639",
   "metadata": {
    "cell_content_type": "code_demo",
    "changed": false,
    "deletable": false,
    "editable": true,
    "hint": "Wenn du willst, kannst du diese Codezelle gern im Forum unter *Einführung: Algorithmen* diskutieren.",
    "original-content": "#Test your code \nlib = ['great_gatsby', 'tonio_krueger', 'infinite_jest', 'garp', 'python_for_dummies', 'linear_algebra_1', 'crimson_labyrinth', 'garp', 'ulysses', 'don_quixote' ]\nassert linear_search_rec_inv('ulysses', lib) == ('ulysses', 8)\nassert linear_search_rec_inv('garp', lib) == ('garp', 7)\nassert linear_search_rec_inv('great_gatsby', lib) == ('great_gatsby', 0)\nassert linear_search_rec_inv('lord_of_the_rings', lib) == (None, -1)\nprint('tests passed')",
    "protected": false,
    "selectable": true
   },
   "outputs": [
    {
     "name": "stdout",
     "output_type": "stream",
     "text": [
      "tests passed\n"
     ]
    }
   ],
   "source": [
    "#Test your code \n",
    "lib = ['great_gatsby', 'tonio_krueger', 'infinite_jest', 'garp', 'python_for_dummies', 'linear_algebra_1', 'crimson_labyrinth', 'garp', 'ulysses', 'don_quixote' ]\n",
    "assert linear_search_rec_inv('ulysses', lib) == ('ulysses', 8)\n",
    "assert linear_search_rec_inv('garp', lib) == ('garp', 7)\n",
    "assert linear_search_rec_inv('great_gatsby', lib) == ('great_gatsby', 0)\n",
    "assert linear_search_rec_inv('lord_of_the_rings', lib) == (None, -1)\n",
    "print('tests passed')"
   ]
  },
  {
   "cell_type": "markdown",
   "id": "d1f9a561-616f-4e09-8370-eb72487cf343",
   "metadata": {
    "cell_content_type": "markdown_default",
    "changed": false,
    "deletable": false,
    "editable": false,
    "original-content": "Rekursive Ansätze sind nicht immer die erste Wahl, besonders wenn die iterative Lösung offensichtlich und intuitiv ist, wie in unserem vorherigen Beispiel. Jedoch gibt es Szenarien, in denen Rekursion die Problemlösung erheblich vereinfacht. Insbesondere wenn sich ein Problem in mehrere kleinere, aber im Wesentlichen identische Unterprobleme zerlegen lässt, kann die rekursive Struktur diese Zerlegung natürlich und klar darstellen. Rekursiver Code kann oft kürzer und prägnanter sein, da er auf viele Fallunterscheidungen verzichten kann. Dies führt zu einer erhöhten Lesbarkeit und Eleganz, reduziert die Wahrscheinlichkeit von Fehlern und macht den Debugging-Prozess übersichtlicher. Ein klassisches Beispiel für die Stärke der Rekursion ist der Binärsuchalgorithmus, den wir als Nächstes betrachten werden.\n",
    "protected": false,
    "selectable": false
   },
   "source": [
    "Rekursive Ansätze sind nicht immer die erste Wahl, besonders wenn die iterative Lösung offensichtlich und intuitiv ist, wie in unserem vorherigen Beispiel. Jedoch gibt es Szenarien, in denen Rekursion die Problemlösung erheblich vereinfacht. Insbesondere wenn sich ein Problem in mehrere kleinere, aber im Wesentlichen identische Unterprobleme zerlegen lässt, kann die rekursive Struktur diese Zerlegung natürlich und klar darstellen. Rekursiver Code kann oft kürzer und prägnanter sein, da er auf viele Fallunterscheidungen verzichten kann. Dies führt zu einer erhöhten Lesbarkeit und Eleganz, reduziert die Wahrscheinlichkeit von Fehlern und macht den Debugging-Prozess übersichtlicher. Ein klassisches Beispiel für die Stärke der Rekursion ist der Binärsuchalgorithmus, den wir als Nächstes betrachten werden.\n"
   ]
  },
  {
   "cell_type": "markdown",
   "id": "e621fcf6-ea9a-4241-a705-26b6a3ff15bd",
   "metadata": {
    "cell_content_type": "markdown_default",
    "changed": false,
    "deletable": false,
    "editable": false,
    "original-content": "## Der Binärsuchalgorithmus",
    "protected": false,
    "selectable": false
   },
   "source": [
    "## Der Binärsuchalgorithmus"
   ]
  },
  {
   "cell_type": "markdown",
   "id": "13651263-1d08-445b-9056-4f20bc298bed",
   "metadata": {
    "cell_content_type": "markdown_default",
    "changed": false,
    "deletable": false,
    "editable": false,
    "original-content": "Wenn unsere Bibliothek alphabetisch nach Titeln sortiert ist, können wir einen schnelleren Suchalgorithmus anwenden: den Binärsuchalgorithmus. Wir hatten ihn in der letzten Textlektion bereits betrachtet. Dieser Algorithmus nutzt die sortierte Struktur der Bibliothek aus und erreicht eine sehr gute Laufzeitkomplexität von $O(\\log n)$. Hier ist die Vorgehensweise:\n\n1. Falls das Regal leer ist, beende die Suche. Ansonsten beginne mit dem Buch in der Mitte des Regals. Ist die Anzahl der Bücher gerade, nimm das Buch direkt links von der Mitte.\n2. Prüfe den Titel des Buches. Stimmt er mit dem gesuchten Titel überein, gib den Buchtitel und seine Position im Regal aus und beende die Suche.\n3. Falls nicht, entscheide basierend auf dem Anfangsbuchstaben des gesuchten Titels: Liegt dieser im Alphabet vor dem Buchtitel des aktuellen Buches, fahre mit der linken Hälfte des Regals fort. Liegt er dahinter, konzentriere dich auf die rechte Hälfte. Starte den Suchprozess in dem ausgewählten Bereich erneut von Schritt 1.\n\n\nDurch die wiederholte Halbierung des Suchraums verringert der Binärsuchalgorithmus effektiv die Anzahl der benötigten Schritte, um das gewünschte Buch zu finden oder festzustellen, dass es nicht im Regal steht. Seinen Namen trägt der Algorithmus, weil er den den Suchraum sukzessive in zwei (nicht notwendigerweise gleich große) Teile teilt.\nWir werden diesen Algorithmus gleich rekursiv implementieren. \n\nDie Abbildung stellt den Prozess beispielhaft für die Suche nach einem im Regal nicht vorhandenen Buch dar: \n    \n<img src=\"pyp_ads_nb1_binaersuchalgo.png\" alt=\"Binärsuchalgorithmus\" style=\"width: 600px;\"/>\n\nIn dem Regal mit 10 Büchern betrachten wir zunächst das fünfte (Indexposition 4) (Schritt 1). Der Titel entspricht nicht dem gesuchten (Schritt 2). Der Titel liegt im Alphabet weiter vorne, daher wenden wir uns der Regalhälfte links von Indexposition 4 zu (Schritt 3). Hierfür wiederholen wir den Prozess. Nach der dritten Iteration würden wir wieder die Regalhälfte links vom Buch mit dem Titel 'garp' betrachten. Die Regalhälfte ist leer, daher beendet Schritt 1 den Prozess. ",
    "protected": false,
    "selectable": false,
    "tags": []
   },
   "source": [
    "Wenn unsere Bibliothek alphabetisch nach Titeln sortiert ist, können wir einen schnelleren Suchalgorithmus anwenden: den Binärsuchalgorithmus. Wir hatten ihn in der letzten Textlektion bereits betrachtet. Dieser Algorithmus nutzt die sortierte Struktur der Bibliothek aus und erreicht eine sehr gute Laufzeitkomplexität von $O(\\log n)$. Hier ist die Vorgehensweise:\n",
    "\n",
    "1. Falls das Regal leer ist, beende die Suche. Ansonsten beginne mit dem Buch in der Mitte des Regals. Ist die Anzahl der Bücher gerade, nimm das Buch direkt links von der Mitte.\n",
    "2. Prüfe den Titel des Buches. Stimmt er mit dem gesuchten Titel überein, gib den Buchtitel und seine Position im Regal aus und beende die Suche.\n",
    "3. Falls nicht, entscheide basierend auf dem Anfangsbuchstaben des gesuchten Titels: Liegt dieser im Alphabet vor dem Buchtitel des aktuellen Buches, fahre mit der linken Hälfte des Regals fort. Liegt er dahinter, konzentriere dich auf die rechte Hälfte. Starte den Suchprozess in dem ausgewählten Bereich erneut von Schritt 1.\n",
    "\n",
    "\n",
    "Durch die wiederholte Halbierung des Suchraums verringert der Binärsuchalgorithmus effektiv die Anzahl der benötigten Schritte, um das gewünschte Buch zu finden oder festzustellen, dass es nicht im Regal steht. Seinen Namen trägt der Algorithmus, weil er den den Suchraum sukzessive in zwei (nicht notwendigerweise gleich große) Teile teilt.\n",
    "Wir werden diesen Algorithmus gleich rekursiv implementieren. \n",
    "\n",
    "Die Abbildung stellt den Prozess beispielhaft für die Suche nach einem im Regal nicht vorhandenen Buch dar: \n",
    "    \n",
    "<img src=\"pyp_ads_nb1_binaersuchalgo.png\" alt=\"Binärsuchalgorithmus\" style=\"width: 600px;\"/>\n",
    "\n",
    "In dem Regal mit 10 Büchern betrachten wir zunächst das fünfte (Indexposition 4) (Schritt 1). Der Titel entspricht nicht dem gesuchten (Schritt 2). Der Titel liegt im Alphabet weiter vorne, daher wenden wir uns der Regalhälfte links von Indexposition 4 zu (Schritt 3). Hierfür wiederholen wir den Prozess. Nach der dritten Iteration würden wir wieder die Regalhälfte links vom Buch mit dem Titel 'garp' betrachten. Die Regalhälfte ist leer, daher beendet Schritt 1 den Prozess. "
   ]
  },
  {
   "cell_type": "markdown",
   "id": "7154cb68-ac2c-459b-923f-b54bd3d6a826",
   "metadata": {
    "cell_content_type": "markdown_default",
    "changed": false,
    "deletable": false,
    "editable": false,
    "original-content": "Bei der Implementierung des Binärsuchalgorithmus stehen wir vor einigen Herausforderungen. Um uns einen klaren Überblick über die bevorstehenden Schritte zu verschaffen, ist es sinnvoll, zuerst einen **Pseudocode** zu erstellen.\n\nPseudocode ist eine Art Zwischenschritt zwischen der verbalen Beschreibung eines Algorithmus und dem eigentlichen Code. Hierbei formulieren wir den Ablauf unseres Algorithmus in einer strukturierten Weise, die der Logik einer Programmiersprache folgt, ohne uns jedoch in spezifischen syntaktischen Details zu verfangen. Es dient als Brücke, die es uns ermöglicht, den Fokus auf die Kernlogik des Algorithmus zu legen, bevor wir mit der eigentlichen Programmierung beginnen.",
    "protected": false,
    "selectable": false
   },
   "source": [
    "Bei der Implementierung des Binärsuchalgorithmus stehen wir vor einigen Herausforderungen. Um uns einen klaren Überblick über die bevorstehenden Schritte zu verschaffen, ist es sinnvoll, zuerst einen **Pseudocode** zu erstellen.\n",
    "\n",
    "Pseudocode ist eine Art Zwischenschritt zwischen der verbalen Beschreibung eines Algorithmus und dem eigentlichen Code. Hierbei formulieren wir den Ablauf unseres Algorithmus in einer strukturierten Weise, die der Logik einer Programmiersprache folgt, ohne uns jedoch in spezifischen syntaktischen Details zu verfangen. Es dient als Brücke, die es uns ermöglicht, den Fokus auf die Kernlogik des Algorithmus zu legen, bevor wir mit der eigentlichen Programmierung beginnen."
   ]
  },
  {
   "cell_type": "markdown",
   "id": "e603c581-6300-47ce-83ee-5cc76e5f59db",
   "metadata": {
    "cell_content_type": "markdown_selectable",
    "changed": false,
    "deletable": false,
    "editable": false,
    "original-content": "Der Pseudocode von `linear_search_rec()`, der rekursiven Version unseres linearen Algorithmus von oben, könnte beispielsweise so aussehen: \n\n> **Input:** `library` (`list` of books), `title` (`str` containing title), `index` (helper variable for recursion)\n>\n> **Process:**\n> * **Base case 1**: If index out of range (library fully searched) -> Return `(None, -1)`\n> * **Base case 2**: If title found at current index: -> Return `(title, index)`\n>\n> **Recursive step:**\n> * Else if library not fully searched and title not found:\n>   * `index += 1`\n>   * Recursively call function with new `index` (and return it)\n",
    "protected": false,
    "selectable": true
   },
   "source": [
    "Der Pseudocode von `linear_search_rec()`, der rekursiven Version unseres linearen Algorithmus von oben, könnte beispielsweise so aussehen: \n",
    "\n",
    "> **Input:** `library` (`list` of books), `title` (`str` containing title), `index` (helper variable for recursion)\n",
    ">\n",
    "> **Process:**\n",
    "> * **Base case 1**: If index out of range (library fully searched) -> Return `(None, -1)`\n",
    "> * **Base case 2**: If title found at current index: -> Return `(title, index)`\n",
    ">\n",
    "> **Recursive step:**\n",
    "> * Else if library not fully searched and title not found:\n",
    ">   * `index += 1`\n",
    ">   * Recursively call function with new `index` (and return it)\n"
   ]
  },
  {
   "cell_type": "markdown",
   "id": "32ca526b-3884-4ad4-8cf0-faa63fe8ab52",
   "metadata": {
    "cell_content_type": "markdown_default",
    "changed": false,
    "deletable": false,
    "editable": false,
    "original-content": "Der Pseudocode sieht unserem finalen Code bereits sehr ähnlich. Das liegt daran, dass Python eine *high-level* Programmiersprache ist. Die Syntax ähnelt unserer Sprache und Denkweise. Dadurch ist der Weg von Pseudocode zu Code auch nicht mehr weit. Nichtsdestotrotz kann Pseudocode dabei helfen, die eigenen Gedanken zu ordnen.",
    "protected": false,
    "selectable": false
   },
   "source": [
    "Der Pseudocode sieht unserem finalen Code bereits sehr ähnlich. Das liegt daran, dass Python eine *high-level* Programmiersprache ist. Die Syntax ähnelt unserer Sprache und Denkweise. Dadurch ist der Weg von Pseudocode zu Code auch nicht mehr weit. Nichtsdestotrotz kann Pseudocode dabei helfen, die eigenen Gedanken zu ordnen."
   ]
  },
  {
   "cell_type": "markdown",
   "id": "bb8ca75a-5731-47ca-aaa5-f87f236aef2f",
   "metadata": {
    "cell_content_type": "markdown_selectable",
    "changed": false,
    "deletable": false,
    "editable": false,
    "original-content": "Bevor wir mit der rekursiven Implementierung unseres Binärsuchalgorithmus beginnen, skizzieren wir die Struktur und den Ablauf des Algorithmus mithilfe von Pseudocode. Wichtig ist uns dabei, dass die Funktion nicht nur den gesuchten Buchtitel, sondern auch dessen Position im Regal zurückgibt.\n\nEs ist unser Ziel, dass die Implementierung eine Laufzeitkomplexität von $O(\\log n)$ erreicht. Um dies sicherzustellen und nicht von externen Faktoren beeinflusst zu werden, verzichten wir darauf, bereits vorhandene Methoden zu verwenden – mit einer Ausnahme: Die Listenmethode `len()`, die eine konstante Laufzeitkomplexität von $O(1)$ besitzt, darf genutzt werden, da sie keinen Einfluss auf unsere angestrebte Gesamtkomplexität hat.",
    "protected": false,
    "selectable": true
   },
   "source": [
    "Bevor wir mit der rekursiven Implementierung unseres Binärsuchalgorithmus beginnen, skizzieren wir die Struktur und den Ablauf des Algorithmus mithilfe von Pseudocode. Wichtig ist uns dabei, dass die Funktion nicht nur den gesuchten Buchtitel, sondern auch dessen Position im Regal zurückgibt.\n",
    "\n",
    "Es ist unser Ziel, dass die Implementierung eine Laufzeitkomplexität von $O(\\log n)$ erreicht. Um dies sicherzustellen und nicht von externen Faktoren beeinflusst zu werden, verzichten wir darauf, bereits vorhandene Methoden zu verwenden – mit einer Ausnahme: Die Listenmethode `len()`, die eine konstante Laufzeitkomplexität von $O(1)$ besitzt, darf genutzt werden, da sie keinen Einfluss auf unsere angestrebte Gesamtkomplexität hat."
   ]
  },
  {
   "cell_type": "markdown",
   "id": "ca708cfd-d7b5-4cd2-bf92-104bf38bd875",
   "metadata": {
    "cell_content_type": "markdown_selectable",
    "changed": false,
    "deletable": false,
    "editable": false,
    "original-content": "##### <font color=\"#3399DB\">Aufgabe 2</font>\n> Schreibe nun zunächst Pseudocode für den Binärsuchalgorithmus in unserem Bibliotheksbeispiel. Welche zusätzlichen Variablen benötigst du für die Rekursion? Welches sind die Basisfälle? Du darfst annehmen, dass die Titel in alphabetischer Reihenfolge vorliegen. Außerdem darfst du in deinem späteren Code die Listenmethode `len()` verwenden. Nutze davon abgesehen keine bereits implementieren Methoden. Denke daran, dass der Algorithmus sowohl den Titel als auch die Indexposition ausgeben soll, falls das Buch gefunden wurde. ",
    "protected": false,
    "selectable": true
   },
   "source": [
    "##### <font color=\"#3399DB\">Aufgabe 2</font>\n",
    "> Schreibe nun zunächst Pseudocode für den Binärsuchalgorithmus in unserem Bibliotheksbeispiel. Welche zusätzlichen Variablen benötigst du für die Rekursion? Welches sind die Basisfälle? Du darfst annehmen, dass die Titel in alphabetischer Reihenfolge vorliegen. Außerdem darfst du in deinem späteren Code die Listenmethode `len()` verwenden. Nutze davon abgesehen keine bereits implementieren Methoden. Denke daran, dass der Algorithmus sowohl den Titel als auch die Indexposition ausgeben soll, falls das Buch gefunden wurde. "
   ]
  },
  {
   "cell_type": "code",
   "execution_count": null,
   "id": "746fab63-612c-479f-8c0f-0f05d3443fd0",
   "metadata": {
    "cell_content_type": "code_user",
    "changed": false,
    "deletable": false,
    "editable": true,
    "hint": "Eine Möglichkeit, wie du die zusätzlichen Variablen für die Rekursion definieren kann, findest du, wenn du dir den Docstring in der Hinweisbox anschaust. Die Basisfälle definierst du analog zu oben: entweder das Buch konnte sicher nicht gefunden werden, oder es wurde gefunden. Denke auch daran, dass die Indexposition des Buches mit ausgegeben werden soll. ",
    "hint_counter": 0,
    "original-content": "#Lösung \n\n### Inputs:\n# library: Sorted list of book titles\n# title: Desired book title\n# low: Lower index for search range (default: 0)\n# high: Upper index for search range (default: None)\n### Procedure:\n## 1) Initialization:\n# If high is None:\n# Set high to length of library - 1\n## 2) Base Case 1: book not found\n# If low > high:\n# book not found, Return (None, -1)\n## 3) Base Case 2: book found at mid \n# Calculate mid as (high + low) // 2 \n# If title matches book at mid: Return (title, mid)\n## 4) Divide and Conquer:\n# Else if title is before book at mid: Return recursive call with low and mid-1\n# Else: Return recursive call with mid+1 and high",
    "protected": false,
    "selectable": true,
    "tags": []
   },
   "outputs": [],
   "source": [
    "#Lösung \n",
    "\n",
    "### Inputs:\n",
    "# library: Sorted list of book titles\n",
    "# title: Desired book title\n",
    "# low: Lower index for search range (default: 0)\n",
    "# high: Upper index for search range (default: None)\n",
    "### Procedure:\n",
    "## 1) Initialization:\n",
    "# If high is None:\n",
    "# Set high to length of library - 1\n",
    "## 2) Base Case 1: book not found\n",
    "# If low > high:\n",
    "# book not found, Return (None, -1)\n",
    "## 3) Base Case 2: book found at mid \n",
    "# Calculate mid as (high + low) // 2 \n",
    "# If title matches book at mid: Return (title, mid)\n",
    "## 4) Divide and Conquer:\n",
    "# Else if title is before book at mid: Return recursive call with low and mid-1\n",
    "# Else: Return recursive call with mid+1 and high"
   ]
  },
  {
   "cell_type": "markdown",
   "id": "90e60aa9-ebea-457e-bd2e-6d968afc16e8",
   "metadata": {
    "cell_content_type": "markdown_default",
    "changed": false,
    "deletable": false,
    "editable": false,
    "original-content": "In der folgenden Box kannst du den Docstring zu einer möglichen Lösung sehen. Er gibt dir einen Hinweis darauf, welche zusätzlichen Variablen du für den rekursiven Prozess nutzen kannst. ",
    "protected": false,
    "selectable": false
   },
   "source": [
    "In der folgenden Box kannst du den Docstring zu einer möglichen Lösung sehen. Er gibt dir einen Hinweis darauf, welche zusätzlichen Variablen du für den rekursiven Prozess nutzen kannst. "
   ]
  },
  {
   "cell_type": "markdown",
   "id": "c506c469-a0fa-4e4f-ba6f-18d22cc59770",
   "metadata": {
    "cell_content_type": "markdown_selectable",
    "changed": false,
    "deletable": false,
    "editable": false,
    "messageType": "vertiefung",
    "original-content": "**Hinweis:** Klappe diese Box nun auf, um den Docstring zu einer möglichen Lösung zu sehen:\n\n<div class=\"details\">\n\n```python \ndef binary_search_rec(title, library, low=0, high=None): \n    \"\"\"\n    Recursively return book title and position in library and None and -1 if nothing is found. \n    \n    Args: \n        title (str): book title to be searched for. \n        library (list): list of book titles in the library.\n        low (int): lower index bound for recursion. Defaults to 0.\n        high (int): higher index bound for recursion. Defaults to None. \n        \n    Returns: \n        (title, index position in library) and (None, -1) if no title was found.\n        \n    \"\"\"\n```\n</div>",
    "protected": false,
    "selectable": true,
    "tags": []
   },
   "source": [
    "**Hinweis:** Klappe diese Box nun auf, um den Docstring zu einer möglichen Lösung zu sehen:\n",
    "\n",
    "<div class=\"details\">\n",
    "\n",
    "```python \n",
    "def binary_search_rec(title, library, low=0, high=None): \n",
    "    \"\"\"\n",
    "    Recursively return book title and position in library and None and -1 if nothing is found. \n",
    "    \n",
    "    Args: \n",
    "        title (str): book title to be searched for. \n",
    "        library (list): list of book titles in the library.\n",
    "        low (int): lower index bound for recursion. Defaults to 0.\n",
    "        high (int): higher index bound for recursion. Defaults to None. \n",
    "        \n",
    "    Returns: \n",
    "        (title, index position in library) and (None, -1) if no title was found.\n",
    "        \n",
    "    \"\"\"\n",
    "```\n",
    "</div>"
   ]
  },
  {
   "cell_type": "markdown",
   "id": "f92c41ea-90e4-4960-9ce5-c020524c24e3",
   "metadata": {
    "cell_content_type": "markdown_default",
    "changed": false,
    "deletable": false,
    "editable": false,
    "original-content": "Sieht dein Pseudocode andere Rekursionsvariablen vor oder nur eine solche Variable? Dann nutze für die Implementierung gerne deine eigene Version. Wenn du möchtest, teile deine Lösung gerne im Forum. ",
    "protected": false,
    "selectable": false
   },
   "source": [
    "Sieht dein Pseudocode andere Rekursionsvariablen vor oder nur eine solche Variable? Dann nutze für die Implementierung gerne deine eigene Version. Wenn du möchtest, teile deine Lösung gerne im Forum. "
   ]
  },
  {
   "cell_type": "markdown",
   "id": "9433a18d-bdf2-4e0c-8d68-114e17c7e72d",
   "metadata": {
    "cell_content_type": "markdown_selectable",
    "changed": false,
    "deletable": false,
    "editable": false,
    "original-content": "##### <font color=\"#3399DB\">Aufgabe 3</font>\n> Implementiere nun `binary_search_rec()` in der folgenden Codezelle. Denke daran, keine bereits implementierten Methoden zu nutzen. Eine Ausnahme ist die Listenmethode `len()`.\n> Nutze zum Testen deines Codes die vorbereiteten Tests in der darauffolgenden Zelle.",
    "protected": false,
    "selectable": true,
    "tags": []
   },
   "source": [
    "##### <font color=\"#3399DB\">Aufgabe 3</font>\n",
    "> Implementiere nun `binary_search_rec()` in der folgenden Codezelle. Denke daran, keine bereits implementierten Methoden zu nutzen. Eine Ausnahme ist die Listenmethode `len()`.\n",
    "> Nutze zum Testen deines Codes die vorbereiteten Tests in der darauffolgenden Zelle."
   ]
  },
  {
   "cell_type": "code",
   "execution_count": 1,
   "id": "a1d1cc79-7608-467a-8fb8-5dc6dcbabdcd",
   "metadata": {
    "cell_content_type": "code_user",
    "changed": false,
    "deletable": false,
    "editable": true,
    "hint": "Wenn du willst, kannst du diese Codezelle gern im Forum unter *Einführung: Algorithmen* diskutieren.",
    "original-content": "#Lösung\ndef binary_search_rec(title, library, low=0, high=None): \n    \"\"\"\n    Recursively search for a book title in a sorted library.\n    \n    Args: \n        title (str): Book title to be searched for.\n        library (list): Sorted list of book titles.\n        low (int): Starting index for search. Defaults to 0.\n        high (int): Ending index for search. Defaults to end of library.\n        \n    Returns: \n        tuple: (title, index) if found; (None, -1) otherwise.\n    \"\"\"\n    \n    if high is None: \n        high = len(library) - 1\n        \n    if low > high:\n        return (None, -1)\n    \n    mid = (high + low) // 2\n    \n    if title == library[mid]: \n        return (title, mid)\n    elif title < library[mid]: \n        return binary_search_rec(title, library, low, mid-1)\n    else: \n        return binary_search_rec(title, library, mid + 1, high)\n",
    "protected": false,
    "selectable": true
   },
   "outputs": [],
   "source": [
    "#Lösung\n",
    "def binary_search_rec(title, library, low=0, high=None): \n",
    "    \"\"\"\n",
    "    Recursively search for a book title in a sorted library.\n",
    "    \n",
    "    Args: \n",
    "        title (str): Book title to be searched for.\n",
    "        library (list): Sorted list of book titles.\n",
    "        low (int): Starting index for search. Defaults to 0.\n",
    "        high (int): Ending index for search. Defaults to end of library.\n",
    "        \n",
    "    Returns: \n",
    "        tuple: (title, index) if found; (None, -1) otherwise.\n",
    "    \"\"\"\n",
    "    \n",
    "    if high is None: \n",
    "        high = len(library) - 1\n",
    "        \n",
    "    if low > high:\n",
    "        return (None, -1)\n",
    "    \n",
    "    mid = (high + low) // 2\n",
    "    \n",
    "    if title == library[mid]: \n",
    "        return (title, mid)\n",
    "    elif title < library[mid]: \n",
    "        return binary_search_rec(title, library, low, mid-1)\n",
    "    else: \n",
    "        return binary_search_rec(title, library, mid + 1, high)\n"
   ]
  },
  {
   "cell_type": "code",
   "execution_count": null,
   "id": "ada3f2bf-18a9-4098-bfaa-70a30bd5b108",
   "metadata": {
    "cell_content_type": "code_demo",
    "changed": false,
    "deletable": false,
    "editable": true,
    "hint": "Wenn du willst, kannst du diese Codezelle gern im Forum unter *Einführung: Algorithmen* diskutieren.",
    "original-content": "#Test your code \nlib_sorted = ['crimson_labyrinth',\n 'don_quixote',\n 'garp',\n 'garp',\n 'great_gatsby',\n 'infinite_jest',\n 'linear_algebra_1',\n 'python_for_dummies',\n 'tonio_krueger',\n 'ulysses']\n\nassert binary_search_rec('ulysses', lib_sorted) == ('ulysses', 9)\nassert binary_search_rec('garp', lib_sorted) == ('garp', 2)\nassert binary_search_rec('crimson_labyrinth', lib_sorted) == ('crimson_labyrinth', 0)\nassert binary_search_rec('infinite_jest', lib_sorted) == ('infinite_jest', 5)\nassert binary_search_rec('lord_of_the_rings', lib_sorted) == (None, -1)\nprint('tests passed')",
    "protected": false,
    "selectable": true
   },
   "outputs": [],
   "source": [
    "#Test your code \n",
    "lib_sorted = ['crimson_labyrinth',\n",
    " 'don_quixote',\n",
    " 'garp',\n",
    " 'garp',\n",
    " 'great_gatsby',\n",
    " 'infinite_jest',\n",
    " 'linear_algebra_1',\n",
    " 'python_for_dummies',\n",
    " 'tonio_krueger',\n",
    " 'ulysses']\n",
    "\n",
    "assert binary_search_rec('ulysses', lib_sorted) == ('ulysses', 9)\n",
    "assert binary_search_rec('garp', lib_sorted) == ('garp', 2)\n",
    "assert binary_search_rec('crimson_labyrinth', lib_sorted) == ('crimson_labyrinth', 0)\n",
    "assert binary_search_rec('infinite_jest', lib_sorted) == ('infinite_jest', 5)\n",
    "assert binary_search_rec('lord_of_the_rings', lib_sorted) == (None, -1)\n",
    "print('tests passed')"
   ]
  },
  {
   "cell_type": "markdown",
   "id": "d9ab9992-31ae-443a-8cc6-4abe3021fb02",
   "metadata": {
    "cell_content_type": "markdown_default",
    "changed": false,
    "deletable": false,
    "editable": false,
    "messageType": "glueckwunsch",
    "original-content": "**Glückwunsch:** Du hast eine binäre Suche rekursiv implementiert. Sie ist ein Beispiel für einen Algorithmus, der auf dem *Divide-And-Conquer* Prinzip basiert: Das eigentliche Problem wird immer wieder in im Prinzip identische Unterprobleme aufgeteilt. Die Rekursion bildet damit die natürliche Struktur der Suche ab.  ",
    "protected": false,
    "selectable": false,
    "tags": []
   },
   "source": [
    "**Glückwunsch:** Du hast eine binäre Suche rekursiv implementiert. Sie ist ein Beispiel für einen Algorithmus, der auf dem *Divide-And-Conquer* Prinzip basiert: Das eigentliche Problem wird immer wieder in im Prinzip identische Unterprobleme aufgeteilt. Die Rekursion bildet damit die natürliche Struktur der Suche ab.  "
   ]
  },
  {
   "cell_type": "markdown",
   "id": "7ab40ee0-f0ee-4128-a8c2-ad6bcb622390",
   "metadata": {
    "cell_content_type": "markdown_default",
    "changed": false,
    "deletable": false,
    "editable": false,
    "messageType": "vertiefung",
    "original-content": "**Vertiefung:** der Quicksort-Algorithmus. \n<div class=\"details\">\nIn unserer Übung haben wir angenommen, dass unsere Bibliothek alphabetisch sortiert ist. Unsere Suche können wir deshalb in $O(\\log n)$ implementieren, anstatt, wie vorher, in $O(n)$. Doch die Sortierung ist selbst mit Aufwand verbunden. In der vorigen Textlektion sind wir in Frage 2 davon ausgegangen, dass eine Sortierung in $O(n \\log n)$ möglich ist. Tatsächlich ist $O(n \\log n)$ die beste Laufzeitkomplexität, die wir für die Sortierung erreichen können. Sie wird unter anderem durch den <i>Quicksort</i>-Algorithmus erreicht. In dem Algorithmus wird in jedem Rekursionsschritt ein so genanntes <i>Pivot</i>-Element mit allen anderen Elementen verglichen. Größere Elemente werden rechts des Pivots, kleinere links davon angeordnet. \nWenn du mehr darüber erfahren möchtest, schaue doch zum Beispiel mal \n<a href=\"https://realpython.com/sorting-algorithms-python/#the-quicksort-algorithm-in-python\">hier</a>.\n</div>",
    "protected": false,
    "selectable": false,
    "tags": []
   },
   "source": [
    "**Vertiefung:** der Quicksort-Algorithmus. \n",
    "<div class=\"details\">\n",
    "In unserer Übung haben wir angenommen, dass unsere Bibliothek alphabetisch sortiert ist. Unsere Suche können wir deshalb in $O(\\log n)$ implementieren, anstatt, wie vorher, in $O(n)$. Doch die Sortierung ist selbst mit Aufwand verbunden. In der vorigen Textlektion sind wir in Frage 2 davon ausgegangen, dass eine Sortierung in $O(n \\log n)$ möglich ist. Tatsächlich ist $O(n \\log n)$ die beste Laufzeitkomplexität, die wir für die Sortierung erreichen können. Sie wird unter anderem durch den <i>Quicksort</i>-Algorithmus erreicht. In dem Algorithmus wird in jedem Rekursionsschritt ein so genanntes <i>Pivot</i>-Element mit allen anderen Elementen verglichen. Größere Elemente werden rechts des Pivots, kleinere links davon angeordnet. \n",
    "Wenn du mehr darüber erfahren möchtest, schaue doch zum Beispiel mal \n",
    "<a href=\"https://realpython.com/sorting-algorithms-python/#the-quicksort-algorithm-in-python\">hier</a>.\n",
    "</div>"
   ]
  },
  {
   "cell_type": "markdown",
   "id": "08e70952-20a7-4f7d-8ab7-48c19f859fc4",
   "metadata": {
    "cell_content_type": "markdown_default",
    "changed": false,
    "deletable": false,
    "editable": false,
    "original-content": "Später im Modul werden wir die Datenstruktur Binärsuchbaum kennenlernen. Wollen wir in dieser Datenstruktur eine Suchmethode implementieren, nutzen wir dafür ebenfalls einen Binärsuchalgorithmus. \nIn der folgenden Textlektion schauen wir uns aber erstmal an, was Datenstrukturen überhaupt sind und warum wir uns Gedanken um sie machen sollten. ",
    "protected": false,
    "selectable": false
   },
   "source": [
    "Später im Modul werden wir die Datenstruktur Binärsuchbaum kennenlernen. Wollen wir in dieser Datenstruktur eine Suchmethode implementieren, nutzen wir dafür ebenfalls einen Binärsuchalgorithmus. \n",
    "In der folgenden Textlektion schauen wir uns aber erstmal an, was Datenstrukturen überhaupt sind und warum wir uns Gedanken um sie machen sollten. "
   ]
  },
  {
   "cell_type": "markdown",
   "id": "b6b1e151-dc97-4b21-b248-737f6f5c5554",
   "metadata": {
    "cell_content_type": "markdown_default",
    "changed": false,
    "deletable": false,
    "editable": false,
    "messageType": "merke",
    "original-content": "**Merke:** \n* Viele Probleme können sowohl iterativ, als auch rekursiv gelöst werden.\n* Rekursive Implementierungen sind vorteilhaft für Probleme, deren natürliche Struktur sich in identische Teilprobleme zerlegen lässt.\n* Die binäre Suche ist ein Beispiel für ein solches Problem.\n* Pseudocode kann uns dabei helfen, unsere Gedanken vorzustrukturieren.",
    "protected": false,
    "selectable": false,
    "tags": []
   },
   "source": [
    "**Merke:** \n",
    "* Viele Probleme können sowohl iterativ, als auch rekursiv gelöst werden.\n",
    "* Rekursive Implementierungen sind vorteilhaft für Probleme, deren natürliche Struktur sich in identische Teilprobleme zerlegen lässt.\n",
    "* Die binäre Suche ist ein Beispiel für ein solches Problem.\n",
    "* Pseudocode kann uns dabei helfen, unsere Gedanken vorzustrukturieren."
   ]
  },
  {
   "cell_type": "markdown",
   "id": "71d74318-d16a-4417-ac09-d009aef2d37c",
   "metadata": {
    "cell_content_type": "markdown_default",
    "changed": false,
    "deletable": false,
    "editable": false,
    "original-content": "***\nHast du eine Frage zu dieser Übung? Schau ins Forum, ob sie bereits gestellt und beantwortet wurde.\n***\nFehler gefunden? Kontaktiere den Support unter support@stackfuel.com.\n***",
    "protected": false,
    "selectable": false
   },
   "source": [
    "***\n",
    "Hast du eine Frage zu dieser Übung? Schau ins Forum, ob sie bereits gestellt und beantwortet wurde.\n",
    "***\n",
    "Fehler gefunden? Kontaktiere den Support unter support@stackfuel.com.\n",
    "***"
   ]
  }
 ],
 "metadata": {
  "content_id": "b48369be-9fd2-4cca-9ada-80c592cf93b4",
  "content_language": "de",
  "content_title": "Einführung: Algorithmen",
  "content_type": "exercise",
  "kernelspec": {
   "display_name": "Python 3 (ipykernel)",
   "language": "python",
   "name": "python3"
  },
  "language_info": {
   "codemirror_mode": {
    "name": "ipython",
    "version": 3
   },
   "file_extension": ".py",
   "mimetype": "text/x-python",
   "name": "python",
   "nbconvert_exporter": "python",
   "pygments_lexer": "ipython3",
   "version": "3.8.10"
  }
 },
 "nbformat": 4,
 "nbformat_minor": 5
}
