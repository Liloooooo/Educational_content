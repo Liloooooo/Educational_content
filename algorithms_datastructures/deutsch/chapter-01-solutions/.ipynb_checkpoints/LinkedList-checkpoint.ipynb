{
 "cells": [
  {
   "cell_type": "markdown",
   "id": "8c751216",
   "metadata": {},
   "source": [
    "Datenstrukturen "
   ]
  },
  {
   "cell_type": "code",
   "execution_count": null,
   "id": "22c0a34b",
   "metadata": {},
   "outputs": [],
   "source": []
  },
  {
   "cell_type": "markdown",
   "id": "1bc44d3a",
   "metadata": {},
   "source": [
    "LinkedList = Lineare Datenstruktur "
   ]
  },
  {
   "cell_type": "markdown",
   "id": "03836d8f",
   "metadata": {},
   "source": [
    "Vorbereitung auf Binärbäume (nicht lineare Datenstrukturen): \n",
    "- LinkedLists (als Queues) \n",
    "- Rekursion "
   ]
  },
  {
   "cell_type": "markdown",
   "id": "0cdc5c73",
   "metadata": {},
   "source": [
    "Alternative to arrays and linked lists: Sort array (=set)\n",
    ": then binary search is fast "
   ]
  },
  {
   "cell_type": "markdown",
   "id": "7db54a2d",
   "metadata": {},
   "source": [
    "### Was sind Datenstrukturen? \n",
    "\n",
    "Wenn wir uns überlegen, welche Struktur unsere Daten (nicht zu verwechseln mit den Python-Datentypen) haben sollen, sollten wir uns erstmal anschauen, welche Eigenschaften sie erfüllen muss. \n",
    "D.h. wir starten mit dem so genannten Interface."
   ]
  },
  {
   "cell_type": "markdown",
   "id": "8e48557a",
   "metadata": {},
   "source": [
    "Beispielsweise könnte es sein, dass wir mit einer Sequenz arbeiten möchten. Wir brauchen für unsere Arbeit eine Datenstruktur, auf der wir gewisse Operationen ausführen können. \n",
    "Beispielsweise möchten wir eine die Sequenz nicht nur erstellen, sondern dessen Länge ausgeben können, und Einträge vertauschen können. "
   ]
  },
  {
   "cell_type": "markdown",
   "id": "0d3c8bcf",
   "metadata": {},
   "source": [
    "Wir brauchen also eine Datenstruktur für unsere Sequenz X, auf der die Operationen build(X), len() und swap(i, j) möglich sind. (i und j bezeichnen die Indizes)."
   ]
  },
  {
   "cell_type": "markdown",
   "id": "80e01bfc",
   "metadata": {},
   "source": [
    "Wie unsere Datenstruktur überhaupt und auf dem Memory angeordnet ist, bestimmt, wie durch diese Datenstruktur iteriert (auch: traversiert) werden kann. "
   ]
  },
  {
   "cell_type": "markdown",
   "id": "ab64de8b",
   "metadata": {},
   "source": [
    "Ein statischer Array (nicht zu verwechseln mit einem numpy-array) beispielsweise ist eine Datenstruktur, der im build-Prozess ein fester Memory-Anteil zugeordnet wird. Alle Entries sind hier nacheinander angeordnet. \n",
    "Das bedeutet, dass wir, wir wir es auch von Python-Listen kennen, direkt auf die Indizes zugreifen können. "
   ]
  },
  {
   "cell_type": "markdown",
   "id": "5e12ea42",
   "metadata": {},
   "source": [
    "Dummerweise ist dieser statisch Array unflexibel. Wir können zwar die Operationen len(), swap(i, j) ausführen, wir könnten aber nicht ein zusätzliches Item hintendran hängen, denn der Platz im Memory ist wahrscheinlich bereits belegt. Eine Operation append(x) ist also nicht möglich. Ist sie uns wichtig, ist der statische Array also nicht die Datenstruktur, die wir benötigen. "
   ]
  },
  {
   "cell_type": "markdown",
   "id": "5fcee7a4",
   "metadata": {},
   "source": [
    "### Dynamische Arrays und Linked Lists "
   ]
  },
  {
   "cell_type": "markdown",
   "id": "4c44eb45",
   "metadata": {},
   "source": [
    "Du hast sicher bereits bemerkt, dass der Python-Datentyp *list* eine Methode append(x) besitzt. Es kann sich also nicht um die Datenstruktur statischer Array handeln. "
   ]
  },
  {
   "cell_type": "markdown",
   "id": "39c9df60",
   "metadata": {},
   "source": [
    "Um was handelt es sich dann? \n",
    "In Python ist der Typ *list* als dynamischer Array angelegt. "
   ]
  },
  {
   "cell_type": "markdown",
   "id": "0393621a",
   "metadata": {},
   "source": [
    "Bei einem dynamischen Array wird im build(X)-Prozess etwas Platz freigehalten, um eben solche Operationen wie append(x) zu ermöglichen. Ist der Platz dann aufgebraucht, fertigt Python eine Kopie des vorhandenen Arrays an, dem dann wiederum zusätzlicher Platz zur Verfügung steht.  "
   ]
  },
  {
   "cell_type": "markdown",
   "id": "7f40ecb0",
   "metadata": {},
   "source": [
    "Was wäre eine Alternative hierzu?"
   ]
  },
  {
   "cell_type": "markdown",
   "id": "207392c9",
   "metadata": {},
   "source": [
    "Anstatt für den gesamten Array einen festen Platz im Memory zu reservieren, wäre es ebenso möglich, jedem Item in Form einer Node einen Platz zuzuweisen. Dieser Node werden dann neben dem Wert des Items auch noch ein so genannter Pointer zugeordnet. Der Pointer weist auf die nächste Node in der Sequenz."
   ]
  },
  {
   "cell_type": "markdown",
   "id": "4d706e9c",
   "metadata": {},
   "source": [
    "Soll hier nun eine Node in der Mitte eingefügt werden, so muss, neben dem Hinzufügen der neuen Node, lediglich der Pointer einer einzigen Node verändert werden. In dem dynamischen Array hingegen müssen alle hinteren Items einen Platz nach rechts gerückt werden. "
   ]
  },
  {
   "cell_type": "markdown",
   "id": "ea237512",
   "metadata": {},
   "source": [
    "Weil jedoch nicht direkt auf den Index zugegriffen werden kann, ist das Traversieren durch diesen Datentyp etwas aufwendiger, also ineffizienter. Die Datenstruktur ist jedoch effizienter, wenn ein Item am Anfang einfügt werden soll - das nach Hinten rücken entfällt, und gleichzeitig muss nicht durch die Struktur traversiert werden. "
   ]
  },
  {
   "cell_type": "markdown",
   "id": "f26655c4",
   "metadata": {},
   "source": [
    "Diese Datenstruktur nennt sich *linked list*. Sie ist in Python nicht als inbuildt-Datentyp implementiert.  "
   ]
  },
  {
   "cell_type": "markdown",
   "id": "2a113ef1",
   "metadata": {},
   "source": [
    "### Eine Linked List implementieren"
   ]
  },
  {
   "cell_type": "markdown",
   "id": "8497f580",
   "metadata": {},
   "source": [
    "Wollen wir eine neue Datenstruktur implementieren, so sollten wir das korrekterweise in C programmieren, nicht in Python selbst, um nicht auf bereits bestehende Datenstrukturen zurückgreifen zu müssen. "
   ]
  },
  {
   "cell_type": "markdown",
   "id": "8f0bd3cc",
   "metadata": {},
   "source": [
    "Hier wollen wir allerdings etwas nachsichtig sein, denn es dient uns nur zu Übungszwecken. "
   ]
  },
  {
   "cell_type": "markdown",
   "id": "97087d25",
   "metadata": {},
   "source": [
    "Implementiere die Klassen LinkedList und Node. LinkedList soll eine Python-Liste als Argument nehmen. "
   ]
  },
  {
   "cell_type": "markdown",
   "id": "323db60c",
   "metadata": {},
   "source": [
    "### Implementierung einer Doubly Linked List in Python"
   ]
  },
  {
   "cell_type": "markdown",
   "id": "2c3bd86c",
   "metadata": {},
   "source": [
    "erstmal mit ohne Algorithmen"
   ]
  },
  {
   "cell_type": "markdown",
   "id": "9d5b3dab",
   "metadata": {},
   "source": [
    "Aufgabe hierzu: FIFO (first in first out) Queue. Warum ist ein dynamischer Array, also eine Python-Liste so langsam? \n",
    "Antwort: alles muss um einen Index nach vorne gerückt werden. \n",
    "Build intuition for efficiency here. "
   ]
  },
  {
   "cell_type": "markdown",
   "id": "0f51e5fd",
   "metadata": {},
   "source": [
    "Nimm eine Liste, die, wie in Python, als dynamischer Array implementiert ist. In einer Firma gehen Aufträge im Minutentakt ein, die dann an die Packstationen in derselben Reihenfolge weitergeleitet werden. Wer zuerst bestellt, wird auch zuerst berücksichtigt. Das System der Firma speichert die noch nicht abgearbeiteten Aufträge in einer Queue. "
   ]
  },
  {
   "cell_type": "markdown",
   "id": "150cdb06",
   "metadata": {},
   "source": [
    "Wir können uns das so vorstellen: "
   ]
  },
  {
   "cell_type": "markdown",
   "id": "3d7beefa",
   "metadata": {},
   "source": [
    "Was passiert, wenn ein neuer Auftrag reinkommt? Wir hängen ein Item an unsere Sequenz an. Ist unsere Sequenz ein Array, haben wir keine Probleme, das ist effizient, denn wir hängen einfach am Ende ein Item an. "
   ]
  },
  {
   "cell_type": "markdown",
   "id": "f3146cde",
   "metadata": {},
   "source": [
    "Was passiert aber, wenn ein Auftrag abgearbeitet ist? Alle anderen rutschen eine Position nach vorne. "
   ]
  },
  {
   "cell_type": "markdown",
   "id": "efdd55c0",
   "metadata": {},
   "source": [
    "In einer Liste passiert genau die: Position 1 rutscht auf Index 0, Position 2 auf Position 1, etc. Wir benötigen hierfür also eine Schleife, die n Verschiebungen vornimmt. (Verständnisfrage: wieviele Verschiebungen, wenn das letzte Item entnommen würde?)"
   ]
  },
  {
   "cell_type": "markdown",
   "id": "78bbf197",
   "metadata": {},
   "source": [
    "Mit einer LinkedList ist das anders. Wieviele Operationen brauchen wir hier? \n",
    "Was müssen wir tun? 1. am Ende einfügen: wir brauchen eine neue Node, die nun unser neuer Tail ist, und auf die ursrpüngliche Tail-Node als nächstes Element verweist. Außerdem müssen wir unserer vorangehenden Node noch mitteilen, dass sie nun nicht mehr Tail ist, sondern einen neuen Nachfolger hat. Doch das Einfügen am Ende war auch bei der Liste effizient.  "
   ]
  },
  {
   "cell_type": "markdown",
   "id": "1f5e0262",
   "metadata": {},
   "source": [
    "Was passiert allerdings in einer DoublyLinkedList, wenn nun ein neuer Auftrag abgearbeitet ist? \n",
    "Ähnlich wie beim Hinzufügen eines Items am Ende müssen wir nicht viele Operationen vornehmen: wir entfernen die erste Node, und teilen der zweiten Node mit, dass sie nun zum Head wird. Außerdem teilen wir unserer Struktur mit, welches die neue erste Node ist. "
   ]
  },
  {
   "cell_type": "markdown",
   "id": "0625f9dc",
   "metadata": {},
   "source": [
    "Beide Prozesse - einen Auftrag hinzufügen, als auch einen Auftrag abarbeiten - sind vollkommen unabhängig von der Anzahl der noch abzuarbeitenden Aufträge. \n",
    "Und damit supereffizient. "
   ]
  },
  {
   "cell_type": "markdown",
   "id": "3f04329f",
   "metadata": {},
   "source": [
    "Queues werden übrigens auch in bestimmten Traversierungen durch (Binär)baeume eingesetzt, die wir im späteren Verlauf noch kennenlernen werden. \n"
   ]
  },
  {
   "cell_type": "markdown",
   "id": "da84f4bf",
   "metadata": {},
   "source": [
    "Mergesort code for LL:\n",
    "https://www.geeksforgeeks.org/merge-sort-for-linked-list/"
   ]
  },
  {
   "cell_type": "markdown",
   "id": "78efc9b5",
   "metadata": {},
   "source": [
    "Stell dir vor, wir möchten nun auch noch Duplikate entfernen, die sich möglicherweise bereits eingeschlichen haben. Der einfachste Approach wäre, eine Kopie der LinkedList zunächst zu sortieren, und anschließend Duplikate (mittels Binary Search?) au#\n",
    "sfindig zu machen. (eher schwierig?! müssten danach ja wieder den Index finden)"
   ]
  },
  {
   "cell_type": "markdown",
   "id": "58ce6d5b",
   "metadata": {},
   "source": [
    "Besseres (sichereres) Beispiel: stell dir vor, der Wirtschaftsprüfer verlangt zum Jahresende eine Aufstellung über den Median des akutell unbearbeiteten Auftragvolumens. "
   ]
  },
  {
   "cell_type": "markdown",
   "id": "364ce2d8",
   "metadata": {},
   "source": [
    "Dafür könnten wir entweder eine Kopie unserer LL anfertigen, durch sie iterieren, und jeweils den größten und kleinsten Wert entfernen, bis nur noch einer übrig bleibt. \n",
    "Dafür benötigen wir eine Menge Operationen (Kopie, n*n Iterationen WC)\n",
    "Stattdessen könnten wir uns überlegen, unsere Kopie zu sortieren. Das machen wir im nächsten Notebook (rekursiv). "
   ]
  },
  {
   "cell_type": "code",
   "execution_count": null,
   "id": "3e2b2c8e",
   "metadata": {},
   "outputs": [],
   "source": []
  }
 ],
 "metadata": {
  "kernelspec": {
   "display_name": "Python 3",
   "language": "python",
   "name": "python3"
  },
  "language_info": {
   "codemirror_mode": {
    "name": "ipython",
    "version": 3
   },
   "file_extension": ".py",
   "mimetype": "text/x-python",
   "name": "python",
   "nbconvert_exporter": "python",
   "pygments_lexer": "ipython3",
   "version": "3.6.12"
  }
 },
 "nbformat": 4,
 "nbformat_minor": 5
}
