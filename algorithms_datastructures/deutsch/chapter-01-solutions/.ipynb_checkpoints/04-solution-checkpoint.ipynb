{
 "cells": [
  {
   "cell_type": "markdown",
   "id": "7dac0423-79f0-45d0-80c9-f7e32e91c22d",
   "metadata": {
    "cell_content_type": "markdown_default",
    "changed": false,
    "deletable": false,
    "editable": false,
    "original-content": "# Binärsuchbäume (Lösung)\nModul Algorithmen & Datenstrukturen | Kapitel 1 | Notebook 4\n\nWillkommen bei deiner vierten Übung zu Algorithmen und Datenstrukturen.\nHier lernst du eine Mengenstruktur kennen: den Binärsuchbaum.\nNach dieser Übung kannst du: \n* die Begriffe Binärbaum und Binärsuchbaum definieren und voneinander abgrenzen,\n* die Binärsuchbaumeigenschaft benennen, \n* den Binärsuchalgorithmus verwenden, um Methoden zum Auffinden und Einfügen von Daten rekursiv zu implementieren.  \n***",
    "protected": false,
    "selectable": false,
    "tags": []
   },
   "source": [
    "# Binärsuchbäume (Lösung)\n",
    "Modul Algorithmen & Datenstrukturen | Kapitel 1 | Notebook 4\n",
    "\n",
    "Willkommen bei deiner vierten Übung zu Algorithmen und Datenstrukturen.\n",
    "Hier lernst du eine Mengenstruktur kennen: den Binärsuchbaum.\n",
    "Nach dieser Übung kannst du: \n",
    "* die Begriffe Binärbaum und Binärsuchbaum definieren und voneinander abgrenzen,\n",
    "* die Binärsuchbaumeigenschaft benennen, \n",
    "* den Binärsuchalgorithmus verwenden, um Methoden zum Auffinden und Einfügen von Daten rekursiv zu implementieren.  \n",
    "***"
   ]
  },
  {
   "cell_type": "markdown",
   "id": "4dc761bc-7e74-49ad-91ec-3c74b4229982",
   "metadata": {
    "cell_content_type": "markdown_default",
    "changed": false,
    "deletable": false,
    "editable": false,
    "messageType": "szenario",
    "original-content": "**Szenario**:\nDie Geschäftsführung des Online-Versandhändlers kommt mit einem weiteren Anliegen auf dich zu:\nDie Daten der Kundschaft sollen in einem System erfasst werden. Sie wünscht sich eine Lösung in Python, weil sie sich davon eine einfache Integration in bestehende Prozesse erhofft. Der Geschäftsführung ist vor allem wichtig, dass Personendaten schnell aufgefunden werden können. Sobald ein neues Konto auf der Website erstellt wird, soll das Nutzerkonto der Person dem Datensystem hinzugefügt werden.   ",
    "protected": false,
    "selectable": false,
    "tags": []
   },
   "source": [
    "**Szenario**:\n",
    "Die Geschäftsführung des Online-Versandhändlers kommt mit einem weiteren Anliegen auf dich zu:\n",
    "Die Daten der Kundschaft sollen in einem System erfasst werden. Sie wünscht sich eine Lösung in Python, weil sie sich davon eine einfache Integration in bestehende Prozesse erhofft. Der Geschäftsführung ist vor allem wichtig, dass Personendaten schnell aufgefunden werden können. Sobald ein neues Konto auf der Website erstellt wird, soll das Nutzerkonto der Person dem Datensystem hinzugefügt werden.   "
   ]
  },
  {
   "cell_type": "markdown",
   "id": "ae0fb9ad-df97-4817-a2b6-5510b3217aa4",
   "metadata": {
    "cell_content_type": "markdown_selectable",
    "changed": false,
    "deletable": false,
    "editable": false,
    "original-content": "In unserem Szenario ist die Anordnung der Elemente in der Datenstruktur unwichtig. \nWir benötigen deshalb keine sequenzielle Datenstruktur wie in unserem vorangegangen Warteschleifen-Szenario.\nDas bedeutet, wir müssen unsere Daten nicht in einer vom Nutzenden vorgegebenen Reihenfolge verwalten. Stattdessen können die Daten in jeder beliebigen Struktur angeordnet sein. Das gibt uns etwas mehr Spielraum in der Gestaltung. \nIn der einführenden Textlektion zu Datenstrukturen hatten wir bereits den Hash Table als Mengenstruktur kurz kennengelernt. In Python sind die Datentypen `dict` und `set` Vertreter dieser Datenstruktur. In dieser Übung wollen wir uns einer anderen Mengenstruktur widmden, die in Python keinen eingebauten Vertreter hat: dem Binärsuchbaum.\n\nHauptsächlich wichtig in unserem Szenario sind zwei Operationen, die Güte unserer Datenstruktur wird sich an deren Laufzeitkomplexitäten bemessen: \n* dem Auffinden bestehender Nutzerkonten,  \n* dem Einfügen neuer Nutzerkonten.\n\nIn dieser Übung werden wir einen Binärsuchbaum mit den dazugehörigen Methoden anlegen, und uns Gedanken über deren Laufzeitkomplexitäten machen.\nDoch bevor wir damit beginnen, werden wir zunächst anschauen, was ein Binärsuchbaum ist und wie er sich von dem Binärbaum abgrenzen lässt. \n",
    "protected": false,
    "selectable": true
   },
   "source": [
    "In unserem Szenario ist die Anordnung der Elemente in der Datenstruktur unwichtig. \n",
    "Wir benötigen deshalb keine sequenzielle Datenstruktur wie in unserem vorangegangen Warteschleifen-Szenario.\n",
    "Das bedeutet, wir müssen unsere Daten nicht in einer vom Nutzenden vorgegebenen Reihenfolge verwalten. Stattdessen können die Daten in jeder beliebigen Struktur angeordnet sein. Das gibt uns etwas mehr Spielraum in der Gestaltung. \n",
    "In der einführenden Textlektion zu Datenstrukturen hatten wir bereits den Hash Table als Mengenstruktur kurz kennengelernt. In Python sind die Datentypen `dict` und `set` Vertreter dieser Datenstruktur. In dieser Übung wollen wir uns einer anderen Mengenstruktur widmden, die in Python keinen eingebauten Vertreter hat: dem Binärsuchbaum.\n",
    "\n",
    "Hauptsächlich wichtig in unserem Szenario sind zwei Operationen, die Güte unserer Datenstruktur wird sich an deren Laufzeitkomplexitäten bemessen: \n",
    "* dem Auffinden bestehender Nutzerkonten,  \n",
    "* dem Einfügen neuer Nutzerkonten.\n",
    "\n",
    "In dieser Übung werden wir einen Binärsuchbaum mit den dazugehörigen Methoden anlegen, und uns Gedanken über deren Laufzeitkomplexitäten machen.\n",
    "Doch bevor wir damit beginnen, werden wir zunächst anschauen, was ein Binärsuchbaum ist und wie er sich von dem Binärbaum abgrenzen lässt. \n"
   ]
  },
  {
   "cell_type": "markdown",
   "id": "b8abb372-a24e-4e35-ab47-8d88c42ab6be",
   "metadata": {
    "cell_content_type": "markdown_default",
    "changed": false,
    "deletable": false,
    "editable": false,
    "original-content": "## Die Grundstruktur: der Binärbaum",
    "protected": false,
    "selectable": false
   },
   "source": [
    "## Die Grundstruktur: der Binärbaum"
   ]
  },
  {
   "cell_type": "markdown",
   "id": "e10e1b55-44c8-48c3-9f01-2e6035e54822",
   "metadata": {
    "cell_content_type": "markdown_default",
    "changed": false,
    "deletable": false,
    "editable": false,
    "original-content": "Der Binärsuchbaum ist eine Spezialform des Binärbaums. \nWas den Binärsuchbaum von anderen Binärbäumen unterscheidet, schauen wir uns später an.\nZunächst definieren und implementieren wir die Grundstruktur des Binärbaums. \n\nWie die Linked List ist auch der Binärbaum eine Pointer-basierte Datenstruktur, der im Gegensatz zur Linked List über zwei Pointer verfügt: einen zum linken und einen zum rechten Kind.\nDie Kinder sind entweder leer oder selbst wieder Binärbäume.\nWie bei der Linked List auch, sind die Elemente mit Daten gefüllt und die Datenstrukturklasse, hier der Baum, hat einen Pointer zum Startelement. \nSprechen wir über Baumstrukturen, nennen wir die Elemente *Knoten* und das Startelement die *Wurzel* des Baums.\nSind beide Kinder eines Knotens leer, so nennen wir diese Knoten *Blätter*.",
    "protected": false,
    "selectable": false
   },
   "source": [
    "Der Binärsuchbaum ist eine Spezialform des Binärbaums. \n",
    "Was den Binärsuchbaum von anderen Binärbäumen unterscheidet, schauen wir uns später an.\n",
    "Zunächst definieren und implementieren wir die Grundstruktur des Binärbaums. \n",
    "\n",
    "Wie die Linked List ist auch der Binärbaum eine Pointer-basierte Datenstruktur, der im Gegensatz zur Linked List über zwei Pointer verfügt: einen zum linken und einen zum rechten Kind.\n",
    "Die Kinder sind entweder leer oder selbst wieder Binärbäume.\n",
    "Wie bei der Linked List auch, sind die Elemente mit Daten gefüllt und die Datenstrukturklasse, hier der Baum, hat einen Pointer zum Startelement. \n",
    "Sprechen wir über Baumstrukturen, nennen wir die Elemente *Knoten* und das Startelement die *Wurzel* des Baums.\n",
    "Sind beide Kinder eines Knotens leer, so nennen wir diese Knoten *Blätter*."
   ]
  },
  {
   "cell_type": "markdown",
   "id": "7840e675-8c81-4746-94ab-d5d675ee5971",
   "metadata": {
    "cell_content_type": "markdown_default",
    "changed": false,
    "deletable": false,
    "original-content": "Für unser Szenario definieren wir die Knoten über den Nutzernamen des Kontos.\nDie folgende Abbildung zeigt beispielhaft einen Binärbaum:\n    \n<img src=\"Binaerbaum_Struktur.png\" alt=\"Binärbaum\" style=\"width: 600px;\"/>",
    "protected": false,
    "selectable": false,
    "tags": []
   },
   "source": [
    "Für unser Szenario definieren wir die Knoten über den Nutzernamen des Kontos.\n",
    "Die folgende Abbildung zeigt beispielhaft einen Binärbaum:\n",
    "    \n",
    "<img src=\"pyp_ads_nb4_binaerbaum_struktur.png\" alt=\"Binärbaum\" style=\"width: 600px;\"/>"
   ]
  },
  {
   "cell_type": "markdown",
   "id": "024e5bed-43d9-49c3-8149-227c113b7af1",
   "metadata": {
    "cell_content_type": "markdown_default",
    "changed": false,
    "deletable": false,
    "editable": false,
    "original-content": "Zusammen mit den Nutzernamen können wir natürlich noch andere Informationen abspeichern.\nDer Nutzername dient hier zur eindeutigen Identifikation eines Nutzerkontos und somit auch des Knotens an sich.\nWir bezeichnen ihn als *Schlüssel*.\nJeder Nutzername darf nur einmal vergeben werden, denn sonst können wir Knoten nicht eindeutig identifizieren.  ",
    "protected": false,
    "selectable": false
   },
   "source": [
    "Zusammen mit den Nutzernamen können wir natürlich noch andere Informationen abspeichern.\n",
    "Der Nutzername dient hier zur eindeutigen Identifikation eines Nutzerkontos und somit auch des Knotens an sich.\n",
    "Wir bezeichnen ihn als *Schlüssel*.\n",
    "Jeder Nutzername darf nur einmal vergeben werden, denn sonst können wir Knoten nicht eindeutig identifizieren.  "
   ]
  },
  {
   "cell_type": "markdown",
   "id": "c7150457-4ec2-484e-8bbc-958bc59939ba",
   "metadata": {
    "cell_content_type": "markdown_selectable",
    "changed": false,
    "deletable": false,
    "editable": false,
    "original-content": "Beginnen wir zunächst damit, die Grundstruktur zu implementieren.\nSie wird eine Klasse `DatabaseTree` und eine Klasse `DatabaseNode` haben.\n\n```python\nclass DatabaseTree: \n    \"\"\"A basic binary tree data structure. \n\n    Attributes: \n        root (DatabaseNode): the root node. Defaults to None.\n\n    \"\"\"\n    \nclass DatabaseNode: \n    \"\"\"A Node in DatabaseTree. \n    \n    Args: \n        name (str): unique user name. \n        *kwargs: additional information to be stored.\n\n    Attributes: \n        left (DatabaseNode): left child. Defaults to None.\n        right (DatabaseNode): right child. Defaults to None.\n        name (int): unique user name\n        add_info (dict): additional information to be stored.\n\n    \"\"\"\n```",
    "protected": false,
    "selectable": true
   },
   "source": [
    "Beginnen wir zunächst damit, die Grundstruktur zu implementieren.\n",
    "Sie wird eine Klasse `DatabaseTree` und eine Klasse `DatabaseNode` haben.\n",
    "\n",
    "```python\n",
    "class DatabaseTree: \n",
    "    \"\"\"A basic binary tree data structure. \n",
    "\n",
    "    Attributes: \n",
    "        root (DatabaseNode): the root node. Defaults to None.\n",
    "\n",
    "    \"\"\"\n",
    "    \n",
    "class DatabaseNode: \n",
    "    \"\"\"A Node in DatabaseTree. \n",
    "    \n",
    "    Args: \n",
    "        name (str): unique user name. \n",
    "        *kwargs: additional information to be stored.\n",
    "\n",
    "    Attributes: \n",
    "        left (DatabaseNode): left child. Defaults to None.\n",
    "        right (DatabaseNode): right child. Defaults to None.\n",
    "        name (int): unique user name\n",
    "        add_info (dict): additional information to be stored.\n",
    "\n",
    "    \"\"\"\n",
    "```"
   ]
  },
  {
   "cell_type": "markdown",
   "id": "ea54977d-de63-4d76-8671-4ad3633ee25d",
   "metadata": {
    "cell_content_type": "markdown_selectable",
    "changed": false,
    "deletable": false,
    "editable": false,
    "original-content": "##### <font color=\"#3399DB\">Aufgabe 1</font>\n> Implementiere den Binärbaum für unser Datensystem.\n> Erstelle hierfür ein neues Python-Script mit dem Namen *tree.py*. Wie immer kannst du die Zellen hier im Notebook nutzen, um deinen Code zu entwerfen.  Überprüfe deinen Code anschließend anhand der vorbereiteten Unit Tests.",
    "protected": false,
    "selectable": true
   },
   "source": [
    "##### <font color=\"#3399DB\">Aufgabe 1</font>\n",
    "> Implementiere den Binärbaum für unser Datensystem.\n",
    "> Erstelle hierfür ein neues Python-Script mit dem Namen *tree.py*. Wie immer kannst du die Zellen hier im Notebook nutzen, um deinen Code zu entwerfen.  Überprüfe deinen Code anschließend anhand der vorbereiteten Unit Tests."
   ]
  },
  {
   "cell_type": "code",
   "execution_count": null,
   "id": "dff844fa-a2b5-4f49-9abb-74fdd0ddba4c",
   "metadata": {
    "cell_content_type": "code_user",
    "changed": false,
    "deletable": false,
    "editable": true,
    "hint": "Wenn du willst, kannst du diese Codezelle gern im Forum unter *Binärsuchbäume* diskutieren.",
    "hint_counter": 0,
    "original-content": "#Lösung \n\nclass DatabaseTree: \n    \"\"\"A basic binary tree data structure. \n\n    Attributes: \n        root (DatabaseNode): the root node. Defaults to None.\n\n    \"\"\"\n\n    def __init__(self): \n        self.root = None\n    \n\nclass DatabaseNode: \n    \"\"\"A Node in DatabaseTree. \n    \n    Args: \n        name (str): unique user name. \n        *kwargs: additional information to be stored.\n\n    Attributes: \n        left (DatabaseNode): left child. Defaults to None.\n        right (DatabaseNode): right child. Defaults to None.\n        name (int): unique user name\n        add_info (dict): additional information to be stored.\n\n    \"\"\"\n    \n    def __init__(self, name, **kwargs):\n        assert isinstance(name, str)\n        self.name = name\n        self.add_info = kwargs\n        self.left = None \n        self.right = None ",
    "protected": false,
    "selectable": true,
    "tags": []
   },
   "outputs": [],
   "source": [
    "#Lösung \n",
    "\n",
    "class DatabaseTree: \n",
    "    \"\"\"A basic binary tree data structure. \n",
    "\n",
    "    Attributes: \n",
    "        root (DatabaseNode): the root node. Defaults to None.\n",
    "\n",
    "    \"\"\"\n",
    "\n",
    "    def __init__(self): \n",
    "        self.root = None\n",
    "    \n",
    "\n",
    "class DatabaseNode: \n",
    "    \"\"\"A Node in DatabaseTree. \n",
    "    \n",
    "    Args: \n",
    "        name (str): unique user name. \n",
    "        *kwargs: additional information to be stored.\n",
    "\n",
    "    Attributes: \n",
    "        left (DatabaseNode): left child. Defaults to None.\n",
    "        right (DatabaseNode): right child. Defaults to None.\n",
    "        name (int): unique user name\n",
    "        add_info (dict): additional information to be stored.\n",
    "\n",
    "    \"\"\"\n",
    "    \n",
    "    def __init__(self, name, **kwargs):\n",
    "        assert isinstance(name, str)\n",
    "        self.name = name\n",
    "        self.add_info = kwargs\n",
    "        self.left = None \n",
    "        self.right = None "
   ]
  },
  {
   "cell_type": "code",
   "execution_count": 2,
   "id": "fda2371c-2f4b-40d7-94bc-634f67224545",
   "metadata": {
    "cell_content_type": "code_demo",
    "changed": false,
    "deletable": false,
    "editable": true,
    "hint": "Wenn du willst, kannst du diese Codezelle gern im Forum unter *Binärsuchbäume* diskutieren.",
    "original-content": "!pytest test_tree.py::test_node_init test_tree.py::test_node_init_errors",
    "protected": false,
    "selectable": true
   },
   "outputs": [
    {
     "name": "stdout",
     "output_type": "stream",
     "text": [
      "\u001b[1m============================= test session starts ==============================\u001b[0m\n",
      "platform linux -- Python 3.8.10, pytest-6.2.4, py-1.11.0, pluggy-0.13.1\n",
      "rootdir: /home/jovyan/work/pyprog/stackfuel-python-programmer-product-de/module-05/chapter-01-solutions\n",
      "plugins: anyio-3.5.0\n",
      "collected 2 items                                                              \u001b[0m\n",
      "\n",
      "test_tree.py \u001b[32m.\u001b[0m\u001b[32m.\u001b[0m\u001b[32m                                                          [100%]\u001b[0m\n",
      "\n",
      "\u001b[32m============================== \u001b[32m\u001b[1m2 passed\u001b[0m\u001b[32m in 0.20s\u001b[0m\u001b[32m ===============================\u001b[0m\n"
     ]
    }
   ],
   "source": [
    "!pytest test_tree.py::test_node_init test_tree.py::test_node_init_errors"
   ]
  },
  {
   "cell_type": "markdown",
   "id": "f82cd28a-1019-4c9a-9958-4a417eacb3df",
   "metadata": {
    "cell_content_type": "markdown_default",
    "changed": false,
    "deletable": false,
    "editable": false,
    "original-content": "Die Grundstruktur können wir für unseren Anwendungsfall nutzen. \nDamit der Baum zu einem Binärsuchbaum wird, müssen die Knoten in einer bestimmten Art und Weise angeordnet sein, die *Binärsuchbaumeigenschaft* heißt. \nSie stellt sicher, dass wir den Baum mit einem Binärsuchalgorithmus, wie wir ihn in der ersten Übung implementiert haben, durchsuchen können.\nWerden neue Knoten an den Baum angehängt, sollte die Eigenschaft gewahrt werden. \nIm nächsten Abschnitt werden wir sie kennenlernen. ",
    "protected": false,
    "selectable": false
   },
   "source": [
    "Die Grundstruktur können wir für unseren Anwendungsfall nutzen. \n",
    "Damit der Baum zu einem Binärsuchbaum wird, müssen die Knoten in einer bestimmten Art und Weise angeordnet sein, die *Binärsuchbaumeigenschaft* heißt. \n",
    "Sie stellt sicher, dass wir den Baum mit einem Binärsuchalgorithmus, wie wir ihn in der ersten Übung implementiert haben, durchsuchen können.\n",
    "Werden neue Knoten an den Baum angehängt, sollte die Eigenschaft gewahrt werden. \n",
    "Im nächsten Abschnitt werden wir sie kennenlernen. "
   ]
  },
  {
   "cell_type": "markdown",
   "id": "44240ee5-1825-408f-b448-c71448fabe33",
   "metadata": {
    "cell_content_type": "markdown_default",
    "changed": false,
    "deletable": false,
    "editable": false,
    "original-content": "\n\n## Die Binärsuchbaumeigenschaft",
    "protected": false,
    "selectable": false
   },
   "source": [
    "\n",
    "\n",
    "## Die Binärsuchbaumeigenschaft"
   ]
  },
  {
   "cell_type": "markdown",
   "id": "c49e35a6-32a6-4f4b-8f9b-bf5f22bb5d21",
   "metadata": {
    "cell_content_type": "markdown_default",
    "changed": false,
    "deletable": false,
    "editable": false,
    "original-content": "In unserem Onlineversandhandel gibt es ein Service-Center, das sich mit Anfragen, beispielsweise zum Bestellstatus, auseinandersetzt.\nBei jeder Anfrage sucht ein Mitarbeitender nach dem entsprechenden Nutzerkonto über eine Suchanfrage im System. Unsere Aufgabe ist es, diese Suchoperation möglichst schnell zu gestalten.\nWie könnten wir einen Baum systematisch nach einem Nutzerkonto absuchen? \n\nErinnerst du dich an den Binärsuchalgorithmus aus der ersten Übung? \nDort haben wir eine alphabetisch sortierte Bibliothek nach einem vorgegebenen Titel abgesucht. Hierfür haben wir einen Binärsuchalgorithmus verwendet, der das Regal wiederholt in zwei Teile unterteilte. \nGanz ähnlich können wir hier auch vorgehen! \nDazu müssen unsere Knoten aber so angeordnet werden, dass wir immer wissen können, ob sich der gesuchte Knoten links oder rechts eines besuchten Knotens befindet. \n\nDie Binärsuchbaumeigenschaft ist genau dies:  \n* Die Schlüssel aller Knoten im linken Kind sind kleiner als der Schlüssel des Knotens selbst.\n* Die Schlüssel aller Knoten im rechten Kind sind größer als der Schlüssel des Knotens selbst.\n\nDie Binärsuchbaumeigenschaft grenzt den Binärsuchbaum vom allgemeineren Binärbaum ab. Sie macht übrigens keine Annahmen über die Verteilung der Knoten im Baum. Im Gegensatz zu unserem Buchsuchbeispiel aus der ersten Übung wird der Suchraum hier nicht notwendigerweise in zwei gleich große Teile geteilt. ",
    "protected": false,
    "selectable": false
   },
   "source": [
    "In unserem Onlineversandhandel gibt es ein Service-Center, das sich mit Anfragen, beispielsweise zum Bestellstatus, auseinandersetzt.\n",
    "Bei jeder Anfrage sucht ein Mitarbeitender nach dem entsprechenden Nutzerkonto über eine Suchanfrage im System. Unsere Aufgabe ist es, diese Suchoperation möglichst schnell zu gestalten.\n",
    "Wie könnten wir einen Baum systematisch nach einem Nutzerkonto absuchen? \n",
    "\n",
    "Erinnerst du dich an den Binärsuchalgorithmus aus der ersten Übung? \n",
    "Dort haben wir eine alphabetisch sortierte Bibliothek nach einem vorgegebenen Titel abgesucht. Hierfür haben wir einen Binärsuchalgorithmus verwendet, der das Regal wiederholt in zwei Teile unterteilte. \n",
    "Ganz ähnlich können wir hier auch vorgehen! \n",
    "Dazu müssen unsere Knoten aber so angeordnet werden, dass wir immer wissen können, ob sich der gesuchte Knoten links oder rechts eines besuchten Knotens befindet. \n",
    "\n",
    "Die Binärsuchbaumeigenschaft ist genau dies:  \n",
    "* Die Schlüssel aller Knoten im linken Kind sind kleiner als der Schlüssel des Knotens selbst.\n",
    "* Die Schlüssel aller Knoten im rechten Kind sind größer als der Schlüssel des Knotens selbst.\n",
    "\n",
    "Die Binärsuchbaumeigenschaft grenzt den Binärsuchbaum vom allgemeineren Binärbaum ab. Sie macht übrigens keine Annahmen über die Verteilung der Knoten im Baum. Im Gegensatz zu unserem Buchsuchbeispiel aus der ersten Übung wird der Suchraum hier nicht notwendigerweise in zwei gleich große Teile geteilt. "
   ]
  },
  {
   "cell_type": "markdown",
   "id": "c3f50ced-7952-4db5-8967-903858dab4cd",
   "metadata": {
    "cell_content_type": "markdown_default",
    "changed": false,
    "deletable": false,
    "original-content": "Schauen wir uns nochmal die Abbildung von oben an.\nDie Knoten folgen keiner bestimmten Anordnung.\nIn der nächsten Aufgabe sollst du die Knoten so sortieren, dass die Binärsuchbaumeigenschaft erfüllt ist. \nHier ist nochmal der Baum:\n\n<img src=\"Binaerbaum_Struktur.png\" alt=\"Binärbaum\" style=\"width: 600px;\"/>",
    "protected": false,
    "selectable": false,
    "tags": []
   },
   "source": [
    "Schauen wir uns nochmal die Abbildung von oben an.\n",
    "Die Knoten folgen keiner bestimmten Anordnung.\n",
    "In der nächsten Aufgabe sollst du die Knoten so sortieren, dass die Binärsuchbaumeigenschaft erfüllt ist. \n",
    "Hier ist nochmal der Baum:\n",
    "\n",
    "<img src=\"pyp_ads_nb4_binaerbaum_struktur.png\" alt=\"Binärbaum\" style=\"width: 600px;\"/>"
   ]
  },
  {
   "cell_type": "markdown",
   "id": "6b89f440-c794-41e6-a007-d0a9733648e4",
   "metadata": {
    "cell_content_type": "markdown_default",
    "changed": false,
    "deletable": false,
    "editable": false,
    "original-content": "##### <font color=\"#3399DB\">Aufgabe 2</font>\n> Sortiere die Knoten in der Abbildung so, dass die Binärsuchbaumeigenschaft erfüllt ist.\n> Lass die Struktur bestehen: Links der Wurzel sollten sich wieder fünf Knoten an gleicher Stelle befinden und rechts drei.\n> Notiere deine Lösung in Form von Kommentaren in der folgenden Zelle.",
    "protected": false,
    "selectable": false
   },
   "source": [
    "##### <font color=\"#3399DB\">Aufgabe 2</font>\n",
    "> Sortiere die Knoten in der Abbildung so, dass die Binärsuchbaumeigenschaft erfüllt ist.\n",
    "> Lass die Struktur bestehen: Links der Wurzel sollten sich wieder fünf Knoten an gleicher Stelle befinden und rechts drei.\n",
    "> Notiere deine Lösung in Form von Kommentaren in der folgenden Zelle."
   ]
  },
  {
   "cell_type": "code",
   "execution_count": null,
   "id": "dd0a5226-73aa-4d61-8410-b10a5ca0d45a",
   "metadata": {
    "cell_content_type": "code_user",
    "changed": false,
    "deletable": false,
    "editable": true,
    "hint": "Wenn du willst, kannst du diese Codezelle gern im Forum unter *Binärsuchbäume* diskutieren.",
    "hint_counter": 0,
    "original-content": "#Lösung \n#keine Änderung: fred \n#Wurzel: paolo\n\n#vanessa --> alfred_10\n#paolo --> emma22\n#fred --> fred\n#zoe --> george\n#goerge --> hans1998\n#alfred_10 --> paolo\n#hans1998 --> rita\n#rita --> vanessa\n#emma22 --> zoe@g.de",
    "protected": false,
    "selectable": true,
    "tags": []
   },
   "outputs": [],
   "source": [
    "#Lösung \n",
    "#keine Änderung: fred \n",
    "#Wurzel: paolo\n",
    "\n",
    "#vanessa --> alfred_10\n",
    "#paolo --> emma22\n",
    "#fred --> fred\n",
    "#zoe --> george\n",
    "#goerge --> hans1998\n",
    "#alfred_10 --> paolo\n",
    "#hans1998 --> rita\n",
    "#rita --> vanessa\n",
    "#emma22 --> zoe@g.de"
   ]
  },
  {
   "cell_type": "markdown",
   "id": "d9943497-753b-48d0-bfe2-0a5eaa34e359",
   "metadata": {
    "cell_content_type": "markdown_default",
    "changed": false,
    "deletable": false,
    "editable": false,
    "original-content": "In deinem neu angeordneten Baum sollte sich der Knoten mit Nutzernamen 'fred' an derselben Stelle wie vorhin befinden. Der zugehörige Nutzername des Wurzelknotens ist nun 'paolo'.\nBehalte deine Skizze mit der neuen Anordnung am besten. Du wirst sie später nochmal brauchen!",
    "protected": false,
    "selectable": false
   },
   "source": [
    "In deinem neu angeordneten Baum sollte sich der Knoten mit Nutzernamen 'fred' an derselben Stelle wie vorhin befinden. Der zugehörige Nutzername des Wurzelknotens ist nun 'paolo'.\n",
    "Behalte deine Skizze mit der neuen Anordnung am besten. Du wirst sie später nochmal brauchen!"
   ]
  },
  {
   "cell_type": "markdown",
   "id": "4bbd883d-2861-412c-8d4b-a7295f83c2fd",
   "metadata": {
    "cell_content_type": "markdown_default",
    "changed": false,
    "deletable": false,
    "editable": false,
    "original-content": "## Einen Knoten im Baum finden ",
    "protected": false,
    "selectable": false
   },
   "source": [
    "## Einen Knoten im Baum finden "
   ]
  },
  {
   "cell_type": "markdown",
   "id": "a3739410-9874-44d7-8529-dba74f616621",
   "metadata": {
    "cell_content_type": "markdown_selectable",
    "changed": false,
    "deletable": false,
    "editable": false,
    "original-content": "Wir kennen nun die Binärsuchbaumeigenschaft und wissen, wie die Knoten in unserem Baum angeordnet sein sollten.\nWird ein Nutzerkonto hinzugefügt, muss diese Eigenschaft gewahrt bleiben.\nDarum kümmern wir uns gleich. \nZunächst widmen wir uns der Suche nach einem Nutzerkonto. Wir dürfen davon ausgehen, dass die Binärsucheigenschaft erfüllt ist. \nDie Suche soll über eine Methode `find()` in unserer Klasse `DatabaseTree` getätigt werden. \n\n``` python \ndef find(self, name): \n    \"\"\"\n    Return DatabaseNode with provided user name. Return None if no node is found or if tree is empty.\n\n    Args: \n        name (str): user name to be searched for. \n\n    Returns: \n       DatabaseNode with specified user name, or None if nothing found. \n\n    \"\"\"\n```",
    "protected": false,
    "selectable": true
   },
   "source": [
    "Wir kennen nun die Binärsuchbaumeigenschaft und wissen, wie die Knoten in unserem Baum angeordnet sein sollten.\n",
    "Wird ein Nutzerkonto hinzugefügt, muss diese Eigenschaft gewahrt bleiben.\n",
    "Darum kümmern wir uns gleich. \n",
    "Zunächst widmen wir uns der Suche nach einem Nutzerkonto. Wir dürfen davon ausgehen, dass die Binärsucheigenschaft erfüllt ist. \n",
    "Die Suche soll über eine Methode `find()` in unserer Klasse `DatabaseTree` getätigt werden. \n",
    "\n",
    "``` python \n",
    "def find(self, name): \n",
    "    \"\"\"\n",
    "    Return DatabaseNode with provided user name. Return None if no node is found or if tree is empty.\n",
    "\n",
    "    Args: \n",
    "        name (str): user name to be searched for. \n",
    "\n",
    "    Returns: \n",
    "       DatabaseNode with specified user name, or None if nothing found. \n",
    "\n",
    "    \"\"\"\n",
    "```"
   ]
  },
  {
   "cell_type": "markdown",
   "id": "a417398c-9a25-45be-b3c9-19ae9c0a4235",
   "metadata": {
    "cell_content_type": "markdown_default",
    "changed": false,
    "deletable": false,
    "editable": false,
    "original-content": "In der nächsten Aufgabe sollst dir zunächst Gedanken um eventuelle Helferfunktionen und die benötigten Variablen machen. Schaue dir bei Bedarf nochmal deine Lösung aus Übung 1 an.\nAnalog zur ersten Übung bietet sich auch hier wieder eine rekursive Implementierung an.",
    "protected": false,
    "selectable": false
   },
   "source": [
    "In der nächsten Aufgabe sollst dir zunächst Gedanken um eventuelle Helferfunktionen und die benötigten Variablen machen. Schaue dir bei Bedarf nochmal deine Lösung aus Übung 1 an.\n",
    "Analog zur ersten Übung bietet sich auch hier wieder eine rekursive Implementierung an."
   ]
  },
  {
   "cell_type": "markdown",
   "id": "f3321acb-579f-4e62-b0c9-58ad0db1e0a6",
   "metadata": {
    "cell_content_type": "markdown_selectable",
    "changed": false,
    "deletable": false,
    "editable": false,
    "original-content": "##### <font color=\"#3399DB\">Aufgabe 3</font>\n> Notiere den Pseudocode für `find()` und eventuelle Helferfunktionen in der folgenden Zelle.\n> Strebe eine rekursive Implementierung an.",
    "protected": false,
    "selectable": true
   },
   "source": [
    "##### <font color=\"#3399DB\">Aufgabe 3</font>\n",
    "> Notiere den Pseudocode für `find()` und eventuelle Helferfunktionen in der folgenden Zelle.\n",
    "> Strebe eine rekursive Implementierung an."
   ]
  },
  {
   "cell_type": "code",
   "execution_count": null,
   "id": "f71cae07-9e1f-4af6-bb53-a494b8f211c4",
   "metadata": {
    "cell_content_type": "code_user",
    "changed": false,
    "deletable": false,
    "editable": true,
    "hint": "Eine Möglichkeit ist, eine Helferfunktion in `DatabaseTree` anzulegen, die rekursiv den Baum durchsucht, und von `find()` aus aufgerufen wird. Im Gegensatz zu dem Binärsuchalgorithmus aus Übung 1 muss die Methode nun nicht mehr einen Index mit ausgeben. Dadurch reicht es, wenn diese Helferfunktion mit einer zusätzlichen Variable `sub_root` ausgestattet ist, die jeweils den Start der Suche im rekursiven Prozess markiert, und dabei aktualisiert wird. ",
    "hint_counter": 0,
    "original-content": "#Lösung \n#Pseudocode \n\n#find():\n#input: name (str)\n#call and return recursive helper function _find_rec with root node and name as input\n\n#_find_rec()\n#input: name (str), node (DatabaseNode)\n#output: node (DatabaseNode) or None \n\n##base case 1: nothing found \n#if node is None: return None \n\n##base case 2: node found \n#if node.name is name: return node \n\n##recursive step: \n#if name < node.name: recursively call and return _find_rec() in left subtree \n#if name > node.name: recursively call and return _find_rec() in right subtree \n",
    "protected": false,
    "selectable": true,
    "tags": []
   },
   "outputs": [],
   "source": [
    "#Lösung \n",
    "#Pseudocode \n",
    "\n",
    "#find():\n",
    "#input: name (str)\n",
    "#call and return recursive helper function _find_rec with root node and name as input\n",
    "\n",
    "#_find_rec()\n",
    "#input: name (str), node (DatabaseNode)\n",
    "#output: node (DatabaseNode) or None \n",
    "\n",
    "##base case 1: nothing found \n",
    "#if node is None: return None \n",
    "\n",
    "##base case 2: node found \n",
    "#if node.name is name: return node \n",
    "\n",
    "##recursive step: \n",
    "#if name < node.name: recursively call and return _find_rec() in left subtree \n",
    "#if name > node.name: recursively call and return _find_rec() in right subtree \n"
   ]
  },
  {
   "cell_type": "markdown",
   "id": "e54879f4-f638-4091-ae46-2cc06ef05c4e",
   "metadata": {
    "cell_content_type": "markdown_selectable",
    "changed": false,
    "deletable": false,
    "editable": false,
    "original-content": "Nun, da dein Konzept steht, kannst du dich an die Implementierung machen.\n\n\n##### <font color=\"#3399DB\">Aufgabe 4</font>\n> Implementiere `find()` und eventuell benötigte Helferfunktionen.\n> Füge die Methode der Klasse `DatabaseTree` im Skript *tree.py* hinzu.\n> Teste deinen Code anschließend wieder mit den vorbereiteten Unit Tests.   ",
    "protected": false,
    "selectable": true
   },
   "source": [
    "Nun, da dein Konzept steht, kannst du dich an die Implementierung machen.\n",
    "\n",
    "\n",
    "##### <font color=\"#3399DB\">Aufgabe 4</font>\n",
    "> Implementiere `find()` und eventuell benötigte Helferfunktionen.\n",
    "> Füge die Methode der Klasse `DatabaseTree` im Skript *tree.py* hinzu.\n",
    "> Teste deinen Code anschließend wieder mit den vorbereiteten Unit Tests.   "
   ]
  },
  {
   "cell_type": "code",
   "execution_count": null,
   "id": "c41c2268-6dda-40da-a58f-396689cab760",
   "metadata": {
    "cell_content_type": "code_user",
    "changed": false,
    "deletable": false,
    "editable": true,
    "hint": "Wenn du willst, kannst du diese Codezelle gern im Forum unter *Binärsuchbäume* diskutieren.",
    "hint_counter": 0,
    "original-content": "#Lösung\nclass DatabaseTree: \n    \"\"\"A basic binary tree data structure. \n\n    Attributes: \n        root (DatabaseNode): the root node. Defaults to None.\n\n    \"\"\"\n    \n    def __init__(self): \n        self.root = None\n\n    def find(self, name): \n        \"\"\"\n        Return DatabaseNode with provided user name. Return None if no node is found or if tree is empty.\n\n        Args: \n            name (str): user name to be searched for. \n\n        Returns: \n           DatabaseNode with specified user name, or None if nothing found. \n\n        \"\"\"\n        \n        assert isinstance(name, str)\n        return self._find_rec(self.root, name)\n    \n    def _find_rec(self, sub_root, name):\n        #recursive helper function for find. Returns DatabaseNode object or None if nothing found. \n        if sub_root is None: #base case 1: nothing found\n            return sub_root\n        if sub_root.name == name: #base case 2: node found  \n            return sub_root \n        if name < sub_root.name: #recursive step\n            new_root = sub_root.left\n        if name > sub_root.name: \n            new_root = sub_root.right\n        return self._find_rec(new_root, name)",
    "protected": false,
    "selectable": true,
    "tags": []
   },
   "outputs": [],
   "source": [
    "#Lösung\n",
    "class DatabaseTree: \n",
    "    \"\"\"A basic binary tree data structure. \n",
    "\n",
    "    Attributes: \n",
    "        root (DatabaseNode): the root node. Defaults to None.\n",
    "\n",
    "    \"\"\"\n",
    "    \n",
    "    def __init__(self): \n",
    "        self.root = None\n",
    "\n",
    "    def find(self, name): \n",
    "        \"\"\"\n",
    "        Return DatabaseNode with provided user name. Return None if no node is found or if tree is empty.\n",
    "\n",
    "        Args: \n",
    "            name (str): user name to be searched for. \n",
    "\n",
    "        Returns: \n",
    "           DatabaseNode with specified user name, or None if nothing found. \n",
    "\n",
    "        \"\"\"\n",
    "        \n",
    "        assert isinstance(name, str)\n",
    "        return self._find_rec(self.root, name)\n",
    "    \n",
    "    def _find_rec(self, sub_root, name):\n",
    "        #recursive helper function for find. Returns DatabaseNode object or None if nothing found. \n",
    "        if sub_root is None: #base case 1: nothing found\n",
    "            return sub_root\n",
    "        if sub_root.name == name: #base case 2: node found  \n",
    "            return sub_root \n",
    "        if name < sub_root.name: #recursive step\n",
    "            new_root = sub_root.left\n",
    "        if name > sub_root.name: \n",
    "            new_root = sub_root.right\n",
    "        return self._find_rec(new_root, name)"
   ]
  },
  {
   "cell_type": "code",
   "execution_count": 3,
   "id": "f5956c9d-749d-442c-99b5-e1e351a297c0",
   "metadata": {
    "cell_content_type": "code_demo",
    "changed": false,
    "deletable": false,
    "editable": true,
    "hint": "Wenn du willst, kannst du diese Codezelle gern im Forum unter *Binärsuchbäume* diskutieren.",
    "original-content": "!pytest test_tree.py::test_find",
    "protected": false,
    "selectable": true
   },
   "outputs": [
    {
     "name": "stdout",
     "output_type": "stream",
     "text": [
      "\u001b[1m============================= test session starts ==============================\u001b[0m\n",
      "platform linux -- Python 3.8.10, pytest-6.2.4, py-1.11.0, pluggy-0.13.1\n",
      "rootdir: /home/jovyan/work/pyprog/stackfuel-python-programmer-product-de/module-05/chapter-01-solutions\n",
      "plugins: anyio-3.5.0\n",
      "collected 1 item                                                               \u001b[0m\n",
      "\n",
      "test_tree.py \u001b[32m.\u001b[0m\u001b[32m                                                           [100%]\u001b[0m\n",
      "\n",
      "\u001b[32m============================== \u001b[32m\u001b[1m1 passed\u001b[0m\u001b[32m in 0.11s\u001b[0m\u001b[32m ===============================\u001b[0m\n"
     ]
    }
   ],
   "source": [
    "!pytest test_tree.py::test_find"
   ]
  },
  {
   "cell_type": "markdown",
   "id": "c3e519f8-4d6f-4326-ab8f-f6e532776bec",
   "metadata": {
    "cell_content_type": "markdown_default",
    "changed": false,
    "deletable": false,
    "editable": false,
    "original-content": "Die Mitarbeitenden des Service-Centers können sollten nun schnell Ergebnisse auf ihre Suchanfragen erhalten.\nDoch wie schnell?\nWir hatten uns in Übung 1 schon ein paar Gedanken um die Laufzeitkomplexität einer binären Suche gemacht.\nDer Algorithmus aus Übung 1 hatte das Regal immer in zwei annhähernd gleich große Teile geteilt.\nUnser Binärsuchbaum ist nicht unbedingt ausgeglichen: Auf einer Seite kann ein Baum 'länger' sein als auf der anderen.\nIn dem beispielhaften Baum aus der Abbildung müssen wir nach Knoten links der Wurzel potenziell länger suchen als nach Knoten auf der rechten Seite.  ",
    "protected": false,
    "selectable": false
   },
   "source": [
    "Die Mitarbeitenden des Service-Centers können sollten nun schnell Ergebnisse auf ihre Suchanfragen erhalten.\n",
    "Doch wie schnell?\n",
    "Wir hatten uns in Übung 1 schon ein paar Gedanken um die Laufzeitkomplexität einer binären Suche gemacht.\n",
    "Der Algorithmus aus Übung 1 hatte das Regal immer in zwei annhähernd gleich große Teile geteilt.\n",
    "Unser Binärsuchbaum ist nicht unbedingt ausgeglichen: Auf einer Seite kann ein Baum 'länger' sein als auf der anderen.\n",
    "In dem beispielhaften Baum aus der Abbildung müssen wir nach Knoten links der Wurzel potenziell länger suchen als nach Knoten auf der rechten Seite.  "
   ]
  },
  {
   "cell_type": "markdown",
   "id": "188466bb-3722-4435-991f-d1317ce43484",
   "metadata": {
    "cell_content_type": "markdown_selectable",
    "changed": false,
    "deletable": false,
    "editable": false,
    "original-content": "##### <font color=\"#3399DB\">Aufgabe 5</font>\n> Wenn $h$ die Anzahl der Knoten von der Wurzel bis zum am weitesten entfernten Kind angibt, welche Laufzeitkomplexität hat dann `find()`?\n> 1) $O(n)$\n> 2) $O(h)$\n> 3) $O(log \\: n)$\n> 4) $O(log \\: h)$\n> \n> Notiere deine Antwort als Kommentar in der folgenden Codezelle. Die Lösung findest du wieder in der folgenden aufklappbaren Box. ",
    "protected": false,
    "selectable": true,
    "tags": []
   },
   "source": [
    "##### <font color=\"#3399DB\">Aufgabe 5</font>\n",
    "> Wenn $h$ die Anzahl der Knoten von der Wurzel bis zum am weitesten entfernten Kind angibt, welche Laufzeitkomplexität hat dann `find()`?\n",
    "> 1) $O(n)$\n",
    "> 2) $O(h)$\n",
    "> 3) $O(log \\: n)$\n",
    "> 4) $O(log \\: h)$\n",
    "> \n",
    "> Notiere deine Antwort als Kommentar in der folgenden Codezelle. Die Lösung findest du wieder in der folgenden aufklappbaren Box. "
   ]
  },
  {
   "cell_type": "code",
   "execution_count": 8,
   "id": "21a299bb-8e7d-48ed-914d-b66c93ce67c4",
   "metadata": {
    "cell_content_type": "code_user",
    "changed": false,
    "deletable": false,
    "editable": true,
    "hint": "Wenn du willst, kannst du diese Codezelle gern im Forum unter *Binärsuchbäume* diskutieren.",
    "original-content": "#Lösung \n# O(h), da wir potenziell jeden Knoten entlang des längsten Pfades von der Wurzel besuchen müssten \n# O(log n) wäre die Effizienz in einem ausgeglichenen Baum, in dem der Pfad links und rechts der Wurzel annähernd die gleiche Länge (+-1) hätte",
    "protected": false,
    "selectable": true
   },
   "outputs": [],
   "source": [
    "#Lösung \n",
    "# O(h), da wir potenziell jeden Knoten entlang des längsten Pfades von der Wurzel besuchen müssten \n",
    "# O(log n) wäre die Effizienz in einem ausgeglichenen Baum, in dem der Pfad links und rechts der Wurzel annähernd die gleiche Länge (+-1) hätte"
   ]
  },
  {
   "cell_type": "markdown",
   "id": "50032aaf-15c0-48b8-a5f3-9a44c21ccae5",
   "metadata": {
    "cell_content_type": "markdown_selectable",
    "changed": false,
    "deletable": false,
    "editable": false,
    "messageType": "vertiefung",
    "original-content": "**Lösung**: Laufzeitkomplexität von `find()`. \n<div class=\"details\">\nIm schlechtesten Fall befindet sich das gesuchte Nutzerkonto im Blatt, welches den größten Abstand zur Wurzel hat, oder wird dort nicht gefunden.\nDer Abstand ist dabei genau die Anzahl der Knoten, die durchlaufen werden müssen.\nWeil auf dem Weg alle durchlaufenen Knoten besucht werden, ergibt sich eine Laufzeitkomplexität von $O(h)$.\nWäre der Baum ausgeglichen, oder annhähernd ausgeglichen, so wie in dem Buchsuchbeispiel aus Übung 1, so wäre die Laufzeitkomplexität wieder $O(log n)$.\n</div>",
    "protected": false,
    "selectable": true,
    "tags": []
   },
   "source": [
    "**Lösung**: Laufzeitkomplexität von `find()`. \n",
    "<div class=\"details\">\n",
    "Im schlechtesten Fall befindet sich das gesuchte Nutzerkonto im Blatt, welches den größten Abstand zur Wurzel hat, oder wird dort nicht gefunden.\n",
    "Der Abstand ist dabei genau die Anzahl der Knoten, die durchlaufen werden müssen.\n",
    "Weil auf dem Weg alle durchlaufenen Knoten besucht werden, ergibt sich eine Laufzeitkomplexität von $O(h)$.\n",
    "Wäre der Baum ausgeglichen, oder annhähernd ausgeglichen, so wie in dem Buchsuchbeispiel aus Übung 1, so wäre die Laufzeitkomplexität wieder $O(log n)$.\n",
    "</div>"
   ]
  },
  {
   "cell_type": "markdown",
   "id": "5be9875c-ad7e-4f13-90fc-b2b5c1e42994",
   "metadata": {
    "cell_content_type": "markdown_selectable",
    "changed": false,
    "deletable": false,
    "editable": false,
    "original-content": "Die beste Laufzeitkomplexität für `find()` erreichen wir bei ausgeglichenen Binärsuchbäumen, weil dann der Weg von der Wurzel bis zum am weitesten entfernten Kind möglichst kurz ist.\nSpezielle Unterformen des Binärsuchbaums gleichen sich selbst aus, sobald Knoten eingefügt oder entfernt werden.\n*AVL-Tree* oder *Red-Black Tree* sind Beispiele hierfür.\nSie unterscheiden sich in den Mechanismen, mit denen das Ausbalancieren vorgenommen wird. \nDa der Ausgleich selbst auch mit Aufwand verbunden ist, ist die Entscheidung über ihren Einsatz eine Abwägungssache.\nIn Anwendungsfällen wie unserem Szenario, in denen das Auffinden von Knoten sehr wichtig ist, überwiegen in der Regel die Vorteile des Ausbalancierens. In dieser Übung werden auf den Ausgleich dennoch verzichten. Im nächsten Abschnitt werden wir uns lediglich darum kümmern, dass Knoten so in `DatabaseTree` eingefügt werden, dass die Binärsuchbaumeigenschaft nicht verletzt wird. Wir müssen also 'hoffen', dass unser Binärsuchbaum automatisch einigermaßen ausgeglichen ist.  ",
    "protected": false,
    "selectable": true,
    "tags": []
   },
   "source": [
    "Die beste Laufzeitkomplexität für `find()` erreichen wir bei ausgeglichenen Binärsuchbäumen, weil dann der Weg von der Wurzel bis zum am weitesten entfernten Kind möglichst kurz ist.\n",
    "Spezielle Unterformen des Binärsuchbaums gleichen sich selbst aus, sobald Knoten eingefügt oder entfernt werden.\n",
    "*AVL-Tree* oder *Red-Black Tree* sind Beispiele hierfür.\n",
    "Sie unterscheiden sich in den Mechanismen, mit denen das Ausbalancieren vorgenommen wird. \n",
    "Da der Ausgleich selbst auch mit Aufwand verbunden ist, ist die Entscheidung über ihren Einsatz eine Abwägungssache.\n",
    "In Anwendungsfällen wie unserem Szenario, in denen das Auffinden von Knoten sehr wichtig ist, überwiegen in der Regel die Vorteile des Ausbalancierens. In dieser Übung werden auf den Ausgleich dennoch verzichten. Im nächsten Abschnitt werden wir uns lediglich darum kümmern, dass Knoten so in `DatabaseTree` eingefügt werden, dass die Binärsuchbaumeigenschaft nicht verletzt wird. Wir müssen also 'hoffen', dass unser Binärsuchbaum automatisch einigermaßen ausgeglichen ist.  "
   ]
  },
  {
   "cell_type": "markdown",
   "id": "f823b2c6-e968-45ae-8b18-d6e28926ab64",
   "metadata": {
    "cell_content_type": "markdown_default",
    "changed": false,
    "deletable": false,
    "editable": false,
    "original-content": "## Einen Knoten in den Baum einfügen ",
    "protected": false,
    "selectable": false
   },
   "source": [
    "## Einen Knoten in den Baum einfügen "
   ]
  },
  {
   "cell_type": "markdown",
   "id": "074c43e2-8213-41f1-aad9-39303db52b51",
   "metadata": {
    "cell_content_type": "markdown_selectable",
    "changed": false,
    "deletable": false,
    "editable": false,
    "original-content": "Bisher haben wir unser Datensystem noch nicht aufgebaut.\nDafür benötigen wir eine Methode zum Einfügen neuer Konten.\nDie Methode legen wir wieder in der Klasse `DatabaseTree` an.\nHier ist der Docstring für die Methode `insert()`:\n\n```python \ndef insert(self, node): \n    \"\"\"\n    Insert DatabaseNode object into self. The binary search tree property must be preserved. \n    \n    Args: \n        node (DatabaseNode): node to be inserted. \n    \n    Returns: \n        None \n        \n    \"\"\"\n```",
    "protected": false,
    "selectable": true
   },
   "source": [
    "Bisher haben wir unser Datensystem noch nicht aufgebaut.\n",
    "Dafür benötigen wir eine Methode zum Einfügen neuer Konten.\n",
    "Die Methode legen wir wieder in der Klasse `DatabaseTree` an.\n",
    "Hier ist der Docstring für die Methode `insert()`:\n",
    "\n",
    "```python \n",
    "def insert(self, node): \n",
    "    \"\"\"\n",
    "    Insert DatabaseNode object into self. The binary search tree property must be preserved. \n",
    "    \n",
    "    Args: \n",
    "        node (DatabaseNode): node to be inserted. \n",
    "    \n",
    "    Returns: \n",
    "        None \n",
    "        \n",
    "    \"\"\"\n",
    "```"
   ]
  },
  {
   "cell_type": "markdown",
   "id": "e5dbe6c7-43ca-4e2f-8f4b-cacb6d36406d",
   "metadata": {
    "cell_content_type": "markdown_selectable",
    "changed": false,
    "deletable": false,
    "editable": false,
    "original-content": "Eine wichtige Frage müssen wir vor der Implementierung noch beantworten.\nWie können wir einen Datenpunkt in unseren Binärsuchbaum einfügen, ohne die Binärsuchbaumeigenschaft zu verletzen? \nIm Prinzip gehen wir sehr ähnlich vor wie bei der Suche auch:\nWir suchen rekursiv nach dem Schlüssel unseres neuen Kontos.\nDen werden wir nicht finden, denn er muss einzigartig sein, darf also noch nicht vorhanden sein.\nStattdessen werden wir auf einen noch unbesetzten Platz stossen.\nGenau an diesen Platz können wir das Konto einfügen. \n\nDer Algorithmus für `insert()` lässt sich folgendermaßen beschreiben: \n1. Falls der Binärsuchbaum leer ist, füge das neue Konto als Wurzel in den Baum ein und beende den Prozess. \n2. Andernfalls betrachte den Nutzernamen der Wurzel des Baums. Liegt der Nutzername des neuen Kontos im Alphabet vor dem Nutzernamen der Wurzel, fahre mit dem linken Kind der Wurzel fort. Liegt er dahinter, fahre mit dem rechten Kind fort, und nenne das entsprechende Kind Wurzel. Wiederhole alle Schritte ab 1. ",
    "protected": false,
    "selectable": true
   },
   "source": [
    "Eine wichtige Frage müssen wir vor der Implementierung noch beantworten.\n",
    "Wie können wir einen Datenpunkt in unseren Binärsuchbaum einfügen, ohne die Binärsuchbaumeigenschaft zu verletzen? \n",
    "Im Prinzip gehen wir sehr ähnlich vor wie bei der Suche auch:\n",
    "Wir suchen rekursiv nach dem Schlüssel unseres neuen Kontos.\n",
    "Den werden wir nicht finden, denn er muss einzigartig sein, darf also noch nicht vorhanden sein.\n",
    "Stattdessen werden wir auf einen noch unbesetzten Platz stossen.\n",
    "Genau an diesen Platz können wir das Konto einfügen. \n",
    "\n",
    "Der Algorithmus für `insert()` lässt sich folgendermaßen beschreiben: \n",
    "1. Falls der Binärsuchbaum leer ist, füge das neue Konto als Wurzel in den Baum ein und beende den Prozess. \n",
    "2. Andernfalls betrachte den Nutzernamen der Wurzel des Baums. Liegt der Nutzername des neuen Kontos im Alphabet vor dem Nutzernamen der Wurzel, fahre mit dem linken Kind der Wurzel fort. Liegt er dahinter, fahre mit dem rechten Kind fort, und nenne das entsprechende Kind Wurzel. Wiederhole alle Schritte ab 1. "
   ]
  },
  {
   "cell_type": "markdown",
   "id": "2298a3bb-cc95-420c-bd76-1448bf6ac2c9",
   "metadata": {
    "cell_content_type": "markdown_default",
    "changed": false,
    "deletable": false,
    "editable": false,
    "original-content": "Nun bist du dran. In der nächsten Aufgabe sollst du dir überlegen, wo neue Nutzerkonten in unserem Beispielbaum eingefügt werden sollen.\nNimm dir dazu nochmal deine Skizze des korrigierten Baums aus der obigen Abbildung, die du in Aufgabe 2 erstellst hast, zur Hand.",
    "protected": false,
    "selectable": false
   },
   "source": [
    "Nun bist du dran. In der nächsten Aufgabe sollst du dir überlegen, wo neue Nutzerkonten in unserem Beispielbaum eingefügt werden sollen.\n",
    "Nimm dir dazu nochmal deine Skizze des korrigierten Baums aus der obigen Abbildung, die du in Aufgabe 2 erstellst hast, zur Hand."
   ]
  },
  {
   "cell_type": "markdown",
   "id": "4bed25fd-f3ba-4f22-bd3f-6fbd34f44a87",
   "metadata": {
    "cell_content_type": "markdown_default",
    "changed": false,
    "deletable": false,
    "editable": false,
    "original-content": "##### <font color=\"#3399DB\">Aufgabe 6</font>\n> Füge Nutzerkonten mit den Nutzernamen 'rahel123' und 'ali_ali' in den korrigierten Baum aus Aufgabe 2 ein.\n> Gehe vor, wie im Algorithmus beschrieben.\n> Wessen linkes Kind ist 'rahel123', wessen rechtes 'ali_ali'?\n> Notiere deine Ergebnisse wieder als Kommentare in der folgenden Zelle.",
    "protected": false,
    "selectable": false
   },
   "source": [
    "##### <font color=\"#3399DB\">Aufgabe 6</font>\n",
    "> Füge Nutzerkonten mit den Nutzernamen 'rahel123' und 'ali_ali' in den korrigierten Baum aus Aufgabe 2 ein.\n",
    "> Gehe vor, wie im Algorithmus beschrieben.\n",
    "> Wessen linkes Kind ist 'rahel123', wessen rechtes 'ali_ali'?\n",
    "> Notiere deine Ergebnisse wieder als Kommentare in der folgenden Zelle."
   ]
  },
  {
   "cell_type": "code",
   "execution_count": null,
   "id": "7ff224a8-5d3f-4c49-95f0-9ddad0180246",
   "metadata": {
    "cell_content_type": "code_user",
    "changed": false,
    "deletable": false,
    "editable": true,
    "hint": "Wenn du willst, kannst du diese Codezelle gern im Forum unter *Binärsuchbäume* diskutieren.",
    "original-content": "#Lösung \n#rahel123 ist linkes Kind von rita\n#ali_ali ist rechtes Kind von alfred_10 ",
    "protected": false,
    "selectable": true
   },
   "outputs": [],
   "source": [
    "#Lösung \n",
    "#rahel123 ist linkes Kind von rita\n",
    "#ali_ali ist rechtes Kind von alfred_10 "
   ]
  },
  {
   "cell_type": "markdown",
   "id": "9f80d7b4-82ea-4aaa-97cd-0b3503084237",
   "metadata": {
    "cell_content_type": "markdown_default",
    "changed": false,
    "deletable": false,
    "editable": false,
    "messageType": "vertiefung",
    "original-content": "**Lösung**: Einfügen von 'rahel123' und 'ali_ali' in den Binärsuchbaum. \n<div class=\"details\">\n'rahel123' sollte nun das linke Kind von 'rita' sein, 'ali_ali' sollte das rechte Kind von 'alfred_10' sein. \n</div>",
    "protected": false,
    "selectable": false,
    "tags": []
   },
   "source": [
    "**Lösung**: Einfügen von 'rahel123' und 'ali_ali' in den Binärsuchbaum. \n",
    "<div class=\"details\">\n",
    "'rahel123' sollte nun das linke Kind von 'rita' sein, 'ali_ali' sollte das rechte Kind von 'alfred_10' sein. \n",
    "</div>"
   ]
  },
  {
   "cell_type": "markdown",
   "id": "8e593e73-5687-4a71-9158-f143f8906c92",
   "metadata": {
    "cell_content_type": "markdown_selectable",
    "changed": false,
    "deletable": false,
    "editable": false,
    "original-content": "Nun, da wir die prinzipielle Vorgehensweise betrachtet haben, können wir die Implementierung für `find()` vorbereiten. \n\n\n##### <font color=\"#3399DB\">Aufgabe 7</font>\n> Schreibe zur Vorbereitung den Pseudocode für `insert()` und eventuelle Helferfunktionen auf. Strebe am besten wieder eine rekursive Implementierung an. ",
    "protected": false,
    "selectable": true
   },
   "source": [
    "Nun, da wir die prinzipielle Vorgehensweise betrachtet haben, können wir die Implementierung für `find()` vorbereiten. \n",
    "\n",
    "\n",
    "##### <font color=\"#3399DB\">Aufgabe 7</font>\n",
    "> Schreibe zur Vorbereitung den Pseudocode für `insert()` und eventuelle Helferfunktionen auf. Strebe am besten wieder eine rekursive Implementierung an. "
   ]
  },
  {
   "cell_type": "code",
   "execution_count": null,
   "id": "39377581-4a82-451e-bc46-ccaa3c7ae299",
   "metadata": {
    "cell_content_type": "code_user",
    "changed": false,
    "deletable": false,
    "editable": true,
    "hint": "Eine Möglichkeit ist, in `insert()` die Wurzel mit dem neuen Konto zu besetzen, falls der Baum leer ist, und ansonsten eine rekursive Helferfunktion aufzurufen, die nichts zurückgibt. Der Basisfall im rekursiven Prozess ist der, in dem dsa nächste betrachtete Kind None ist. Das neue Konto kann dann dort eingesetzt werden. Denke daran, dass der Prozess dann auch wirklich enden muss. ",
    "hint_counter": 0,
    "original-content": "#Lösung \n#Pseudocode \n\n#insert()\n#input: node (DatabaseNode)\n#if tree is empty: set node as root \n#else recursively call helper function with root as subroot\n\n#recursive helper function: _insert_rec()\n#input: node (DatabaseNode), sub_root (DatabaseNode) (recursive variable)\n\n#determine pos = next node (left child or right child)\n##base case:  \n#if pos is None: \n    #insert node to parent\n    #stop process\n    \n#recursive process: \n#if pos is not None: \n    #recursively call _insert_rec() with pos (left or right child) as new sub_root",
    "protected": false,
    "selectable": true,
    "tags": []
   },
   "outputs": [],
   "source": [
    "#Lösung \n",
    "#Pseudocode \n",
    "\n",
    "#insert()\n",
    "#input: node (DatabaseNode)\n",
    "#if tree is empty: set node as root \n",
    "#else recursively call helper function with root as subroot\n",
    "\n",
    "#recursive helper function: _insert_rec()\n",
    "#input: node (DatabaseNode), sub_root (DatabaseNode) (recursive variable)\n",
    "\n",
    "#determine pos = next node (left child or right child)\n",
    "##base case:  \n",
    "#if pos is None: \n",
    "    #insert node to parent\n",
    "    #stop process\n",
    "    \n",
    "#recursive process: \n",
    "#if pos is not None: \n",
    "    #recursively call _insert_rec() with pos (left or right child) as new sub_root"
   ]
  },
  {
   "cell_type": "markdown",
   "id": "4b35bdc4-6994-4d97-9a08-be53b3085f08",
   "metadata": {
    "cell_content_type": "markdown_selectable",
    "changed": false,
    "deletable": false,
    "editable": false,
    "original-content": "Wir sind nun soweit und können `insert()` implementieren. \n\n\n##### <font color=\"#3399DB\">Aufgabe 8</font>\n> Implementiere `insert()`. Füge die Methode wieder der Klasse `DatabaseTree` in deinem schon angelegten Skript *tree.py* hinzu.\n> Nutze anschließend wieder die vorbereiteten Tests, um deinen Code zu überprüfen.  ",
    "protected": false,
    "selectable": true
   },
   "source": [
    "Wir sind nun soweit und können `insert()` implementieren. \n",
    "\n",
    "\n",
    "##### <font color=\"#3399DB\">Aufgabe 8</font>\n",
    "> Implementiere `insert()`. Füge die Methode wieder der Klasse `DatabaseTree` in deinem schon angelegten Skript *tree.py* hinzu.\n",
    "> Nutze anschließend wieder die vorbereiteten Tests, um deinen Code zu überprüfen.  "
   ]
  },
  {
   "cell_type": "code",
   "execution_count": null,
   "id": "ecb17274-d6a2-4350-8a55-bb63753559be",
   "metadata": {
    "cell_content_type": "code_user",
    "changed": false,
    "deletable": false,
    "editable": true,
    "hint": "Wenn du willst, kannst du diese Codezelle gern im Forum unter *Binärsuchbäume* diskutieren.",
    "original-content": "#Lösung \n#siehe Script ",
    "protected": false,
    "selectable": true
   },
   "outputs": [],
   "source": [
    "#Lösung \n",
    "#siehe Script "
   ]
  },
  {
   "cell_type": "code",
   "execution_count": 5,
   "id": "5b1c6c25-cb4c-47bd-b56e-1468a53e2223",
   "metadata": {
    "cell_content_type": "code_demo",
    "changed": false,
    "deletable": false,
    "editable": true,
    "hint": "Wenn du willst, kannst du diese Codezelle gern im Forum unter *Binärsuchbäume* diskutieren.",
    "original-content": "!pytest test_tree.py::test_insert test_tree.py::test_insert_empty",
    "protected": false,
    "selectable": true
   },
   "outputs": [
    {
     "name": "stdout",
     "output_type": "stream",
     "text": [
      "\u001b[1m============================= test session starts ==============================\u001b[0m\n",
      "platform linux -- Python 3.8.10, pytest-6.2.4, py-1.11.0, pluggy-0.13.1\n",
      "rootdir: /home/jovyan/work/pyprog/stackfuel-python-programmer-product-de/module-05/chapter-01-solutions\n",
      "plugins: anyio-3.5.0\n",
      "collected 2 items                                                              \u001b[0m\n",
      "\n",
      "test_tree.py \u001b[32m.\u001b[0m\u001b[32m.\u001b[0m\u001b[32m                                                          [100%]\u001b[0m\n",
      "\n",
      "\u001b[32m============================== \u001b[32m\u001b[1m2 passed\u001b[0m\u001b[32m in 0.16s\u001b[0m\u001b[32m ===============================\u001b[0m\n"
     ]
    }
   ],
   "source": [
    "!pytest test_tree.py::test_insert test_tree.py::test_insert_empty"
   ]
  },
  {
   "cell_type": "markdown",
   "id": "dbda8c2c-deb1-43d0-a996-06868b375277",
   "metadata": {
    "cell_content_type": "markdown_selectable",
    "changed": false,
    "deletable": false,
    "editable": false,
    "original-content": "Hervorragend. Wird auf der Website ein neues Nutzerkonto erstellt, ruft das System im Hintergrund die Methode `insert()` der Klasse `DatabaseTree` auf. Mach dir zum Abschluss auch noch einmal Gedanken um die Laufzeitkomplexität von `insert()`.\n\n\n##### <font color=\"#3399DB\">Aufgabe 9</font>\n> Wenn $h$ die Anzahl der Knoten von der Wurzel bis zum am weitesten entfernten Kind angibt, welches ist dann die Laufzeitkomplexität von `insert()`? \n> \n> 1) $O(n)$\n> 2) $O(h)$\n> 3) $O(log \\: n)$\n> 4) $O(log \\: h)$\n> \n> Notiere deine Antwort als Kommentar in der folgenden Codezelle.",
    "protected": false,
    "selectable": true
   },
   "source": [
    "Hervorragend. Wird auf der Website ein neues Nutzerkonto erstellt, ruft das System im Hintergrund die Methode `insert()` der Klasse `DatabaseTree` auf. Mach dir zum Abschluss auch noch einmal Gedanken um die Laufzeitkomplexität von `insert()`.\n",
    "\n",
    "\n",
    "##### <font color=\"#3399DB\">Aufgabe 9</font>\n",
    "> Wenn $h$ die Anzahl der Knoten von der Wurzel bis zum am weitesten entfernten Kind angibt, welches ist dann die Laufzeitkomplexität von `insert()`? \n",
    "> \n",
    "> 1) $O(n)$\n",
    "> 2) $O(h)$\n",
    "> 3) $O(log \\: n)$\n",
    "> 4) $O(log \\: h)$\n",
    "> \n",
    "> Notiere deine Antwort als Kommentar in der folgenden Codezelle."
   ]
  },
  {
   "cell_type": "code",
   "execution_count": null,
   "id": "afb693df-299b-415b-aa1c-30860f3ca0b6",
   "metadata": {
    "cell_content_type": "code_user",
    "changed": false,
    "deletable": false,
    "editable": true,
    "hint": "Wenn du willst, kannst du diese Codezelle gern im Forum unter *Binärsuchbäume* diskutieren.",
    "original-content": "#Lösung \n#wie find(): \n#O(h) bzw. O(log n) bei einem ausgeglichenen Baum ",
    "protected": false,
    "selectable": true
   },
   "outputs": [],
   "source": [
    "#Lösung \n",
    "#wie find(): \n",
    "#O(h) bzw. O(log n) bei einem ausgeglichenen Baum "
   ]
  },
  {
   "cell_type": "markdown",
   "id": "7cebea67-b7f7-43ab-9a06-495890a3781f",
   "metadata": {
    "cell_content_type": "markdown_default",
    "changed": false,
    "deletable": false,
    "editable": false,
    "original-content": "Die Lösung zu Aufgabe 9 kannst du wieder sehen, wenn du die folgende Box aufklappst. ",
    "selectable": false
   },
   "source": [
    "Die Lösung zu Aufgabe 9 kannst du wieder sehen, wenn du die folgende Box aufklappst. "
   ]
  },
  {
   "cell_type": "markdown",
   "id": "d1f39794-8765-4d33-9a25-1bba1227d400",
   "metadata": {
    "cell_content_type": "markdown_selectable",
    "changed": false,
    "deletable": false,
    "editable": false,
    "messageType": "vertiefung",
    "original-content": "**Lösung**: Laufzeitkomplexität von `insert()`. \n<div class=\"details\">\nIm schlechtesten Fall muss der Baum bis zum Blatt mit dem größten Abstand zur Wurzel durchlaufen werden, um den neuen Knoten dort einzufügen. \nWeil auf dem Weg wieder alle durchlaufenen Knoten besucht werden, ergibt sich auch hier eine Laufzeitkomplexität von $O(h)$.\n</div>",
    "protected": false,
    "selectable": true,
    "tags": []
   },
   "source": [
    "**Lösung**: Laufzeitkomplexität von `insert()`. \n",
    "<div class=\"details\">\n",
    "Im schlechtesten Fall muss der Baum bis zum Blatt mit dem größten Abstand zur Wurzel durchlaufen werden, um den neuen Knoten dort einzufügen. \n",
    "Weil auf dem Weg wieder alle durchlaufenen Knoten besucht werden, ergibt sich auch hier eine Laufzeitkomplexität von $O(h)$.\n",
    "</div>"
   ]
  },
  {
   "cell_type": "markdown",
   "id": "ddba2099-e1f8-4628-9c9f-ac6c800d5f7f",
   "metadata": {
    "cell_content_type": "markdown_default",
    "changed": false,
    "deletable": false,
    "editable": false,
    "messageType": "glueckwunsch",
    "original-content": "**Glückwunsch**:\nDu hast die Datenstruktur als Binärsuchbaum implementiert. Im System können nun neue Nutzerkonten problemlos eingefügt und gefunden werden. Du beobachtest den Aufbau des Systems eine Weile, um sicherzugehen, dass der Baum keine starke Unausgeglichenheit aufweist. ",
    "protected": false,
    "selectable": false,
    "tags": []
   },
   "source": [
    "**Glückwunsch**:\n",
    "Du hast die Datenstruktur als Binärsuchbaum implementiert. Im System können nun neue Nutzerkonten problemlos eingefügt und gefunden werden. Du beobachtest den Aufbau des Systems eine Weile, um sicherzugehen, dass der Baum keine starke Unausgeglichenheit aufweist. "
   ]
  },
  {
   "cell_type": "markdown",
   "id": "88b2737f-ddaa-4c29-a731-977e3e65b4f4",
   "metadata": {
    "cell_content_type": "markdown_default",
    "changed": false,
    "deletable": false,
    "editable": false,
    "messageType": "merke",
    "original-content": "**Merke**: \n* Ein Binärbaum ist eine Datenstruktur, in der jeder Knoten maximal zwei Kinder hat, die wieder Binärbäume sind.\n* Erfüllt ein Binärbaum die Binärsuchbaumeigenschaft, so sprechen wir von einem Binärsuchbaum. \n* Der Binärsuchbaum ist eine Mengenstruktur. Er verwaltet Daten nicht in einer vom Nutzer vorgegebenen Reihenfolge. \n* Binärsuchbaume sind gut dafür geeignet, mit einem Schlüssel nach Knoten zu suchen und Knoten einzufügen.\n* Ausgeglichene Binärsuchbäume sind besser darin, Knoten zu finden, als unausgeglichene. Das Ausbalancieren selbst ist allerdings mit Aufwand beim Einfügen und Entfernen von Knoten verbunden. ",
    "protected": false,
    "selectable": false,
    "tags": []
   },
   "source": [
    "**Merke**: \n",
    "* Ein Binärbaum ist eine Datenstruktur, in der jeder Knoten maximal zwei Kinder hat, die wieder Binärbäume sind.\n",
    "* Erfüllt ein Binärbaum die Binärsuchbaumeigenschaft, so sprechen wir von einem Binärsuchbaum. \n",
    "* Der Binärsuchbaum ist eine Mengenstruktur. Er verwaltet Daten nicht in einer vom Nutzer vorgegebenen Reihenfolge. \n",
    "* Binärsuchbaume sind gut dafür geeignet, mit einem Schlüssel nach Knoten zu suchen und Knoten einzufügen.\n",
    "* Ausgeglichene Binärsuchbäume sind besser darin, Knoten zu finden, als unausgeglichene. Das Ausbalancieren selbst ist allerdings mit Aufwand beim Einfügen und Entfernen von Knoten verbunden. "
   ]
  },
  {
   "cell_type": "markdown",
   "id": "114c7435",
   "metadata": {
    "cell_content_type": "markdown_default",
    "changed": false,
    "deletable": false,
    "editable": false,
    "original-content": "***\nHast du eine Frage zu dieser Übung? Schau ins Forum, ob sie bereits gestellt und beantwortet wurde.\n***\nFehler gefunden? Kontaktiere den Support unter support@stackfuel.com .\n***",
    "protected": false,
    "selectable": false
   },
   "source": [
    "***\n",
    "Hast du eine Frage zu dieser Übung? Schau ins Forum, ob sie bereits gestellt und beantwortet wurde.\n",
    "***\n",
    "Fehler gefunden? Kontaktiere den Support unter support@stackfuel.com .\n",
    "***"
   ]
  }
 ],
 "metadata": {
  "content_id": "b0bf1f06-575a-4370-8123-ec4f2efd3a5d",
  "content_language": "de",
  "content_title": "Binärsuchbäume",
  "content_type": "solution",
  "kernelspec": {
   "display_name": "Python 3 (ipykernel)",
   "language": "python",
   "name": "python3"
  },
  "language_info": {
   "codemirror_mode": {
    "name": "ipython",
    "version": 3
   },
   "file_extension": ".py",
   "mimetype": "text/x-python",
   "name": "python",
   "nbconvert_exporter": "python",
   "pygments_lexer": "ipython3",
   "version": "3.8.10"
  }
 },
 "nbformat": 4,
 "nbformat_minor": 5
}
