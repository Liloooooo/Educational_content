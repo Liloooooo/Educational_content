{
 "cells": [
  {
   "cell_type": "markdown",
   "id": "9f9e6454-c343-4c71-940a-9dcd30140b3d",
   "metadata": {
    "tags": []
   },
   "source": [
    "# Linked Lists "
   ]
  },
  {
   "cell_type": "markdown",
   "id": "8aea438f-34af-4486-814a-c95858773f64",
   "metadata": {},
   "source": [
    "Modul 5 | Kapitel 1 | Notebook 2\n",
    "\n",
    "***\n",
    "In diesem Notebook wirst du eine Linked List implementieren. \n",
    "Dabei wirst du die folgenden Konzepte anwenden: \n",
    "    \n",
    "- data structure augmentation \n",
    "- Rekursionen \n",
    "***"
   ]
  },
  {
   "cell_type": "markdown",
   "id": "647abe9e-1f30-411b-ad04-17dd5395fe9e",
   "metadata": {},
   "source": [
    " Wie du im Textteil gesehen hast, sind Linked Lists für manche Aufgaben besser geeignet als Arrays. \n",
    "    Während der dynamische Array mit der `list` in Python prominent vertreten ist, ist die Linked List nicht als inbuild-Datentyp angelegt. Wir schauen uns daher ein Anwendungsbeispiel an, in dem die Linked List die Python-Liste in puncto Effizienz schlägt, und implementieren sie. "
   ]
  },
  {
   "cell_type": "code",
   "execution_count": null,
   "id": "93a25126-c91d-41d9-8af9-3d6d9e247563",
   "metadata": {},
   "outputs": [],
   "source": []
  }
 ],
 "metadata": {
  "kernelspec": {
   "display_name": "Python 3 (ipykernel)",
   "language": "python",
   "name": "python3"
  },
  "language_info": {
   "codemirror_mode": {
    "name": "ipython",
    "version": 3
   },
   "file_extension": ".py",
   "mimetype": "text/x-python",
   "name": "python",
   "nbconvert_exporter": "python",
   "pygments_lexer": "ipython3",
   "version": "3.8.10"
  }
 },
 "nbformat": 4,
 "nbformat_minor": 5
}
