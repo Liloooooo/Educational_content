{
 "cells": [
  {
   "cell_type": "markdown",
   "id": "a484e37b-b3f3-4f67-b88e-74fcb87876f9",
   "metadata": {
    "cell_content_type": "markdown_copyable",
    "changed": false,
    "deletable": false,
    "editable": true,
    "original-content": "# Binärbäume (Lösung)\nModul 5 | Kapitel 1 | Notebook 2\n***\nWillkommen bei deiner zweiten Übung zu Algorithmen und Datenstrukturen. In dieser Übung wirst du den Datentyp Binärbaum kennenlernen und mehrere Traversierungs-Algorithmen implementieren. Nach dieser Übung kannst du\n* die Klasse `BinaryTree` rekursiv implementieren\n* drei Traversierungen rekursiv implementieren\n* eine Traversierung mit Hilfe eines Zwischenspeichers implementieren\n***"
   },
   "source": [
    "# Binärbäume 1 (Lösung)\n",
    "Modul 5 | Kapitel 1 | Notebook 2\n",
    "***\n",
    "Willkommen bei deiner zweiten Übung zu Algorithmen und Datenstrukturen. In dieser Übung wirst du die Datenstruktur Binärbaum implementieren.  \n",
    "\n",
    "In diesem Notebook wirst du: \n",
    "* einen einfachen Binärsuchbaum implementieren  \n",
    "* rekursive Algorithmen nutzen, um `insert_last(self, node)`, `delete_first(self)` und `find(self)` zu implementieren.\n",
    " \n",
    "***"
   ]
  },
  {
   "cell_type": "markdown",
   "id": "1e6676c7-676b-4135-ad65-3d6d31059aad",
   "metadata": {
    "messageType": "szenario",
    "tags": []
   },
   "source": [
    "**Szenario**: Die Firma, deren Warenwirtschaftssystem wir bereits in der vorigen Übung betrachtet haben, ist inzwischen sehr erfolgreich auf dem Markt. Aufträge gehen fast im Sekundentakt ein. Leider führt das gestiegene Auftragsvolumen auch dazu, dass sich die Stornierungen vor Versand der Artikel häufen. Deine zuvor implementierte Linked List hat bisher gute Dienste geleistet, ist allerdings nicht auf die erhöhten Anforderungen ausgerichtet. "
   ]
  },
  {
   "cell_type": "markdown",
   "id": "76c9a6d1-d6c8-4f67-8d3d-36b8aae65e17",
   "metadata": {},
   "source": [
    "In der vorigen Übung hast du bereits gesehen, dass eine Linked List sich zwar hervorragend als Queue eignet, allerdings Schwächen aufweist, wenn es darum geht, auf Elemente in der Mitte zuzugreifen. \n",
    "\n",
    "In der vorangegangenen Textlektion hast du dir eine Menge Gedanken zu den Effizienzeigenschaften des Binärbaums für unser Anwendungsbeispiel gemacht. \n",
    "Außerdem haben wir uns Gedanken über das Design unserer Datenstruktur gemacht: sollten wir zum Beispiel `first` und `last` Pointer in der Baumstrukur anlegen? Vielleicht sogar bereits in den Nodes? \n",
    "\n",
    "In dieser Übung werden wir eine Baumstruktur mit den Methoden `insert_last(self, node)`, `delete_first(self)` und `find_node(self, order_id)` implementieren. `delete_node(self, order_id)` ist etwas aufwendiger. \n",
    "Wenn du magst, kannst du die Methode anschließend in der folgenden optionalen Übung implementieren. \n",
    "\n",
    "\n"
   ]
  },
  {
   "cell_type": "markdown",
   "id": "369daab7-b5fb-41f5-97f5-7e9002af8bd7",
   "metadata": {},
   "source": [
    "## Die Grundstruktur"
   ]
  },
  {
   "cell_type": "markdown",
   "id": "6b6c07c8-a282-4016-b3d2-9287b2a883f5",
   "metadata": {},
   "source": [
    "Wir werden hier einen Binärbaum ohne die Pointer `first` und `last` anlegen. Im vorigen Textteil haben wir gesehen, dass sowohl die Version mit, als auch ohne die beiden Pointer, in unserem Szenario vertretbar scheinen.\n",
    "Die Version ohne Pointer ist einfacher, denn die Aktualisierung beim Löschen eines Auftrags (am Anfang oder in der Mitte) ist potentiell aufwendig und bringt keine Effizienzvorteile im Sinne der O-Notation. \n",
    "`test_tree.py` sollte allerdings unabhängig hiervon ohne Fehler durchlaufen. Wenn du also magst, kannst du dich auch an der Version mit den Pointern versuchen. Im Folgenden gehen wir aber davon aus, dass du ohne Pointer arbeitest.  \n",
    "\n",
    "Den `parent`-Pointer in der Node hingegen solltest du mit anlegen. Tust du das nicht, kann `test_tree.py` deine Lösung nicht überprüfen. "
   ]
  },
  {
   "cell_type": "markdown",
   "id": "b261868d",
   "metadata": {},
   "source": [
    "Wie die Linked List auch ist der Binärbaum eine Pointer-basierte Datenstruktur. D.h. ausgehend von einem Startknoten können alle anderen Knoten bzw. Blätter erreicht werden. Jeder Knoten ist damit nichts anderes als selbst ein Binärbaum. "
   ]
  },
  {
   "cell_type": "markdown",
   "id": "17a9eeca-53cc-4881-8a35-29cd4171e623",
   "metadata": {
    "cell_content_type": "markdown_copyable",
    "changed": false,
    "deletable": false,
    "editable": true,
    "original-content": "## Implementierung von Binärbäumen\n\nImplementiere nun die rekursive Definition des Binärbaums. Es ist dafür nur eine Klasse notwendig und du kannst direkt im Notebook arbeiten.\n\nErstelle eine Klasse `BinaryTree`. Diese hat folgende Attribute:\n* Wert der Wurzel des (Teil-)Baums (`value`)\n* Linker Knoten ausgehend von der Wurzel des (Teil-)Baums (`left`)\n* Rechter Knoten ausgehend von der Wurzel des (Teil-)Baums (`right`)\n\nNutze den folgenden Docstring, um die Klasse zu erstellen:\n\n**`BinaryTree`**\n\n```python\n\"\"\"Recursive definiton of a binary tree. \"\"\"\n```\n\nErinnere dich an die rekursive Definition. Sie beginnt damit, dass jeder Binärbaum entweder leer ist oder aus Knoten bzw. Teilbäumen besteht. Dass ein (Teil-)Baum leer ist, können wir mit dem `None` Wert in Python ausdrücken. Wenn eine neue Wurzel eines (Teil-) **initialisiert** wird, sind linker und rechter Knoten ausgehend von dieser Wurzel leer. Die Formulierung in Python lautet:\n\n```python \nself.left = None\nself.right = None\n```"
   },
   "source": [
    "Als Doctring für die Grundstruktur kannst du folgenden nutzen: \n",
    "\n",
    "\n",
    "\n",
    "\n",
    "```python\n",
    "class BinaryTree: \n",
    "    \"\"\"A basic binary tree data structure. \n",
    "\n",
    "    Attributes: \n",
    "        root(BinaryNode): the root node. Defaults to None.\n",
    "\n",
    "    \"\"\"\n",
    "    \n",
    "class BinaryNode: \n",
    "    \"\"\"A Node in BinaryTree \n",
    "    \n",
    "    Args: \n",
    "        order_id (int): unique order id\n",
    "        *kwargs: additional information to be stored.\n",
    "\n",
    "    Attributes: \n",
    "        left (BinaryNode): left child. Defaults to None.\n",
    "        right (BinaryNode): right child. Defaults to None. \n",
    "        parent (BinaryNode): parent node. Defaults to None. \n",
    "        order_id (int): order_id\n",
    "        order_info (dict): additional information to be stored.\n",
    "\n",
    "    \"\"\"\n",
    "    \n",
    "```\n"
   ]
  },
  {
   "cell_type": "markdown",
   "id": "a78b3785-7b54-4e9a-95f4-28656c955750",
   "metadata": {},
   "source": [
    "!Aufgabe \n",
    "Lege die Grundstruktur im Skript an. Du kannst wie immer dein Notebook nutzen, um deine Klasse zu testen."
   ]
  },
  {
   "cell_type": "code",
   "execution_count": 1,
   "id": "383dbd03",
   "metadata": {
    "cell_content_type": "code_user",
    "changed": false,
    "deletable": false,
    "editable": true,
    "hint": "Wenn du willst, kannst du diese Codezelle gern im Forum unter *Binärbäume* diskutieren.",
    "original-content": "# Lösung:\nclass BinaryTree():\n    \"\"\"Recursive definiton of a binary tree.\"\"\"\n    def __init__(self, value):\n        self.value = value\n        self.left = None\n        self.right = None"
   },
   "outputs": [],
   "source": [
    "#Lösung\n",
    "#siehe Script "
   ]
  },
  {
   "cell_type": "markdown",
   "id": "715a87e0-9a65-4ccc-95f1-02210d990d4f",
   "metadata": {},
   "source": [
    "Mit der folgenden Zelle kannst du deine Grundstruktur überprüfen."
   ]
  },
  {
   "cell_type": "code",
   "execution_count": 22,
   "id": "39a832d3-5832-49af-85eb-7279260979f6",
   "metadata": {},
   "outputs": [
    {
     "name": "stdout",
     "output_type": "stream",
     "text": [
      "\u001b[1m============================= test session starts ==============================\u001b[0m\n",
      "platform linux -- Python 3.8.10, pytest-6.2.4, py-1.11.0, pluggy-0.13.1\n",
      "rootdir: /home/jovyan/work/pyprog/stackfuel-python-programmer-product-de/module-05/chapter-01-solutions\n",
      "plugins: anyio-3.5.0\n",
      "collected 2 items                                                              \u001b[0m\n",
      "\n",
      "test_tree.py \u001b[32m.\u001b[0m\u001b[32m.\u001b[0m\u001b[32m                                                          [100%]\u001b[0m\n",
      "\n",
      "\u001b[32m============================== \u001b[32m\u001b[1m2 passed\u001b[0m\u001b[32m in 0.07s\u001b[0m\u001b[32m ===============================\u001b[0m\n"
     ]
    }
   ],
   "source": [
    "!pytest test_tree.py::test_node_init test_tree.py::test_node_init_errors"
   ]
  },
  {
   "cell_type": "markdown",
   "id": "1ae141e9-b0e9-47ee-8200-4684ac3f4220",
   "metadata": {},
   "source": [
    "## Einen Knoten im Binärbaum finden "
   ]
  },
  {
   "cell_type": "markdown",
   "id": "96f4714d-7c15-434b-977a-71cb058da15a",
   "metadata": {},
   "source": [
    "Erinnere dich kurz: die Linked List ist wenig geeignet, ein Element aus der Mitte zu entfernen, und übrigens auch, in die Mitte einzusetzen. \n",
    "Das Entfernen oder Einsetzen selbst ist zwar effizient in *O(1)* zu machen, allerdings ist das Auffinden mit einem hohen Aufwand verbunden *(O(n))*. \n",
    "Der Binärbaum ist hier besser, zumindest, wenn er einigermaßen ausgeglichen ist. Das Auffinden können wir in *O(h)* implementieren, wobei *h* die Höhe ist, also die Anzahl der Knoten von der Wurzel bis zum am weitesten entfernten Kind.  \n",
    "In diesem Abschnitt werden wir uns lediglich um das Auffinden kümmern. Das Löschen selbst ist etwas komplizierter. Wenn du möchtest, kannst du das in der nächsten optionalen Übung tun. \n",
    "\n",
    "\n",
    "Zuerst wollen wir also `find(self, order_id)` implementieren. \n",
    "Um eine binäre Suche durchführen zu können, müssen unsere Datenpunkte mit einem Key versehen sein, der einer bestimmten Ordnung gehorcht. In unserem Fall werden die Auftragsnummern fortlaufend vergeben. \n",
    "Sie müssen allerdings nicht lückenlos vertreten sein. Wenn die Reihenfolge gegeben ist, weißt du automatisch, sobald du die root-Node besuchst, ob sich der gesuchte Knoten links oder rechts befindet. \n",
    "Das Problem sollte dir bekannt vorkommen: die Binärsuche haben wir im ersten Notebook bereits implementiert. \n",
    "\n",
    "\n",
    "\n"
   ]
  },
  {
   "cell_type": "markdown",
   "id": "2775b396-4362-4877-9e64-2355cca66a79",
   "metadata": {},
   "source": [
    "Unsere Baumstruktur soll also das Element mit einer bestimmten, einmal vergebenen Auftragsnummer finden. \n",
    "Der Docstring für `find_node(self, order_id)` liest sich wie folgt. Er gehört zur Klasse `BinaryTree`.\n",
    "\n",
    "``` python \n",
    "def find_node(self, order_id): \n",
    "    \"\"\"\n",
    "    Return BinaryNode with corresponding order_id. Return None if no node found or if tree is empty.\n",
    "\n",
    "    Args: \n",
    "        order_id (int): order_id to be searched for. \n",
    "\n",
    "    Returns: \n",
    "       BinaryNode with specified order_id, or None if nothing found. \n",
    "\n",
    "    \"\"\"\n",
    "```\n"
   ]
  },
  {
   "cell_type": "markdown",
   "id": "8074b517-89df-4e30-8703-5d5694e93b79",
   "metadata": {},
   "source": [
    "!Aufgabe\n",
    "Bevor du `find_node(self, order_id)` in deiner Klasse `BinaryTree` (rekursiv) implementierst, mach dir nochmal kurz ein paar Gedanken hierzu. \n",
    "Benötigst du eine oder mehrere Helferfunktion(en)? Notiere dir am besten den Pseudocode für alle verwendeten Funktionen in der folgenden Zelle. \n",
    "\n"
   ]
  },
  {
   "cell_type": "code",
   "execution_count": null,
   "id": "1e366a05-a971-490d-8a86-a71bdef9aadb",
   "metadata": {
    "hint_counter": 2,
    "tags": []
   },
   "outputs": [],
   "source": [
    "#Lösung (auch als Aufklapptext zur Verfügung stellen)\n",
    "\n",
    "#(PSEUDO)CODE \n",
    "#BinaryTree.find_node(self, order_id): \n",
    "    #if tree empty: \n",
    "        #return None \n",
    "    #else: \n",
    "        #return self.root.find(order_id)\n",
    "    \n",
    "#BinaryNode.find(self, order_id):\n",
    "    #if self has no order_id (is None):  \n",
    "        #return None \n",
    "    #elif order_id == self.order_id: \n",
    "        #return self \n",
    "    #elif order_id < self.order_id:\n",
    "        #recursively search left tree\n",
    "    #else if order_id > self.order_id: \n",
    "        #recursively search right tree \n",
    "\n",
    "\n",
    "\n",
    "#Hint \n",
    "#Es ist hilfreich, eine Methode `find(self, order_id) in `BinaryNode` zu implementieren, und sie in BinaryTree von der root-Node aus aufzurufen. \n",
    "#Die Methode soll rekursiv, ausgehend von der entsprechenden Node, die gesuchte Node finden. \n",
    "#Eine Möglichkeit, das zu implementieren, ist, self bei jedem Rekursionsschritt neu zu besetzen.\n"
   ]
  },
  {
   "cell_type": "markdown",
   "id": "bd5c6673-8625-4b19-bdb4-1563eac3e7e5",
   "metadata": {},
   "source": [
    "!Aufgabe \n",
    "Implementiere nun die Methode `find_node(self, order_id)` in deiner Klasse `BinaryTree`, sowie etwaige Helferfunktionen. Implementiere die Methode wieder in `tree.py`. \n",
    "Nutze wieder den pytest, um deinen Code zu überprüfen."
   ]
  },
  {
   "cell_type": "code",
   "execution_count": 8,
   "id": "8d7f54b0-b023-4b85-81f0-cadb8132025c",
   "metadata": {},
   "outputs": [
    {
     "name": "stdout",
     "output_type": "stream",
     "text": [
      "\u001b[1m============================= test session starts ==============================\u001b[0m\n",
      "platform linux -- Python 3.8.10, pytest-6.2.4, py-1.11.0, pluggy-0.13.1\n",
      "rootdir: /home/jovyan/work/pyprog/stackfuel-python-programmer-product-de/module-05/chapter-01-solutions\n",
      "plugins: anyio-3.5.0\n",
      "collected 1 item                                                               \u001b[0m\n",
      "\n",
      "test_tree.py \u001b[32m.\u001b[0m\u001b[32m                                                           [100%]\u001b[0m\n",
      "\n",
      "\u001b[32m============================== \u001b[32m\u001b[1m1 passed\u001b[0m\u001b[32m in 0.04s\u001b[0m\u001b[32m ===============================\u001b[0m\n"
     ]
    }
   ],
   "source": [
    "!pytest test_tree.py::test_find_node"
   ]
  },
  {
   "cell_type": "markdown",
   "id": "7f364b5d-c9db-4c66-9a75-28dd0d3185e6",
   "metadata": {},
   "source": [
    "## Ein Element am Ende einfügen "
   ]
  },
  {
   "cell_type": "markdown",
   "id": "6b3ad09b-dcb4-49e7-9e80-ad92f077ec41",
   "metadata": {},
   "source": [
    "Nun wollen wir einen Auftrag am Ende einfügen. Dazu werden wir den neuen Auftrag an den rechtesten Knoten anhängen. \n",
    "Der Docstring für die Methode `insert_last(self, node)` im `BinaryTree` ist folgender: \n",
    "    \n",
    "```python \n",
    "def insert_last(self, node): \n",
    "    \"\"\" \n",
    "    Insert node at rightmost position of tree. \n",
    "    \n",
    "    Args: \n",
    "        node (BinaryNode): Node to be inserted\n",
    "    Returns: \n",
    "        None \n",
    "\n",
    "    \"\"\"\n",
    "\n",
    "```\n",
    "\n",
    "!Aufgabe \n",
    "Notiere die wieder zunächst den Pseudocode für `insert_last(self, node)`. Benötigst du Helferfunktionen? Wenn ja, schreibe auch den Pseudocode hierfür auf.\n",
    "Dein Code sollte in *O(h)* implementiert werden. Hast du die abweichende Version mit Pointern gewählt, solltest du es sogar in *O(1)* schaffen.  "
   ]
  },
  {
   "cell_type": "code",
   "execution_count": null,
   "id": "d83b2d40-42c8-47ad-a49d-07282e7ff069",
   "metadata": {},
   "outputs": [],
   "source": [
    "\n",
    "#Lösung (auch als Aufklapptext zur Verfügung stellen!) \n",
    "#insert_last(self, node)\n",
    "\n",
    "    #if tree is empty: \n",
    "        #node becomes root \n",
    "    #else if tree is not empty: \n",
    "        # identify current last node (call self.root.last)\n",
    "        # assign right child to current last node\n",
    "        # assign parent pointer to node \n",
    "\n",
    "    \n",
    "#in BinaryNode\n",
    "#last(self): \n",
    "    #if self has no right node:\n",
    "        #return self\n",
    "    #if self has right node: \n",
    "        #recursively call right child\n",
    "    "
   ]
  },
  {
   "cell_type": "markdown",
   "id": "d01caa10-6556-447b-bf6d-0c3f36b79276",
   "metadata": {},
   "source": [
    "!Aufgabe \n",
    "Implementiere den Code nun wieder in deinem `tree.py`-Skript. Nutze den pytest, um deinen Code zu überprüfen. "
   ]
  },
  {
   "cell_type": "code",
   "execution_count": 7,
   "id": "81fa6688-b27d-49f4-8380-a89f486703f9",
   "metadata": {},
   "outputs": [
    {
     "name": "stdout",
     "output_type": "stream",
     "text": [
      "\u001b[1m============================= test session starts ==============================\u001b[0m\n",
      "platform linux -- Python 3.8.10, pytest-6.2.4, py-1.11.0, pluggy-0.13.1\n",
      "rootdir: /home/jovyan/work/pyprog/stackfuel-python-programmer-product-de/module-05/chapter-01-solutions\n",
      "plugins: anyio-3.5.0\n",
      "collected 1 item                                                               \u001b[0m\n",
      "\n",
      "test_tree.py \u001b[32m.\u001b[0m\u001b[32m                                                           [100%]\u001b[0m\n",
      "\n",
      "\u001b[32m============================== \u001b[32m\u001b[1m1 passed\u001b[0m\u001b[32m in 0.03s\u001b[0m\u001b[32m ===============================\u001b[0m\n"
     ]
    }
   ],
   "source": [
    "!pytest test_tree.py::test_insert_last"
   ]
  },
  {
   "cell_type": "markdown",
   "id": "9035a4d8-e55e-4043-ac5e-7fe103b401b5",
   "metadata": {},
   "source": [
    "## Ein Element am Anfang entfernen "
   ]
  },
  {
   "cell_type": "markdown",
   "id": "7ab94509-31e3-4d23-96f8-bffab6b37057",
   "metadata": {},
   "source": [
    "Das Entfernen ist im Binärbaum tendenziell etwas komplizierter als das Einfügen. \n",
    "Im Textteil hatten wir bereits besprochen, wie sich ein Element am Anfang entfernen lässt. \n",
    "Hier profitieren wir davon, dass die erste Node nie zwei Kinder hat.  \n",
    "Wenn du dich nicht mehr erinnerst, wie das Entfernen in diesem Fall funktioniert, wirf am besten nochmal einen Blick in den Text. \n",
    "\n",
    "Wir nutzen den folgenden Dostring für die Methode, die in `BinaryTree` angelegt wird. \n",
    "\n",
    "```python \n",
    "def delete_first(self)\n",
    "\"\"\" Delete first node from self and return it. \"\"\"\n",
    "``` \n",
    "\n",
    "!Aufgabe \n",
    "Mache dir auch hier wieder zunächst Gedanken um etwaige Helferfunktionen. Notiere den Pseudocode für alle Methoden in der folgenden Zelle.\n"
   ]
  },
  {
   "cell_type": "code",
   "execution_count": null,
   "id": "cb18ba42-e1be-4eff-82dc-ad4b16018894",
   "metadata": {},
   "outputs": [],
   "source": [
    "#Lösung (auch als Aufklapptext)\n",
    "\n",
    "#BinaryTree.delete_first(self): \n",
    "    #if tree is empty: \n",
    "        #return None \n",
    "    #else: \n",
    "        #identify first_node in tree (call root.first() in BinaryNode) --> can be None O(h) \n",
    "        #if first_node is not root: \n",
    "            #adjust parent left pointer to right child --> can be None\n",
    "        #else if first node is root: \n",
    "            #set root to right child --> can be None \n",
    "        #if right child is not None: \n",
    "            #set new parent to first_node.right. (None or parent)\n",
    "        #return first_node \n",
    "\n",
    "#BinaryNode.first(): #O(h)\n",
    "    #if self has no left child: \n",
    "        #return self\n",
    "    #else if has left child: \n",
    "        #recursively call left child "
   ]
  },
  {
   "cell_type": "markdown",
   "id": "c2ad4af4-ea2b-48d7-8955-15ecde5efe7f",
   "metadata": {},
   "source": [
    "!Aufgabe \n",
    "Implementiere nun die Methode in deinem `test.py`-Skript. \n",
    "Hast du nun die Version mit `last` und/oder `first`-Pointern gewählt, solltest du unbedingt darauf acht geben, die auch mit zu aktualisieren. \n",
    "\n"
   ]
  },
  {
   "cell_type": "code",
   "execution_count": 17,
   "id": "ffa3afed-8782-405f-a41b-69b5afd51ed8",
   "metadata": {},
   "outputs": [
    {
     "name": "stdout",
     "output_type": "stream",
     "text": [
      "\u001b[1m============================= test session starts ==============================\u001b[0m\n",
      "platform linux -- Python 3.8.10, pytest-6.2.4, py-1.11.0, pluggy-0.13.1\n",
      "rootdir: /home/jovyan/work/pyprog/stackfuel-python-programmer-product-de/module-05/chapter-01-solutions\n",
      "plugins: anyio-3.5.0\n",
      "collected 1 item                                                               \u001b[0m\n",
      "\n",
      "test_tree.py \u001b[32m.\u001b[0m\u001b[32m                                                           [100%]\u001b[0m\n",
      "\n",
      "\u001b[32m============================== \u001b[32m\u001b[1m1 passed\u001b[0m\u001b[32m in 0.04s\u001b[0m\u001b[32m ===============================\u001b[0m\n"
     ]
    }
   ],
   "source": [
    "!pytest test_tree.py::test_delete_first"
   ]
  },
  {
   "cell_type": "markdown",
   "id": "6ee2c307-3703-43ae-be77-d822092909e8",
   "metadata": {
    "messageType": "glueckwunsch",
    "tags": []
   },
   "source": [
    "**Glückwunsch**: Du hast eine Binärbaum-Struktur angelegt, und die Methoden implementiert, die wir für unsere Standardqueue benötigen. Außerdem hast du eine Methode implementiert, die effizient die Datenstruktur durchsucht. "
   ]
  },
  {
   "cell_type": "markdown",
   "id": "873aab9d-ad6a-463a-87a9-6afbb8335b35",
   "metadata": {
    "messageType": "merke",
    "tags": []
   },
   "source": [
    "**Merke**:  \n",
    "Binärbäume sind oft ein guter Kompromiss zwischen anderen Datenstrukturen:\n",
    "* Binärbäume sind gut darin, Elemente nach einem Key zu finden, wenn der Key eine inherente Ordnung aufweist. Je ausgeglichener der Baum ist, desto effizienter ist das Auffinden.\n",
    "* Ein Element zu löschen oder hinzuzufügen, ist effizient - wenn es bereits gefunden wurde \n",
    "* Für unser Queue-Beispiel mögen die Vorteile der Linked List überwiegen, denn die Standardoperationen sind im Binärbaum insgesamt weniger effizient, auch wenn er ausgeglichen ist.  \n"
   ]
  },
  {
   "cell_type": "markdown",
   "id": "114c7435",
   "metadata": {
    "cell_content_type": "markdown_default",
    "changed": false,
    "deletable": false,
    "editable": false,
    "original-content": "***\nHast du eine Frage zu dieser Übung? Schau ins Forum, ob sie bereits gestellt und beantwortet wurde.\n***\nFehler gefunden? Kontaktiere den Support unter support@stackfuel.com .\n***"
   },
   "source": [
    "***\n",
    "Hast du eine Frage zu dieser Übung? Schau ins Forum, ob sie bereits gestellt und beantwortet wurde.\n",
    "***\n",
    "Fehler gefunden? Kontaktiere den Support unter support@stackfuel.com .\n",
    "***"
   ]
  }
 ],
 "metadata": {
  "content_id": "b0bf1f06-575a-4370-8123-ec4f2efd3a5d",
  "content_language": "de",
  "content_title": "Binärbäume",
  "content_type": "solution",
  "kernelspec": {
   "display_name": "Python 3 (ipykernel)",
   "language": "python",
   "name": "python3"
  },
  "language_info": {
   "codemirror_mode": {
    "name": "ipython",
    "version": 3
   },
   "file_extension": ".py",
   "mimetype": "text/x-python",
   "name": "python",
   "nbconvert_exporter": "python",
   "pygments_lexer": "ipython3",
   "version": "3.8.10"
  }
 },
 "nbformat": 4,
 "nbformat_minor": 5
}
