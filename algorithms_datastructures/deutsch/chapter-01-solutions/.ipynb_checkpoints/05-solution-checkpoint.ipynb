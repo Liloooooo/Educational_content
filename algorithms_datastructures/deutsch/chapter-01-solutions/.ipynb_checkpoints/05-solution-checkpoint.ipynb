{
 "cells": [
  {
   "cell_type": "markdown",
   "id": "fd854ae3-7e83-4f3e-b5c5-e598e8cb133e",
   "metadata": {
    "cell_content_type": "markdown_copyable",
    "changed": false,
    "deletable": false,
    "editable": true,
    "original-content": "# Binärbäume (Lösung)\nModul 5 | Kapitel 1 | Notebook 2\n***\nWillkommen bei deiner zweiten Übung zu Algorithmen und Datenstrukturen. In dieser Übung wirst du den Datentyp Binärbaum kennenlernen und mehrere Traversierungs-Algorithmen implementieren. Nach dieser Übung kannst du\n* die Klasse `BinaryTree` rekursiv implementieren\n* drei Traversierungen rekursiv implementieren\n* eine Traversierung mit Hilfe eines Zwischenspeichers implementieren\n***"
   },
   "source": [
    "# Binärsuchbäume 2 (optional) (Lösung)\n",
    "Modul 5 | Kapitel 1 | Notebook 2\n",
    "***\n",
    "Willkommen bei deiner letzten Übung zu Algorithmen und Datenstrukturen. In dieser Übung wirst du die Datenstruktur Binärsuchbaum um eine Methode zum Entfernen von Knoten erweitern.  \n",
    "\n",
    "In diesem Notebook wirst du: \n",
    "* ein Element (rekursiv) aus dem Binärsuchbaum entfernen \n",
    "\n",
    " \n",
    "***"
   ]
  },
  {
   "cell_type": "markdown",
   "id": "dcab45a9-e4de-4ed0-b88d-e98585679382",
   "metadata": {
    "messageType": "szenario",
    "tags": []
   },
   "source": [
    "**Szenario**: Die Datenbankbeauftragte des Online-Versandhänders hat die Geschäftsführung darauf hingewiesen, dass Konten auch auf Wunsch der Inhabenden wieder gelöscht werden müssen. Die Geschäftsführung bittet dich, in der Datenbank auch noch eine Methode zum Entfernen von Konten zu implementieren.  "
   ]
  },
  {
   "cell_type": "markdown",
   "id": "c0e210cb-fc5c-4a64-932f-5dc624b4bcaf",
   "metadata": {},
   "source": [
    "Wollen wir einen Knoten aus einem Binärsuchbaum entfernen, unterscheiden wir drei Fälle: Der zu entfernende Knoten..\n",
    "1) ... ist ein Blatt\n",
    "2) ... hat ein Kind \n",
    "3) ... hat zwei Kinder "
   ]
  },
  {
   "cell_type": "markdown",
   "id": "40560838-6fbd-4303-89a0-b195ccac2a53",
   "metadata": {},
   "source": [
    "Wie so oft gibt es verschiedene Wege zum Ziel. Wir implementieren hier eine Wir werden uns nun nacheinander alle drei Fälle einzeln anschauen. Am Ende der Übung werden wir eine Methode zum Entfernen eines Kontos in `DatabaseTree` implementiert haben. Sie hat den folgenden Docstring: \n",
    "    \n",
    "```python \n",
    "def delete(self, name):\n",
    "    \"\"\"\n",
    "    Delete and return DatabaseNode with provided user name. Return None if no node is found or if tree is empty.\n",
    "\n",
    "    Args: \n",
    "        name (str): user name to be searched for. \n",
    "\n",
    "    Returns: \n",
    "       DatabaseNode with specified user name, or None if nothing found. \n",
    "\n",
    "    \"\"\"\n",
    "\n",
    "```"
   ]
  },
  {
   "cell_type": "markdown",
   "id": "a0bde22e-d9aa-41b3-9b5d-7f9c8db40f1b",
   "metadata": {},
   "source": [
    "! Es gibt wie so oft viele Wege, den Algorithmus zu implementieren. Die rekursive Version benötigt die *parent-Pointer* nicht. Du kannst sehr gerne eine andere Implementierung wählen. Wenn du magst, poste deine Version doch gerne im Forum! \n",
    "\n",
    "**[NN]: Gefällt mir! Gerne als Achtung-Box.**"
   ]
  },
  {
   "cell_type": "markdown",
   "id": "c256a53f-4967-4fca-a875-e6f2739f9010",
   "metadata": {},
   "source": [
    "## Der Knoten ist ein Blatt "
   ]
  },
  {
   "cell_type": "markdown",
   "id": "2675bb57-3d1d-4a4b-a63b-0bdbb536c146",
   "metadata": {},
   "source": [
    "Der einfachste Fall ist der, in dem der zu entfernende Knoten ein Blatt ist. Dann müssen wir prinzipiell nichts weiter tun, als die Verbindung dieses Knotens zum übrigen Baum zu kappen. Dazu entfernen wir den *Pointer* des Elternknotens zu dem zu entfernenden Knoten.\n",
    "(hier Graphik einfügen)\n"
   ]
  },
  {
   "cell_type": "markdown",
   "id": "7a92f802-9d13-4f9a-9a70-5fc8a0c45657",
   "metadata": {},
   "source": [
    "In der rekursiven Implementierung durchsucht der Algorithmus den Baum ganz ähnlich wie in unserer `find()`-Methode. Anders als bei `find()` werden allerdings die *Pointer* entlang des Suchpfades neu belegt. \n",
    "Ist der Knoten ein Blatt, hat also keine Kinder, wird im Prozess das entsprechende rechte oder linke Kind des vorherigen Knotens mit `None` belegt. "
   ]
  },
  {
   "cell_type": "markdown",
   "id": "55c1a9f9-4280-4231-b769-a09c2dc92e9c",
   "metadata": {},
   "source": [
    "!Aufgabe Implementiere `delete()` in `DatabaseTree()` für den Fall, dass der zu entfernende Knoten keine Kinder hat. Kümmere dich hier auch schon um den Fall, dass der Knoten im Baum nicht existiert. Du kannst die vorgeschlagene rekursive oder eine andere Version wählen. Teste deinen Code anschließend wieder anhand der vorbereiteten Unit Tests.  "
   ]
  },
  {
   "cell_type": "code",
   "execution_count": null,
   "id": "8b71bb1f-5582-43b0-b775-8b87774ddcaf",
   "metadata": {},
   "outputs": [],
   "source": [
    "#Lösung \n",
    "#siehe Script "
   ]
  },
  {
   "cell_type": "code",
   "execution_count": 6,
   "id": "14c8369b-dd98-44ca-848e-837647447db1",
   "metadata": {},
   "outputs": [
    {
     "name": "stdout",
     "output_type": "stream",
     "text": [
      "\u001b[1m============================= test session starts ==============================\u001b[0m\n",
      "platform linux -- Python 3.8.10, pytest-6.2.4, py-1.11.0, pluggy-0.13.1\n",
      "rootdir: /home/jovyan/work/pyprog/stackfuel-python-programmer-product-de/module-05/chapter-01-solutions\n",
      "plugins: anyio-3.5.0\n",
      "collected 1 item                                                               \u001b[0m\n",
      "\n",
      "test_tree.py \u001b[31mF\u001b[0m\u001b[31m                                                           [100%]\u001b[0m\n",
      "\n",
      "=================================== FAILURES ===================================\n",
      "\u001b[31m\u001b[1m___________________________ test_delete_no_children ____________________________\u001b[0m\n",
      "\n",
      "sample_tree = <tree.DatabaseTree object at 0x7f525aad6dc0>\n",
      "good_demo_node_zoe = <tree.DatabaseNode object at 0x7f525aad6e80>\n",
      "\n",
      "    \u001b[94mdef\u001b[39;49;00m \u001b[92mtest_delete_no_children\u001b[39;49;00m(sample_tree, good_demo_node_zoe):\n",
      "        tree = sample_tree\n",
      "        zoe_node = sample_tree.root.right.right\n",
      "        \u001b[96mprint\u001b[39;49;00m(sample_tree.root.right.right.name)\n",
      "        tree.delete(\u001b[33m'\u001b[39;49;00m\u001b[33mzoe\u001b[39;49;00m\u001b[33m'\u001b[39;49;00m)\n",
      "        \u001b[96mprint\u001b[39;49;00m(sample_tree.root.right)\n",
      ">       \u001b[94massert\u001b[39;49;00m sample_tree.root.right.right \u001b[95mis\u001b[39;49;00m \u001b[94mNone\u001b[39;49;00m\n",
      "\u001b[1m\u001b[31mE       AttributeError: 'NoneType' object has no attribute 'right'\u001b[0m\n",
      "\n",
      "\u001b[1m\u001b[31mtest_tree.py\u001b[0m:119: AttributeError\n",
      "----------------------------- Captured stdout call -----------------------------\n",
      "zoe\n",
      "None\n",
      "=========================== short test summary info ============================\n",
      "FAILED test_tree.py::test_delete_no_children - AttributeError: 'NoneType' obj...\n",
      "\u001b[31m============================== \u001b[31m\u001b[1m1 failed\u001b[0m\u001b[31m in 0.10s\u001b[0m\u001b[31m ===============================\u001b[0m\n"
     ]
    }
   ],
   "source": [
    "!pytest test_tree.py::test_delete_no_children"
   ]
  },
  {
   "cell_type": "markdown",
   "id": "3a9b8d72-e6ed-482e-a789-6751f04e4fa0",
   "metadata": {},
   "source": [
    "## Ein Element mit maximal einem Kind löschen\n",
    "\n",
    "`delete_node(self, order_id)` in `BinaryTree` wird zuerst die Node identifizieren, und anschließend löschen. \n",
    "Später werden wir sehen, dass ein einziger Rekursionsschritt nötig sein wird für den Fall, dass die Node zwei Kinder hat. \n",
    "Wir möchten dann aber nicht noch einmal die Node suchen, denn dadurch würde unser Code nur noch in *O(h^2)* implementiert werden können, also ineffizient sein.  \n",
    "\n",
    "Das würden wir aber tun, wenn wir `delete_node(self, order_id)` im `BinaryTree` nochmal aufrufen würden.  \n",
    "Daher bietet es sich an, eine Hilfsfunktion `delete(self)` in `BinaryNode` zu implementieren. \n",
    "\n",
    "Der Docstring ist kurz.  \n",
    "```python\n",
    "def delete(self): \n",
    "    \"\"\"\n",
    "    Delete self. Presumes node is not None and node is either not root or is root and has two children.\n",
    "    \n",
    "    Returns: self \n",
    "    \n",
    "    \"\"\"\n",
    "```\n"
   ]
  },
  {
   "cell_type": "markdown",
   "id": "91019156-4931-436a-bf5d-0983e96de8c8",
   "metadata": {},
   "source": [
    "!Aufgabe \n",
    "Notiere dir zuerst den Pseudocode der Methode `delete(self, order_id)` in der Klasse `BinaryNode`, sowie etwaiger Helferfunktionen.\n",
    "Den Pseudocode der bereits implementierten Methoden brauchst du natürlich nicht nochmal aufzuschreiben. \n",
    "Notiere dir hier zunächst den Code für den Fall, dass die Node maximal ein Kind besitzt. Entsprechend dem Docstring darfst du davon ausgehen, dass die Node nicht Wurzel im Baum ist, und dass sie einen Wert hat, also nicht `None` ist.\n"
   ]
  },
  {
   "cell_type": "code",
   "execution_count": null,
   "id": "b810e6af-5ce9-4e10-8040-e531361460e5",
   "metadata": {},
   "outputs": [],
   "source": [
    "#Lösung (auch als Aufklapptext)\n",
    "\n",
    "#def BinaryNode.delete(self): \n",
    "    #if number of children is 0: \n",
    "        #if self was right child to parent: \n",
    "            #set parent.right pointer to None \n",
    "        #else if self was left child to parent: \n",
    "            #set parent.left pointer to None \n",
    "        #return self\n",
    "    #else if number of children is 1: \n",
    "        #if is right child to parent: \n",
    "            #if left child: \n",
    "                #reset parent pointer of child\n",
    "                #reset child pointer of parent \n",
    "            #else if right child: \n",
    "                #reset parent pointer of child\n",
    "                #reset child pointer of parent \n",
    "        #if is left child to parent: \n",
    "            #analog \n",
    "        #return self\n",
    "        \n",
    "        \n",
    "#mögliche Helferfunktionen in BinaryNode: is_right_child(self) (bool), #number_children(self)"
   ]
  },
  {
   "cell_type": "markdown",
   "id": "ad717321-4083-4055-96a2-9a0a32af13f3",
   "metadata": {},
   "source": [
    "!Aufgabe \n",
    "Implementiere nun zunächst diese Version von delete und teste sie anhand der folgenden Zelle "
   ]
  },
  {
   "cell_type": "code",
   "execution_count": null,
   "id": "38135022-91bd-4d2a-bd37-60d1d8077692",
   "metadata": {},
   "outputs": [],
   "source": [
    "#pytest für delete noch zu implementieren "
   ]
  },
  {
   "cell_type": "markdown",
   "id": "6e7bdd9b-b49b-40fe-b74c-364b17afa7d6",
   "metadata": {},
   "source": [
    "Als nächstes solltest du `delete_node(self, order_id)` anlegen. Wir konzentrieren uns auch hier zunächst auf den Fall, dass die zu entfernende Node maximal ein Kind hat. \n",
    "\n",
    "```python \n",
    "\"\"\"Delete Node with corresponding order_id and return deleted Node. If no Node deleted, return None.\"\"\"\n",
    "```"
   ]
  },
  {
   "cell_type": "markdown",
   "id": "2fdef3b0-1a91-40f7-8f29-b95ec4f8d0f8",
   "metadata": {},
   "source": [
    "!Aufgabe \n",
    "Notiere dir auch hier wieder zunächst den Pseudocode der Methode `delete_node(self, order_id)` in der Klasse `BinaryTree`, sowie etwaiger Helferfunktionen. \n",
    "Betrachte zunächst nur den Fall, dass die Node maximal ein Kind besitzt. Denke daran, dass die Node auch die Wurzel sein kann. "
   ]
  },
  {
   "cell_type": "code",
   "execution_count": null,
   "id": "430d4d08-a64f-49f1-bddb-a5549d7b5052",
   "metadata": {},
   "outputs": [],
   "source": [
    "#Lösung (auch als Aufklapptext)\n",
    "\n",
    "#def BinaryTree.delete_node(self, order_id): \n",
    "    #identify node \n",
    "    #if None: \n",
    "        #return None \n",
    "    #else if not root: \n",
    "        #node.delete()\n",
    "    #else if node is root node: \n",
    "        #if node has no child: \n",
    "            #set root to None \n",
    "        #else if node has one child: \n",
    "            #if right child: \n",
    "                #set root to right child \n",
    "                #set right.parent to None \n",
    "            #if left child: \n",
    "                #set root to left child\n",
    "                #set left.parent to None \n",
    "\n",
    "#optionale Hilfsfunktionen in BinaryNode: \n",
    "    #number_children()  \n",
    "    #is_right_child (Bool)\n",
    "    "
   ]
  },
  {
   "cell_type": "markdown",
   "id": "eefcbd3f-7911-46c5-b277-f8777e95b316",
   "metadata": {},
   "source": [
    "!Aufgabe\n",
    "Implementiere deinen Pseudocode nun. Teste ihn anhand der folgenden Zelle. "
   ]
  },
  {
   "cell_type": "code",
   "execution_count": 27,
   "id": "41b9de8b-9d7f-4372-9391-31572a1c5dd7",
   "metadata": {},
   "outputs": [
    {
     "name": "stdout",
     "output_type": "stream",
     "text": [
      "\u001b[1m============================= test session starts ==============================\u001b[0m\n",
      "platform linux -- Python 3.8.10, pytest-6.2.4, py-1.11.0, pluggy-0.13.1\n",
      "rootdir: /home/jovyan/work/pyprog/stackfuel-python-programmer-product-de/module-05/chapter-01-solutions\n",
      "plugins: anyio-3.5.0\n",
      "collected 1 item                                                               \u001b[0m\n",
      "\n",
      "test_tree.py \u001b[32m.\u001b[0m\u001b[32m                                                           [100%]\u001b[0m\n",
      "\n",
      "\u001b[32m============================== \u001b[32m\u001b[1m1 passed\u001b[0m\u001b[32m in 0.04s\u001b[0m\u001b[32m ===============================\u001b[0m\n"
     ]
    }
   ],
   "source": [
    "!pytest test_tree.py::test_delete_node #aktuell ohne root case, vielleicht root mit reinnehmen "
   ]
  },
  {
   "cell_type": "markdown",
   "id": "92802e4e-81f9-4dab-8212-8d52fa015d22",
   "metadata": {},
   "source": [
    "## Eine Node mit zwei Kindern löschen \n",
    "\n",
    "Rufe dir nochmal in Erinnerung, wie das Löschen im Fall von zwei Kindern funktioniert: \n",
    "    wir tauschen die Node, bzw. ihre Werte, mit ihrem Nachfolger aus. Der Nachfolger ist die erste Node (der ITO) in dem rechten Kind. \n",
    "    Praktischerweise hat diese Nachfolgernode dann gezwungenermaßen wieder dieselben Eigenschaften, von der wir bereits in `delete_first(self)` profitiert hatten: die Nachfolgerin hat maximal ein Kind. \n",
    "    Andernfalls könnte sie nie die erste Node in dem Unterbaum sein. \n",
    "    \n",
    "Zur Veranschaulichung soll dir nochmal folgendes Bild dienen: \n",
    "    [Abbildung: gif mit Austausch bei zwei Nodes ]"
   ]
  },
  {
   "cell_type": "markdown",
   "id": "e4627414-ac0c-41ad-87b6-88c9381497a1",
   "metadata": {},
   "source": [
    "!Aufgabe \n",
    "Erweitere zunächst deine Methode `delete(self)` um den Fall, dass die Node zwei Kinder hat. Notiere wieder zunächst den Pseudocode.\n",
    "\n",
    "**[NN]: delete_node() returned nicht in jedem Fall den gelöschten node.**"
   ]
  },
  {
   "cell_type": "code",
   "execution_count": null,
   "id": "6d9a22ca-d1ba-4333-b1ff-774b37f8d8ed",
   "metadata": {},
   "outputs": [],
   "source": [
    "#Hint:\n",
    "#1) Es sollten nur die Werte selbst ausgetauscht werden, nicht aber die Grundstruktur. Damit bekommt self zwar neue Werte, behält aber Kinder und Eltern bei. Welche Node muss anschließend entfernt werden? \n",
    "#2) der Code ist derselbe, ob die Node root ist oder nicht, weil parent hier nicht genutzt wird.  \n",
    "    \n",
    "#def BinaryNode.delete(self): \n",
    "    #if number of children is 0: \n",
    "        #implemented\n",
    "    #else if number of children is 1: \n",
    "        #implemented\n",
    "    #else if number of children is 2: \n",
    "        #if node is root (has no parent): \n",
    "            #identify swap node (find first in right subtree)\n",
    "            #swap values with self \n",
    "            #recursive call to swap_node.delete()\n",
    "\n",
    "#Helper function first() if not yet implemented, finds first in subtree according to inherent traversal order "
   ]
  },
  {
   "cell_type": "markdown",
   "id": "4a5930df-50cb-45c5-982d-b4091db84f83",
   "metadata": {},
   "source": [
    "!Aufgabe\n",
    "Erweitere `delete()` nun in deiner Klasse `BinaryNode`. Nutze wieder `test_tree.py` um deinen Code zu überprüfen."
   ]
  },
  {
   "cell_type": "code",
   "execution_count": null,
   "id": "ec18cbe7-e1e5-4b87-8a14-b3edd94946e4",
   "metadata": {},
   "outputs": [],
   "source": [
    "#pytest for delete() yet to be implemented "
   ]
  },
  {
   "cell_type": "markdown",
   "id": "be13f5ba-f648-46bc-a161-2154ce968a66",
   "metadata": {},
   "source": [
    "Als letztes müssen wir noch unsere Funktion `delete_node(self, order_id)` in `BinaryTree` anpassen. Unter Umständen musst du dich nur um den Fall kümmern, dass die zu löschende Node die Wurzel mit zwei Kindern ist. \n",
    "Du kannst die Ergänzung dieses Mal direkt ins Skript schreiben. "
   ]
  },
  {
   "cell_type": "markdown",
   "id": "91475c7a-7688-40bb-ac1c-336d1a8b77fe",
   "metadata": {},
   "source": [
    "!Aufgabe \n",
    "Ergänze `delete_node(self, order_id)` so, dass die Node auch zwei Kinder haben kann. Teste anschließend wieder deinen Code anhand der folgenden beiden Zellen. "
   ]
  },
  {
   "cell_type": "code",
   "execution_count": null,
   "id": "673f452c-7ee1-4954-8f8b-9ad48e7dfbc9",
   "metadata": {},
   "outputs": [],
   "source": [
    "!pytest test_tree.py::test_delete_node_involved"
   ]
  },
  {
   "cell_type": "code",
   "execution_count": null,
   "id": "1bf5f6b6-6f59-46aa-95d0-a77dab1b85c3",
   "metadata": {},
   "outputs": [],
   "source": [
    "!pytest test_tree.py::test_delete_node_root"
   ]
  },
  {
   "cell_type": "markdown",
   "id": "f058e323-efc6-481c-817c-9310929752db",
   "metadata": {
    "messageType": "glueckwunsch",
    "tags": []
   },
   "source": [
    "**Glückwunsch**: du hast die Methode `delete(self, order_id)` in deine Binärbaumstruktur effizient implementiert. \n",
    "Dabei hast du deine Kenntnisse im Schreiben und Design von Klassen weiter vertieft. "
   ]
  },
  {
   "cell_type": "markdown",
   "id": "d17ae68e-e82f-425e-b75f-36211b8b9ca8",
   "metadata": {
    "messageType": "merke",
    "tags": []
   },
   "source": [
    "**Merke:**\n",
    "* eine Node in einem Binärbaum zu löschen, erfordert eine strukturierte Vorgehensweise \n",
    "* Die Binärbaumstruktur ist in Python nicht angelegt. \n",
    "* Wir haben uns noch nicht darum gekümmert, wie unser Baum am besten ausgeglichen wird. Wir werden uns im folgenden Textteil damit beschäftigen."
   ]
  },
  {
   "cell_type": "code",
   "execution_count": null,
   "id": "6753c46f-2bea-4a7e-89e3-a9a0c0a1a8ff",
   "metadata": {
    "cell_content_type": "markdown_copyable",
    "changed": false,
    "deletable": false,
    "editable": true,
    "original-content": "## Implementierung von Binärbäumen\n\nImplementiere nun die rekursive Definition des Binärbaums. Es ist dafür nur eine Klasse notwendig und du kannst direkt im Notebook arbeiten.\n\nErstelle eine Klasse `BinaryTree`. Diese hat folgende Attribute:\n* Wert der Wurzel des (Teil-)Baums (`value`)\n* Linker Knoten ausgehend von der Wurzel des (Teil-)Baums (`left`)\n* Rechter Knoten ausgehend von der Wurzel des (Teil-)Baums (`right`)\n\nNutze den folgenden Docstring, um die Klasse zu erstellen:\n\n**`BinaryTree`**\n\n```python\n\"\"\"Recursive definiton of a binary tree. \"\"\"\n```\n\nErinnere dich an die rekursive Definition. Sie beginnt damit, dass jeder Binärbaum entweder leer ist oder aus Knoten bzw. Teilbäumen besteht. Dass ein (Teil-)Baum leer ist, können wir mit dem `None` Wert in Python ausdrücken. Wenn eine neue Wurzel eines (Teil-) **initialisiert** wird, sind linker und rechter Knoten ausgehend von dieser Wurzel leer. Die Formulierung in Python lautet:\n\n```python \nself.left = None\nself.right = None\n```"
   },
   "outputs": [],
   "source": []
  },
  {
   "cell_type": "code",
   "execution_count": 1,
   "id": "383dbd03",
   "metadata": {
    "cell_content_type": "code_user",
    "changed": false,
    "deletable": false,
    "editable": true,
    "hint": "Wenn du willst, kannst du diese Codezelle gern im Forum unter *Binärbäume* diskutieren.",
    "original-content": "# Lösung:\nclass BinaryTree():\n    \"\"\"Recursive definiton of a binary tree.\"\"\"\n    def __init__(self, value):\n        self.value = value\n        self.left = None\n        self.right = None"
   },
   "outputs": [],
   "source": []
  },
  {
   "cell_type": "code",
   "execution_count": null,
   "id": "4aa488f4-2280-44a7-94e1-9538a1b05e51",
   "metadata": {
    "cell_content_type": "markdown_copyable",
    "changed": false,
    "deletable": false,
    "editable": true,
    "original-content": "Du solltest folgendes Ergebnis erhalten haben: \n\n`H / G \\ B`\n\nJetzt erstellen wir den gesamten Beispielbaum. Führe wieder die nächste Codezelle zum Testen deiner Klasse aus."
   },
   "outputs": [],
   "source": [
    "\n",
    "\n"
   ]
  },
  {
   "cell_type": "markdown",
   "id": "114c7435",
   "metadata": {
    "cell_content_type": "markdown_default",
    "changed": false,
    "deletable": false,
    "editable": false,
    "original-content": "***\nHast du eine Frage zu dieser Übung? Schau ins Forum, ob sie bereits gestellt und beantwortet wurde.\n***\nFehler gefunden? Kontaktiere den Support unter support@stackfuel.com .\n***"
   },
   "source": [
    "***\n",
    "Hast du eine Frage zu dieser Übung? Schau ins Forum, ob sie bereits gestellt und beantwortet wurde.\n",
    "***\n",
    "Fehler gefunden? Kontaktiere den Support unter support@stackfuel.com .\n",
    "***"
   ]
  },
  {
   "cell_type": "code",
   "execution_count": null,
   "id": "7728740d",
   "metadata": {},
   "outputs": [],
   "source": []
  }
 ],
 "metadata": {
  "content_id": "b0bf1f06-575a-4370-8123-ec4f2efd3a5d",
  "content_language": "de",
  "content_title": "Binärbäume",
  "content_type": "solution",
  "kernelspec": {
   "display_name": "Python 3 (ipykernel)",
   "language": "python",
   "name": "python3"
  },
  "language_info": {
   "codemirror_mode": {
    "name": "ipython",
    "version": 3
   },
   "file_extension": ".py",
   "mimetype": "text/x-python",
   "name": "python",
   "nbconvert_exporter": "python",
   "pygments_lexer": "ipython3",
   "version": "3.8.10"
  }
 },
 "nbformat": 4,
 "nbformat_minor": 5
}
