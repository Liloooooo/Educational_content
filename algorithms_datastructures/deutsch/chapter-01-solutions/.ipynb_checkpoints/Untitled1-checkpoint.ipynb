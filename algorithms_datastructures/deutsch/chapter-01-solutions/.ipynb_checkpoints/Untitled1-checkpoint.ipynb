{
 "cells": [
  {
   "cell_type": "markdown",
   "id": "8aaacfad",
   "metadata": {},
   "source": [
    "# Einführung: Datenstrukturen (Lösung)"
   ]
  },
  {
   "cell_type": "markdown",
   "id": "e2c6bfae",
   "metadata": {},
   "source": [
    "**Szenario:** ein Warenwirtschaftssystem fungiert als so genannte *Queue*: eingehende Aufträge werden in der Eingangsreihenfolge nacheinander abgearbeitet. Inzwischen ist das Unternehmen so stark gewachsen, dass die Queue zwar schnell abgearbeitet wird, jedoch auch im Sekundentakt neue Aufträge eingehen. Bisher wurde die Queue als Python-Liste angelegt. Das Update dauert allerdings zu lange, so dass nun eine effizientere Lösung gesucht wird.  "
   ]
  },
  {
   "cell_type": "markdown",
   "id": "49bce73a",
   "metadata": {},
   "source": [
    "Du erinnerst dich aus deinem Training, dass in Python die Liste als dynamischer Array angelegt ist. \n",
    "Außerdem ist dir in Erinnerung geblieben, dass der dynamische Array eine schlechte Performance aufweist, wenn Items am Anfang eingefügt oder entfernt werden sollen, weil dann alle nachfolgenden Items einen Platz nach vorne rutschen müssen. Drittens erinnerst du dich, dass es eine Datenstruktur gibt, die sehr gut mit Insertions oder Deletions umgehen kann: die Linked List. "
   ]
  },
  {
   "cell_type": "markdown",
   "id": "851284a2",
   "metadata": {},
   "source": [
    "Die Linked List ist in Python nicht als build-in Datentyp angelegt. In dieser Übung werden wir sie in Python implementieren. "
   ]
  },
  {
   "cell_type": "markdown",
   "id": "b6329d9f",
   "metadata": {},
   "source": [
    "### Linked Lists: wie sie funktionieren "
   ]
  },
  {
   "cell_type": "code",
   "execution_count": 2,
   "id": "afb49264",
   "metadata": {},
   "outputs": [],
   "source": [
    "#hier kurze Erklärung mit Bildern und gegenüberstellung zu (dynamischem) Array "
   ]
  },
  {
   "cell_type": "markdown",
   "id": "ee954c65",
   "metadata": {},
   "source": [
    "Nun implementiere deine eigene Linked List in Python. Wir wollen die Klasse Queue nennen. \n",
    "Nutze das Script, die LinkedList kannst du im weiteren Verlauf des Moduls nochmal gebrauchen. \n",
    "Implementiere hierzu zunächst eine Klasse QueueNode und eine Klasse Queue. "
   ]
  },
  {
   "cell_type": "markdown",
   "id": "05dd5e08",
   "metadata": {},
   "source": [
    "Für die Klasse Queue solltest du die Methoden build und insert_last implementieren. "
   ]
  },
  {
   "cell_type": "code",
   "execution_count": 17,
   "id": "4c552670",
   "metadata": {},
   "outputs": [],
   "source": [
    "#vorgegeben\n",
    "class QueueNode:\n",
    "    def __init__(self, x):\n",
    "        self.item = x\n",
    "        self.prev = None\n",
    "        self.next = None\n",
    "\n",
    "    #def later_node(self, i):\n",
    "    #    if i == 0: \n",
    "    #        return self\n",
    "    #    assert self.next\n",
    "    #    return self.next.later_node(i - 1)\n",
    "\n",
    "    \n",
    "class Queue:\n",
    "    def __init__(self):\n",
    "        self.head = None\n",
    "        self.tail = None\n",
    "\n",
    "    def __iter__(self):\n",
    "        node = self.head\n",
    "        while node:\n",
    "            yield node.item\n",
    "            node = node.next\n",
    "\n",
    "    def __str__(self):\n",
    "        return '-'.join([('(%s)' % x) for x in self])\n",
    "    \n",
    "    #auszufüllen\n",
    "    def build(self, X):\n",
    "        for a in X:\n",
    "            self.insert_last(a)\n",
    "\n",
    "    #auszufüllen\n",
    "    def insert_last(self, x):\n",
    "        new_node = QueueNode(x)\n",
    "        if self.tail is None:\n",
    "            self.head = new_node\n",
    "            self.tail = new_node\n",
    "        else:\n",
    "            new_node.prev = self.tail\n",
    "            self.tail.next = new_node\n",
    "            self.tail = new_node\n"
   ]
  },
  {
   "cell_type": "code",
   "execution_count": 25,
   "id": "d08dc778",
   "metadata": {},
   "outputs": [
    {
     "name": "stdout",
     "output_type": "stream",
     "text": [
      "(3)-(5)-(new)\n",
      "(3)-(5)-(new)-(15)\n"
     ]
    }
   ],
   "source": [
    "#Tests in pytest implementieren \n",
    "queue = Queue()\n",
    "L = [3, 5, 'new']\n",
    "queue.build(L)\n",
    "print(queue)\n",
    "queue.insert_last(15)\n",
    "print(queue)"
   ]
  },
  {
   "cell_type": "markdown",
   "id": "86ffa486",
   "metadata": {},
   "source": [
    "Damit wir durch die Queue iterieren können, solltest du auch noch eine Methode __iter__ implementieren. "
   ]
  },
  {
   "cell_type": "markdown",
   "id": "5df25c57",
   "metadata": {},
   "source": [
    "Nun implementiere noch delete_first"
   ]
  },
  {
   "cell_type": "code",
   "execution_count": 36,
   "id": "23cf5fef",
   "metadata": {},
   "outputs": [],
   "source": [
    "class Queue:\n",
    "    def __init__(self):\n",
    "        self.head = None\n",
    "        self.tail = None\n",
    "\n",
    "    def __iter__(self):\n",
    "        node = self.head\n",
    "        while node:\n",
    "            yield node.item\n",
    "            node = node.next\n",
    "\n",
    "    def __str__(self):\n",
    "        return '-'.join([('(%s)' % x) for x in self])\n",
    "    \n",
    "    def build(self, X):\n",
    "        for a in X:\n",
    "            self.insert_last(a)\n",
    "    \n",
    "    #def get_at(self, i):\n",
    "    #    node = self.head.later_node(i)\n",
    "    #    return node.item\n",
    "\n",
    "    #def set_at(self, i, x):\n",
    "    #    node = self.head.later_node(i)\n",
    "    #    node.item = x\n",
    "\n",
    "\n",
    "\n",
    "    def insert_last(self, x):\n",
    "        new_node = QueueNode(x)\n",
    "        if self.tail is None:\n",
    "            self.head = new_node\n",
    "            self.tail = new_node\n",
    "        else:\n",
    "            new_node.prev = self.tail\n",
    "            self.tail.next = new_node\n",
    "            self.tail = new_node\n",
    "\n",
    "    def delete_first(self):\n",
    "        \"\"\" deletes first Node and returns item of this Node\"\"\"\n",
    "        if self.head == None:\n",
    "            print('Empty Queue. Nothing to delete')\n",
    "            return None\n",
    "        x = self.head.item #not elegant, implement getter method\n",
    "        if self.tail == self.head: \n",
    "            self.tail = None \n",
    "            self.head = None\n",
    "        else: \n",
    "            self.head = self.head.next\n",
    "            self.head.prev = None\n",
    "        return x\n",
    "\n",
    "\n"
   ]
  },
  {
   "cell_type": "code",
   "execution_count": 37,
   "id": "04e3f582",
   "metadata": {},
   "outputs": [
    {
     "name": "stdout",
     "output_type": "stream",
     "text": [
      "Empty Queue. Nothing to delete\n"
     ]
    }
   ],
   "source": [
    "#test \n",
    "queue = Queue()\n",
    "queue.build([1, 6, 10])\n",
    "for i in range(4): \n",
    "    queue.delete_first()"
   ]
  },
  {
   "cell_type": "markdown",
   "id": "5fdc40d6",
   "metadata": {},
   "source": [
    "Nun überlege doch mal, wie viele Operationen du benötigt hast, für\n",
    "- insert_last \n",
    "- delete_first \n",
    "\n",
    "Ist die Anzahl der Operationen abhängig von der Länge der Liste? Schreibe deine Kommentare in die folgende Zelle. Was sagt das über die Effizienz aus? Vergleiche sie auch mit der Effizienz der Python Liste, die ja als dynamischer Array implementiert ist. "
   ]
  },
  {
   "cell_type": "code",
   "execution_count": 39,
   "id": "2e8d5e86",
   "metadata": {},
   "outputs": [],
   "source": [
    "#Lösung \n",
    "#O(1) sowohl für insert_last als auch für delete_first\n",
    "#bei Python-List: O(1) für insert_last, aber O(n) für delete first (weil alle items einen Platz nach vorne rutschen)"
   ]
  },
  {
   "cell_type": "markdown",
   "id": "efa44c50",
   "metadata": {},
   "source": [
    "### Nodes aus der Mitte entfernen oder in die Mitte einfügen "
   ]
  },
  {
   "cell_type": "markdown",
   "id": "e42dbc82",
   "metadata": {},
   "source": [
    "Stell dir nun einmal vor, der Geschäftsführer deiner Firma entscheidet sich, besonders gute Aufträge prioritär zu behandeln. In Zukunft soll hierfür eine separate Queue eingeführt werden. Weil das System neu ist, soll aber kurzfristig deine bestehende Queue umsortiert werden. \n",
    "Das heißt, dass spezielle Aufträge nun sofort bearbeitet werden sollen. Implementiere hierzu noch die Methoden \n",
    "get_at(i), sowie delete_at(i). "
   ]
  },
  {
   "cell_type": "code",
   "execution_count": null,
   "id": "e0a43425",
   "metadata": {},
   "outputs": [],
   "source": [
    "class Queue:\n",
    "    def __init__(self):\n",
    "        self.head = None\n",
    "        self.tail = None\n",
    "\n",
    "    def __iter__(self):\n",
    "        node = self.head\n",
    "        while node:\n",
    "            yield node.item\n",
    "            node = node.next\n",
    "\n",
    "    def __str__(self):\n",
    "        return '-'.join([('(%s)' % x) for x in self])\n",
    "    \n",
    "    def build(self, X):\n",
    "        for a in X:\n",
    "            self.insert_last(a)\n",
    "    \n",
    "    def get_at(self, i):\n",
    "        #node = self.head.later_node(i)\n",
    "        #return node.item\n",
    "        pass\n",
    "        #TO DO\n",
    "        \n",
    "    def delete_at(self, i): \n",
    "        \"\"\" deletes node at index position i and returns deleted item\"\"\"\n",
    "        node_i = self.get_at(i) #returns QueueNode Object \n",
    "        if node_i == self.head: \n",
    "            self.delete_first()\n",
    "        elif node_i == self.tail: \n",
    "            self.tail = node_i.previous\n",
    "        else: \n",
    "            node_i.next.previous = node_i.previous\n",
    "            node_i.prev.next = node_i.next\n",
    "        #CHECK\n",
    "        return node_i.item \n",
    "        \n",
    "\n",
    "    def insert_last(self, x):\n",
    "        new_node = QueueNode(x)\n",
    "        if self.tail is None:\n",
    "            self.head = new_node\n",
    "            self.tail = new_node\n",
    "        else:\n",
    "            new_node.prev = self.tail\n",
    "            self.tail.next = new_node\n",
    "            self.tail = new_node\n",
    "\n",
    "    def delete_first(self):\n",
    "        \"\"\" deletes first Node and returns item of this Node\"\"\"\n",
    "        if self.head == None:\n",
    "            print('Empty Queue. Nothing to delete')\n",
    "            return None\n",
    "        x = self.head.item #not elegant, implement getter method\n",
    "        if self.tail == self.head: \n",
    "            self.tail = None \n",
    "            self.head = None\n",
    "        else: \n",
    "            self.head = self.head.next\n",
    "            self.head.prev = None\n",
    "        return x\n",
    "\n"
   ]
  },
  {
   "cell_type": "markdown",
   "id": "fbf4c48a",
   "metadata": {},
   "source": [
    "Note: in Python ist collections.deque() eine Doubly Linked List, ausserdem ist in der Bibliothek auch eine Priority Queue eingebaut. "
   ]
  },
  {
   "cell_type": "code",
   "execution_count": 40,
   "id": "6f58c300",
   "metadata": {},
   "outputs": [],
   "source": [
    "#get_at needs iteration (for-loop) or recursion"
   ]
  },
  {
   "cell_type": "code",
   "execution_count": null,
   "id": "1bb7b23e",
   "metadata": {},
   "outputs": [],
   "source": []
  }
 ],
 "metadata": {
  "kernelspec": {
   "display_name": "Python 3 (ipykernel)",
   "language": "python",
   "name": "python3"
  },
  "language_info": {
   "codemirror_mode": {
    "name": "ipython",
    "version": 3
   },
   "file_extension": ".py",
   "mimetype": "text/x-python",
   "name": "python",
   "nbconvert_exporter": "python",
   "pygments_lexer": "ipython3",
   "version": "3.8.10"
  }
 },
 "nbformat": 4,
 "nbformat_minor": 5
}
