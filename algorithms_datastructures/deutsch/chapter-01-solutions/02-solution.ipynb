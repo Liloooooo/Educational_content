{
  "cells": [
    {
      "cell_type": "markdown",
      "id": "8c595f67-c5ef-4033-ad59-2dba8ca7ea87",
      "metadata": {
        "cell_content_type": "markdown_default",
        "changed": false,
        "deletable": false,
        "editable": false,
        "original-content": "# Linked Lists (L\u00f6sung)\nModul Algorithmen & Datenstrukturen | Kapitel 1 | Notebook 2\n\n***\nIn der Textlektion haben wir gesehen, dass sich die Datenstruktur Linked List gut zur Implementierung einer Warteschleife eignet. In diesem Notebook werden wir sie implementieren. Nach dieser \u00dcbung kannst du: \n\n* eine Warteschleife implementieren, die ihre Kernaufgaben in konstanter Laufzeit erledigt. \n\n***",
        "protected": false,
        "selectable": false
      },
      "source": [
        "# Linked Lists (L\u00f6sung)\n",
        "Modul Algorithmen & Datenstrukturen | Kapitel 1 | Notebook 2\n",
        "\n",
        "***\n",
        "In der Textlektion haben wir gesehen, dass sich die Datenstruktur Linked List gut zur Implementierung einer Warteschleife eignet. In diesem Notebook werden wir sie implementieren. Nach dieser \u00dcbung kannst du: \n",
        "\n",
        "* eine Warteschleife implementieren, die ihre Kernaufgaben in konstanter Laufzeit erledigt. \n",
        "\n",
        "***"
      ]
    },
    {
      "cell_type": "markdown",
      "id": "901da4b5-6ea1-4f5b-909e-c879520776d6",
      "metadata": {
        "cell_content_type": "markdown_default",
        "changed": false,
        "deletable": false,
        "editable": false,
        "messageType": "szenario",
        "original-content": "**Szenario:**\nBei einem Online-Versandh\u00e4ndler werden eingehende Auftr\u00e4ge sukzessive abgearbeitet. Geht ein Auftrag ein, wird er in eine Warteschleife gestellt. Wechselt der Auftrag in den Bearbeitungsstatus, so wird er aus der Warteschleife entfernt und in ein Bearbeitungssystem verschoben. Die bisher verwendete L\u00f6sung nutzte f\u00fcr die Aufgabe eine Python-Liste. Inzwischen werden jedoch immer \u00f6fter Effizienzprobleme offenbar, so dass eine alternative Implementierung ben\u00f6tigt wird. Die Gesch\u00e4ftsf\u00fchrung bittet dich, Code f\u00fcr die Warteschleife zur Verf\u00fcgung zu stellen. ",
        "protected": false,
        "selectable": false,
        "tags": []
      },
      "source": [
        "**Szenario:**\n",
        "Bei einem Online-Versandh\u00e4ndler werden eingehende Auftr\u00e4ge sukzessive abgearbeitet. Geht ein Auftrag ein, wird er in eine Warteschleife gestellt. Wechselt der Auftrag in den Bearbeitungsstatus, so wird er aus der Warteschleife entfernt und in ein Bearbeitungssystem verschoben. Die bisher verwendete L\u00f6sung nutzte f\u00fcr die Aufgabe eine Python-Liste. Inzwischen werden jedoch immer \u00f6fter Effizienzprobleme offenbar, so dass eine alternative Implementierung ben\u00f6tigt wird. Die Gesch\u00e4ftsf\u00fchrung bittet dich, Code f\u00fcr die Warteschleife zur Verf\u00fcgung zu stellen. "
      ]
    },
    {
      "cell_type": "markdown",
      "id": "3203f643-b2fe-43fd-9a79-15958debd79d",
      "metadata": {
        "cell_content_type": "markdown_selectable",
        "changed": false,
        "deletable": false,
        "editable": false,
        "original-content": "In der vorigen Textlektion haben wir uns zwei alternative sequenzielle Datenstrukturen angesehen: Das Array und die Linked List. Wir haben beider Laufzeitkomplexit\u00e4ten im Hinblick auf die Kernaufgaben der Warteschleife analysiert. Die beiden Kernaufgaben sind: \n\n1. Geht ein Auftrag ein, so wird am Ende ein Datenpunkt eingef\u00fcgt. \n2. Wechselt ein Auftrag in den Bearbeitungsstatus, so wird er vom Anfang der Warteschleife entfernt. \n\nWir haben gesehen, dass die Linked List beide Aufgaben in konstanter Laufzeit erledigen kann, wenn wir sie, zus\u00e4tzlich zu dem ohnehin vorgesehenen *head*-Pointer, mit einem *tail*-Pointer versehen. Das Array hingegen kommt sehr viel weniger gut mit der zweiten Aufgabe zurecht.\nW\u00e4hrend das Array mit dem eingebauten Datentyp `list` in Python sehr prominent vertreten ist, hat die Linked List keinen \u00e4hnlich bekannten Vertreter. In diesem Notebook wollen wir sie f\u00fcr unser Warteschleifenbeispiel implementieren. \n\nHierzu legen wir eine Klasse `LLQueue` mit *head-* und *tail*-Pointer als Attributen an. \nWir werden sie im Verlauf dieser \u00dcbung mit den Methoden `delete_first()` und `insert_last()` ausstatten. \nF\u00fcr die Auftr\u00e4ge legen wir zus\u00e4tzlich eine Klasse `LinkedNode` an. Die gesamte Linked List wird durch die *next*-Pointer in `LinkedNode` zusammengehalten, die wiederum nichts anderes sind als deren Attribute. Wir definieren die Docstrings entsprechend folgenderma\u00dfen: ",
        "protected": false,
        "selectable": true
      },
      "source": [
        "In der vorigen Textlektion haben wir uns zwei alternative sequenzielle Datenstrukturen angesehen: Das Array und die Linked List. Wir haben beider Laufzeitkomplexit\u00e4ten im Hinblick auf die Kernaufgaben der Warteschleife analysiert. Die beiden Kernaufgaben sind: \n",
        "\n",
        "1. Geht ein Auftrag ein, so wird am Ende ein Datenpunkt eingef\u00fcgt. \n",
        "2. Wechselt ein Auftrag in den Bearbeitungsstatus, so wird er vom Anfang der Warteschleife entfernt. \n",
        "\n",
        "Wir haben gesehen, dass die Linked List beide Aufgaben in konstanter Laufzeit erledigen kann, wenn wir sie, zus\u00e4tzlich zu dem ohnehin vorgesehenen *head*-Pointer, mit einem *tail*-Pointer versehen. Das Array hingegen kommt sehr viel weniger gut mit der zweiten Aufgabe zurecht.\n",
        "W\u00e4hrend das Array mit dem eingebauten Datentyp `list` in Python sehr prominent vertreten ist, hat die Linked List keinen \u00e4hnlich bekannten Vertreter. In diesem Notebook wollen wir sie f\u00fcr unser Warteschleifenbeispiel implementieren. \n",
        "\n",
        "Hierzu legen wir eine Klasse `LLQueue` mit *head-* und *tail*-Pointer als Attributen an. \n",
        "Wir werden sie im Verlauf dieser \u00dcbung mit den Methoden `delete_first()` und `insert_last()` ausstatten. \n",
        "F\u00fcr die Auftr\u00e4ge legen wir zus\u00e4tzlich eine Klasse `LinkedNode` an. Die gesamte Linked List wird durch die *next*-Pointer in `LinkedNode` zusammengehalten, die wiederum nichts anderes sind als deren Attribute. Wir definieren die Docstrings entsprechend folgenderma\u00dfen: "
      ]
    },
    {
      "cell_type": "markdown",
      "id": "c39db337-cfbf-4870-ba54-b34be5d232da",
      "metadata": {
        "cell_content_type": "markdown_selectable",
        "changed": false,
        "deletable": false,
        "editable": false,
        "original-content": "```python\nclass LLQueue:\n    \"\"\"\n    A queue implemented as a linked list.\n\n    Attributes:\n        head (LinkedNode): Head node of linked list. Defaults to None. \n        tail (LinkedNode): Tail node of linked list. Defaults to None. \n        \n    \"\"\"\n    \nclass LinkedNode:\n    \"\"\"\n    A node in a linked list.\n    \n    Args: \n        order_id (int): a unique id that is assigned to a specific order. \n        **kwargs: additional data to be stored for an order.\n\n    Attributes:\n        order_id (int): a unique id that is assigned to a specific order.\n        order_info (dict): additional data to be stored for an order. Defaults to {}.\n        next (LinkedNode): next node. Defaults to None. \n    \"\"\"\n    \n\n```",
        "protected": false,
        "selectable": true
      },
      "source": [
        "```python\n",
        "class LLQueue:\n",
        "    \"\"\"\n",
        "    A queue implemented as a linked list.\n",
        "\n",
        "    Attributes:\n",
        "        head (LinkedNode): Head node of linked list. Defaults to None. \n",
        "        tail (LinkedNode): Tail node of linked list. Defaults to None. \n",
        "        \n",
        "    \"\"\"\n",
        "    \n",
        "class LinkedNode:\n",
        "    \"\"\"\n",
        "    A node in a linked list.\n",
        "    \n",
        "    Args: \n",
        "        order_id (int): a unique id that is assigned to a specific order. \n",
        "        **kwargs: additional data to be stored for an order.\n",
        "\n",
        "    Attributes:\n",
        "        order_id (int): a unique id that is assigned to a specific order.\n",
        "        order_info (dict): additional data to be stored for an order. Defaults to {}.\n",
        "        next (LinkedNode): next node. Defaults to None. \n",
        "    \"\"\"\n",
        "    \n",
        "\n",
        "```"
      ]
    },
    {
      "cell_type": "markdown",
      "id": "d19ddf2e-50cd-49a9-ac74-703355a8932d",
      "metadata": {
        "cell_content_type": "markdown_selectable",
        "changed": false,
        "deletable": false,
        "editable": false,
        "original-content": "Zu jedem Auftrag - jeder Instanz von `LinkedNode` - k\u00f6nnen zus\u00e4tzlich zu der ganzzahligen Auftragsnummer weitere Informationen, wie Zahlungsmethode oder die Anzahl der bestellten Produkte, abgespeichert werden.\nIn `LinkedNode` werden sie im Attribut `order_info` als `dict` abgespeichert. \nNimm zur \u00dcbung an, dass die bearbeitende Person diese zus\u00e4tzlichen Informationen als Variablen eingibt und nicht in Form eines `dict`. Anders ausgedr\u00fcckt: Nutze die `**kwargs`, so rufst du dir ihre Funktionsweise nochmal in Erinnerung. ",
        "protected": false,
        "selectable": true
      },
      "source": [
        "Zu jedem Auftrag - jeder Instanz von `LinkedNode` - k\u00f6nnen zus\u00e4tzlich zu der ganzzahligen Auftragsnummer weitere Informationen, wie Zahlungsmethode oder die Anzahl der bestellten Produkte, abgespeichert werden.\n",
        "In `LinkedNode` werden sie im Attribut `order_info` als `dict` abgespeichert. \n",
        "Nimm zur \u00dcbung an, dass die bearbeitende Person diese zus\u00e4tzlichen Informationen als Variablen eingibt und nicht in Form eines `dict`. Anders ausgedr\u00fcckt: Nutze die `**kwargs`, so rufst du dir ihre Funktionsweise nochmal in Erinnerung. "
      ]
    },
    {
      "cell_type": "markdown",
      "id": "906ae3ee-c6da-40a4-a9fd-29321df40f16",
      "metadata": {
        "cell_content_type": "markdown_selectable",
        "changed": false,
        "deletable": false,
        "editable": false,
        "original-content": "##### <font color=\"#3399DB\">Aufgabe 1</font>\n> Implementiere die Warteschleife als Linked List f\u00fcr das Anwendungsbeispiel.\n> Nutze die vorgebenen Docstrings und erstelle ein Skript mit dem Namen *linkedlist.py*.\n> \u00dcberpr\u00fcfe deinen Code anschlie\u00dfend anhand der vorbereiteten Unit Tests.\n> Wenn du m\u00f6chtest, kannst du wie immer die leere Codezelle nutzen, um deinen Code zu entwerfen. ",
        "selectable": true
      },
      "source": [
        "##### <font color=\"#3399DB\">Aufgabe 1</font>\n",
        "> Implementiere die Warteschleife als Linked List f\u00fcr das Anwendungsbeispiel.\n",
        "> Nutze die vorgebenen Docstrings und erstelle ein Skript mit dem Namen *linkedlist.py*.\n",
        "> \u00dcberpr\u00fcfe deinen Code anschlie\u00dfend anhand der vorbereiteten Unit Tests.\n",
        "> Wenn du m\u00f6chtest, kannst du wie immer die leere Codezelle nutzen, um deinen Code zu entwerfen. "
      ]
    },
    {
      "cell_type": "code",
      "execution_count": 1,
      "id": "69f7306c-98c7-42c6-bd85-b89ec4c1292e",
      "metadata": {
        "cell_content_type": "code_user",
        "changed": false,
        "deletable": false,
        "editable": true,
        "hint": "Um die `**kwargs` innerhalb einer Funktion zu nutzen, kannst du sie einfach einer Variablen zuweisen: `var=kwargs`. Dabei hat `var` dann den Datentyp `dict`.",
        "hint_counter": 0,
        "original-content": "#L\u00f6sung \nclass LLQueue:\n    \"\"\"\n    A queue implemented as a linked list.\n\n    Attributes:\n        head (LinkedNode): Head node of linked list. Defaults to None. \n        tail (LinkedNode): Tail node of linked list. Defaults to None. \n        \n    \"\"\"\n    \n    def __init__(self): \n        self.head = None \n        self.tail = None \n\n            \nclass LinkedNode:\n    \"\"\"\n    A node in a linked list.\n    \n    Args: \n        order_id (int): a unique id that is assigned to a specific order. \n        **kwargs: additional data to be stored for an order.\n\n    Attributes:\n        order_id (int): a unique id that is assigned to a specific order.\n        order_info (dict): additional data to be stored for an order. Defaults to {}.\n        next (LinkedNode): next node. Defaults to None. \n    \"\"\"\n    \n    def __init__(self, order_id, **kwargs): \n        assert isinstance(order_id, int), 'order_id must be an integer'\n        self.order_id = order_id\n        self.order_info = kwargs\n        self.next = None",
        "protected": false,
        "selectable": true,
        "tags": []
      },
      "outputs": [],
      "source": [
        "#L\u00f6sung \n",
        "class LLQueue:\n",
        "    \"\"\"\n",
        "    A queue implemented as a linked list.\n",
        "\n",
        "    Attributes:\n",
        "        head (LinkedNode): Head node of linked list. Defaults to None. \n",
        "        tail (LinkedNode): Tail node of linked list. Defaults to None. \n",
        "        \n",
        "    \"\"\"\n",
        "    \n",
        "    def __init__(self): \n",
        "        self.head = None \n",
        "        self.tail = None \n",
        "\n",
        "            \n",
        "class LinkedNode:\n",
        "    \"\"\"\n",
        "    A node in a linked list.\n",
        "    \n",
        "    Args: \n",
        "        order_id (int): a unique id that is assigned to a specific order. \n",
        "        **kwargs: additional data to be stored for an order.\n",
        "\n",
        "    Attributes:\n",
        "        order_id (int): a unique id that is assigned to a specific order.\n",
        "        order_info (dict): additional data to be stored for an order. Defaults to {}.\n",
        "        next (LinkedNode): next node. Defaults to None. \n",
        "    \"\"\"\n",
        "    \n",
        "    def __init__(self, order_id, **kwargs): \n",
        "        assert isinstance(order_id, int), 'order_id must be an integer'\n",
        "        self.order_id = order_id\n",
        "        self.order_info = kwargs\n",
        "        self.next = None"
      ]
    },
    {
      "cell_type": "code",
      "execution_count": 1,
      "id": "5eebdf3f-33b8-43a5-aafe-5c7942ebbb2d",
      "metadata": {
        "cell_content_type": "code_demo",
        "changed": false,
        "deletable": false,
        "editable": true,
        "hint": "Wenn du willst, kannst du diese Codezelle gern im Forum unter *Linked Lists* diskutieren.",
        "hint_counter": 0,
        "original-content": "!pytest test_linkedlist.py::test_node_init test_linkedlist.py::test_node_init_errors",
        "protected": false,
        "selectable": true,
        "tags": []
      },
      "outputs": [
        {
          "name": "stdout",
          "output_type": "stream",
          "text": [
            "\u001b[1m============================= test session starts ==============================\u001b[0m\n",
            "platform linux -- Python 3.8.10, pytest-6.2.4, py-1.11.0, pluggy-0.13.1\n",
            "rootdir: /home/jovyan/work/pyprog/stackfuel-python-programmer-product-de/module-05/chapter-01-solutions\n",
            "plugins: anyio-3.5.0\n",
            "collected 2 items                                                              \u001b[0m\n",
            "\n",
            "test_linkedlist.py \u001b[32m.\u001b[0m\u001b[32m.\u001b[0m\u001b[32m                                                    [100%]\u001b[0m\n",
            "\n",
            "\u001b[32m============================== \u001b[32m\u001b[1m2 passed\u001b[0m\u001b[32m in 0.08s\u001b[0m\u001b[32m ===============================\u001b[0m\n"
          ]
        }
      ],
      "source": [
        "!pytest test_linkedlist.py::test_node_init test_linkedlist.py::test_node_init_errors"
      ]
    },
    {
      "cell_type": "markdown",
      "id": "bb8a3c3e-51f5-4319-bc67-b0df172c2723",
      "metadata": {
        "cell_content_type": "markdown_default",
        "changed": false,
        "deletable": false,
        "editable": false,
        "original-content": "Das Grundger\u00fcst f\u00fcr unsere Warteschleife einschlie\u00dflich aller vorgesehenen Pointer steht nun.  \nDie bearbeitende Person kann alle relevanten Informationen zu einem Auftrag abspeichern, und es ist sichergestellt, dass die Auftragsnummer ein ganzzahliger Wert ist. Wir k\u00f6nnen uns nun darum k\u00fcmmern, unsere Datenstruktur mit Methoden auszustatten. ",
        "selectable": false
      },
      "source": [
        "Das Grundger\u00fcst f\u00fcr unsere Warteschleife einschlie\u00dflich aller vorgesehenen Pointer steht nun.  \n",
        "Die bearbeitende Person kann alle relevanten Informationen zu einem Auftrag abspeichern, und es ist sichergestellt, dass die Auftragsnummer ein ganzzahliger Wert ist. Wir k\u00f6nnen uns nun darum k\u00fcmmern, unsere Datenstruktur mit Methoden auszustatten. "
      ]
    },
    {
      "cell_type": "markdown",
      "id": "026a49ad-a266-4072-822a-1b7a68acadf5",
      "metadata": {
        "cell_content_type": "markdown_default",
        "changed": false,
        "deletable": false,
        "editable": false,
        "original-content": "## Ein Element an der letzten Stelle einf\u00fcgen ",
        "protected": false,
        "selectable": false
      },
      "source": [
        "## Ein Element an der letzten Stelle einf\u00fcgen "
      ]
    },
    {
      "cell_type": "markdown",
      "id": "a16ee0c7-9024-4182-bc0b-a7d77a649276",
      "metadata": {
        "cell_content_type": "markdown_selectable",
        "changed": false,
        "deletable": false,
        "editable": false,
        "original-content": "Zun\u00e4chst werden wir uns `insert_last()` zuwenden. Mithilfe der Methode werden neu eingehende Auftr\u00e4ge von der bearbeitenden Person beziehungsweise vom System in unsere Warteschleife eingestellt. Wir haben in der Textlektion gesehen, dass die Laufzeitkomplexit\u00e4t der Methode dank des *tail*-Pointers konstant ist. Das hei\u00dft, die Implementierung sollte ohne Schleifen oder Rekursionen auskommen. ",
        "protected": false,
        "selectable": true
      },
      "source": [
        "Zun\u00e4chst werden wir uns `insert_last()` zuwenden. Mithilfe der Methode werden neu eingehende Auftr\u00e4ge von der bearbeitenden Person beziehungsweise vom System in unsere Warteschleife eingestellt. Wir haben in der Textlektion gesehen, dass die Laufzeitkomplexit\u00e4t der Methode dank des *tail*-Pointers konstant ist. Das hei\u00dft, die Implementierung sollte ohne Schleifen oder Rekursionen auskommen. "
      ]
    },
    {
      "cell_type": "markdown",
      "id": "e31f476b-9ab6-4a1e-b4e5-5c1a27c19519",
      "metadata": {
        "cell_content_type": "markdown_selectable",
        "changed": false,
        "deletable": false,
        "editable": false,
        "original-content": "```python\ndef insert_last(self, data)    \n    \"\"\"\n    Insert a new node at the last position of the queue. \n        \n    Args: \n        data (LinkedNode): the node to be appended. \n        \n    Returns: \n        None \n        \n    \"\"\"\n```",
        "protected": false,
        "selectable": true
      },
      "source": [
        "```python\n",
        "def insert_last(self, data)    \n",
        "    \"\"\"\n",
        "    Insert a new node at the last position of the queue. \n",
        "        \n",
        "    Args: \n",
        "        data (LinkedNode): the node to be appended. \n",
        "        \n",
        "    Returns: \n",
        "        None \n",
        "        \n",
        "    \"\"\"\n",
        "```"
      ]
    },
    {
      "cell_type": "markdown",
      "id": "af3fd300-1a1d-4049-8c20-d320d99bfc89",
      "metadata": {
        "cell_content_type": "markdown_selectable",
        "changed": false,
        "deletable": false,
        "editable": false,
        "original-content": "##### <font color=\"#3399DB\">Aufgabe 2</font>\n> Implementiere `insert_last()` in der Klasse `LLQueue` in $O(1)$. Schreibe deinen Code in das bereits angelegte Skript *linkedlist.py*. Nutze anschlie\u00dfend wieder die vorbereiteten Unit Tests, um deinen Code zu \u00fcberpr\u00fcfen. Die leere Zelle kannst du wieder nutzen, um deinen Code zu entwerfen.   ",
        "protected": false,
        "selectable": true
      },
      "source": [
        "##### <font color=\"#3399DB\">Aufgabe 2</font>\n",
        "> Implementiere `insert_last()` in der Klasse `LLQueue` in $O(1)$. Schreibe deinen Code in das bereits angelegte Skript *linkedlist.py*. Nutze anschlie\u00dfend wieder die vorbereiteten Unit Tests, um deinen Code zu \u00fcberpr\u00fcfen. Die leere Zelle kannst du wieder nutzen, um deinen Code zu entwerfen.   "
      ]
    },
    {
      "cell_type": "code",
      "execution_count": 6,
      "id": "62faf4ac-676b-43a8-b681-ba837633c5b6",
      "metadata": {
        "cell_content_type": "code_user",
        "changed": false,
        "deletable": false,
        "editable": true,
        "hint": "Denke daran, dich um `tail` zu k\u00fcmmern. Jedes Mal, wenn wir ein Element am Ende hinzuf\u00fcgen, muss er angepasst werden. Den *next*-Pointer des ehemals letzten Elements solltest du ebenfalls \u00e4ndern. ",
        "hint_counter": 0,
        "original-content": "#L\u00f6sung \nclass LLQueue:\n    \"\"\"\n    A queue implemented as a linked list.\n\n    Attributes:\n        head (LinkedNode): Head node of linked list. Defaults to None. \n        tail (LinkedNode): Tail node of linked list. Defaults to None. \n        \n    \"\"\"\n    \n    def __init__(self): \n        self.head = None \n        self.tail = None \n        \n    def insert_last(self, data): \n        \"\"\"\n        Insert a new node at the last position of the queue. \n        \n        Args: \n            data (LinkedNode): the node to be appended. \n        \n        Returns: \n            None \n            \n        \"\"\"\n        \n        assert isinstance(data, LinkedNode) \n        if self.tail is None: #queue empty\n            self.tail, self.head = data, data #set head and tail to new order \n        else: #queue not empty\n            self.tail.next = data #set next pointer of previous tail \n            self.tail = data #then adjust tail pointer\n            ",
        "protected": false,
        "selectable": true,
        "tags": []
      },
      "outputs": [],
      "source": [
        "#L\u00f6sung \n",
        "class LLQueue:\n",
        "    \"\"\"\n",
        "    A queue implemented as a linked list.\n",
        "\n",
        "    Attributes:\n",
        "        head (LinkedNode): Head node of linked list. Defaults to None. \n",
        "        tail (LinkedNode): Tail node of linked list. Defaults to None. \n",
        "        \n",
        "    \"\"\"\n",
        "    \n",
        "    def __init__(self): \n",
        "        self.head = None \n",
        "        self.tail = None \n",
        "        \n",
        "    def insert_last(self, data): \n",
        "        \"\"\"\n",
        "        Insert a new node at the last position of the queue. \n",
        "        \n",
        "        Args: \n",
        "            data (LinkedNode): the node to be appended. \n",
        "        \n",
        "        Returns: \n",
        "            None \n",
        "            \n",
        "        \"\"\"\n",
        "        \n",
        "        assert isinstance(data, LinkedNode) \n",
        "        if self.tail is None: #queue empty\n",
        "            self.tail, self.head = data, data #set head and tail to new order \n",
        "        else: #queue not empty\n",
        "            self.tail.next = data #set next pointer of previous tail \n",
        "            self.tail = data #then adjust tail pointer\n",
        "            "
      ]
    },
    {
      "cell_type": "code",
      "execution_count": 40,
      "id": "c7a992c1-313f-4bb5-8201-fcb9337d6e3f",
      "metadata": {
        "cell_content_type": "code_demo",
        "changed": false,
        "deletable": false,
        "editable": true,
        "hint": "Wenn du willst, kannst du diese Codezelle gern im Forum unter *Linked Lists* diskutieren.",
        "original-content": "!pytest test_linkedlist.py::test_insert_last test_linkedlist.py::test_insert_last_errors\n    ",
        "protected": false,
        "selectable": true
      },
      "outputs": [
        {
          "name": "stdout",
          "output_type": "stream",
          "text": [
            "\u001b[1m============================= test session starts ==============================\u001b[0m\n",
            "platform linux -- Python 3.8.10, pytest-6.2.4, py-1.11.0, pluggy-0.13.1\n",
            "rootdir: /home/jovyan/work/pyprog/stackfuel-python-programmer-product-de/module-05/chapter-01-solutions\n",
            "plugins: anyio-3.5.0\n",
            "collected 2 items                                                              \u001b[0m\n",
            "\n",
            "test_linkedlist.py \u001b[32m.\u001b[0m\u001b[32m.\u001b[0m\u001b[32m                                                    [100%]\u001b[0m\n",
            "\n",
            "\u001b[32m============================== \u001b[32m\u001b[1m2 passed\u001b[0m\u001b[32m in 0.05s\u001b[0m\u001b[32m ===============================\u001b[0m\n"
          ]
        }
      ],
      "source": [
        "!pytest test_linkedlist.py::test_insert_last test_linkedlist.py::test_insert_last_errors\n",
        "    "
      ]
    },
    {
      "cell_type": "markdown",
      "id": "fad7bbe6-2b5e-461a-b2fc-082d5d72427a",
      "metadata": {
        "cell_content_type": "markdown_selectable",
        "changed": false,
        "deletable": false,
        "editable": false,
        "original-content": "Mit der Methode `insert_last()` k\u00f6nnen bearbeitende Personen beziehungsweise das System nun neu eingehende Auftr\u00e4ge in die Warteschleife einstellen. Sowohl der *next*-Pointer des ehemals letzten Auftrags als auch der *tail*-Pointer der Struktur werden in der Methode angepasst. Im n\u00e4chsten Schritt werden wir uns der zweiten Kernaufgabe der Warteschleife zuwenden. ",
        "selectable": true
      },
      "source": [
        "Mit der Methode `insert_last()` k\u00f6nnen bearbeitende Personen beziehungsweise das System nun neu eingehende Auftr\u00e4ge in die Warteschleife einstellen. Sowohl der *next*-Pointer des ehemals letzten Auftrags als auch der *tail*-Pointer der Struktur werden in der Methode angepasst. Im n\u00e4chsten Schritt werden wir uns der zweiten Kernaufgabe der Warteschleife zuwenden. "
      ]
    },
    {
      "cell_type": "markdown",
      "id": "ed9e406a-c6ce-4284-8a6f-f588ee9fca1d",
      "metadata": {
        "cell_content_type": "markdown_default",
        "changed": false,
        "deletable": false,
        "editable": false,
        "original-content": "## Ein Element am Anfang entfernen",
        "protected": false,
        "selectable": false
      },
      "source": [
        "## Ein Element am Anfang entfernen"
      ]
    },
    {
      "cell_type": "markdown",
      "id": "da739c85-852a-48a0-9998-1f6f1d65404d",
      "metadata": {
        "cell_content_type": "markdown_selectable",
        "changed": false,
        "deletable": false,
        "editable": false,
        "original-content": "Wechselt ein Auftrag in den Bearbeitungsstatus, muss er aus unserer Warteschleife entfernt werden. Das Element sollte au\u00dferdem ausgegeben werden, denn das System ben\u00f6tigt die Informationen, um den Auftrag weiter bearbeiten zu k\u00f6nnen. \nDie entsprechende Methode werden wir in unserer Klasse `LLQueue` implementieren. \n    \n```python \ndef delete_first(self): \n    \"\"\"\n    Delete first node. Print message if queue contains no elements, and nothing is deleted. \n\n    Returns: \n        Deleted node (LinkedNode), None if self was empty.  \n\n    \"\"\"\n``` \n\nIn der Textlektion haben wir bereits gesehen, dass auch das Entfernen des ersten Auftrags aus der Warteschleife eine konstante Laufzeitkomplexit\u00e4t hat. Wir m\u00fcssen lediglich den *head*-Pointer anpassen. ",
        "protected": false,
        "selectable": true
      },
      "source": [
        "Wechselt ein Auftrag in den Bearbeitungsstatus, muss er aus unserer Warteschleife entfernt werden. Das Element sollte au\u00dferdem ausgegeben werden, denn das System ben\u00f6tigt die Informationen, um den Auftrag weiter bearbeiten zu k\u00f6nnen. \n",
        "Die entsprechende Methode werden wir in unserer Klasse `LLQueue` implementieren. \n",
        "    \n",
        "```python \n",
        "def delete_first(self): \n",
        "    \"\"\"\n",
        "    Delete first node. Print message if queue contains no elements, and nothing is deleted. \n",
        "\n",
        "    Returns: \n",
        "        Deleted node (LinkedNode), None if self was empty.  \n",
        "\n",
        "    \"\"\"\n",
        "``` \n",
        "\n",
        "In der Textlektion haben wir bereits gesehen, dass auch das Entfernen des ersten Auftrags aus der Warteschleife eine konstante Laufzeitkomplexit\u00e4t hat. Wir m\u00fcssen lediglich den *head*-Pointer anpassen. "
      ]
    },
    {
      "cell_type": "markdown",
      "id": "0403dad8-1d53-454d-a64e-9716277dbd48",
      "metadata": {
        "cell_content_type": "markdown_selectable",
        "changed": false,
        "deletable": false,
        "editable": false,
        "original-content": "##### <font color=\"#3399DB\">Aufgabe 3</font>\n> Implementiere `delete_first()` in $O(1)$. F\u00fcge die Methode deiner Klasse `LLQueue` im Skript *linkedlist.py* hinzu. Die leere Codezelle kannst du wieder nutzen, um deinen Code zu entwerfen. \u00dcberpr\u00fcfe deinen Code wieder anhand der vorliegenden Unit Tests. ",
        "selectable": true
      },
      "source": [
        "##### <font color=\"#3399DB\">Aufgabe 3</font>\n",
        "> Implementiere `delete_first()` in $O(1)$. F\u00fcge die Methode deiner Klasse `LLQueue` im Skript *linkedlist.py* hinzu. Die leere Codezelle kannst du wieder nutzen, um deinen Code zu entwerfen. \u00dcberpr\u00fcfe deinen Code wieder anhand der vorliegenden Unit Tests. "
      ]
    },
    {
      "cell_type": "code",
      "execution_count": 2,
      "id": "191116f5-9e07-4176-a96f-4dc6d8d3a085",
      "metadata": {
        "cell_content_type": "code_user",
        "changed": false,
        "deletable": false,
        "editable": true,
        "hint": "Wenn du willst, kannst du diese Codezelle gern im Forum unter *Linked Lists* diskutieren.",
        "original-content": "#L\u00f6sung \nclass LLQueue:\n    \"\"\"\n    A queue implemented as a linked list.\n\n    Attributes:\n        head (LinkedNode): Head node of linked list. Defaults to None. \n        tail (LinkedNode): Tail node of linked list. Defaults to None. \n        \n    \"\"\"\n    \n    def __init__(self): \n        self.head = None \n        self.tail = None \n        \n    def insert_last(self, data): \n        \"\"\"\n        Insert a new node at the last position of the queue. \n        \n        Args: \n            data (LinkedNode): the node to be appended. \n        \n        Returns: \n            None \n            \n        \"\"\"\n        \n        assert isinstance(data, LinkedNode) \n        if self.tail is None: #queue empty\n            self.tail, self.head = data, data #set head and tail to new order \n        else: #queue not empty\n            self.tail.next = data #set next pointer of previous tail \n            self.tail = data #then adjust tail pointer\n            \n    \n            \n    def delete_first(self): \n        \"\"\"\n        Delete first node. Print message if queue contains no elements, and nothing is deleted. \n\n        Returns: \n            Deleted node (LinkedNode), None if self was empty.  \n\n        \"\"\"\n\n        if self.tail is None: \n            print('Queue contains no elements')\n            return None\n        pop = self.head\n        self.head = self.head.next \n        if self.head is None: \n            self.tail = None \n        return pop",
        "protected": false,
        "selectable": true
      },
      "outputs": [],
      "source": [
        "#L\u00f6sung \n",
        "class LLQueue:\n",
        "    \"\"\"\n",
        "    A queue implemented as a linked list.\n",
        "\n",
        "    Attributes:\n",
        "        head (LinkedNode): Head node of linked list. Defaults to None. \n",
        "        tail (LinkedNode): Tail node of linked list. Defaults to None. \n",
        "        \n",
        "    \"\"\"\n",
        "    \n",
        "    def __init__(self): \n",
        "        self.head = None \n",
        "        self.tail = None \n",
        "        \n",
        "    def insert_last(self, data): \n",
        "        \"\"\"\n",
        "        Insert a new node at the last position of the queue. \n",
        "        \n",
        "        Args: \n",
        "            data (LinkedNode): the node to be appended. \n",
        "        \n",
        "        Returns: \n",
        "            None \n",
        "            \n",
        "        \"\"\"\n",
        "        \n",
        "        assert isinstance(data, LinkedNode) \n",
        "        if self.tail is None: #queue empty\n",
        "            self.tail, self.head = data, data #set head and tail to new order \n",
        "        else: #queue not empty\n",
        "            self.tail.next = data #set next pointer of previous tail \n",
        "            self.tail = data #then adjust tail pointer\n",
        "            \n",
        "    \n",
        "            \n",
        "    def delete_first(self): \n",
        "        \"\"\"\n",
        "        Delete first node. Print message if queue contains no elements, and nothing is deleted. \n",
        "\n",
        "        Returns: \n",
        "            Deleted node (LinkedNode), None if self was empty.  \n",
        "\n",
        "        \"\"\"\n",
        "\n",
        "        if self.tail is None: \n",
        "            print('Queue contains no elements')\n",
        "            return None\n",
        "        pop = self.head\n",
        "        self.head = self.head.next \n",
        "        if self.head is None: \n",
        "            self.tail = None \n",
        "        return pop"
      ]
    },
    {
      "cell_type": "code",
      "execution_count": 5,
      "id": "15b81e4b-0974-4078-922f-e6377281ce41",
      "metadata": {
        "cell_content_type": "code_demo",
        "changed": false,
        "deletable": false,
        "editable": true,
        "hint": "Wenn du willst, kannst du diese Codezelle gern im Forum unter *Linked Lists* diskutieren.",
        "original-content": "!pytest test_linkedlist.py::test_delete_first",
        "protected": false,
        "selectable": true
      },
      "outputs": [
        {
          "name": "stdout",
          "output_type": "stream",
          "text": [
            "\u001b[1m============================= test session starts ==============================\u001b[0m\n",
            "platform linux -- Python 3.8.10, pytest-6.2.4, py-1.11.0, pluggy-0.13.1\n",
            "rootdir: /home/jovyan/work/pyprog/stackfuel-python-programmer-product-de/module-05/chapter-01-solutions\n",
            "plugins: anyio-3.5.0\n",
            "collected 1 item                                                               \u001b[0m\n",
            "\n",
            "test_linkedlist.py \u001b[32m.\u001b[0m\u001b[32m                                                     [100%]\u001b[0m\n",
            "\n",
            "\u001b[32m============================== \u001b[32m\u001b[1m1 passed\u001b[0m\u001b[32m in 0.05s\u001b[0m\u001b[32m ===============================\u001b[0m\n"
          ]
        }
      ],
      "source": [
        "!pytest test_linkedlist.py::test_delete_first"
      ]
    },
    {
      "cell_type": "markdown",
      "id": "bef8c1c9-6a1b-47c1-a2c0-f29b480d6d2f",
      "metadata": {
        "cell_content_type": "markdown_default",
        "changed": false,
        "deletable": false,
        "editable": false,
        "original-content": "Die Warteschleife kann nun ihre Kernaufgaben wahrnehmen. Neu eingehende Auftr\u00e4ge k\u00f6nnen eingestellt, in den Bearbeitungsstatus wechselnde vom Anfang entfernt werden. \n\nVielleicht fragst du dich, was mit dem entfernten Auftrag passiert ist. Besetzt er nicht weiterhin unn\u00f6tig Speicherplatz? \nTheoretisch sollten wir diesen Speicherplatz leeren. Praktischerweise m\u00fcssen wir uns darum in Python nicht k\u00fcmmern -- das macht ein eingebauter Garbage Collector f\u00fcr uns. Wenn du die Vertiefungsbox ausklappst, kannst du mehr \u00fcber ihn erfahren. ",
        "selectable": false
      },
      "source": [
        "Die Warteschleife kann nun ihre Kernaufgaben wahrnehmen. Neu eingehende Auftr\u00e4ge k\u00f6nnen eingestellt, in den Bearbeitungsstatus wechselnde vom Anfang entfernt werden. \n",
        "\n",
        "Vielleicht fragst du dich, was mit dem entfernten Auftrag passiert ist. Besetzt er nicht weiterhin unn\u00f6tig Speicherplatz? \n",
        "Theoretisch sollten wir diesen Speicherplatz leeren. Praktischerweise m\u00fcssen wir uns darum in Python nicht k\u00fcmmern -- das macht ein eingebauter Garbage Collector f\u00fcr uns. Wenn du die Vertiefungsbox ausklappst, kannst du mehr \u00fcber ihn erfahren. "
      ]
    },
    {
      "cell_type": "markdown",
      "id": "264ebfbd-367c-4b4a-9bca-661aa02fc3f8",
      "metadata": {
        "cell_content_type": "markdown_selectable",
        "changed": false,
        "deletable": false,
        "editable": false,
        "messageType": "vertiefung",
        "original-content": "**Vertiefung**: Pythons Garbage Collector. \n\n<div class=\"details\">\n\nPython verwaltet den Speicher automatisch \u00fcber seinen eingebauten Garbage Collector. Der Garbage Collector leert den Speicherplatz nicht mehr referenzierter Objekte. In einer Pointer-basierten Datenstruktur bedeutet das, dass Elemente, auf die kein Pointer zeigt, entfernt werden. In manchen anderen Programmiersprachen, wie beispielsweise `C`, muss der Speicher hingegen manuell verwaltet werden.  \nDer Garbage Collector in Python kann mittels des Moduls `gc` kontrolliert werden. Mit dem Modul `weakref` k\u00f6nnen wir manuell \u00fcberpr\u00fcfen, ob `delete_first()` den ersten Auftrag tats\u00e4chlich vom Speicher entfernt hat. Hier siehst du ein Minimalbeispiel: \n\n```python \nimport weakref \n\nqueue = LLQueue()\nnode1 = LinkedNode(1234)\nqueue.insert_last(node1)\nn1_ref = weakref.ref(node1)\ndel node1 #needed to delete reference to variable\nprint(n1_ref()) #prints reference from queue\nqueue.delete_first() \nprint(n1_ref()) #prints None\n```\n\nIn diesem Beispiel kreieren wir mit `weakref.ref()` eine schwache Referenz zu unserem Auftrag (`node1`). Der Aufruf dieser Referenz gibt uns das Objekt zur\u00fcck, sofern es existiert. L\u00f6schen wir nur `node1`, existiert der Auftrag immernoch - in `queue`. Entfernen wir es aber per `delete_first()` aus der Warteschleife, sollte es nicht mehr existieren. Der letzte `print`-Befehl gibt dann `None` aus. Wir k\u00f6nnen also sicher sein, dass das Objekt nicht mehr existiert. Der Umkehrschluss ist nicht notwendigerweise korrekt: Auch vom Garbage Collector entfernte Objekte k\u00f6nnen noch durch eine schwache Referenz identifizierbar sein. \n\n</div>",
        "selectable": true,
        "tags": []
      },
      "source": [
        "**Vertiefung**: Pythons Garbage Collector. \n",
        "\n",
        "<div class=\"details\">\n",
        "\n",
        "Python verwaltet den Speicher automatisch \u00fcber seinen eingebauten Garbage Collector. Der Garbage Collector leert den Speicherplatz nicht mehr referenzierter Objekte. In einer Pointer-basierten Datenstruktur bedeutet das, dass Elemente, auf die kein Pointer zeigt, entfernt werden. In manchen anderen Programmiersprachen, wie beispielsweise `C`, muss der Speicher hingegen manuell verwaltet werden.  \n",
        "Der Garbage Collector in Python kann mittels des Moduls `gc` kontrolliert werden. Mit dem Modul `weakref` k\u00f6nnen wir manuell \u00fcberpr\u00fcfen, ob `delete_first()` den ersten Auftrag tats\u00e4chlich vom Speicher entfernt hat. Hier siehst du ein Minimalbeispiel: \n",
        "\n",
        "```python \n",
        "import weakref \n",
        "\n",
        "queue = LLQueue()\n",
        "node1 = LinkedNode(1234)\n",
        "queue.insert_last(node1)\n",
        "n1_ref = weakref.ref(node1)\n",
        "del node1 #needed to delete reference to variable\n",
        "print(n1_ref()) #prints reference from queue\n",
        "queue.delete_first() \n",
        "print(n1_ref()) #prints None\n",
        "```\n",
        "\n",
        "In diesem Beispiel kreieren wir mit `weakref.ref()` eine schwache Referenz zu unserem Auftrag (`node1`). Der Aufruf dieser Referenz gibt uns das Objekt zur\u00fcck, sofern es existiert. L\u00f6schen wir nur `node1`, existiert der Auftrag immernoch - in `queue`. Entfernen wir es aber per `delete_first()` aus der Warteschleife, sollte es nicht mehr existieren. Der letzte `print`-Befehl gibt dann `None` aus. Wir k\u00f6nnen also sicher sein, dass das Objekt nicht mehr existiert. Der Umkehrschluss ist nicht notwendigerweise korrekt: Auch vom Garbage Collector entfernte Objekte k\u00f6nnen noch durch eine schwache Referenz identifizierbar sein. \n",
        "\n",
        "</div>"
      ]
    },
    {
      "cell_type": "markdown",
      "id": "a9a48910-78b8-479c-a1e7-4893a519b9a2",
      "metadata": {
        "cell_content_type": "markdown_selectable",
        "changed": false,
        "deletable": false,
        "editable": false,
        "original-content": "\u00dcbrigens: M\u00f6chtest du die Linked List in Python nutzen, musst du sie nicht jedes Mal selbst programmieren. Python hat eine eingebaute Klasse hierf\u00fcr: `collections.deque`. \nEs nutzt eine Linked List-Datenstruktur, die in $O(1)$ Elemente am Anfang oder Ende entfernen oder hinzuf\u00fcgen kann. \n",
        "protected": false,
        "selectable": true,
        "tags": []
      },
      "source": [
        "\u00dcbrigens: M\u00f6chtest du die Linked List in Python nutzen, musst du sie nicht jedes Mal selbst programmieren. Python hat eine eingebaute Klasse hierf\u00fcr: `collections.deque`. \n",
        "Es nutzt eine Linked List-Datenstruktur, die in $O(1)$ Elemente am Anfang oder Ende entfernen oder hinzuf\u00fcgen kann. \n"
      ]
    },
    {
      "cell_type": "markdown",
      "id": "b791a120-f1fd-4d93-b8e3-3d9e8a43bce0",
      "metadata": {
        "cell_content_type": "markdown_selectable",
        "changed": false,
        "deletable": false,
        "editable": false,
        "original-content": "Da `delete_first()` ohne Rekursionen oder Schleifen auskommt, ist die Anzahl der Operationen unabh\u00e4ngig von der Anzahl der Auftr\u00e4ge in der Warteschleife, und at somit eine Laufzeitkomplexit\u00e4t von $O(1)$. Besser geht es nicht. \nRufen wir uns nochmal abschlie\u00dfend in Erinnerung, wie die `list` in Python das erste Element entfernt: s\u00e4mtliche nachfolgenden Elemente werden verschoben. \nJe mehr Auftr\u00e4ge sich in der Warteschleife befinden, desto h\u00f6her ist die Rechenersparnis der neuen L\u00f6sung f\u00fcr den Online-Versandh\u00e4ndler. ",
        "protected": false,
        "selectable": true
      },
      "source": [
        "Da `delete_first()` ohne Rekursionen oder Schleifen auskommt, ist die Anzahl der Operationen unabh\u00e4ngig von der Anzahl der Auftr\u00e4ge in der Warteschleife, und at somit eine Laufzeitkomplexit\u00e4t von $O(1)$. Besser geht es nicht. \n",
        "Rufen wir uns nochmal abschlie\u00dfend in Erinnerung, wie die `list` in Python das erste Element entfernt: s\u00e4mtliche nachfolgenden Elemente werden verschoben. \n",
        "Je mehr Auftr\u00e4ge sich in der Warteschleife befinden, desto h\u00f6her ist die Rechenersparnis der neuen L\u00f6sung f\u00fcr den Online-Versandh\u00e4ndler. "
      ]
    },
    {
      "cell_type": "markdown",
      "id": "08c96bf6-9f68-4ee3-8301-cbec1b2c350f",
      "metadata": {
        "cell_content_type": "markdown_default",
        "changed": false,
        "deletable": false,
        "editable": false,
        "messageType": "glueckwunsch",
        "original-content": "**Gl\u00fcckwunsch**: Deine Warteschleife kann nun vom Online-Versandh\u00e4ndler verwendet werden. Im Vergleich zur urspr\u00fcnglichen L\u00f6sung, die eine Python-Liste nutzte, k\u00f6nnen auch Auftr\u00e4ge in konstanter Laufzeit vom Anfang entfernt werden. Die Gesch\u00e4ftsf\u00fchrung ist zufrieden mit deiner Arbeit!",
        "protected": false,
        "selectable": false,
        "tags": []
      },
      "source": [
        "**Gl\u00fcckwunsch**: Deine Warteschleife kann nun vom Online-Versandh\u00e4ndler verwendet werden. Im Vergleich zur urspr\u00fcnglichen L\u00f6sung, die eine Python-Liste nutzte, k\u00f6nnen auch Auftr\u00e4ge in konstanter Laufzeit vom Anfang entfernt werden. Die Gesch\u00e4ftsf\u00fchrung ist zufrieden mit deiner Arbeit!"
      ]
    },
    {
      "cell_type": "markdown",
      "id": "c71dcae3-ae6a-410a-9018-b22a2e6bcdcd",
      "metadata": {
        "cell_content_type": "markdown_selectable",
        "changed": false,
        "deletable": false,
        "editable": false,
        "messageType": "merke",
        "original-content": "**Merke**: \n* Eine modifizierte Version der Linked List eignet sich hervorragend als Warteschleife.  \n* Mit `collections.deque` hat die Linked List einen wenig bekannten Vertreter in Python. \n* Python hat einen eingebauten Garbage Collector, der unreferenzierte Objekte automatisch entfernt. ",
        "protected": false,
        "selectable": true,
        "tags": []
      },
      "source": [
        "**Merke**: \n",
        "* Eine modifizierte Version der Linked List eignet sich hervorragend als Warteschleife.  \n",
        "* Mit `collections.deque` hat die Linked List einen wenig bekannten Vertreter in Python. \n",
        "* Python hat einen eingebauten Garbage Collector, der unreferenzierte Objekte automatisch entfernt. "
      ]
    },
    {
      "cell_type": "markdown",
      "id": "0a6ba2a4-23b1-49f9-a958-bbc06e1fcacc",
      "metadata": {
        "cell_content_type": "markdown_default",
        "changed": false,
        "deletable": false,
        "editable": false,
        "original-content": "***\nHast du eine Frage zu dieser \u00dcbung? Schau ins Forum, ob sie bereits gestellt und beantwortet wurde.\n***\nFehler gefunden? Kontaktiere den Support unter support@stackfuel.com.\n***",
        "protected": false,
        "selectable": false
      },
      "source": [
        "***\n",
        "Hast du eine Frage zu dieser \u00dcbung? Schau ins Forum, ob sie bereits gestellt und beantwortet wurde.\n",
        "***\n",
        "Fehler gefunden? Kontaktiere den Support unter support@stackfuel.com.\n",
        "***"
      ]
    }
  ],
  "metadata": {
    "content_id": "d3093952-4a1a-4198-9fbc-662dbb2803c7",
    "content_language": "de",
    "content_title": "Linked Lists",
    "content_type": "solution",
    "kernelspec": {
      "display_name": "Python 3 (ipykernel)",
      "language": "python",
      "name": "python3"
    },
    "language_info": {
      "codemirror_mode": {
        "name": "ipython",
        "version": 3
      },
      "file_extension": ".py",
      "mimetype": "text/x-python",
      "name": "python",
      "nbconvert_exporter": "python",
      "pygments_lexer": "ipython3",
      "version": "3.8.10"
    }
  },
  "nbformat": 4,
  "nbformat_minor": 5
}