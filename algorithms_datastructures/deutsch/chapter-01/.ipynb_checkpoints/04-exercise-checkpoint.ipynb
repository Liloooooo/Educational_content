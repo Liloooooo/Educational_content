{
  "cells": [
    {
      "cell_type": "markdown",
      "id": "7dac0423-79f0-45d0-80c9-f7e32e91c22d",
      "metadata": {
        "cell_content_type": "markdown_default",
        "changed": false,
        "deletable": false,
        "original-content": "# Bin\u00e4rsuchb\u00e4ume (L\u00f6sung)\nModul Algorithmen & Datenstrukturen | Kapitel 1 | Notebook 4\n\nWillkommen bei deiner vierten \u00dcbung zu Algorithmen und Datenstrukturen.\nHier lernst du eine Mengenstruktur kennen: den Bin\u00e4rsuchbaum.\nNach dieser \u00dcbung kannst du: \n* die Begriffe Bin\u00e4rbaum und Bin\u00e4rsuchbaum definieren und voneinander abgrenzen,\n* die Bin\u00e4rsuchbaumeigenschaft benennen, \n* den Bin\u00e4rsuchalgorithmus verwenden, um Methoden zum Auffinden und Einf\u00fcgen von Daten rekursiv zu implementieren.  \n***",
        "protected": false,
        "selectable": false,
        "tags": [],
        "editable": false
      },
      "source": [
        "# Bin\u00e4rsuchb\u00e4ume\n",
        "Modul Algorithmen & Datenstrukturen | Kapitel 1 | Notebook 4\n",
        "\n",
        "Willkommen bei deiner vierten \u00dcbung zu Algorithmen und Datenstrukturen.\n",
        "Hier lernst du eine Mengenstruktur kennen: den Bin\u00e4rsuchbaum.\n",
        "Nach dieser \u00dcbung kannst du: \n",
        "* die Begriffe Bin\u00e4rbaum und Bin\u00e4rsuchbaum definieren und voneinander abgrenzen,\n",
        "* die Bin\u00e4rsuchbaumeigenschaft benennen, \n",
        "* den Bin\u00e4rsuchalgorithmus verwenden, um Methoden zum Auffinden und Einf\u00fcgen von Daten rekursiv zu implementieren.  \n",
        "***"
      ]
    },
    {
      "cell_type": "markdown",
      "id": "4dc761bc-7e74-49ad-91ec-3c74b4229982",
      "metadata": {
        "cell_content_type": "markdown_default",
        "changed": false,
        "deletable": false,
        "messageType": "szenario",
        "original-content": "**Szenario**:\nDie Gesch\u00e4ftsf\u00fchrung des Online-Versandh\u00e4ndlers kommt mit einem weiteren Anliegen auf dich zu:\nDie Daten der Kundschaft sollen in einem System erfasst werden. Sie w\u00fcnscht sich eine L\u00f6sung in Python, weil sie sich davon eine einfache Integration in bestehende Prozesse erhofft. Der Gesch\u00e4ftsf\u00fchrung ist vor allem wichtig, dass Personendaten schnell aufgefunden werden k\u00f6nnen. Sobald ein neues Konto auf der Website erstellt wird, soll das Nutzerkonto der Person dem Datensystem hinzugef\u00fcgt werden.   ",
        "protected": false,
        "selectable": false,
        "tags": [],
        "editable": false
      },
      "source": [
        "**Szenario**:\n",
        "Die Gesch\u00e4ftsf\u00fchrung des Online-Versandh\u00e4ndlers kommt mit einem weiteren Anliegen auf dich zu:\n",
        "Die Daten der Kundschaft sollen in einem System erfasst werden. Sie w\u00fcnscht sich eine L\u00f6sung in Python, weil sie sich davon eine einfache Integration in bestehende Prozesse erhofft. Der Gesch\u00e4ftsf\u00fchrung ist vor allem wichtig, dass Personendaten schnell aufgefunden werden k\u00f6nnen. Sobald ein neues Konto auf der Website erstellt wird, soll das Nutzerkonto der Person dem Datensystem hinzugef\u00fcgt werden.   "
      ]
    },
    {
      "cell_type": "markdown",
      "id": "ae0fb9ad-df97-4817-a2b6-5510b3217aa4",
      "metadata": {
        "cell_content_type": "markdown_selectable",
        "changed": false,
        "deletable": false,
        "original-content": "In unserem Szenario ist die Anordnung der Elemente in der Datenstruktur unwichtig. \nWir ben\u00f6tigen deshalb keine sequenzielle Datenstruktur wie in unserem vorangegangen Warteschleifen-Szenario.\nDas bedeutet, wir m\u00fcssen unsere Daten nicht in einer vom Nutzenden vorgegebenen Reihenfolge verwalten. Stattdessen k\u00f6nnen die Daten in jeder beliebigen Struktur angeordnet sein. Das gibt uns etwas mehr Spielraum in der Gestaltung. \nIn der einf\u00fchrenden Textlektion zu Datenstrukturen hatten wir bereits den Hash Table als Mengenstruktur kurz kennengelernt. In Python sind die Datentypen `dict` und `set` Vertreter dieser Datenstruktur. In dieser \u00dcbung wollen wir uns einer anderen Mengenstruktur widmden, die in Python keinen eingebauten Vertreter hat: dem Bin\u00e4rsuchbaum.\n\nHaupts\u00e4chlich wichtig in unserem Szenario sind zwei Operationen, die G\u00fcte unserer Datenstruktur wird sich an deren Laufzeitkomplexit\u00e4ten bemessen: \n* dem Auffinden bestehender Nutzerkonten,  \n* dem Einf\u00fcgen neuer Nutzerkonten.\n\nIn dieser \u00dcbung werden wir einen Bin\u00e4rsuchbaum mit den dazugeh\u00f6rigen Methoden anlegen, und uns Gedanken \u00fcber deren Laufzeitkomplexit\u00e4ten machen.\nDoch bevor wir damit beginnen, werden wir zun\u00e4chst anschauen, was ein Bin\u00e4rsuchbaum ist und wie er sich von dem Bin\u00e4rbaum abgrenzen l\u00e4sst. \n",
        "protected": false,
        "selectable": true,
        "editable": false
      },
      "source": [
        "In unserem Szenario ist die Anordnung der Elemente in der Datenstruktur unwichtig. \n",
        "Wir ben\u00f6tigen deshalb keine sequenzielle Datenstruktur wie in unserem vorangegangen Warteschleifen-Szenario.\n",
        "Das bedeutet, wir m\u00fcssen unsere Daten nicht in einer vom Nutzenden vorgegebenen Reihenfolge verwalten. Stattdessen k\u00f6nnen die Daten in jeder beliebigen Struktur angeordnet sein. Das gibt uns etwas mehr Spielraum in der Gestaltung. \n",
        "In der einf\u00fchrenden Textlektion zu Datenstrukturen hatten wir bereits den Hash Table als Mengenstruktur kurz kennengelernt. In Python sind die Datentypen `dict` und `set` Vertreter dieser Datenstruktur. In dieser \u00dcbung wollen wir uns einer anderen Mengenstruktur widmden, die in Python keinen eingebauten Vertreter hat: dem Bin\u00e4rsuchbaum.\n",
        "\n",
        "Haupts\u00e4chlich wichtig in unserem Szenario sind zwei Operationen, die G\u00fcte unserer Datenstruktur wird sich an deren Laufzeitkomplexit\u00e4ten bemessen: \n",
        "* dem Auffinden bestehender Nutzerkonten,  \n",
        "* dem Einf\u00fcgen neuer Nutzerkonten.\n",
        "\n",
        "In dieser \u00dcbung werden wir einen Bin\u00e4rsuchbaum mit den dazugeh\u00f6rigen Methoden anlegen, und uns Gedanken \u00fcber deren Laufzeitkomplexit\u00e4ten machen.\n",
        "Doch bevor wir damit beginnen, werden wir zun\u00e4chst anschauen, was ein Bin\u00e4rsuchbaum ist und wie er sich von dem Bin\u00e4rbaum abgrenzen l\u00e4sst. \n"
      ]
    },
    {
      "cell_type": "markdown",
      "id": "b8abb372-a24e-4e35-ab47-8d88c42ab6be",
      "metadata": {
        "cell_content_type": "markdown_default",
        "changed": false,
        "deletable": false,
        "original-content": "## Die Grundstruktur: der Bin\u00e4rbaum",
        "protected": false,
        "selectable": false,
        "editable": false
      },
      "source": [
        "## Die Grundstruktur: der Bin\u00e4rbaum"
      ]
    },
    {
      "cell_type": "markdown",
      "id": "e10e1b55-44c8-48c3-9f01-2e6035e54822",
      "metadata": {
        "cell_content_type": "markdown_default",
        "changed": false,
        "deletable": false,
        "original-content": "Der Bin\u00e4rsuchbaum ist eine Spezialform des Bin\u00e4rbaums. \nWas den Bin\u00e4rsuchbaum von anderen Bin\u00e4rb\u00e4umen unterscheidet, schauen wir uns sp\u00e4ter an.\nZun\u00e4chst definieren und implementieren wir die Grundstruktur des Bin\u00e4rbaums. \n\nWie die Linked List ist auch der Bin\u00e4rbaum eine Pointer-basierte Datenstruktur, der im Gegensatz zur Linked List \u00fcber zwei Pointer verf\u00fcgt: einen zum linken und einen zum rechten Kind.\nDie Kinder sind entweder leer oder selbst wieder Bin\u00e4rb\u00e4ume.\nWie bei der Linked List auch, sind die Elemente mit Daten gef\u00fcllt und die Datenstrukturklasse, hier der Baum, hat einen Pointer zum Startelement. \nSprechen wir \u00fcber Baumstrukturen, nennen wir die Elemente *Knoten* und das Startelement die *Wurzel* des Baums.\nSind beide Kinder eines Knotens leer, so nennen wir diese Knoten *Bl\u00e4tter*.",
        "protected": false,
        "selectable": false,
        "editable": false
      },
      "source": [
        "Der Bin\u00e4rsuchbaum ist eine Spezialform des Bin\u00e4rbaums. \n",
        "Was den Bin\u00e4rsuchbaum von anderen Bin\u00e4rb\u00e4umen unterscheidet, schauen wir uns sp\u00e4ter an.\n",
        "Zun\u00e4chst definieren und implementieren wir die Grundstruktur des Bin\u00e4rbaums. \n",
        "\n",
        "Wie die Linked List ist auch der Bin\u00e4rbaum eine Pointer-basierte Datenstruktur, der im Gegensatz zur Linked List \u00fcber zwei Pointer verf\u00fcgt: einen zum linken und einen zum rechten Kind.\n",
        "Die Kinder sind entweder leer oder selbst wieder Bin\u00e4rb\u00e4ume.\n",
        "Wie bei der Linked List auch, sind die Elemente mit Daten gef\u00fcllt und die Datenstrukturklasse, hier der Baum, hat einen Pointer zum Startelement. \n",
        "Sprechen wir \u00fcber Baumstrukturen, nennen wir die Elemente *Knoten* und das Startelement die *Wurzel* des Baums.\n",
        "Sind beide Kinder eines Knotens leer, so nennen wir diese Knoten *Bl\u00e4tter*."
      ]
    },
    {
      "cell_type": "markdown",
      "id": "da1289da-fc8e-4210-bd9c-cd2a30903a6a",
      "metadata": {
        "cell_content_type": "markdown_default",
        "changed": false,
        "deletable": false,
        "original-content": "F\u00fcr unser Szenario definieren wir die Knoten \u00fcber den Nutzernamen des Kontos.\nDie folgende Abbildung zeigt beispielhaft einen Bin\u00e4rbaum:\n    \n<img src=\"Binaerbaum_Struktur.png\" alt=\"Bin\u00e4rbaum\" style=\"width: 600px;\"/>",
        "protected": false,
        "selectable": false,
        "editable": false
      },
      "source": [
        "F\u00fcr unser Szenario definieren wir die Knoten \u00fcber den Nutzernamen des Kontos.\n",
        "Die folgende Abbildung zeigt beispielhaft einen Bin\u00e4rbaum:\n",
        "    \n",
        "<img src=\"Binaerbaum_Struktur.png\" alt=\"Bin\u00e4rbaum\" style=\"width: 600px;\"/>"
      ]
    },
    {
      "cell_type": "markdown",
      "id": "024e5bed-43d9-49c3-8149-227c113b7af1",
      "metadata": {
        "cell_content_type": "markdown_default",
        "changed": false,
        "deletable": false,
        "original-content": "Zusammen mit den Nutzernamen k\u00f6nnen wir nat\u00fcrlich noch andere Informationen abspeichern.\nDer Nutzername dient hier zur eindeutigen Identifikation eines Nutzerkontos und somit auch des Knotens an sich.\nWir bezeichnen ihn als *Schl\u00fcssel*.\nJeder Nutzername darf nur einmal vergeben werden, denn sonst k\u00f6nnen wir Knoten nicht eindeutig identifizieren.  ",
        "protected": false,
        "selectable": false,
        "editable": false
      },
      "source": [
        "Zusammen mit den Nutzernamen k\u00f6nnen wir nat\u00fcrlich noch andere Informationen abspeichern.\n",
        "Der Nutzername dient hier zur eindeutigen Identifikation eines Nutzerkontos und somit auch des Knotens an sich.\n",
        "Wir bezeichnen ihn als *Schl\u00fcssel*.\n",
        "Jeder Nutzername darf nur einmal vergeben werden, denn sonst k\u00f6nnen wir Knoten nicht eindeutig identifizieren.  "
      ]
    },
    {
      "cell_type": "markdown",
      "id": "c7150457-4ec2-484e-8bbc-958bc59939ba",
      "metadata": {
        "cell_content_type": "markdown_selectable",
        "changed": false,
        "deletable": false,
        "original-content": "Beginnen wir zun\u00e4chst damit, die Grundstruktur zu implementieren.\nSie wird eine Klasse `DatabaseTree` und eine Klasse `DatabaseNode` haben.\n\n```python\nclass DatabaseTree: \n    \"\"\"A basic binary tree data structure. \n\n    Attributes: \n        root (DatabaseNode): the root node. Defaults to None.\n\n    \"\"\"\n    \nclass DatabaseNode: \n    \"\"\"A Node in DatabaseTree. \n    \n    Args: \n        name (str): unique user name. \n        *kwargs: additional information to be stored.\n\n    Attributes: \n        left (DatabaseNode): left child. Defaults to None.\n        right (DatabaseNode): right child. Defaults to None.\n        name (int): unique user name\n        add_info (dict): additional information to be stored.\n\n    \"\"\"\n```",
        "protected": false,
        "selectable": true,
        "editable": false
      },
      "source": [
        "Beginnen wir zun\u00e4chst damit, die Grundstruktur zu implementieren.\n",
        "Sie wird eine Klasse `DatabaseTree` und eine Klasse `DatabaseNode` haben.\n",
        "\n",
        "```python\n",
        "class DatabaseTree: \n",
        "    \"\"\"A basic binary tree data structure. \n",
        "\n",
        "    Attributes: \n",
        "        root (DatabaseNode): the root node. Defaults to None.\n",
        "\n",
        "    \"\"\"\n",
        "    \n",
        "class DatabaseNode: \n",
        "    \"\"\"A Node in DatabaseTree. \n",
        "    \n",
        "    Args: \n",
        "        name (str): unique user name. \n",
        "        *kwargs: additional information to be stored.\n",
        "\n",
        "    Attributes: \n",
        "        left (DatabaseNode): left child. Defaults to None.\n",
        "        right (DatabaseNode): right child. Defaults to None.\n",
        "        name (int): unique user name\n",
        "        add_info (dict): additional information to be stored.\n",
        "\n",
        "    \"\"\"\n",
        "```"
      ]
    },
    {
      "cell_type": "markdown",
      "id": "ea54977d-de63-4d76-8671-4ad3633ee25d",
      "metadata": {
        "cell_content_type": "markdown_selectable",
        "changed": false,
        "deletable": false,
        "original-content": "##### <font color=\"#3399DB\">Aufgabe 1</font>\n> Implementiere den Bin\u00e4rbaum f\u00fcr unser Datensystem.\n> Erstelle hierf\u00fcr ein neues Python-Script mit dem Namen *tree.py*. Wie immer kannst du die Zellen hier im Notebook nutzen, um deinen Code zu entwerfen.  \u00dcberpr\u00fcfe deinen Code anschlie\u00dfend anhand der vorbereiteten Unit Tests.",
        "protected": false,
        "selectable": true,
        "editable": false
      },
      "source": [
        "##### <font color=\"#3399DB\">Aufgabe 1</font>\n",
        "> Implementiere den Bin\u00e4rbaum f\u00fcr unser Datensystem.\n",
        "> Erstelle hierf\u00fcr ein neues Python-Script mit dem Namen *tree.py*. Wie immer kannst du die Zellen hier im Notebook nutzen, um deinen Code zu entwerfen.  \u00dcberpr\u00fcfe deinen Code anschlie\u00dfend anhand der vorbereiteten Unit Tests."
      ]
    },
    {
      "cell_type": "code",
      "execution_count": null,
      "id": "dff844fa-a2b5-4f49-9abb-74fdd0ddba4c",
      "metadata": {
        "cell_content_type": "code_user",
        "changed": false,
        "deletable": false,
        "editable": true,
        "hint": "Wenn du willst, kannst du diese Codezelle gern im Forum unter *Bin\u00e4rsuchb\u00e4ume* diskutieren.",
        "hint_counter": 0,
        "original-content": "",
        "protected": false,
        "selectable": true,
        "tags": []
      },
      "outputs": [],
      "source": []
    },
    {
      "cell_type": "code",
      "execution_count": null,
      "id": "fda2371c-2f4b-40d7-94bc-634f67224545",
      "metadata": {
        "cell_content_type": "code_demo",
        "changed": false,
        "deletable": false,
        "editable": true,
        "hint": "Wenn du willst, kannst du diese Codezelle gern im Forum unter *Bin\u00e4rsuchb\u00e4ume* diskutieren.",
        "original-content": "!pytest test_tree.py::test_node_init test_tree.py::test_node_init_errors",
        "protected": false,
        "selectable": true
      },
      "outputs": [],
      "source": [
        "!pytest test_tree.py::test_node_init test_tree.py::test_node_init_errors"
      ]
    },
    {
      "cell_type": "markdown",
      "id": "f82cd28a-1019-4c9a-9958-4a417eacb3df",
      "metadata": {
        "cell_content_type": "markdown_default",
        "changed": false,
        "deletable": false,
        "original-content": "Die Grundstruktur k\u00f6nnen wir f\u00fcr unseren Anwendungsfall nutzen. \nDamit der Baum zu einem Bin\u00e4rsuchbaum wird, m\u00fcssen die Knoten in einer bestimmten Art und Weise angeordnet sein, die *Bin\u00e4rsuchbaumeigenschaft* hei\u00dft. \nSie stellt sicher, dass wir den Baum mit einem Bin\u00e4rsuchalgorithmus, wie wir ihn in der ersten \u00dcbung implementiert haben, durchsuchen k\u00f6nnen.\nWerden neue Knoten an den Baum angeh\u00e4ngt, sollte die Eigenschaft gewahrt werden. \nIm n\u00e4chsten Abschnitt werden wir sie kennenlernen. ",
        "protected": false,
        "selectable": false,
        "editable": false
      },
      "source": [
        "Die Grundstruktur k\u00f6nnen wir f\u00fcr unseren Anwendungsfall nutzen. \n",
        "Damit der Baum zu einem Bin\u00e4rsuchbaum wird, m\u00fcssen die Knoten in einer bestimmten Art und Weise angeordnet sein, die *Bin\u00e4rsuchbaumeigenschaft* hei\u00dft. \n",
        "Sie stellt sicher, dass wir den Baum mit einem Bin\u00e4rsuchalgorithmus, wie wir ihn in der ersten \u00dcbung implementiert haben, durchsuchen k\u00f6nnen.\n",
        "Werden neue Knoten an den Baum angeh\u00e4ngt, sollte die Eigenschaft gewahrt werden. \n",
        "Im n\u00e4chsten Abschnitt werden wir sie kennenlernen. "
      ]
    },
    {
      "cell_type": "markdown",
      "id": "44240ee5-1825-408f-b448-c71448fabe33",
      "metadata": {
        "cell_content_type": "markdown_default",
        "changed": false,
        "deletable": false,
        "original-content": "\n\n## Die Bin\u00e4rsuchbaumeigenschaft",
        "protected": false,
        "selectable": false,
        "editable": false
      },
      "source": [
        "\n",
        "\n",
        "## Die Bin\u00e4rsuchbaumeigenschaft"
      ]
    },
    {
      "cell_type": "markdown",
      "id": "c49e35a6-32a6-4f4b-8f9b-bf5f22bb5d21",
      "metadata": {
        "cell_content_type": "markdown_default",
        "changed": false,
        "deletable": false,
        "original-content": "In unserem Onlineversandhandel gibt es ein Service-Center, das sich mit Anfragen, beispielsweise zum Bestellstatus, auseinandersetzt.\nBei jeder Anfrage sucht ein Mitarbeitender nach dem entsprechenden Nutzerkonto \u00fcber eine Suchanfrage im System. Unsere Aufgabe ist es, diese Suchoperation m\u00f6glichst schnell zu gestalten.\nWie k\u00f6nnten wir einen Baum systematisch nach einem Nutzerkonto absuchen? \n\nErinnerst du dich an den Bin\u00e4rsuchalgorithmus aus der ersten \u00dcbung? \nDort haben wir eine alphabetisch sortierte Bibliothek nach einem vorgegebenen Titel abgesucht. Hierf\u00fcr haben wir einen Bin\u00e4rsuchalgorithmus verwendet, der das Regal wiederholt in zwei Teile unterteilte. \nGanz \u00e4hnlich k\u00f6nnen wir hier auch vorgehen! \nDazu m\u00fcssen unsere Knoten aber so angeordnet werden, dass wir immer wissen k\u00f6nnen, ob sich der gesuchte Knoten links oder rechts eines besuchten Knotens befindet. \n\nDie Bin\u00e4rsuchbaumeigenschaft ist genau dies:  \n* Die Schl\u00fcssel aller Knoten im linken Kind sind kleiner als der Schl\u00fcssel des Knotens selbst.\n* Die Schl\u00fcssel aller Knoten im rechten Kind sind gr\u00f6\u00dfer als der Schl\u00fcssel des Knotens selbst.\n\nDie Bin\u00e4rsuchbaumeigenschaft grenzt den Bin\u00e4rsuchbaum vom allgemeineren Bin\u00e4rbaum ab. Sie macht \u00fcbrigens keine Annahmen \u00fcber die Verteilung der Knoten im Baum. Im Gegensatz zu unserem Buchsuchbeispiel aus der ersten \u00dcbung wird der Suchraum hier nicht notwendigerweise in zwei gleich gro\u00dfe Teile geteilt. ",
        "protected": false,
        "selectable": false,
        "editable": false
      },
      "source": [
        "In unserem Onlineversandhandel gibt es ein Service-Center, das sich mit Anfragen, beispielsweise zum Bestellstatus, auseinandersetzt.\n",
        "Bei jeder Anfrage sucht ein Mitarbeitender nach dem entsprechenden Nutzerkonto \u00fcber eine Suchanfrage im System. Unsere Aufgabe ist es, diese Suchoperation m\u00f6glichst schnell zu gestalten.\n",
        "Wie k\u00f6nnten wir einen Baum systematisch nach einem Nutzerkonto absuchen? \n",
        "\n",
        "Erinnerst du dich an den Bin\u00e4rsuchalgorithmus aus der ersten \u00dcbung? \n",
        "Dort haben wir eine alphabetisch sortierte Bibliothek nach einem vorgegebenen Titel abgesucht. Hierf\u00fcr haben wir einen Bin\u00e4rsuchalgorithmus verwendet, der das Regal wiederholt in zwei Teile unterteilte. \n",
        "Ganz \u00e4hnlich k\u00f6nnen wir hier auch vorgehen! \n",
        "Dazu m\u00fcssen unsere Knoten aber so angeordnet werden, dass wir immer wissen k\u00f6nnen, ob sich der gesuchte Knoten links oder rechts eines besuchten Knotens befindet. \n",
        "\n",
        "Die Bin\u00e4rsuchbaumeigenschaft ist genau dies:  \n",
        "* Die Schl\u00fcssel aller Knoten im linken Kind sind kleiner als der Schl\u00fcssel des Knotens selbst.\n",
        "* Die Schl\u00fcssel aller Knoten im rechten Kind sind gr\u00f6\u00dfer als der Schl\u00fcssel des Knotens selbst.\n",
        "\n",
        "Die Bin\u00e4rsuchbaumeigenschaft grenzt den Bin\u00e4rsuchbaum vom allgemeineren Bin\u00e4rbaum ab. Sie macht \u00fcbrigens keine Annahmen \u00fcber die Verteilung der Knoten im Baum. Im Gegensatz zu unserem Buchsuchbeispiel aus der ersten \u00dcbung wird der Suchraum hier nicht notwendigerweise in zwei gleich gro\u00dfe Teile geteilt. "
      ]
    },
    {
      "cell_type": "markdown",
      "id": "55125157-9b5a-4b8d-85c5-d551a58c35b4",
      "metadata": {
        "cell_content_type": "markdown_default",
        "changed": false,
        "deletable": false,
        "original-content": "Schauen wir uns nochmal die Abbildung von oben an.\nDie Knoten folgen keiner bestimmten Anordnung.\nIn der n\u00e4chsten Aufgabe sollst du die Knoten so sortieren, dass die Bin\u00e4rsuchbaumeigenschaft erf\u00fcllt ist. \nHier ist nochmal der Baum:\n\n<img src=\"Binaerbaum_Struktur.png\" alt=\"Bin\u00e4rbaum\" style=\"width: 600px;\"/>",
        "protected": false,
        "selectable": false,
        "editable": false
      },
      "source": [
        "Schauen wir uns nochmal die Abbildung von oben an.\n",
        "Die Knoten folgen keiner bestimmten Anordnung.\n",
        "In der n\u00e4chsten Aufgabe sollst du die Knoten so sortieren, dass die Bin\u00e4rsuchbaumeigenschaft erf\u00fcllt ist. \n",
        "Hier ist nochmal der Baum:\n",
        "\n",
        "<img src=\"Binaerbaum_Struktur.png\" alt=\"Bin\u00e4rbaum\" style=\"width: 600px;\"/>"
      ]
    },
    {
      "cell_type": "markdown",
      "id": "6b89f440-c794-41e6-a007-d0a9733648e4",
      "metadata": {
        "cell_content_type": "markdown_default",
        "changed": false,
        "deletable": false,
        "original-content": "##### <font color=\"#3399DB\">Aufgabe 2</font>\n> Sortiere die Knoten in der Abbildung so, dass die Bin\u00e4rsuchbaumeigenschaft erf\u00fcllt ist.\n> Lass die Struktur bestehen: Links der Wurzel sollten sich wieder f\u00fcnf Knoten an gleicher Stelle befinden und rechts drei.\n> Notiere deine L\u00f6sung in Form von Kommentaren in der folgenden Zelle.",
        "protected": false,
        "selectable": false,
        "editable": false
      },
      "source": [
        "##### <font color=\"#3399DB\">Aufgabe 2</font>\n",
        "> Sortiere die Knoten in der Abbildung so, dass die Bin\u00e4rsuchbaumeigenschaft erf\u00fcllt ist.\n",
        "> Lass die Struktur bestehen: Links der Wurzel sollten sich wieder f\u00fcnf Knoten an gleicher Stelle befinden und rechts drei.\n",
        "> Notiere deine L\u00f6sung in Form von Kommentaren in der folgenden Zelle."
      ]
    },
    {
      "cell_type": "code",
      "execution_count": null,
      "id": "dd0a5226-73aa-4d61-8410-b10a5ca0d45a",
      "metadata": {
        "cell_content_type": "code_user",
        "changed": false,
        "deletable": false,
        "editable": true,
        "hint": "Wenn du willst, kannst du diese Codezelle gern im Forum unter *Bin\u00e4rsuchb\u00e4ume* diskutieren.",
        "hint_counter": 0,
        "original-content": "",
        "protected": false,
        "selectable": true,
        "tags": []
      },
      "outputs": [],
      "source": []
    },
    {
      "cell_type": "markdown",
      "id": "d9943497-753b-48d0-bfe2-0a5eaa34e359",
      "metadata": {
        "cell_content_type": "markdown_default",
        "changed": false,
        "deletable": false,
        "original-content": "In deinem neu angeordneten Baum sollte sich der Knoten mit Nutzernamen 'fred' an derselben Stelle wie vorhin befinden. Der zugeh\u00f6rige Nutzername des Wurzelknotens ist nun 'paolo'.\nBehalte deine Skizze mit der neuen Anordnung am besten. Du wirst sie sp\u00e4ter nochmal brauchen!",
        "protected": false,
        "selectable": false,
        "editable": false
      },
      "source": [
        "In deinem neu angeordneten Baum sollte sich der Knoten mit Nutzernamen 'fred' an derselben Stelle wie vorhin befinden. Der zugeh\u00f6rige Nutzername des Wurzelknotens ist nun 'paolo'.\n",
        "Behalte deine Skizze mit der neuen Anordnung am besten. Du wirst sie sp\u00e4ter nochmal brauchen!"
      ]
    },
    {
      "cell_type": "markdown",
      "id": "4bbd883d-2861-412c-8d4b-a7295f83c2fd",
      "metadata": {
        "cell_content_type": "markdown_default",
        "changed": false,
        "deletable": false,
        "original-content": "## Einen Knoten im Baum finden ",
        "protected": false,
        "selectable": false,
        "editable": false
      },
      "source": [
        "## Einen Knoten im Baum finden "
      ]
    },
    {
      "cell_type": "markdown",
      "id": "a3739410-9874-44d7-8529-dba74f616621",
      "metadata": {
        "cell_content_type": "markdown_selectable",
        "changed": false,
        "deletable": false,
        "original-content": "Wir kennen nun die Bin\u00e4rsuchbaumeigenschaft und wissen, wie die Knoten in unserem Baum angeordnet sein sollten.\nWird ein Nutzerkonto hinzugef\u00fcgt, muss diese Eigenschaft gewahrt bleiben.\nDarum k\u00fcmmern wir uns gleich. \nZun\u00e4chst widmen wir uns der Suche nach einem Nutzerkonto. Wir d\u00fcrfen davon ausgehen, dass die Bin\u00e4rsucheigenschaft erf\u00fcllt ist. \nDie Suche soll \u00fcber eine Methode `find()` in unserer Klasse `DatabaseTree` get\u00e4tigt werden. \n\n``` python \ndef find(self, name): \n    \"\"\"\n    Return DatabaseNode with provided user name. Return None if no node is found or if tree is empty.\n\n    Args: \n        name (str): user name to be searched for. \n\n    Returns: \n       DatabaseNode with specified user name, or None if nothing found. \n\n    \"\"\"\n```",
        "protected": false,
        "selectable": true,
        "editable": false
      },
      "source": [
        "Wir kennen nun die Bin\u00e4rsuchbaumeigenschaft und wissen, wie die Knoten in unserem Baum angeordnet sein sollten.\n",
        "Wird ein Nutzerkonto hinzugef\u00fcgt, muss diese Eigenschaft gewahrt bleiben.\n",
        "Darum k\u00fcmmern wir uns gleich. \n",
        "Zun\u00e4chst widmen wir uns der Suche nach einem Nutzerkonto. Wir d\u00fcrfen davon ausgehen, dass die Bin\u00e4rsucheigenschaft erf\u00fcllt ist. \n",
        "Die Suche soll \u00fcber eine Methode `find()` in unserer Klasse `DatabaseTree` get\u00e4tigt werden. \n",
        "\n",
        "``` python \n",
        "def find(self, name): \n",
        "    \"\"\"\n",
        "    Return DatabaseNode with provided user name. Return None if no node is found or if tree is empty.\n",
        "\n",
        "    Args: \n",
        "        name (str): user name to be searched for. \n",
        "\n",
        "    Returns: \n",
        "       DatabaseNode with specified user name, or None if nothing found. \n",
        "\n",
        "    \"\"\"\n",
        "```"
      ]
    },
    {
      "cell_type": "markdown",
      "id": "a417398c-9a25-45be-b3c9-19ae9c0a4235",
      "metadata": {
        "cell_content_type": "markdown_default",
        "changed": false,
        "deletable": false,
        "original-content": "In der n\u00e4chsten Aufgabe sollst dir zun\u00e4chst Gedanken um eventuelle Helferfunktionen und die ben\u00f6tigten Variablen machen. Schaue dir bei Bedarf nochmal deine L\u00f6sung aus \u00dcbung 1 an.\nAnalog zur ersten \u00dcbung bietet sich auch hier wieder eine rekursive Implementierung an.",
        "protected": false,
        "selectable": false,
        "editable": false
      },
      "source": [
        "In der n\u00e4chsten Aufgabe sollst dir zun\u00e4chst Gedanken um eventuelle Helferfunktionen und die ben\u00f6tigten Variablen machen. Schaue dir bei Bedarf nochmal deine L\u00f6sung aus \u00dcbung 1 an.\n",
        "Analog zur ersten \u00dcbung bietet sich auch hier wieder eine rekursive Implementierung an."
      ]
    },
    {
      "cell_type": "markdown",
      "id": "f3321acb-579f-4e62-b0c9-58ad0db1e0a6",
      "metadata": {
        "cell_content_type": "markdown_selectable",
        "changed": false,
        "deletable": false,
        "original-content": "##### <font color=\"#3399DB\">Aufgabe 3</font>\n> Notiere den Pseudocode f\u00fcr `find()` und eventuelle Helferfunktionen in der folgenden Zelle.\n> Strebe eine rekursive Implementierung an.",
        "protected": false,
        "selectable": true,
        "editable": false
      },
      "source": [
        "##### <font color=\"#3399DB\">Aufgabe 3</font>\n",
        "> Notiere den Pseudocode f\u00fcr `find()` und eventuelle Helferfunktionen in der folgenden Zelle.\n",
        "> Strebe eine rekursive Implementierung an."
      ]
    },
    {
      "cell_type": "code",
      "execution_count": null,
      "id": "f71cae07-9e1f-4af6-bb53-a494b8f211c4",
      "metadata": {
        "cell_content_type": "code_user",
        "changed": false,
        "deletable": false,
        "editable": true,
        "hint": "Eine M\u00f6glichkeit ist, eine Helferfunktion in `DatabaseTree` anzulegen, die rekursiv den Baum durchsucht, und von `find()` aus aufgerufen wird. Im Gegensatz zu dem Bin\u00e4rsuchalgorithmus aus \u00dcbung 1 muss die Methode nun nicht mehr einen Index mit ausgeben. Dadurch reicht es, wenn diese Helferfunktion mit einer zus\u00e4tzlichen Variable `sub_root` ausgestattet ist, die jeweils den Start der Suche im rekursiven Prozess markiert, und dabei aktualisiert wird. ",
        "hint_counter": 0,
        "original-content": "",
        "protected": false,
        "selectable": true,
        "tags": []
      },
      "outputs": [],
      "source": []
    },
    {
      "cell_type": "markdown",
      "id": "e54879f4-f638-4091-ae46-2cc06ef05c4e",
      "metadata": {
        "cell_content_type": "markdown_selectable",
        "changed": false,
        "deletable": false,
        "original-content": "Nun, da dein Konzept steht, kannst du dich an die Implementierung machen.\n\n\n##### <font color=\"#3399DB\">Aufgabe 4</font>\n> Implementiere `find()` und eventuell ben\u00f6tigte Helferfunktionen.\n> F\u00fcge die Methode der Klasse `DatabaseTree` im Skript *tree.py* hinzu.\n> Teste deinen Code anschlie\u00dfend wieder mit den vorbereiteten Unit Tests.   ",
        "protected": false,
        "selectable": true,
        "editable": false
      },
      "source": [
        "Nun, da dein Konzept steht, kannst du dich an die Implementierung machen.\n",
        "\n",
        "\n",
        "##### <font color=\"#3399DB\">Aufgabe 4</font>\n",
        "> Implementiere `find()` und eventuell ben\u00f6tigte Helferfunktionen.\n",
        "> F\u00fcge die Methode der Klasse `DatabaseTree` im Skript *tree.py* hinzu.\n",
        "> Teste deinen Code anschlie\u00dfend wieder mit den vorbereiteten Unit Tests.   "
      ]
    },
    {
      "cell_type": "code",
      "execution_count": null,
      "id": "c41c2268-6dda-40da-a58f-396689cab760",
      "metadata": {
        "cell_content_type": "code_user",
        "changed": false,
        "deletable": false,
        "editable": true,
        "hint": "Wenn du willst, kannst du diese Codezelle gern im Forum unter *Bin\u00e4rsuchb\u00e4ume* diskutieren.",
        "hint_counter": 0,
        "original-content": "",
        "protected": false,
        "selectable": true,
        "tags": []
      },
      "outputs": [],
      "source": []
    },
    {
      "cell_type": "code",
      "execution_count": null,
      "id": "f5956c9d-749d-442c-99b5-e1e351a297c0",
      "metadata": {
        "cell_content_type": "code_demo",
        "changed": false,
        "deletable": false,
        "editable": true,
        "hint": "Wenn du willst, kannst du diese Codezelle gern im Forum unter *Bin\u00e4rsuchb\u00e4ume* diskutieren.",
        "original-content": "!pytest test_tree.py::test_find",
        "protected": false,
        "selectable": true
      },
      "outputs": [],
      "source": [
        "!pytest test_tree.py::test_find"
      ]
    },
    {
      "cell_type": "markdown",
      "id": "c3e519f8-4d6f-4326-ab8f-f6e532776bec",
      "metadata": {
        "cell_content_type": "markdown_default",
        "changed": false,
        "deletable": false,
        "original-content": "Die Mitarbeitenden des Service-Centers k\u00f6nnen sollten nun schnell Ergebnisse auf ihre Suchanfragen erhalten.\nDoch wie schnell?\nWir hatten uns in \u00dcbung 1 schon ein paar Gedanken um die Laufzeitkomplexit\u00e4t einer bin\u00e4ren Suche gemacht.\nDer Algorithmus aus \u00dcbung 1 hatte das Regal immer in zwei annh\u00e4hernd gleich gro\u00dfe Teile geteilt.\nUnser Bin\u00e4rsuchbaum ist nicht unbedingt ausgeglichen: Auf einer Seite kann ein Baum 'l\u00e4nger' sein als auf der anderen.\nIn dem beispielhaften Baum aus der Abbildung m\u00fcssen wir nach Knoten links der Wurzel potenziell l\u00e4nger suchen als nach Knoten auf der rechten Seite.  ",
        "protected": false,
        "selectable": false,
        "editable": false
      },
      "source": [
        "Die Mitarbeitenden des Service-Centers k\u00f6nnen sollten nun schnell Ergebnisse auf ihre Suchanfragen erhalten.\n",
        "Doch wie schnell?\n",
        "Wir hatten uns in \u00dcbung 1 schon ein paar Gedanken um die Laufzeitkomplexit\u00e4t einer bin\u00e4ren Suche gemacht.\n",
        "Der Algorithmus aus \u00dcbung 1 hatte das Regal immer in zwei annh\u00e4hernd gleich gro\u00dfe Teile geteilt.\n",
        "Unser Bin\u00e4rsuchbaum ist nicht unbedingt ausgeglichen: Auf einer Seite kann ein Baum 'l\u00e4nger' sein als auf der anderen.\n",
        "In dem beispielhaften Baum aus der Abbildung m\u00fcssen wir nach Knoten links der Wurzel potenziell l\u00e4nger suchen als nach Knoten auf der rechten Seite.  "
      ]
    },
    {
      "cell_type": "markdown",
      "id": "188466bb-3722-4435-991f-d1317ce43484",
      "metadata": {
        "cell_content_type": "markdown_selectable",
        "changed": false,
        "deletable": false,
        "original-content": "##### <font color=\"#3399DB\">Aufgabe 5</font>\n> Wenn $h$ die Anzahl der Knoten von der Wurzel bis zum am weitesten entfernten Kind angibt, welche Laufzeitkomplexit\u00e4t hat dann `find()`?\n> 1) $O(n)$\n> 2) $O(h)$\n> 3) $O(log \\: n)$\n> 4) $O(log \\: h)$\n> \n> Notiere deine Antwort als Kommentar in der folgenden Codezelle. Die L\u00f6sung findest du wieder in der folgenden aufklappbaren Box. ",
        "protected": false,
        "selectable": true,
        "tags": [],
        "editable": false
      },
      "source": [
        "##### <font color=\"#3399DB\">Aufgabe 5</font>\n",
        "> Wenn $h$ die Anzahl der Knoten von der Wurzel bis zum am weitesten entfernten Kind angibt, welche Laufzeitkomplexit\u00e4t hat dann `find()`?\n",
        "> 1) $O(n)$\n",
        "> 2) $O(h)$\n",
        "> 3) $O(log \\: n)$\n",
        "> 4) $O(log \\: h)$\n",
        "> \n",
        "> Notiere deine Antwort als Kommentar in der folgenden Codezelle. Die L\u00f6sung findest du wieder in der folgenden aufklappbaren Box. "
      ]
    },
    {
      "cell_type": "code",
      "execution_count": null,
      "id": "21a299bb-8e7d-48ed-914d-b66c93ce67c4",
      "metadata": {
        "cell_content_type": "code_user",
        "changed": false,
        "deletable": false,
        "editable": true,
        "hint": "Wenn du willst, kannst du diese Codezelle gern im Forum unter *Bin\u00e4rsuchb\u00e4ume* diskutieren.",
        "original-content": "",
        "protected": false,
        "selectable": true
      },
      "outputs": [],
      "source": []
    },
    {
      "cell_type": "markdown",
      "id": "50032aaf-15c0-48b8-a5f3-9a44c21ccae5",
      "metadata": {
        "cell_content_type": "markdown_selectable",
        "changed": false,
        "deletable": false,
        "messageType": "vertiefung",
        "original-content": "**L\u00f6sung**: Laufzeitkomplexit\u00e4t von `find()`. \n<div class=\"details\">\nIm schlechtesten Fall befindet sich das gesuchte Nutzerkonto im Blatt, welches den gr\u00f6\u00dften Abstand zur Wurzel hat, oder wird dort nicht gefunden.\nDer Abstand ist dabei genau die Anzahl der Knoten, die durchlaufen werden m\u00fcssen.\nWeil auf dem Weg alle durchlaufenen Knoten besucht werden, ergibt sich eine Laufzeitkomplexit\u00e4t von $O(h)$.\nW\u00e4re der Baum ausgeglichen, oder annh\u00e4hernd ausgeglichen, so wie in dem Buchsuchbeispiel aus \u00dcbung 1, so w\u00e4re die Laufzeitkomplexit\u00e4t wieder $O(log n)$.\n</div>",
        "protected": false,
        "selectable": true,
        "tags": [],
        "editable": false
      },
      "source": [
        "**L\u00f6sung**: Laufzeitkomplexit\u00e4t von `find()`. \n",
        "<div class=\"details\">\n",
        "Im schlechtesten Fall befindet sich das gesuchte Nutzerkonto im Blatt, welches den gr\u00f6\u00dften Abstand zur Wurzel hat, oder wird dort nicht gefunden.\n",
        "Der Abstand ist dabei genau die Anzahl der Knoten, die durchlaufen werden m\u00fcssen.\n",
        "Weil auf dem Weg alle durchlaufenen Knoten besucht werden, ergibt sich eine Laufzeitkomplexit\u00e4t von $O(h)$.\n",
        "W\u00e4re der Baum ausgeglichen, oder annh\u00e4hernd ausgeglichen, so wie in dem Buchsuchbeispiel aus \u00dcbung 1, so w\u00e4re die Laufzeitkomplexit\u00e4t wieder $O(log n)$.\n",
        "</div>"
      ]
    },
    {
      "cell_type": "markdown",
      "id": "5be9875c-ad7e-4f13-90fc-b2b5c1e42994",
      "metadata": {
        "cell_content_type": "markdown_selectable",
        "changed": false,
        "deletable": false,
        "original-content": "Die beste Laufzeitkomplexit\u00e4t f\u00fcr `find()` erreichen wir bei ausgeglichenen Bin\u00e4rsuchb\u00e4umen, weil dann der Weg von der Wurzel bis zum am weitesten entfernten Kind m\u00f6glichst kurz ist.\nSpezielle Unterformen des Bin\u00e4rsuchbaums gleichen sich selbst aus, sobald Knoten eingef\u00fcgt oder entfernt werden.\n*AVL-Tree* oder *Red-Black Tree* sind Beispiele hierf\u00fcr.\nSie unterscheiden sich in den Mechanismen, mit denen das Ausbalancieren vorgenommen wird. \nDa der Ausgleich selbst auch mit Aufwand verbunden ist, ist die Entscheidung \u00fcber ihren Einsatz eine Abw\u00e4gungssache.\nIn Anwendungsf\u00e4llen wie unserem Szenario, in denen das Auffinden von Knoten sehr wichtig ist, \u00fcberwiegen in der Regel die Vorteile des Ausbalancierens. In dieser \u00dcbung werden auf den Ausgleich dennoch verzichten. Im n\u00e4chsten Abschnitt werden wir uns lediglich darum k\u00fcmmern, dass Knoten so in `DatabaseTree` eingef\u00fcgt werden, dass die Bin\u00e4rsuchbaumeigenschaft nicht verletzt wird. Wir m\u00fcssen also 'hoffen', dass unser Bin\u00e4rsuchbaum automatisch einigerma\u00dfen ausgeglichen ist.  ",
        "protected": false,
        "selectable": true,
        "tags": [],
        "editable": false
      },
      "source": [
        "Die beste Laufzeitkomplexit\u00e4t f\u00fcr `find()` erreichen wir bei ausgeglichenen Bin\u00e4rsuchb\u00e4umen, weil dann der Weg von der Wurzel bis zum am weitesten entfernten Kind m\u00f6glichst kurz ist.\n",
        "Spezielle Unterformen des Bin\u00e4rsuchbaums gleichen sich selbst aus, sobald Knoten eingef\u00fcgt oder entfernt werden.\n",
        "*AVL-Tree* oder *Red-Black Tree* sind Beispiele hierf\u00fcr.\n",
        "Sie unterscheiden sich in den Mechanismen, mit denen das Ausbalancieren vorgenommen wird. \n",
        "Da der Ausgleich selbst auch mit Aufwand verbunden ist, ist die Entscheidung \u00fcber ihren Einsatz eine Abw\u00e4gungssache.\n",
        "In Anwendungsf\u00e4llen wie unserem Szenario, in denen das Auffinden von Knoten sehr wichtig ist, \u00fcberwiegen in der Regel die Vorteile des Ausbalancierens. In dieser \u00dcbung werden auf den Ausgleich dennoch verzichten. Im n\u00e4chsten Abschnitt werden wir uns lediglich darum k\u00fcmmern, dass Knoten so in `DatabaseTree` eingef\u00fcgt werden, dass die Bin\u00e4rsuchbaumeigenschaft nicht verletzt wird. Wir m\u00fcssen also 'hoffen', dass unser Bin\u00e4rsuchbaum automatisch einigerma\u00dfen ausgeglichen ist.  "
      ]
    },
    {
      "cell_type": "markdown",
      "id": "f823b2c6-e968-45ae-8b18-d6e28926ab64",
      "metadata": {
        "cell_content_type": "markdown_default",
        "changed": false,
        "deletable": false,
        "original-content": "## Einen Knoten in den Baum einf\u00fcgen ",
        "protected": false,
        "selectable": false,
        "editable": false
      },
      "source": [
        "## Einen Knoten in den Baum einf\u00fcgen "
      ]
    },
    {
      "cell_type": "markdown",
      "id": "074c43e2-8213-41f1-aad9-39303db52b51",
      "metadata": {
        "cell_content_type": "markdown_selectable",
        "changed": false,
        "deletable": false,
        "original-content": "Bisher haben wir unser Datensystem noch nicht aufgebaut.\nDaf\u00fcr ben\u00f6tigen wir eine Methode zum Einf\u00fcgen neuer Konten.\nDie Methode legen wir wieder in der Klasse `DatabaseTree` an.\nHier ist der Docstring f\u00fcr die Methode `insert()`:\n\n```python \ndef insert(self, node): \n    \"\"\"\n    Insert DatabaseNode object into self. The binary search tree property must be preserved. \n    \n    Args: \n        node (DatabaseNode): node to be inserted. \n    \n    Returns: \n        None \n        \n    \"\"\"\n```",
        "protected": false,
        "selectable": true,
        "editable": false
      },
      "source": [
        "Bisher haben wir unser Datensystem noch nicht aufgebaut.\n",
        "Daf\u00fcr ben\u00f6tigen wir eine Methode zum Einf\u00fcgen neuer Konten.\n",
        "Die Methode legen wir wieder in der Klasse `DatabaseTree` an.\n",
        "Hier ist der Docstring f\u00fcr die Methode `insert()`:\n",
        "\n",
        "```python \n",
        "def insert(self, node): \n",
        "    \"\"\"\n",
        "    Insert DatabaseNode object into self. The binary search tree property must be preserved. \n",
        "    \n",
        "    Args: \n",
        "        node (DatabaseNode): node to be inserted. \n",
        "    \n",
        "    Returns: \n",
        "        None \n",
        "        \n",
        "    \"\"\"\n",
        "```"
      ]
    },
    {
      "cell_type": "markdown",
      "id": "e5dbe6c7-43ca-4e2f-8f4b-cacb6d36406d",
      "metadata": {
        "cell_content_type": "markdown_selectable",
        "changed": false,
        "deletable": false,
        "original-content": "Eine wichtige Frage m\u00fcssen wir vor der Implementierung noch beantworten.\nWie k\u00f6nnen wir einen Datenpunkt in unseren Bin\u00e4rsuchbaum einf\u00fcgen, ohne die Bin\u00e4rsuchbaumeigenschaft zu verletzen? \nIm Prinzip gehen wir sehr \u00e4hnlich vor wie bei der Suche auch:\nWir suchen rekursiv nach dem Schl\u00fcssel unseres neuen Kontos.\nDen werden wir nicht finden, denn er muss einzigartig sein, darf also noch nicht vorhanden sein.\nStattdessen werden wir auf einen noch unbesetzten Platz stossen.\nGenau an diesen Platz k\u00f6nnen wir das Konto einf\u00fcgen. \n\nDer Algorithmus f\u00fcr `insert()` l\u00e4sst sich folgenderma\u00dfen beschreiben: \n1. Falls der Bin\u00e4rsuchbaum leer ist, f\u00fcge das neue Konto als Wurzel in den Baum ein und beende den Prozess. \n2. Andernfalls betrachte den Nutzernamen der Wurzel des Baums. Liegt der Nutzername des neuen Kontos im Alphabet vor dem Nutzernamen der Wurzel, fahre mit dem linken Kind der Wurzel fort. Liegt er dahinter, fahre mit dem rechten Kind fort, und nenne das entsprechende Kind Wurzel. Wiederhole alle Schritte ab 1. ",
        "protected": false,
        "selectable": true,
        "editable": false
      },
      "source": [
        "Eine wichtige Frage m\u00fcssen wir vor der Implementierung noch beantworten.\n",
        "Wie k\u00f6nnen wir einen Datenpunkt in unseren Bin\u00e4rsuchbaum einf\u00fcgen, ohne die Bin\u00e4rsuchbaumeigenschaft zu verletzen? \n",
        "Im Prinzip gehen wir sehr \u00e4hnlich vor wie bei der Suche auch:\n",
        "Wir suchen rekursiv nach dem Schl\u00fcssel unseres neuen Kontos.\n",
        "Den werden wir nicht finden, denn er muss einzigartig sein, darf also noch nicht vorhanden sein.\n",
        "Stattdessen werden wir auf einen noch unbesetzten Platz stossen.\n",
        "Genau an diesen Platz k\u00f6nnen wir das Konto einf\u00fcgen. \n",
        "\n",
        "Der Algorithmus f\u00fcr `insert()` l\u00e4sst sich folgenderma\u00dfen beschreiben: \n",
        "1. Falls der Bin\u00e4rsuchbaum leer ist, f\u00fcge das neue Konto als Wurzel in den Baum ein und beende den Prozess. \n",
        "2. Andernfalls betrachte den Nutzernamen der Wurzel des Baums. Liegt der Nutzername des neuen Kontos im Alphabet vor dem Nutzernamen der Wurzel, fahre mit dem linken Kind der Wurzel fort. Liegt er dahinter, fahre mit dem rechten Kind fort, und nenne das entsprechende Kind Wurzel. Wiederhole alle Schritte ab 1. "
      ]
    },
    {
      "cell_type": "markdown",
      "id": "2298a3bb-cc95-420c-bd76-1448bf6ac2c9",
      "metadata": {
        "cell_content_type": "markdown_default",
        "changed": false,
        "deletable": false,
        "original-content": "Nun bist du dran. In der n\u00e4chsten Aufgabe sollst du dir \u00fcberlegen, wo neue Nutzerkonten in unserem Beispielbaum eingef\u00fcgt werden sollen.\nNimm dir dazu nochmal deine Skizze des korrigierten Baums aus der obigen Abbildung, die du in Aufgabe 2 erstellst hast, zur Hand.",
        "protected": false,
        "selectable": false,
        "editable": false
      },
      "source": [
        "Nun bist du dran. In der n\u00e4chsten Aufgabe sollst du dir \u00fcberlegen, wo neue Nutzerkonten in unserem Beispielbaum eingef\u00fcgt werden sollen.\n",
        "Nimm dir dazu nochmal deine Skizze des korrigierten Baums aus der obigen Abbildung, die du in Aufgabe 2 erstellst hast, zur Hand."
      ]
    },
    {
      "cell_type": "markdown",
      "id": "4bed25fd-f3ba-4f22-bd3f-6fbd34f44a87",
      "metadata": {
        "cell_content_type": "markdown_default",
        "changed": false,
        "deletable": false,
        "original-content": "##### <font color=\"#3399DB\">Aufgabe 6</font>\n> F\u00fcge Nutzerkonten mit den Nutzernamen 'rahel123' und 'ali_ali' in den korrigierten Baum aus Aufgabe 2 ein.\n> Gehe vor, wie im Algorithmus beschrieben.\n> Wessen linkes Kind ist 'rahel123', wessen rechtes 'ali_ali'?\n> Notiere deine Ergebnisse wieder als Kommentare in der folgenden Zelle.",
        "protected": false,
        "selectable": false,
        "editable": false
      },
      "source": [
        "##### <font color=\"#3399DB\">Aufgabe 6</font>\n",
        "> F\u00fcge Nutzerkonten mit den Nutzernamen 'rahel123' und 'ali_ali' in den korrigierten Baum aus Aufgabe 2 ein.\n",
        "> Gehe vor, wie im Algorithmus beschrieben.\n",
        "> Wessen linkes Kind ist 'rahel123', wessen rechtes 'ali_ali'?\n",
        "> Notiere deine Ergebnisse wieder als Kommentare in der folgenden Zelle."
      ]
    },
    {
      "cell_type": "code",
      "execution_count": null,
      "id": "7ff224a8-5d3f-4c49-95f0-9ddad0180246",
      "metadata": {
        "cell_content_type": "code_user",
        "changed": false,
        "deletable": false,
        "editable": true,
        "hint": "Wenn du willst, kannst du diese Codezelle gern im Forum unter *Bin\u00e4rsuchb\u00e4ume* diskutieren.",
        "original-content": "",
        "protected": false,
        "selectable": true
      },
      "outputs": [],
      "source": []
    },
    {
      "cell_type": "markdown",
      "id": "9f80d7b4-82ea-4aaa-97cd-0b3503084237",
      "metadata": {
        "cell_content_type": "markdown_default",
        "changed": false,
        "deletable": false,
        "messageType": "vertiefung",
        "original-content": "**L\u00f6sung**: Einf\u00fcgen von 'rahel123' und 'ali_ali' in den Bin\u00e4rsuchbaum. \n<div class=\"details\">\n'rahel123' sollte nun das linke Kind von 'rita' sein, 'ali_ali' sollte das rechte Kind von 'alfred_10' sein. \n</div>",
        "protected": false,
        "selectable": false,
        "tags": [],
        "editable": false
      },
      "source": [
        "**L\u00f6sung**: Einf\u00fcgen von 'rahel123' und 'ali_ali' in den Bin\u00e4rsuchbaum. \n",
        "<div class=\"details\">\n",
        "'rahel123' sollte nun das linke Kind von 'rita' sein, 'ali_ali' sollte das rechte Kind von 'alfred_10' sein. \n",
        "</div>"
      ]
    },
    {
      "cell_type": "markdown",
      "id": "8e593e73-5687-4a71-9158-f143f8906c92",
      "metadata": {
        "cell_content_type": "markdown_selectable",
        "changed": false,
        "deletable": false,
        "original-content": "Nun, da wir die prinzipielle Vorgehensweise betrachtet haben, k\u00f6nnen wir die Implementierung f\u00fcr `find()` vorbereiten. \n\n\n##### <font color=\"#3399DB\">Aufgabe 7</font>\n> Schreibe zur Vorbereitung den Pseudocode f\u00fcr `insert()` und eventuelle Helferfunktionen auf. Strebe am besten wieder eine rekursive Implementierung an. ",
        "protected": false,
        "selectable": true,
        "editable": false
      },
      "source": [
        "Nun, da wir die prinzipielle Vorgehensweise betrachtet haben, k\u00f6nnen wir die Implementierung f\u00fcr `find()` vorbereiten. \n",
        "\n",
        "\n",
        "##### <font color=\"#3399DB\">Aufgabe 7</font>\n",
        "> Schreibe zur Vorbereitung den Pseudocode f\u00fcr `insert()` und eventuelle Helferfunktionen auf. Strebe am besten wieder eine rekursive Implementierung an. "
      ]
    },
    {
      "cell_type": "code",
      "execution_count": null,
      "id": "39377581-4a82-451e-bc46-ccaa3c7ae299",
      "metadata": {
        "cell_content_type": "code_user",
        "changed": false,
        "deletable": false,
        "editable": true,
        "hint": "Eine M\u00f6glichkeit ist, in `insert()` die Wurzel mit dem neuen Konto zu besetzen, falls der Baum leer ist, und ansonsten eine rekursive Helferfunktion aufzurufen, die nichts zur\u00fcckgibt. Der Basisfall im rekursiven Prozess ist der, in dem dsa n\u00e4chste betrachtete Kind None ist. Das neue Konto kann dann dort eingesetzt werden. Denke daran, dass der Prozess dann auch wirklich enden muss. ",
        "hint_counter": 0,
        "original-content": "",
        "protected": false,
        "selectable": true,
        "tags": []
      },
      "outputs": [],
      "source": []
    },
    {
      "cell_type": "markdown",
      "id": "4b35bdc4-6994-4d97-9a08-be53b3085f08",
      "metadata": {
        "cell_content_type": "markdown_selectable",
        "changed": false,
        "deletable": false,
        "original-content": "Wir sind nun soweit und k\u00f6nnen `insert()` implementieren. \n\n\n##### <font color=\"#3399DB\">Aufgabe 8</font>\n> Implementiere `insert()`. F\u00fcge die Methode wieder der Klasse `DatabaseTree` in deinem schon angelegten Skript *tree.py* hinzu.\n> Nutze anschlie\u00dfend wieder die vorbereiteten Tests, um deinen Code zu \u00fcberpr\u00fcfen.  ",
        "protected": false,
        "selectable": true,
        "editable": false
      },
      "source": [
        "Wir sind nun soweit und k\u00f6nnen `insert()` implementieren. \n",
        "\n",
        "\n",
        "##### <font color=\"#3399DB\">Aufgabe 8</font>\n",
        "> Implementiere `insert()`. F\u00fcge die Methode wieder der Klasse `DatabaseTree` in deinem schon angelegten Skript *tree.py* hinzu.\n",
        "> Nutze anschlie\u00dfend wieder die vorbereiteten Tests, um deinen Code zu \u00fcberpr\u00fcfen.  "
      ]
    },
    {
      "cell_type": "code",
      "execution_count": null,
      "id": "ecb17274-d6a2-4350-8a55-bb63753559be",
      "metadata": {
        "cell_content_type": "code_user",
        "changed": false,
        "deletable": false,
        "editable": true,
        "hint": "Wenn du willst, kannst du diese Codezelle gern im Forum unter *Bin\u00e4rsuchb\u00e4ume* diskutieren.",
        "original-content": "",
        "protected": false,
        "selectable": true
      },
      "outputs": [],
      "source": []
    },
    {
      "cell_type": "code",
      "execution_count": null,
      "id": "5b1c6c25-cb4c-47bd-b56e-1468a53e2223",
      "metadata": {
        "cell_content_type": "code_demo",
        "changed": false,
        "deletable": false,
        "editable": true,
        "hint": "Wenn du willst, kannst du diese Codezelle gern im Forum unter *Bin\u00e4rsuchb\u00e4ume* diskutieren.",
        "original-content": "!pytest test_tree.py::test_insert test_tree.py::test_insert_empty",
        "protected": false,
        "selectable": true
      },
      "outputs": [],
      "source": [
        "!pytest test_tree.py::test_insert test_tree.py::test_insert_empty"
      ]
    },
    {
      "cell_type": "markdown",
      "id": "dbda8c2c-deb1-43d0-a996-06868b375277",
      "metadata": {
        "cell_content_type": "markdown_selectable",
        "changed": false,
        "deletable": false,
        "original-content": "Hervorragend. Wird auf der Website ein neues Nutzerkonto erstellt, ruft das System im Hintergrund die Methode `insert()` der Klasse `DatabaseTree` auf. Mach dir zum Abschluss auch noch einmal Gedanken um die Laufzeitkomplexit\u00e4t von `insert()`.\n\n\n##### <font color=\"#3399DB\">Aufgabe 9</font>\n> Wenn $h$ die Anzahl der Knoten von der Wurzel bis zum am weitesten entfernten Kind angibt, welches ist dann die Laufzeitkomplexit\u00e4t von `insert()`? \n> \n> 1) $O(n)$\n> 2) $O(h)$\n> 3) $O(log \\: n)$\n> 4) $O(log \\: h)$\n> \n> Notiere deine Antwort als Kommentar in der folgenden Codezelle.",
        "protected": false,
        "selectable": true,
        "editable": false
      },
      "source": [
        "Hervorragend. Wird auf der Website ein neues Nutzerkonto erstellt, ruft das System im Hintergrund die Methode `insert()` der Klasse `DatabaseTree` auf. Mach dir zum Abschluss auch noch einmal Gedanken um die Laufzeitkomplexit\u00e4t von `insert()`.\n",
        "\n",
        "\n",
        "##### <font color=\"#3399DB\">Aufgabe 9</font>\n",
        "> Wenn $h$ die Anzahl der Knoten von der Wurzel bis zum am weitesten entfernten Kind angibt, welches ist dann die Laufzeitkomplexit\u00e4t von `insert()`? \n",
        "> \n",
        "> 1) $O(n)$\n",
        "> 2) $O(h)$\n",
        "> 3) $O(log \\: n)$\n",
        "> 4) $O(log \\: h)$\n",
        "> \n",
        "> Notiere deine Antwort als Kommentar in der folgenden Codezelle."
      ]
    },
    {
      "cell_type": "code",
      "execution_count": null,
      "id": "afb693df-299b-415b-aa1c-30860f3ca0b6",
      "metadata": {
        "cell_content_type": "code_user",
        "changed": false,
        "deletable": false,
        "editable": true,
        "hint": "Wenn du willst, kannst du diese Codezelle gern im Forum unter *Bin\u00e4rsuchb\u00e4ume* diskutieren.",
        "original-content": "",
        "protected": false,
        "selectable": true
      },
      "outputs": [],
      "source": []
    },
    {
      "cell_type": "markdown",
      "id": "7cebea67-b7f7-43ab-9a06-495890a3781f",
      "metadata": {
        "cell_content_type": "markdown_default",
        "original-content": "Die L\u00f6sung zu Aufgabe 9 kannst du wieder sehen, wenn du die folgende Box aufklappst. ",
        "deletable": false,
        "editable": false,
        "changed": false,
        "selectable": false
      },
      "source": [
        "Die L\u00f6sung zu Aufgabe 9 kannst du wieder sehen, wenn du die folgende Box aufklappst. "
      ]
    },
    {
      "cell_type": "markdown",
      "id": "d1f39794-8765-4d33-9a25-1bba1227d400",
      "metadata": {
        "cell_content_type": "markdown_selectable",
        "changed": false,
        "deletable": false,
        "messageType": "vertiefung",
        "original-content": "**L\u00f6sung**: Laufzeitkomplexit\u00e4t von `insert()`. \n<div class=\"details\">\nIm schlechtesten Fall muss der Baum bis zum Blatt mit dem gr\u00f6\u00dften Abstand zur Wurzel durchlaufen werden, um den neuen Knoten dort einzuf\u00fcgen. \nWeil auf dem Weg wieder alle durchlaufenen Knoten besucht werden, ergibt sich auch hier eine Laufzeitkomplexit\u00e4t von $O(h)$.\n</div>",
        "protected": false,
        "selectable": true,
        "tags": [],
        "editable": false
      },
      "source": [
        "**L\u00f6sung**: Laufzeitkomplexit\u00e4t von `insert()`. \n",
        "<div class=\"details\">\n",
        "Im schlechtesten Fall muss der Baum bis zum Blatt mit dem gr\u00f6\u00dften Abstand zur Wurzel durchlaufen werden, um den neuen Knoten dort einzuf\u00fcgen. \n",
        "Weil auf dem Weg wieder alle durchlaufenen Knoten besucht werden, ergibt sich auch hier eine Laufzeitkomplexit\u00e4t von $O(h)$.\n",
        "</div>"
      ]
    },
    {
      "cell_type": "markdown",
      "id": "ddba2099-e1f8-4628-9c9f-ac6c800d5f7f",
      "metadata": {
        "cell_content_type": "markdown_default",
        "changed": false,
        "deletable": false,
        "messageType": "glueckwunsch",
        "original-content": "**Gl\u00fcckwunsch**:\nDu hast die Datenstruktur als Bin\u00e4rsuchbaum implementiert. Im System k\u00f6nnen nun neue Nutzerkonten problemlos eingef\u00fcgt und gefunden werden. Du beobachtest den Aufbau des Systems eine Weile, um sicherzugehen, dass der Baum keine starke Unausgeglichenheit aufweist. ",
        "protected": false,
        "selectable": false,
        "tags": [],
        "editable": false
      },
      "source": [
        "**Gl\u00fcckwunsch**:\n",
        "Du hast die Datenstruktur als Bin\u00e4rsuchbaum implementiert. Im System k\u00f6nnen nun neue Nutzerkonten problemlos eingef\u00fcgt und gefunden werden. Du beobachtest den Aufbau des Systems eine Weile, um sicherzugehen, dass der Baum keine starke Unausgeglichenheit aufweist. "
      ]
    },
    {
      "cell_type": "markdown",
      "id": "88b2737f-ddaa-4c29-a731-977e3e65b4f4",
      "metadata": {
        "cell_content_type": "markdown_default",
        "changed": false,
        "deletable": false,
        "messageType": "merke",
        "original-content": "**Merke**: \n* Ein Bin\u00e4rbaum ist eine Datenstruktur, in der jeder Knoten maximal zwei Kinder hat, die wieder Bin\u00e4rb\u00e4ume sind.\n* Erf\u00fcllt ein Bin\u00e4rbaum die Bin\u00e4rsuchbaumeigenschaft, so sprechen wir von einem Bin\u00e4rsuchbaum. \n* Der Bin\u00e4rsuchbaum ist eine Mengenstruktur. Er verwaltet Daten nicht in einer vom Nutzer vorgegebenen Reihenfolge. \n* Bin\u00e4rsuchbaume sind gut daf\u00fcr geeignet, mit einem Schl\u00fcssel nach Knoten zu suchen und Knoten einzuf\u00fcgen.\n* Ausgeglichene Bin\u00e4rsuchb\u00e4ume sind besser darin, Knoten zu finden, als unausgeglichene. Das Ausbalancieren selbst ist allerdings mit Aufwand beim Einf\u00fcgen und Entfernen von Knoten verbunden. ",
        "protected": false,
        "selectable": false,
        "tags": [],
        "editable": false
      },
      "source": [
        "**Merke**: \n",
        "* Ein Bin\u00e4rbaum ist eine Datenstruktur, in der jeder Knoten maximal zwei Kinder hat, die wieder Bin\u00e4rb\u00e4ume sind.\n",
        "* Erf\u00fcllt ein Bin\u00e4rbaum die Bin\u00e4rsuchbaumeigenschaft, so sprechen wir von einem Bin\u00e4rsuchbaum. \n",
        "* Der Bin\u00e4rsuchbaum ist eine Mengenstruktur. Er verwaltet Daten nicht in einer vom Nutzer vorgegebenen Reihenfolge. \n",
        "* Bin\u00e4rsuchbaume sind gut daf\u00fcr geeignet, mit einem Schl\u00fcssel nach Knoten zu suchen und Knoten einzuf\u00fcgen.\n",
        "* Ausgeglichene Bin\u00e4rsuchb\u00e4ume sind besser darin, Knoten zu finden, als unausgeglichene. Das Ausbalancieren selbst ist allerdings mit Aufwand beim Einf\u00fcgen und Entfernen von Knoten verbunden. "
      ]
    },
    {
      "cell_type": "markdown",
      "id": "114c7435",
      "metadata": {
        "cell_content_type": "markdown_default",
        "changed": false,
        "deletable": false,
        "original-content": "***\nHast du eine Frage zu dieser \u00dcbung? Schau ins Forum, ob sie bereits gestellt und beantwortet wurde.\n***\nFehler gefunden? Kontaktiere den Support unter support@stackfuel.com .\n***",
        "protected": false,
        "selectable": false,
        "editable": false
      },
      "source": [
        "***\n",
        "Hast du eine Frage zu dieser \u00dcbung? Schau ins Forum, ob sie bereits gestellt und beantwortet wurde.\n",
        "***\n",
        "Fehler gefunden? Kontaktiere den Support unter support@stackfuel.com .\n",
        "***"
      ]
    }
  ],
  "metadata": {
    "content_id": "b0bf1f06-575a-4370-8123-ec4f2efd3a5d",
    "content_language": "de",
    "content_title": "Bin\u00e4rsuchb\u00e4ume",
    "content_type": "exercise",
    "kernelspec": {
      "display_name": "Python 3 (ipykernel)",
      "language": "python",
      "name": "python3"
    },
    "language_info": {
      "codemirror_mode": {
        "name": "ipython",
        "version": 3
      },
      "file_extension": ".py",
      "mimetype": "text/x-python",
      "name": "python",
      "nbconvert_exporter": "python",
      "pygments_lexer": "ipython3",
      "version": "3.8.10"
    }
  },
  "nbformat": 4,
  "nbformat_minor": 5
}