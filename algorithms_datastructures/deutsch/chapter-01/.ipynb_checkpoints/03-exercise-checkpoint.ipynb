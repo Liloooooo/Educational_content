{
  "cells": [
    {
      "cell_type": "markdown",
      "id": "bbbaf4ce-dfc3-4e70-8ce5-dfed91165b3a",
      "metadata": {
        "cell_content_type": "markdown_selectable",
        "changed": false,
        "deletable": false,
        "editable": false,
        "original-content": "# Optional: Linked Lists II (L\u00f6sung) \nModul Algorithmen & Datenstrukturen | Kapitel 1 | Notebook 3\n\n***\nIn dieser \u00dcbung werden wir unsere Warteschleife zus\u00e4tzlich mit einer Methode ausstatten, die Auftr\u00e4ge aus der Mitte entfernt. Au\u00dferdem werden wir die Methode `len()` implementieren und hierbei *data structure augmentation* nutzen. Nach dieser \u00dcbung kannst du: \n\n\n* die Linked List selbst\u00e4ndig um eine (rekursiven) Methode und eventuelle Helferfunktionen erweitern, \n* *data structure augmentation* einsetzen, um Code effizienter zu gestalten. \n***",
        "protected": false,
        "selectable": true,
        "tags": []
      },
      "source": [
        "# Optional: Linked Lists II\n",
        "Modul Algorithmen & Datenstrukturen | Kapitel 1 | Notebook 3\n",
        "\n",
        "***\n",
        "In dieser \u00dcbung werden wir unsere Warteschleife zus\u00e4tzlich mit einer Methode ausstatten, die Auftr\u00e4ge aus der Mitte entfernt. Au\u00dferdem werden wir die Methode `len()` implementieren und hierbei *data structure augmentation* nutzen. Nach dieser \u00dcbung kannst du: \n",
        "\n",
        "\n",
        "* die Linked List selbst\u00e4ndig um eine (rekursiven) Methode und eventuelle Helferfunktionen erweitern, \n",
        "* *data structure augmentation* einsetzen, um Code effizienter zu gestalten. \n",
        "***"
      ]
    },
    {
      "cell_type": "markdown",
      "id": "bf8d20cc-0233-496a-ac0e-2c47f3c45b2c",
      "metadata": {
        "cell_content_type": "markdown_default",
        "changed": false,
        "deletable": false,
        "editable": false,
        "messageType": "szenario",
        "original-content": "**Szenario:**\nBei dem Online-Versandh\u00e4ndler h\u00e4ufen sich inzwischen die Auftragseing\u00e4nge. Leider f\u00fchrt das auch zu einem erh\u00f6hten Aufkommen an Stornierungen. Deine Datenstruktur leistet gute Dienste, und die Gesch\u00e4ftsf\u00fchrerung bittet dich, auch eine Methode zum Entfernen von Auftr\u00e4gen anzulegen. Der jeweilige Auftrag soll \u00fcber die Auftragsnummer gefunden werden. \nSie w\u00fcnscht au\u00dferdem, den Umfang der aktuell offenen Auftr\u00e4ge jederzeit einsehen zu k\u00f6nnen. ",
        "protected": false,
        "selectable": false,
        "tags": []
      },
      "source": [
        "**Szenario:**\n",
        "Bei dem Online-Versandh\u00e4ndler h\u00e4ufen sich inzwischen die Auftragseing\u00e4nge. Leider f\u00fchrt das auch zu einem erh\u00f6hten Aufkommen an Stornierungen. Deine Datenstruktur leistet gute Dienste, und die Gesch\u00e4ftsf\u00fchrerung bittet dich, auch eine Methode zum Entfernen von Auftr\u00e4gen anzulegen. Der jeweilige Auftrag soll \u00fcber die Auftragsnummer gefunden werden. \n",
        "Sie w\u00fcnscht au\u00dferdem, den Umfang der aktuell offenen Auftr\u00e4ge jederzeit einsehen zu k\u00f6nnen. "
      ]
    },
    {
      "cell_type": "markdown",
      "id": "8e5c2758-fddb-4b54-b1d8-5e1cb57f822e",
      "metadata": {
        "cell_content_type": "markdown_selectable",
        "changed": false,
        "deletable": false,
        "editable": false,
        "original-content": "In dieser \u00dcbung werden wir uns zun\u00e4chst um das erste Anliegen der Gesch\u00e4ftsf\u00fchrung k\u00fcmmern: Wir werden eine Methode implementieren, mithilfe derer wir Auftr\u00e4ge aus der Warteschleife entfernen k\u00f6nnen. Im Gegensatz zu `delete_first()` findet sich der Auftrag aber nicht notwendigerweise am Anfang der Warteschleife. Er soll \u00fcber die einmalig vergebene Auftragsnummer gefunden werden. Das Attribut `order_id` haben wir in unserer Klasse `LLQueue` bereits angelegt. ",
        "protected": false,
        "selectable": true
      },
      "source": [
        "In dieser \u00dcbung werden wir uns zun\u00e4chst um das erste Anliegen der Gesch\u00e4ftsf\u00fchrung k\u00fcmmern: Wir werden eine Methode implementieren, mithilfe derer wir Auftr\u00e4ge aus der Warteschleife entfernen k\u00f6nnen. Im Gegensatz zu `delete_first()` findet sich der Auftrag aber nicht notwendigerweise am Anfang der Warteschleife. Er soll \u00fcber die einmalig vergebene Auftragsnummer gefunden werden. Das Attribut `order_id` haben wir in unserer Klasse `LLQueue` bereits angelegt. "
      ]
    },
    {
      "cell_type": "markdown",
      "id": "29c7f34e-65d7-44d2-b610-15b2c5904af0",
      "metadata": {
        "cell_content_type": "markdown_default",
        "changed": false,
        "deletable": false,
        "editable": false,
        "original-content": "Bevor wir loslegen, ein kleiner Hinweis vorweg: \nDie \u00dcbung ist bewusst offen gehalten. Du kannst sie nutzen, um deine F\u00e4higkeiten im Methodendesign zu vertiefen. \nHierdurch ist durchaus m\u00f6glich, dass du etwas mehr Zeit als gew\u00f6hnlich ben\u00f6tigst, um eine gute Struktur zu finden, und um alle Eventualit\u00e4ten in deinem Code unterzubringen. Wir stellen dir den Pseudocode hier im Notebook zur Verf\u00fcgung, f\u00fcr den Fall, dass du nicht weiterkommst. Probiere aber am besten erstmal aus, ob du die L\u00f6sung alleine finden kannst.",
        "protected": false,
        "selectable": false
      },
      "source": [
        "Bevor wir loslegen, ein kleiner Hinweis vorweg: \n",
        "Die \u00dcbung ist bewusst offen gehalten. Du kannst sie nutzen, um deine F\u00e4higkeiten im Methodendesign zu vertiefen. \n",
        "Hierdurch ist durchaus m\u00f6glich, dass du etwas mehr Zeit als gew\u00f6hnlich ben\u00f6tigst, um eine gute Struktur zu finden, und um alle Eventualit\u00e4ten in deinem Code unterzubringen. Wir stellen dir den Pseudocode hier im Notebook zur Verf\u00fcgung, f\u00fcr den Fall, dass du nicht weiterkommst. Probiere aber am besten erstmal aus, ob du die L\u00f6sung alleine finden kannst."
      ]
    },
    {
      "cell_type": "markdown",
      "id": "1a8ab1e2-f7bc-4edd-92f7-a2104a330079",
      "metadata": {
        "cell_content_type": "markdown_default",
        "changed": false,
        "deletable": false,
        "editable": false,
        "original-content": "## Ein Element aus der Mitte entfernen",
        "protected": false,
        "selectable": false
      },
      "source": [
        "## Ein Element aus der Mitte entfernen"
      ]
    },
    {
      "cell_type": "markdown",
      "id": "7792e082-8b2e-4e7d-bb9d-07f3ba593e0a",
      "metadata": {
        "cell_content_type": "markdown_default",
        "changed": false,
        "deletable": false,
        "original-content": "In der vorigen \u00dcbung hast du eine modifizierte Linked List implementiert, die sich hervorragend als Warteschleife eignet.  \nNun hat der Versandh\u00e4ndler eine neue Anforderung: wird ein Auftrag storniert, so muss er entfernt werden. ",
        "protected": false,
        "selectable": false,
        "editable": false
      },
      "source": [
        "In der vorigen \u00dcbung hast du eine modifizierte Linked List implementiert, die sich hervorragend als Warteschleife eignet.  \n",
        "Nun hat der Versandh\u00e4ndler eine neue Anforderung: wird ein Auftrag storniert, so muss er entfernt werden. "
      ]
    },
    {
      "cell_type": "markdown",
      "id": "6f94f1e0-6cf3-4bf8-9f6d-cb0cc6d568d7",
      "metadata": {
        "cell_content_type": "markdown_selectable",
        "changed": false,
        "deletable": false,
        "editable": false,
        "original-content": "Die Methode `delete_node()` werden wir in der Klasse `LLQueue` anlegen. \n\n```python \ndef delete_node(self, order_id): \n    \"\"\"\n    Delete node with specific order_id. Return deleted node, and None if nothing found. Print message if nothing is found. \n\n    Args: \n        order_id (int): unique order_id of LinkedNode object to be deleted from self. \n\n    Returns: \n        Deleted node (LinkedNode), None is self was empty.  \n\n    \"\"\"\n    \n```",
        "protected": false,
        "selectable": true
      },
      "source": [
        "Die Methode `delete_node()` werden wir in der Klasse `LLQueue` anlegen. \n",
        "\n",
        "```python \n",
        "def delete_node(self, order_id): \n",
        "    \"\"\"\n",
        "    Delete node with specific order_id. Return deleted node, and None if nothing found. Print message if nothing is found. \n",
        "\n",
        "    Args: \n",
        "        order_id (int): unique order_id of LinkedNode object to be deleted from self. \n",
        "\n",
        "    Returns: \n",
        "        Deleted node (LinkedNode), None is self was empty.  \n",
        "\n",
        "    \"\"\"\n",
        "    \n",
        "```"
      ]
    },
    {
      "cell_type": "markdown",
      "id": "c5f59398-5b54-4329-bdc2-06ee1b19653f",
      "metadata": {
        "cell_content_type": "markdown_selectable",
        "changed": false,
        "deletable": false,
        "editable": false,
        "original-content": "Wir haben uns im Vorfeld eine Menge Gedanken um die Laufzeitkomplexit\u00e4ten unserer Methoden gemacht. Sowohl `delete_first()` als auch `insert_last()` lie\u00dfen sich in $O(1)$ implementieren. Mit dem Entfernen von Auftr\u00e4gen aus der Mitte hatten wir uns hingegen noch nicht besch\u00e4ftigt. Das werden wir hier nachholen. Welches ist also die bestm\u00f6gliche Laufzeitkomplexit\u00e4t, in Big O-Notation, von `delete_node()`?\n\nIm Gegensatz zu `delete_first()` und `insert_last()` wissen wir nun nicht mehr, wo sich der zu entfernende Auftrag befindet. Das bedeutet, wir m\u00fcssen ihn, beziehungsweise seinen Vorg\u00e4nger, zun\u00e4chst finden. Erst anschlie\u00dfend k\u00f6nnen wir die Pointer neu setzen und so den Auftrag entfernen. Die Methode `delete_node()` soll beide Aufgaben abarbeiten. In den folgenden drei Fragen sollst du dir Gedanken um die Laufzeitkomplexit\u00e4ten dieser Aufgaben und der gesamten Methode machen. Die L\u00f6sungen zu den Aufgaben findest du in den folgenden aufklappbaren Boxen. ",
        "protected": false,
        "selectable": true
      },
      "source": [
        "Wir haben uns im Vorfeld eine Menge Gedanken um die Laufzeitkomplexit\u00e4ten unserer Methoden gemacht. Sowohl `delete_first()` als auch `insert_last()` lie\u00dfen sich in $O(1)$ implementieren. Mit dem Entfernen von Auftr\u00e4gen aus der Mitte hatten wir uns hingegen noch nicht besch\u00e4ftigt. Das werden wir hier nachholen. Welches ist also die bestm\u00f6gliche Laufzeitkomplexit\u00e4t, in Big O-Notation, von `delete_node()`?\n",
        "\n",
        "Im Gegensatz zu `delete_first()` und `insert_last()` wissen wir nun nicht mehr, wo sich der zu entfernende Auftrag befindet. Das bedeutet, wir m\u00fcssen ihn, beziehungsweise seinen Vorg\u00e4nger, zun\u00e4chst finden. Erst anschlie\u00dfend k\u00f6nnen wir die Pointer neu setzen und so den Auftrag entfernen. Die Methode `delete_node()` soll beide Aufgaben abarbeiten. In den folgenden drei Fragen sollst du dir Gedanken um die Laufzeitkomplexit\u00e4ten dieser Aufgaben und der gesamten Methode machen. Die L\u00f6sungen zu den Aufgaben findest du in den folgenden aufklappbaren Boxen. "
      ]
    },
    {
      "cell_type": "markdown",
      "id": "23088864-ac6c-417e-8668-9c64707362aa",
      "metadata": {
        "cell_content_type": "markdown_selectable",
        "changed": false,
        "deletable": false,
        "editable": false,
        "original-content": "##### <font color=\"#3399DB\">Aufgabe 1</font>\n> Welches ist die Laufzeitkomplexit\u00e4t f\u00fcr das **Auffinden** eines Auftrags nach Auftragsnummer in `LLQueue`? Welches ist der schlechteste Fall? Nutze die folgende Codezelle f\u00fcr deine Notizen. ",
        "protected": false,
        "selectable": true
      },
      "source": [
        "##### <font color=\"#3399DB\">Aufgabe 1</font>\n",
        "> Welches ist die Laufzeitkomplexit\u00e4t f\u00fcr das **Auffinden** eines Auftrags nach Auftragsnummer in `LLQueue`? Welches ist der schlechteste Fall? Nutze die folgende Codezelle f\u00fcr deine Notizen. "
      ]
    },
    {
      "cell_type": "code",
      "execution_count": null,
      "id": "99c2dcd2-d2bb-4613-b250-908de7f09907",
      "metadata": {
        "cell_content_type": "code_user",
        "changed": false,
        "deletable": false,
        "editable": true,
        "hint": "Wenn du willst, kannst du diese Codezelle gern im Forum unter *Optional: Linked Lists II* diskutieren.",
        "original-content": "",
        "protected": false,
        "selectable": true
      },
      "outputs": [],
      "source": []
    },
    {
      "cell_type": "markdown",
      "id": "0c199b0c-23ab-48d5-86d7-9e4dd7266de2",
      "metadata": {
        "cell_content_type": "markdown_default",
        "changed": false,
        "deletable": false,
        "editable": false,
        "messageType": "vertiefung",
        "original-content": "**L\u00f6sung**: Auffinden eines Auftrags in der *Linked List*.\n\n<div class=\"details\">\n\nAufgrund der Art und Weise, wie die *Linked List* auf dem Speicher angelegt ist, m\u00fcssen von vorne beginnend alle Auftr\u00e4ge besucht werden, bis das gesuchte gefunden wurde, oder kein Auftrag zu der vorgegebenen Auftragsnummer gefunden wurde. Der schlechteste Fall tritt in jedem Fall dann ein, wenn der Auftrag nicht gefunden wurde. Die Laufzeitkomplexit\u00e4t ist linear, also $O(n)$.  \n\n</div>\n",
        "protected": false,
        "selectable": false,
        "tags": []
      },
      "source": [
        "**L\u00f6sung**: Auffinden eines Auftrags in der *Linked List*.\n",
        "\n",
        "<div class=\"details\">\n",
        "\n",
        "Aufgrund der Art und Weise, wie die *Linked List* auf dem Speicher angelegt ist, m\u00fcssen von vorne beginnend alle Auftr\u00e4ge besucht werden, bis das gesuchte gefunden wurde, oder kein Auftrag zu der vorgegebenen Auftragsnummer gefunden wurde. Der schlechteste Fall tritt in jedem Fall dann ein, wenn der Auftrag nicht gefunden wurde. Die Laufzeitkomplexit\u00e4t ist linear, also $O(n)$.  \n",
        "\n",
        "</div>\n"
      ]
    },
    {
      "cell_type": "markdown",
      "id": "1fef22ad-1f29-47f0-850e-86049bd0d500",
      "metadata": {
        "cell_content_type": "markdown_selectable",
        "changed": false,
        "deletable": false,
        "editable": false,
        "original-content": "##### <font color=\"#3399DB\">Aufgabe 2</font>\n> Welches ist die Laufzeitkomplexit\u00e4t f\u00fcr das **Entfernen** eines Auftrags in `LLQueue`, wenn der Auftrag, beziehungsweise dessen Vorg\u00e4nger, bereits gefunden wurde? Nutze die folgende Codezelle f\u00fcr deine Notizen. ",
        "protected": false,
        "selectable": true
      },
      "source": [
        "##### <font color=\"#3399DB\">Aufgabe 2</font>\n",
        "> Welches ist die Laufzeitkomplexit\u00e4t f\u00fcr das **Entfernen** eines Auftrags in `LLQueue`, wenn der Auftrag, beziehungsweise dessen Vorg\u00e4nger, bereits gefunden wurde? Nutze die folgende Codezelle f\u00fcr deine Notizen. "
      ]
    },
    {
      "cell_type": "code",
      "execution_count": null,
      "id": "c421d2a2-83f1-4c0f-9fe3-d4a801c41dc1",
      "metadata": {
        "cell_content_type": "code_user",
        "changed": false,
        "deletable": false,
        "editable": true,
        "hint": "Wenn du willst, kannst du diese Codezelle gern im Forum unter *Optional: Linked Lists II* diskutieren.",
        "hint_counter": 0,
        "original-content": "",
        "protected": false,
        "selectable": true,
        "tags": []
      },
      "outputs": [],
      "source": []
    },
    {
      "cell_type": "markdown",
      "id": "6862a8ef-0d17-4157-b74b-42cb6fff9f4f",
      "metadata": {
        "cell_content_type": "markdown_default",
        "changed": false,
        "deletable": false,
        "editable": false,
        "messageType": "vertiefung",
        "original-content": "**L\u00f6sung:** Entfernen eines Auftrags aus der *Linked List*.\n\n<div class=\"details\">\nF\u00fcr das Entfernen selbst muss lediglich der Pointer des vorangegangenen Elements umgelenkt werden. Das ist unabh\u00e4ngig von der Anzahl der Elemente in der *Linked List*, somit $O(1)$.\n</div>",
        "protected": false,
        "selectable": false,
        "tags": []
      },
      "source": [
        "**L\u00f6sung:** Entfernen eines Auftrags aus der *Linked List*.\n",
        "\n",
        "<div class=\"details\">\n",
        "F\u00fcr das Entfernen selbst muss lediglich der Pointer des vorangegangenen Elements umgelenkt werden. Das ist unabh\u00e4ngig von der Anzahl der Elemente in der *Linked List*, somit $O(1)$.\n",
        "</div>"
      ]
    },
    {
      "cell_type": "markdown",
      "id": "2956d3b1-2baf-4e49-99e0-a23d0ac0e4a0",
      "metadata": {
        "cell_content_type": "markdown_selectable",
        "changed": false,
        "deletable": false,
        "editable": false,
        "original-content": "##### <font color=\"#3399DB\">Aufgabe 3</font>\n> Welches ist die Laufzeitkomplexit\u00e4t von `delete_node()`? Die Methode soll sowohl das Auffinden des Vorg\u00e4ngers als auch das Entfernen des Auftrags beinhalten. Nutze die folgende Codezelle f\u00fcr deine Notizen.",
        "protected": false,
        "selectable": true,
        "tags": []
      },
      "source": [
        "##### <font color=\"#3399DB\">Aufgabe 3</font>\n",
        "> Welches ist die Laufzeitkomplexit\u00e4t von `delete_node()`? Die Methode soll sowohl das Auffinden des Vorg\u00e4ngers als auch das Entfernen des Auftrags beinhalten. Nutze die folgende Codezelle f\u00fcr deine Notizen."
      ]
    },
    {
      "cell_type": "code",
      "execution_count": null,
      "id": "f3b82cdd-8cff-46fd-9cd6-fbf1909b3b3b",
      "metadata": {
        "cell_content_type": "code_user",
        "changed": false,
        "deletable": false,
        "editable": true,
        "hint": "Wenn du willst, kannst du diese Codezelle gern im Forum unter *Optional: Linked Lists II* diskutieren.",
        "original-content": "",
        "protected": false,
        "selectable": true
      },
      "outputs": [],
      "source": []
    },
    {
      "cell_type": "markdown",
      "id": "4ec04505-d0bb-4e8b-8d32-825e30d83891",
      "metadata": {
        "cell_content_type": "markdown_selectable",
        "changed": false,
        "deletable": false,
        "editable": false,
        "messageType": "vertiefung",
        "original-content": "**L\u00f6sung:** Laufzeitkomplexit\u00e4t von `delete_node()`. \n\n<div class=\"details\">\nDas Auffinden des Vorg\u00e4ngers hat eine lineare Laufzeit, w\u00e4hrend das Entfernen konstant ist. Damit dominiert das Auffinden und die gesamte Laufzeitkomplexit\u00e4t ist linear, also $O(n)$. \n</div>",
        "protected": false,
        "selectable": true,
        "tags": []
      },
      "source": [
        "**L\u00f6sung:** Laufzeitkomplexit\u00e4t von `delete_node()`. \n",
        "\n",
        "<div class=\"details\">\n",
        "Das Auffinden des Vorg\u00e4ngers hat eine lineare Laufzeit, w\u00e4hrend das Entfernen konstant ist. Damit dominiert das Auffinden und die gesamte Laufzeitkomplexit\u00e4t ist linear, also $O(n)$. \n",
        "</div>"
      ]
    },
    {
      "cell_type": "markdown",
      "id": "cf4bda09-3bea-48d5-b26c-f0e5d6db3efc",
      "metadata": {
        "cell_content_type": "markdown_selectable",
        "changed": false,
        "deletable": false,
        "editable": false,
        "original-content": "Nachdem wir uns Gedanken \u00fcber die Laufzeitkomplexit\u00e4t von `delete_node()` gemacht haben, k\u00f6nnen wir uns an die Implementierung machen. Als n\u00e4chsten Schritt werden wir zun\u00e4chst Pseudocode entwerfen. So k\u00f6nnen wir uns im Vorfeld bereits \u00fcberlegen, welche Helferfunktionen wir nutzen k\u00f6nnen. \n\nWir sollten an dieser Stelle auch entscheiden, ob wir die Methode iterativ oder rekursiv implementieren wollen. In der ersten \u00dcbung hatten wir festgestellt, dass sich eine rekursive L\u00f6sung immer dann anbietet, wenn sich ein Problem in mehrere kleinere, aber im Wesentlichen identische Unterprobleme zerlegen l\u00e4sst. Ein Beispiel hierf\u00fcr war die bin\u00e4re Suche. Unser vorliegendes Problem gleicht der linearen Suche, f\u00fcr die sich ein iterativer Algorithmus eher anbietet. \nDie rekursive L\u00f6sung bietet sich hier vor allem zu \u00dcbungszwecken an. Daher nutzt der vorgeschlagene Pseudocode auch die rekursive Version. Wenn du eine iterative L\u00f6sung bevorzugst, kannst du sie nat\u00fcrlich auch implementieren. \n\n",
        "protected": false,
        "selectable": true
      },
      "source": [
        "Nachdem wir uns Gedanken \u00fcber die Laufzeitkomplexit\u00e4t von `delete_node()` gemacht haben, k\u00f6nnen wir uns an die Implementierung machen. Als n\u00e4chsten Schritt werden wir zun\u00e4chst Pseudocode entwerfen. So k\u00f6nnen wir uns im Vorfeld bereits \u00fcberlegen, welche Helferfunktionen wir nutzen k\u00f6nnen. \n",
        "\n",
        "Wir sollten an dieser Stelle auch entscheiden, ob wir die Methode iterativ oder rekursiv implementieren wollen. In der ersten \u00dcbung hatten wir festgestellt, dass sich eine rekursive L\u00f6sung immer dann anbietet, wenn sich ein Problem in mehrere kleinere, aber im Wesentlichen identische Unterprobleme zerlegen l\u00e4sst. Ein Beispiel hierf\u00fcr war die bin\u00e4re Suche. Unser vorliegendes Problem gleicht der linearen Suche, f\u00fcr die sich ein iterativer Algorithmus eher anbietet. \n",
        "Die rekursive L\u00f6sung bietet sich hier vor allem zu \u00dcbungszwecken an. Daher nutzt der vorgeschlagene Pseudocode auch die rekursive Version. Wenn du eine iterative L\u00f6sung bevorzugst, kannst du sie nat\u00fcrlich auch implementieren. \n",
        "\n"
      ]
    },
    {
      "cell_type": "markdown",
      "id": "3599d3e8-cb44-49c2-989d-03a7d1f9f2c3",
      "metadata": {
        "cell_content_type": "markdown_selectable",
        "changed": false,
        "deletable": false,
        "editable": false,
        "original-content": "##### <font color=\"#3399DB\">Aufgabe 4</font>\n> Formuliere Pseudocode f\u00fcr `delete_node()`. Welche Helferfunktion(en) ben\u00f6tigst du? Schreibe deine Notizen in die folgende Codezelle. Achte darauf, dass du die Methode in der bestm\u00f6glichen Laufzeitkomplexit\u00e4t implementierst. Einen m\u00f6glichen Pseudocode findest du in der folgenden aufklappbaren Box. ",
        "protected": false,
        "selectable": true
      },
      "source": [
        "##### <font color=\"#3399DB\">Aufgabe 4</font>\n",
        "> Formuliere Pseudocode f\u00fcr `delete_node()`. Welche Helferfunktion(en) ben\u00f6tigst du? Schreibe deine Notizen in die folgende Codezelle. Achte darauf, dass du die Methode in der bestm\u00f6glichen Laufzeitkomplexit\u00e4t implementierst. Einen m\u00f6glichen Pseudocode findest du in der folgenden aufklappbaren Box. "
      ]
    },
    {
      "cell_type": "code",
      "execution_count": null,
      "id": "bc07cce9-fe24-4fa8-898b-6838180c265c",
      "metadata": {
        "cell_content_type": "code_user",
        "changed": false,
        "deletable": false,
        "editable": true,
        "hint": "Wenn du willst, kannst du diese Codezelle gern im Forum unter *Optional: Linked Lists II* diskutieren.",
        "hint_counter": 0,
        "original-content": "",
        "protected": false,
        "selectable": true,
        "tags": []
      },
      "outputs": [],
      "source": []
    },
    {
      "cell_type": "markdown",
      "id": "79f448e3-c28b-4d3d-81f1-519abac8270c",
      "metadata": {
        "cell_content_type": "markdown_selectable",
        "changed": false,
        "deletable": false,
        "editable": false,
        "hint_counter": 2,
        "messageType": "vertiefung",
        "original-content": "**M\u00f6gliche L\u00f6sung:** Pseudocode f\u00fcr `delete_node()`. \n\n<div class=\"details\">\n\nDa sich die Aufgabe sehr klar in Teilaufgaben (Finden und Entfernen) aufteilen l\u00e4sst, bietet es sich an, auch die Struktur der Methode entsprechend zu gestalten. Als Helferfunktion k\u00f6nnen wir rekursiv das Auffinden implementieren, und in der Hauptmethode dann darauf zur\u00fcckgreifen.  \nDer Pseudocode k\u00f6nnte in etwa folgenderma\u00dfen aussehen: \n\n\n> **Input:** `order_id` (`int`)\n> * if queue is empty -> return None     \n> * Else if queue is not empty:\n>   * find_previous in self (helper function)\n>   * if previous node is None:\n>     *   if node itself is head node -> return delete_first() (implemented)\n>     *   else if node itself is not found -> return None\n>   * else if previous node was found:\n>       * adjust next pointers \n>       * if node is tail -> update tail-pointer and return node\n> \n> Helper function: *find_previous()*\n>\n> **Input:** `order_id` (`int`), start_node(`LinkedNode`, helper for recursion):\n> \n> **Process:**\n> * **Base case 1**: If start_node has `order_id`: -> Return None (is not previous)\n> * **Base case 2**: If Linked List fully searched, nothing found -> Return None  (nothing found)\n> * **Base case 3**: If next element has `order_id`: -> return start_node (previous node found)\n> \n> **Recursive step:** \n> * Else if linked list not fully searched and node not found:\n>   * set `start_node` to next element\n>   * call function recursively with new `start_node` (and return it)\n\n</div>",
        "protected": false,
        "selectable": true,
        "tags": []
      },
      "source": [
        "**M\u00f6gliche L\u00f6sung:** Pseudocode f\u00fcr `delete_node()`. \n",
        "\n",
        "<div class=\"details\">\n",
        "\n",
        "Da sich die Aufgabe sehr klar in Teilaufgaben (Finden und Entfernen) aufteilen l\u00e4sst, bietet es sich an, auch die Struktur der Methode entsprechend zu gestalten. Als Helferfunktion k\u00f6nnen wir rekursiv das Auffinden implementieren, und in der Hauptmethode dann darauf zur\u00fcckgreifen.  \n",
        "Der Pseudocode k\u00f6nnte in etwa folgenderma\u00dfen aussehen: \n",
        "\n",
        "\n",
        "> **Input:** `order_id` (`int`)\n",
        "> * if queue is empty -> return None     \n",
        "> * Else if queue is not empty:\n",
        ">   * find_previous in self (helper function)\n",
        ">   * if previous node is None:\n",
        ">     *   if node itself is head node -> return delete_first() (implemented)\n",
        ">     *   else if node itself is not found -> return None\n",
        ">   * else if previous node was found:\n",
        ">       * adjust next pointers \n",
        ">       * if node is tail -> update tail-pointer and return node\n",
        "> \n",
        "> Helper function: *find_previous()*\n",
        ">\n",
        "> **Input:** `order_id` (`int`), start_node(`LinkedNode`, helper for recursion):\n",
        "> \n",
        "> **Process:**\n",
        "> * **Base case 1**: If start_node has `order_id`: -> Return None (is not previous)\n",
        "> * **Base case 2**: If Linked List fully searched, nothing found -> Return None  (nothing found)\n",
        "> * **Base case 3**: If next element has `order_id`: -> return start_node (previous node found)\n",
        "> \n",
        "> **Recursive step:** \n",
        "> * Else if linked list not fully searched and node not found:\n",
        ">   * set `start_node` to next element\n",
        ">   * call function recursively with new `start_node` (and return it)\n",
        "\n",
        "</div>"
      ]
    },
    {
      "cell_type": "markdown",
      "id": "61c21b3c-1845-451b-925d-58ea84669402",
      "metadata": {
        "cell_content_type": "markdown_selectable",
        "changed": false,
        "deletable": false,
        "editable": false,
        "original-content": "Wir sind nun soweit und k\u00f6nnen `delete_node()` implementieren. Hier siehst du nochmal den Docstring: \n\n```python \ndef delete_node(self, order_id): \n    \"\"\"\n    Delete node with specific order_id. Return deleted node, and None if nothing found. Print message if nothing is found. \n\n    Args: \n        order_id (int): unique order_id of LinkedNode object to be deleted from self. \n\n    Returns: \n        Deleted node (LinkedNode), None is self was empty.  \n\n    \"\"\"\n    \n```",
        "protected": false,
        "selectable": true
      },
      "source": [
        "Wir sind nun soweit und k\u00f6nnen `delete_node()` implementieren. Hier siehst du nochmal den Docstring: \n",
        "\n",
        "```python \n",
        "def delete_node(self, order_id): \n",
        "    \"\"\"\n",
        "    Delete node with specific order_id. Return deleted node, and None if nothing found. Print message if nothing is found. \n",
        "\n",
        "    Args: \n",
        "        order_id (int): unique order_id of LinkedNode object to be deleted from self. \n",
        "\n",
        "    Returns: \n",
        "        Deleted node (LinkedNode), None is self was empty.  \n",
        "\n",
        "    \"\"\"\n",
        "    \n",
        "```"
      ]
    },
    {
      "cell_type": "markdown",
      "id": "111ab8ce-2f88-4186-a610-9da74cb57343",
      "metadata": {
        "cell_content_type": "markdown_selectable",
        "changed": false,
        "deletable": false,
        "editable": false,
        "original-content": "##### <font color=\"#3399DB\">Aufgabe 5</font>\n> Implementiere nun `delete_node()`. F\u00fcge die Methode deiner Klasse `LLQueue` in deinem Skript *linkedlist.py* hinzu. Nutze anschlie\u00dfend wieder die vorbereiteten Unit Tests zum Testen deines Codes. ",
        "protected": false,
        "selectable": true
      },
      "source": [
        "##### <font color=\"#3399DB\">Aufgabe 5</font>\n",
        "> Implementiere nun `delete_node()`. F\u00fcge die Methode deiner Klasse `LLQueue` in deinem Skript *linkedlist.py* hinzu. Nutze anschlie\u00dfend wieder die vorbereiteten Unit Tests zum Testen deines Codes. "
      ]
    },
    {
      "cell_type": "code",
      "execution_count": null,
      "id": "9a116c30-5081-4dcb-89d2-b35915c4e4d0",
      "metadata": {
        "cell_content_type": "code_user",
        "changed": false,
        "deletable": false,
        "editable": true,
        "hint": "Wenn du das Auffinden eines Elements aus `LLQueue` rekursiv gestalten m\u00f6chtest, ist die einfachste M\u00f6glichkeit, eine Variable `start_node` einzuf\u00fchren, die dann in der Rekursion angepasst wird.",
        "hint_counter": 0,
        "original-content": "",
        "protected": false,
        "selectable": true,
        "tags": []
      },
      "outputs": [],
      "source": []
    },
    {
      "cell_type": "code",
      "execution_count": null,
      "id": "8702ed24-8a70-414f-baff-270226d41207",
      "metadata": {
        "cell_content_type": "code_demo",
        "changed": false,
        "deletable": false,
        "editable": true,
        "hint": "Wenn du willst, kannst du diese Codezelle gern im Forum unter *Optional: Linked Lists II* diskutieren.",
        "original-content": "!pytest test_linkedlist.py::test_delete_node test_linkedlist.py::test_delete_node_2",
        "protected": false,
        "selectable": true
      },
      "outputs": [],
      "source": [
        "!pytest test_linkedlist.py::test_delete_node test_linkedlist.py::test_delete_node_2"
      ]
    },
    {
      "cell_type": "markdown",
      "id": "27c7c965-0b84-4269-a676-1483d61b02c5",
      "metadata": {
        "cell_content_type": "markdown_selectable",
        "changed": false,
        "deletable": false,
        "editable": false,
        "original-content": "Hervorragend, du hast `delete_node()` implementiert. Die Methode sucht Auftr\u00e4ge anhand einer Auftragsnummer und entfernt sie anschlie\u00dfend. So k\u00f6nnen nun auch Stornierungen vorgenommen werden. \nDu teilst der Gesch\u00e4ftsf\u00fchrung mit, dass die Laufzeitkomplexit\u00e4t leider nicht ideal ist, dass du die Linked List aber dennoch f\u00fcr geeignet h\u00e4ltst. Schlie\u00dflich sind Stornierungen eher der Ausnahmefall.  ",
        "protected": false,
        "selectable": true
      },
      "source": [
        "Hervorragend, du hast `delete_node()` implementiert. Die Methode sucht Auftr\u00e4ge anhand einer Auftragsnummer und entfernt sie anschlie\u00dfend. So k\u00f6nnen nun auch Stornierungen vorgenommen werden. \n",
        "Du teilst der Gesch\u00e4ftsf\u00fchrung mit, dass die Laufzeitkomplexit\u00e4t leider nicht ideal ist, dass du die Linked List aber dennoch f\u00fcr geeignet h\u00e4ltst. Schlie\u00dflich sind Stornierungen eher der Ausnahmefall.  "
      ]
    },
    {
      "cell_type": "markdown",
      "id": "bac1fd7f-45a9-4bfc-a4b7-67de45999146",
      "metadata": {
        "cell_content_type": "markdown_default",
        "changed": false,
        "deletable": false,
        "editable": false,
        "original-content": "## Die L\u00e4nge der Linked List",
        "protected": false,
        "selectable": false,
        "tags": []
      },
      "source": [
        "## Die L\u00e4nge der Linked List"
      ]
    },
    {
      "cell_type": "markdown",
      "id": "b190b827-1760-4696-b490-a0024c64b7fd",
      "metadata": {
        "cell_content_type": "markdown_selectable",
        "changed": false,
        "deletable": false,
        "editable": false,
        "original-content": "Unsere Datenstruktur ist nun mit den wichtigsten Funktionen versehen. Die Gesch\u00e4ftsf\u00fchrerung des Online-Versandhandels bittet dich um eine letzte Erweiterung: Zur Berechnung ihrer Performancekriterien ben\u00f6tigt sie regelm\u00e4\u00dfig einen \u00dcberblick dar\u00fcber, wieviele Auftr\u00e4ge sich aktuell in der Warteschleife befinden. Hierzu werden wir die Dunder-Methode `__len__(self)` in `LLQueue` implementieren. ",
        "protected": false,
        "selectable": true
      },
      "source": [
        "Unsere Datenstruktur ist nun mit den wichtigsten Funktionen versehen. Die Gesch\u00e4ftsf\u00fchrerung des Online-Versandhandels bittet dich um eine letzte Erweiterung: Zur Berechnung ihrer Performancekriterien ben\u00f6tigt sie regelm\u00e4\u00dfig einen \u00dcberblick dar\u00fcber, wieviele Auftr\u00e4ge sich aktuell in der Warteschleife befinden. Hierzu werden wir die Dunder-Methode `__len__(self)` in `LLQueue` implementieren. "
      ]
    },
    {
      "cell_type": "markdown",
      "id": "bd57c24b-9e2f-4aad-8e7c-6c8e436a92c8",
      "metadata": {
        "cell_content_type": "markdown_selectable",
        "changed": false,
        "deletable": false,
        "editable": false,
        "original-content": "```python \ndef __len__(self): \n    \"\"\"Return number of LinkedNode objects in self.\"\"\"\n```",
        "protected": false,
        "selectable": true
      },
      "source": [
        "```python \n",
        "def __len__(self): \n",
        "    \"\"\"Return number of LinkedNode objects in self.\"\"\"\n",
        "```"
      ]
    },
    {
      "cell_type": "markdown",
      "id": "0d194d9c-be52-4746-b4b2-ee3cbf448b7b",
      "metadata": {
        "cell_content_type": "markdown_selectable",
        "changed": false,
        "deletable": false,
        "editable": false,
        "original-content": "In diesem Abschnitt werden wir *data structure augmentation* nutzen, um die Laufzeitkomplexit\u00e4t von `__len__()` zu verbessern. Erinnern wir uns: *data structure augmentation* hatten wir bereits in unserer Klasse `LLQueue` vorgenommen, indem wir sie mit dem Attribut `tail` versehen haben. Das Attribut ist standardm\u00e4\u00dfig in einer Linked List nicht vorgesehen, doch mit seiner Hilfe konnten wir die Laufzeitkomplexit\u00e4t von `insert_last()` von $O(n)$ auf $O(1)$ verbessern. Als \"Gegenleistung\" mussten wir uns ein wenig um das Attribut k\u00fcmmern und den *tail*-Pointer in s\u00e4mtlichen Methoden gegebenenfalls anpassen.\n\nF\u00fcr `__len__()` werden wir \u00e4hnlich vorgehen: Wir werden `LLQueue` mit einem Attribut `length` versehen. Hierdurch m\u00fcssen wir nicht jedes Mal, wenn wir `__len__()` aufrufen, durch die gesamte Warteschleife hindurch iterieren. Im Vergleich zu `tail` f\u00fcgen wir das Attribut jetzt im Nachgang ein, so dass wir nun alle bereits implementierten Methoden gegebenenfalls nochmal anpassen m\u00fcssen. ",
        "protected": false,
        "selectable": true
      },
      "source": [
        "In diesem Abschnitt werden wir *data structure augmentation* nutzen, um die Laufzeitkomplexit\u00e4t von `__len__()` zu verbessern. Erinnern wir uns: *data structure augmentation* hatten wir bereits in unserer Klasse `LLQueue` vorgenommen, indem wir sie mit dem Attribut `tail` versehen haben. Das Attribut ist standardm\u00e4\u00dfig in einer Linked List nicht vorgesehen, doch mit seiner Hilfe konnten wir die Laufzeitkomplexit\u00e4t von `insert_last()` von $O(n)$ auf $O(1)$ verbessern. Als \"Gegenleistung\" mussten wir uns ein wenig um das Attribut k\u00fcmmern und den *tail*-Pointer in s\u00e4mtlichen Methoden gegebenenfalls anpassen.\n",
        "\n",
        "F\u00fcr `__len__()` werden wir \u00e4hnlich vorgehen: Wir werden `LLQueue` mit einem Attribut `length` versehen. Hierdurch m\u00fcssen wir nicht jedes Mal, wenn wir `__len__()` aufrufen, durch die gesamte Warteschleife hindurch iterieren. Im Vergleich zu `tail` f\u00fcgen wir das Attribut jetzt im Nachgang ein, so dass wir nun alle bereits implementierten Methoden gegebenenfalls nochmal anpassen m\u00fcssen. "
      ]
    },
    {
      "cell_type": "markdown",
      "id": "685cb4dc-755e-42a3-8343-70b1d5e0757f",
      "metadata": {
        "cell_content_type": "markdown_selectable",
        "changed": false,
        "deletable": false,
        "editable": false,
        "original-content": "##### <font color=\"#3399DB\">Aufgabe 6</font>\n> Implementiere `__len__()` in $O(1)$. Erweitere dazu `LLQueue` in *linkedlist.py* um ein Attribut `length` und achte darauf, das Attribut in deinen bereits implementierten Methoden bei Bedarf zu aktualisieren. Die leere Codezelle kannst du wieder nutzen, um deinen Code zu entwerfen. Nutze anschlie\u00dfend wieder den vorbereiteten Unit Test zum Testen deiner Methode.   ",
        "protected": false,
        "selectable": true
      },
      "source": [
        "##### <font color=\"#3399DB\">Aufgabe 6</font>\n",
        "> Implementiere `__len__()` in $O(1)$. Erweitere dazu `LLQueue` in *linkedlist.py* um ein Attribut `length` und achte darauf, das Attribut in deinen bereits implementierten Methoden bei Bedarf zu aktualisieren. Die leere Codezelle kannst du wieder nutzen, um deinen Code zu entwerfen. Nutze anschlie\u00dfend wieder den vorbereiteten Unit Test zum Testen deiner Methode.   "
      ]
    },
    {
      "cell_type": "code",
      "execution_count": null,
      "id": "1571fc06-448b-488a-bcdd-3b9eefbad6b9",
      "metadata": {
        "cell_content_type": "code_user",
        "changed": false,
        "deletable": false,
        "editable": true,
        "hint": "Wenn du willst, kannst du diese Codezelle gern im Forum unter *Optional: Linked Lists II* diskutieren.",
        "hint_counter": 0,
        "original-content": "",
        "protected": false,
        "selectable": true,
        "tags": []
      },
      "outputs": [],
      "source": []
    },
    {
      "cell_type": "code",
      "execution_count": null,
      "id": "28cb7e39-f433-4f52-bcc2-9ec7b56e4f71",
      "metadata": {
        "cell_content_type": "code_demo",
        "changed": false,
        "deletable": false,
        "editable": true,
        "hint": "Wenn du willst, kannst du diese Codezelle gern im Forum unter *Optional: Linked Lists II* diskutieren.",
        "original-content": "!pytest test_linkedlist.py::test_len",
        "protected": false,
        "selectable": true
      },
      "outputs": [],
      "source": [
        "!pytest test_linkedlist.py::test_len"
      ]
    },
    {
      "cell_type": "markdown",
      "id": "5ae762f4-5689-4f57-9667-26efe0023343",
      "metadata": {
        "cell_content_type": "markdown_selectable",
        "changed": false,
        "deletable": false,
        "editable": false,
        "original-content": "Die Anzahl der Anzahl der Auftr\u00e4ge in der Warteschleife kann nun in konstanter Laufzeit per `len(my_queue)` aufgerufen werden. ",
        "protected": false,
        "selectable": true
      },
      "source": [
        "Die Anzahl der Anzahl der Auftr\u00e4ge in der Warteschleife kann nun in konstanter Laufzeit per `len(my_queue)` aufgerufen werden. "
      ]
    },
    {
      "cell_type": "markdown",
      "id": "456c4b2f-29c3-49ec-aa7e-a4a9368762d0",
      "metadata": {
        "cell_content_type": "markdown_default",
        "changed": false,
        "deletable": false,
        "editable": false,
        "messageType": "glueckwunsch",
        "original-content": "**Gl\u00fcckwunsch**: Deine Linked List hat nun alle gew\u00fcnschten Funktionalit\u00e4ten. Neu eingehende Auftr\u00e4ge k\u00f6nnen in die Warteschleife eingestellt werden, in den Bearbeitungsstatus wechselnde vom Anfang der Warteschleife entfernt werden. Wird ein Auftrag storniert, so kann er problemlos entfernt werden. Au\u00dferdem kann sich die Gesch\u00e4ftsf\u00fchrung leicht einen \u00dcberblick \u00fcber die Anzahl der Auftr\u00e4ge in der Warteschleife machen. Die Gesch\u00e4ftsf\u00fchrerung ist zufrieden!",
        "protected": false,
        "selectable": false,
        "tags": []
      },
      "source": [
        "**Gl\u00fcckwunsch**: Deine Linked List hat nun alle gew\u00fcnschten Funktionalit\u00e4ten. Neu eingehende Auftr\u00e4ge k\u00f6nnen in die Warteschleife eingestellt werden, in den Bearbeitungsstatus wechselnde vom Anfang der Warteschleife entfernt werden. Wird ein Auftrag storniert, so kann er problemlos entfernt werden. Au\u00dferdem kann sich die Gesch\u00e4ftsf\u00fchrung leicht einen \u00dcberblick \u00fcber die Anzahl der Auftr\u00e4ge in der Warteschleife machen. Die Gesch\u00e4ftsf\u00fchrerung ist zufrieden!"
      ]
    },
    {
      "cell_type": "markdown",
      "id": "6daae14d-2a5c-429d-8604-7be00947f6a4",
      "metadata": {
        "cell_content_type": "markdown_default",
        "changed": false,
        "deletable": false,
        "editable": false,
        "messageType": "merke",
        "original-content": "**Merke**:\n* Das Entfernen von Elementen selbst ist in der Linked List in $O(1)$ implementierbar. \n* Das Auffinden des zu entfernenden Auftrags ist weniger schnell zu bewerkstelligen. Die Laufzeitkomplexit\u00e4t hierf\u00fcr ist in der Linked List $O(n)$.  \n* Wenn wir Methoden implementieren, bietet es sich an, Helferfunktionen zu schreiben, wenn sich die Funktionalit\u00e4ten klar voneinander abgrenzen lassen. \n* Wenn wir Datenstrukturen im Nachgang um Attribute erweitern, m\u00fcssen wir gegebenenfalls auch bereits implementierte Methoden entsprechend anpassen. ",
        "protected": false,
        "selectable": false,
        "tags": []
      },
      "source": [
        "**Merke**:\n",
        "* Das Entfernen von Elementen selbst ist in der Linked List in $O(1)$ implementierbar. \n",
        "* Das Auffinden des zu entfernenden Auftrags ist weniger schnell zu bewerkstelligen. Die Laufzeitkomplexit\u00e4t hierf\u00fcr ist in der Linked List $O(n)$.  \n",
        "* Wenn wir Methoden implementieren, bietet es sich an, Helferfunktionen zu schreiben, wenn sich die Funktionalit\u00e4ten klar voneinander abgrenzen lassen. \n",
        "* Wenn wir Datenstrukturen im Nachgang um Attribute erweitern, m\u00fcssen wir gegebenenfalls auch bereits implementierte Methoden entsprechend anpassen. "
      ]
    },
    {
      "cell_type": "markdown",
      "id": "b7c29d78-c73e-42dd-970a-569b8d33ff8a",
      "metadata": {
        "cell_content_type": "markdown_default",
        "changed": false,
        "deletable": false,
        "editable": false,
        "original-content": "***\nHast du eine Frage zu dieser \u00dcbung? Schau ins Forum, ob sie bereits gestellt und beantwortet wurde.\n***\nFehler gefunden? Kontaktiere den Support unter support@stackfuel.com.\n***",
        "protected": false,
        "selectable": false
      },
      "source": [
        "***\n",
        "Hast du eine Frage zu dieser \u00dcbung? Schau ins Forum, ob sie bereits gestellt und beantwortet wurde.\n",
        "***\n",
        "Fehler gefunden? Kontaktiere den Support unter support@stackfuel.com.\n",
        "***"
      ]
    }
  ],
  "metadata": {
    "content_id": "7e3cb868-c504-46bb-a49d-40996711cfb2",
    "content_language": "de",
    "content_title": "Optional: Linked Lists II",
    "content_type": "exercise",
    "kernelspec": {
      "display_name": "Python 3 (ipykernel)",
      "language": "python",
      "name": "python3"
    },
    "language_info": {
      "codemirror_mode": {
        "name": "ipython",
        "version": 3
      },
      "file_extension": ".py",
      "mimetype": "text/x-python",
      "name": "python",
      "nbconvert_exporter": "python",
      "pygments_lexer": "ipython3",
      "version": "3.8.10"
    }
  },
  "nbformat": 4,
  "nbformat_minor": 5
}