{
 "cells": [
  {
   "cell_type": "code",
   "execution_count": 1,
   "id": "5929e7d1-8376-4893-8207-195e8c672a83",
   "metadata": {},
   "outputs": [],
   "source": [
    "\n",
    "def factorial(n): \n",
    "    \"\"\"Return Fibonacci number at index position n.\"\"\"\n",
    "    if n == 0 or n == 1: \n",
    "        return 1\n",
    "    return factorial(n-1) + factorial(n-2) \n",
    "\n",
    "\n",
    "\n"
   ]
  },
  {
   "cell_type": "code",
   "execution_count": null,
   "id": "7a535873-c61a-4e5b-b8dd-f3209070f92f",
   "metadata": {},
   "outputs": [],
   "source": []
  }
 ],
 "metadata": {
  "kernelspec": {
   "display_name": "Python 3 (ipykernel)",
   "language": "python",
   "name": "python3"
  },
  "language_info": {
   "codemirror_mode": {
    "name": "ipython",
    "version": 3
   },
   "file_extension": ".py",
   "mimetype": "text/x-python",
   "name": "python",
   "nbconvert_exporter": "python",
   "pygments_lexer": "ipython3",
   "version": "3.8.10"
  }
 },
 "nbformat": 4,
 "nbformat_minor": 5
}
