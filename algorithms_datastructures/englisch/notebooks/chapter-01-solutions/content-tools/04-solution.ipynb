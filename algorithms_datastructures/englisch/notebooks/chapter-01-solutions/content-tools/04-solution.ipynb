{
 "cells": [
  {
   "cell_type": "markdown",
   "id": "5d527fdd-2ff9-4564-8916-c179f667f7b7",
   "metadata": {},
   "source": [
    "# Graphen"
   ]
  },
  {
   "cell_type": "markdown",
   "id": "0c36a21e-3b60-47c3-bffd-21f13f817851",
   "metadata": {},
   "source": [
    "Graph vs. Graph   :-O\n",
    "\n",
    "Knoten und Kanten\n",
    "\n",
    "gerichtet vs. ungerichtet\n",
    "\n",
    "bewertet vs. unbewertet\n",
    "\n",
    "zusammenhängend vs. nicht zusammenhängend\n",
    "\n",
    "Spannbaum (?)\n",
    "\n",
    "Darstellung:\n",
    "<div>\n",
    "<img src=\"Graph.png\" width=\"300\">\n",
    "</div>\n",
    "\n",
    "Alternative Darstellung/Schreibweisen, zB. Listenschreibweise"
   ]
  },
  {
   "cell_type": "markdown",
   "id": "f004ec2c-3087-48d7-8aa2-17073b60ebe3",
   "metadata": {},
   "source": [
    "## Implementierung von Graphen\n",
    "\n",
    "-- Abb. ungerichteter, unbewerteter Graph, z.B. Streckennetz (Kiel, Hamburg, Hannover, Berlin, Potsdam, Dresden, Prag -- nicht alle untereinander verbunden, Abbildung fehlt noch)\n",
    "\n",
    "Implementierung von Klassen Vertex (mit Attributen name, adjacent) und Graph (Attribut vertices; Methoden add_vertex, add_edge, \\_get_vertex, \\_get_adjacent)\n",
    "\n",
    "Füge Kanten hinzu, um Graph zu erstellen.\n",
    "\n",
    "Zum Testen: gib für Städte die anliegenden Städte aus"
   ]
  },
  {
   "cell_type": "code",
   "execution_count": 10,
   "id": "565f82c6-5930-41e9-a216-6f0dd9966c08",
   "metadata": {},
   "outputs": [],
   "source": [
    "from queue import Queue\n",
    "\n",
    "class Vertex:\n",
    "    def __init__(self, name):\n",
    "        self.name = name\n",
    "        self.adjacent = []\n",
    "    \n",
    "    def add_neighbor(self, neighbor):\n",
    "        self.adjacent.append(neighbor)\n",
    "\n",
    "        \n",
    "class Graph:\n",
    "    def __init__(self):\n",
    "        self.vertices = {}\n",
    "        \n",
    "    def add_vertex(self, name):\n",
    "        new_vertex = Vertex(name)\n",
    "        self.vertices[name] = new_vertex\n",
    "        return new_vertex\n",
    "\n",
    "    def add_edge(self, frm, to):\n",
    "        if frm not in self.vertices:\n",
    "            self.add_vertex(frm)\n",
    "        if to not in self.vertices:\n",
    "            self.add_vertex(to)\n",
    "        self._get_vertex(frm).add_neighbor(to)\n",
    "        self._get_vertex(to).add_neighbor(frm)\n",
    "        \n",
    "    def _get_vertex(self,name):\n",
    "        return self.vertices[name]\n",
    "    \n",
    "    def _get_adjacent(self,name):\n",
    "        return self._get_vertex(name).adjacent"
   ]
  },
  {
   "cell_type": "code",
   "execution_count": 11,
   "id": "70d14ebc-a015-4360-b68d-8325080e620d",
   "metadata": {},
   "outputs": [
    {
     "name": "stdout",
     "output_type": "stream",
     "text": [
      "['Kiel', 'Berlin', 'Hannover']\n",
      "['Hamburg', 'Berlin']\n",
      "['Hamburg', 'Hannover', 'Dresden', 'Potsdam']\n",
      "['Berlin']\n",
      "['Berlin', 'Prag']\n"
     ]
    }
   ],
   "source": [
    "graph = Graph()\n",
    "graph.add_edge('Kiel','Hamburg')\n",
    "graph.add_edge('Berlin','Hamburg')\n",
    "graph.add_edge('Hannover','Hamburg')\n",
    "graph.add_edge('Berlin','Hannover')\n",
    "graph.add_edge('Berlin','Dresden')\n",
    "graph.add_edge('Berlin','Potsdam')\n",
    "graph.add_edge('Dresden','Prag')\n",
    "print(graph._get_adjacent('Hamburg'))\n",
    "print(graph._get_adjacent('Hannover'))\n",
    "print(graph._get_adjacent('Berlin'))\n",
    "print(graph._get_adjacent('Potsdam'))\n",
    "print(graph._get_adjacent('Dresden'))"
   ]
  },
  {
   "cell_type": "markdown",
   "id": "bbb87aea-94e3-497c-aae3-cf1702662418",
   "metadata": {},
   "source": [
    "## Wege in Graphen\n",
    "\n",
    "Weg/Pfad, einfacher Weg, Zyklus"
   ]
  },
  {
   "cell_type": "markdown",
   "id": "bbc24885-fa9f-46bb-809a-d1147136c971",
   "metadata": {},
   "source": [
    "## Traversierung\n",
    "\n",
    "Tiefensuche implementieren (entspricht im Baum der Preorder-Traversierung): Erweiterung der Klassen:\n",
    "* Vertex: Attribut flag, Methode add_neighbor\n",
    "* Graph: Methoden get_flag, set_flag, reset_flags, depth_first_search\n",
    "\n",
    "Breitensuche implementieren (entsricht im Baum der Levelorder-Traversierung): Erweiterung der Klassen:\n",
    "* Graph: Methode breadth_first_search"
   ]
  },
  {
   "cell_type": "code",
   "execution_count": 7,
   "id": "f49d87ac-06eb-4d7f-9405-71cf64e9f116",
   "metadata": {},
   "outputs": [],
   "source": [
    "from queue import Queue\n",
    "\n",
    "class Vertex:\n",
    "    def __init__(self, name):\n",
    "        self.name = name\n",
    "        self.adjacent = []\n",
    "        self.flag = 0\n",
    "    \n",
    "    def add_neighbor(self, neighbor):\n",
    "        self.adjacent.append(neighbor)\n",
    "\n",
    "        \n",
    "class Graph:\n",
    "    def __init__(self):\n",
    "        self.vertices = {}\n",
    "        \n",
    "    def add_vertex(self, name):\n",
    "        new_vertex = Vertex(name)\n",
    "        self.vertices[name] = new_vertex\n",
    "        return new_vertex\n",
    "\n",
    "    def add_edge(self, frm, to):\n",
    "        if frm not in self.vertices:\n",
    "            self.add_vertex(frm)\n",
    "        if to not in self.vertices:\n",
    "            self.add_vertex(to)\n",
    "        self._get_vertex(frm).add_neighbor(to)\n",
    "        self._get_vertex(to).add_neighbor(frm)\n",
    "        \n",
    "    def _get_vertex(self,name):\n",
    "        return self.vertices[name]\n",
    "    \n",
    "    def _get_adjacent(self,name):\n",
    "        return self._get_vertex(name).adjacent\n",
    "    \n",
    "    def get_flag(self,name):\n",
    "        return self._get_vertex(name).flag\n",
    "    \n",
    "    def set_flag(self,name,flag):\n",
    "        self._get_vertex(name).flag = flag\n",
    "\n",
    "    def reset_flags(self):\n",
    "        for name, vertex in self.vertices.items():\n",
    "            #vertex.flag = 0\n",
    "            self.set_flag(name,0)\n",
    "        print('\\nflags resetted')\n",
    " \n",
    "    def depth_first_search(self,name):\n",
    "        if self.get_flag(name) == 0:\n",
    "            self.set_flag(name,1)\n",
    "            print(name, end=' ; ')\n",
    "            for neighbor_name in self._get_adjacent(name):\n",
    "                if self.get_flag(neighbor_name) == 0:\n",
    "                    self.depth_first_search(neighbor_name)\n",
    "                    \n",
    "    def breadth_first_search(self,name):\n",
    "        queue = Queue()\n",
    "        queue.put(name)\n",
    "        self.set_flag(name,1)\n",
    "        while not queue.empty():\n",
    "            v = queue.get()\n",
    "            print(v, end=' ; ')\n",
    "            for neighbor_name in self._get_adjacent(v):\n",
    "                if self.get_flag(neighbor_name) == 0:\n",
    "                    self.set_flag(neighbor_name,1)\n",
    "                    queue.put(neighbor_name)\n"
   ]
  },
  {
   "cell_type": "code",
   "execution_count": 8,
   "id": "7d39d827-eb9f-4052-b067-421d656ce1a1",
   "metadata": {},
   "outputs": [
    {
     "name": "stdout",
     "output_type": "stream",
     "text": [
      "Kiel ; Hamburg ; Berlin ; Hannover ; Dresden ; Prag ; Potsdam ; \n",
      "flags resetted\n",
      "Berlin ; Hamburg ; Kiel ; Hannover ; Dresden ; Prag ; Potsdam ; \n",
      "flags resetted\n",
      "Berlin ; Hamburg ; Hannover ; Dresden ; Potsdam ; Kiel ; Prag ; "
     ]
    }
   ],
   "source": [
    "graph = Graph()\n",
    "graph.add_edge('Kiel','Hamburg')\n",
    "graph.add_edge('Berlin','Hamburg')\n",
    "graph.add_edge('Hannover','Hamburg')\n",
    "graph.add_edge('Berlin','Hannover')\n",
    "graph.add_edge('Berlin','Dresden')\n",
    "graph.add_edge('Berlin','Potsdam')\n",
    "graph.add_edge('Dresden','Prag')\n",
    "\n",
    "graph.depth_first_search('Kiel')\n",
    "graph.reset_flags() # ??? how to improve?\n",
    "graph.depth_first_search('Berlin')\n",
    "graph.reset_flags() # ??? how to improve?\n",
    "graph.breadth_first_search('Berlin')"
   ]
  },
  {
   "cell_type": "markdown",
   "id": "34411ef0-48ed-46db-a3df-e834278e3313",
   "metadata": {},
   "source": [
    "Ausblick: Streckennetz als bewerteter Graph bedeutet Wert entspricht Streckenlänge\n",
    "\n",
    "Herausforderung (nur Ausblick): kürzesten Weg in Graph finden; Traveling Salesman Problem"
   ]
  },
  {
   "cell_type": "code",
   "execution_count": null,
   "id": "c1fa0042-dc86-420b-9a61-d1355eb5495f",
   "metadata": {},
   "outputs": [],
   "source": []
  }
 ],
 "metadata": {
  "kernelspec": {
   "display_name": "Python 3 (ipykernel)",
   "language": "python",
   "name": "python3"
  },
  "language_info": {
   "codemirror_mode": {
    "name": "ipython",
    "version": 3
   },
   "file_extension": ".py",
   "mimetype": "text/x-python",
   "name": "python",
   "nbconvert_exporter": "python",
   "pygments_lexer": "ipython3",
   "version": "3.9.7"
  }
 },
 "nbformat": 4,
 "nbformat_minor": 5
}
