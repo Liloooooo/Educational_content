{
  "cells": [
    {
      "cell_type": "markdown",
      "id": "7dac0423-79f0-45d0-80c9-f7e32e91c22d",
      "metadata": {
        "cell_content_type": "markdown_default",
        "changed": false,
        "deletable": false,
        "editable": false,
        "original-content": "# Binary search trees (Solution)\nModule Algorithms & Data structures | Chapter 1 | Notebook 4\n\nWelcome to your fourth exercise on algorithms and data structures.\nHere you will get to know a set structure: the binary search tree.\nBy the end of this exercise you will be able to: \n* Define and differentiate between the terms binary tree and binary search tree,\n* Describe the binary search tree property, \n* Use the binary search algorithm to recursively implement methods for finding and inserting data.  \n***\n",
        "protected": false,
        "selectable": false,
        "tags": []
      },
      "source": [
        "# Binary search trees (Solution)\n",
        "Module Algorithms & Data structures | Chapter 1 | Notebook 4\n",
        "\n",
        "Welcome to your fourth exercise on algorithms and data structures.\n",
        "Here you will get to know a set structure: the binary search tree.\n",
        "By the end of this exercise you will be able to: \n",
        "* Define and differentiate between the terms binary tree and binary search tree,\n",
        "* Describe the binary search tree property, \n",
        "* Use the binary search algorithm to recursively implement methods for finding and inserting data.  \n",
        "***\n"
      ]
    },
    {
      "cell_type": "markdown",
      "id": "4dc761bc-7e74-49ad-91ec-3c74b4229982",
      "metadata": {
        "cell_content_type": "markdown_default",
        "changed": false,
        "deletable": false,
        "editable": false,
        "messageType": "szenario",
        "original-content": "**Scenario:**\nThe online retail company management approaches you with another request:\nThey want customer data to be recorded in a system. They want a solution in Python because they hope it will be easy to integrate into existing processes. It is particularly important to management that personal data can be found quickly. As soon as a new account is created on the website, the person's user account should be added to the data system.\n",
        "protected": false,
        "selectable": false,
        "tags": []
      },
      "source": [
        "**Scenario:**\n",
        "The online retail company management approaches you with another request:\n",
        "They want customer data to be recorded in a system. They want a solution in Python because they hope it will be easy to integrate into existing processes. It is particularly important to management that personal data can be found quickly. As soon as a new account is created on the website, the person's user account should be added to the data system.\n"
      ]
    },
    {
      "cell_type": "markdown",
      "id": "ae0fb9ad-df97-4817-a2b6-5510b3217aa4",
      "metadata": {
        "cell_content_type": "markdown_default",
        "changed": false,
        "deletable": false,
        "editable": false,
        "original-content": "In our scenario, the arrangement of the elements in the data structure is unimportant. \nSo, we don't need a sequential data structure like we did in our previous queue scenario.\nThis means that we do not have to manage our data in an order specified by the user. Instead, the data can be arranged in any structure. This gives us a little more leeway in terms of design. \nIn the introductory text lesson on data structures, you already briefly learned about the hash table as a set structure. In Python, the data types `dict` and `set` are representatives of this data structure. In this exercise, we will look at another set structure that has no built-in representative in Python: the binary search tree.\n\nThere are mainly two operations that are important in our scenario; the quality of our data structure will be measured by its time complexity: \n* Finding existing user accounts  \n* Adding new user accounts.\n\nIn this exercise, we will create a binary search tree with the associated methods and think about their runtime complexities.\nBut before we start, we will first look at what a binary search tree is and how it differs from the binary tree.\n",
        "protected": false,
        "selectable": true
      },
      "source": [
        "In our scenario, the arrangement of the elements in the data structure is unimportant. \n",
        "So, we don't need a sequential data structure like we did in our previous queue scenario.\n",
        "This means that we do not have to manage our data in an order specified by the user. Instead, the data can be arranged in any structure. This gives us a little more leeway in terms of design. \n",
        "In the introductory text lesson on data structures, you already briefly learned about the hash table as a set structure. In Python, the data types `dict` and `set` are representatives of this data structure. In this exercise, we will look at another set structure that has no built-in representative in Python: the binary search tree.\n",
        "\n",
        "There are mainly two operations that are important in our scenario; the quality of our data structure will be measured by its time complexity: \n",
        "* Finding existing user accounts  \n",
        "* Adding new user accounts.\n",
        "\n",
        "In this exercise, we will create a binary search tree with the associated methods and think about their runtime complexities.\n",
        "But before we start, we will first look at what a binary search tree is and how it differs from the binary tree.\n"
      ]
    },
    {
      "cell_type": "markdown",
      "id": "b8abb372-a24e-4e35-ab47-8d88c42ab6be",
      "metadata": {
        "cell_content_type": "markdown_default",
        "changed": false,
        "deletable": false,
        "editable": false,
        "original-content": "## Basic structure: the binary tree\n",
        "protected": false,
        "selectable": false
      },
      "source": [
        "## Basic structure: the binary tree\n"
      ]
    },
    {
      "cell_type": "markdown",
      "id": "e10e1b55-44c8-48c3-9f01-2e6035e54822",
      "metadata": {
        "cell_content_type": "markdown_default",
        "changed": false,
        "deletable": false,
        "editable": false,
        "original-content": "The binary search tree is a special form of the binary tree. \nWe will look at the difference between the binary search tree and other binary trees later.\nFirst, we will define and implement the basic structure of a binary tree. \n\nLike the linked list, the binary tree is also a pointer-based data structure which, unlike the linked list, has two pointers: one to the left child and one to the right child.\nThe children are either empty or are binary trees themselves.\nAs with the linked list, the elements are filled with data. And the data structure class, in this case the tree, has a pointer to the start element. \nWhen we talk about tree structures, we call the elements *nodes* and the first element the *root* of the tree.\nIf both children of a node are empty, we call these nodes *leaves*.\n",
        "protected": false,
        "selectable": false
      },
      "source": [
        "The binary search tree is a special form of the binary tree. \n",
        "We will look at the difference between the binary search tree and other binary trees later.\n",
        "First, we will define and implement the basic structure of a binary tree. \n",
        "\n",
        "Like the linked list, the binary tree is also a pointer-based data structure which, unlike the linked list, has two pointers: one to the left child and one to the right child.\n",
        "The children are either empty or are binary trees themselves.\n",
        "As with the linked list, the elements are filled with data. And the data structure class, in this case the tree, has a pointer to the start element. \n",
        "When we talk about tree structures, we call the elements *nodes* and the first element the *root* of the tree.\n",
        "If both children of a node are empty, we call these nodes *leaves*.\n"
      ]
    },
    {
      "cell_type": "markdown",
      "id": "7840e675-8c81-4746-94ab-d5d675ee5971",
      "metadata": {
        "cell_content_type": "markdown_default",
        "changed": false,
        "deletable": false,
        "editable": false,
        "original-content": "For our scenario, we use the account username to identify the nodes.\nThe following diagram shows an example of a binary tree:\n    \n<img src=\"pyp_ads_nb4_binaerbaum_struktur.png\" alt=\"Binary tree\" style=\"width: 600px;\"/>\n",
        "protected": false,
        "selectable": false,
        "tags": []
      },
      "source": [
        "For our scenario, we use the account username to identify the nodes.\n",
        "The following diagram shows an example of a binary tree:\n",
        "    \n",
        "<img src=\"pyp_ads_nb4_binaerbaum_struktur.png\" alt=\"Binary tree\" style=\"width: 600px;\"/>\n"
      ]
    },
    {
      "cell_type": "markdown",
      "id": "024e5bed-43d9-49c3-8149-227c113b7af1",
      "metadata": {
        "cell_content_type": "markdown_default",
        "changed": false,
        "deletable": false,
        "editable": false,
        "original-content": "We can of course store other information together with the user names.\nThe user name is used here to uniquely identify a user account and therefore also the node itself.\nWe call this a *key*.\nEach user name can only be assigned once, otherwise we cannot uniquely identify the nodes.\n",
        "protected": false,
        "selectable": false
      },
      "source": [
        "We can of course store other information together with the user names.\n",
        "The user name is used here to uniquely identify a user account and therefore also the node itself.\n",
        "We call this a *key*.\n",
        "Each user name can only be assigned once, otherwise we cannot uniquely identify the nodes.\n"
      ]
    },
    {
      "cell_type": "markdown",
      "id": "c7150457-4ec2-484e-8bbc-958bc59939ba",
      "metadata": {
        "cell_content_type": "markdown_default",
        "changed": false,
        "deletable": false,
        "editable": false,
        "original-content": "Let's start by implementing the basic structure.\nIt will have a `DatabaseTree` class and a `DatabaseNode` class.\n\n```python\nclass DatabaseTree: \n    \"\"\"A basic binary tree data structure. \n\n    Attributes: \n        root (DatabaseNode): the root node. Defaults to None.\n\n    \"\"\"\n    \nclass DatabaseNode: \n    \"\"\"A Node in DatabaseTree. \n    \n    Args: \n        name (str): unique user name. \n        *kwargs: additional information to be stored.\n\n    Attributes: \n        left (DatabaseNode): left child. Defaults to None.\n        right (DatabaseNode): right child. Defaults to None.\n        name (int): unique user name\n        add_info (dict): additional information to be stored.\n\n    \"\"\"\n```\n",
        "protected": false,
        "selectable": true
      },
      "source": [
        "Let's start by implementing the basic structure.\n",
        "It will have a `DatabaseTree` class and a `DatabaseNode` class.\n",
        "\n",
        "```python\n",
        "class DatabaseTree: \n",
        "    \"\"\"A basic binary tree data structure. \n",
        "\n",
        "    Attributes: \n",
        "        root (DatabaseNode): the root node. Defaults to None.\n",
        "\n",
        "    \"\"\"\n",
        "    \n",
        "class DatabaseNode: \n",
        "    \"\"\"A Node in DatabaseTree. \n",
        "    \n",
        "    Args: \n",
        "        name (str): unique user name. \n",
        "        *kwargs: additional information to be stored.\n",
        "\n",
        "    Attributes: \n",
        "        left (DatabaseNode): left child. Defaults to None.\n",
        "        right (DatabaseNode): right child. Defaults to None.\n",
        "        name (int): unique user name\n",
        "        add_info (dict): additional information to be stored.\n",
        "\n",
        "    \"\"\"\n",
        "```\n"
      ]
    },
    {
      "cell_type": "markdown",
      "id": "ea54977d-de63-4d76-8671-4ad3633ee25d",
      "metadata": {
        "cell_content_type": "markdown_default",
        "changed": false,
        "deletable": false,
        "editable": false,
        "original-content": "##### <font color=\"#3399DB\">Task 1</font>\n> Implement the binary tree for our data system.\n> To do this, create a new Python script with the name *tree.py*. As always, you can use the cells here in the notebook to write your code.  Then check your code using the prepared unit tests.\n",
        "protected": false,
        "selectable": true
      },
      "source": [
        "##### <font color=\"#3399DB\">Task 1</font>\n",
        "> Implement the binary tree for our data system.\n",
        "> To do this, create a new Python script with the name *tree.py*. As always, you can use the cells here in the notebook to write your code.  Then check your code using the prepared unit tests.\n"
      ]
    },
    {
      "cell_type": "code",
      "execution_count": null,
      "id": "dff844fa-a2b5-4f49-9abb-74fdd0ddba4c",
      "metadata": {
        "cell_content_type": "code_user",
        "changed": false,
        "deletable": false,
        "editable": true,
        "hint": "If you would like, you can discuss this cell in the forum under *Binary Search Trees*.",
        "hint_counter": 0,
        "original-content": "#Solution \n\nclass DatabaseTree: \n    \"\"\"A basic binary tree data structure. \n\n    Attributes: \n        root (DatabaseNode): the root node. Defaults to None.\n\n    \"\"\"\n\n    def __init__(self): \n        self.root = None\n    \n\nclass DatabaseNode: \n    \"\"\"A Node in DatabaseTree. \n    \n    Args: \n        name (str): unique user name. \n        *kwargs: additional information to be stored.\n\n    Attributes: \n        left (DatabaseNode): left child. Defaults to None.\n        right (DatabaseNode): right child. Defaults to None.\n        name (int): unique user name\n        add_info (dict): additional information to be stored.\n\n    \"\"\"\n    \n    def __init__(self, name, **kwargs):\n        assert isinstance(name, str)\n        self.name = name\n        self.add_info = kwargs\n        self.left = None \n        self.right = None ",
        "protected": false,
        "selectable": true,
        "tags": []
      },
      "outputs": [],
      "source": [
        "#Solution \n",
        "\n",
        "class DatabaseTree: \n",
        "    \"\"\"A basic binary tree data structure. \n",
        "\n",
        "    Attributes: \n",
        "        root (DatabaseNode): the root node. Defaults to None.\n",
        "\n",
        "    \"\"\"\n",
        "\n",
        "    def __init__(self): \n",
        "        self.root = None\n",
        "    \n",
        "\n",
        "class DatabaseNode: \n",
        "    \"\"\"A Node in DatabaseTree. \n",
        "    \n",
        "    Args: \n",
        "        name (str): unique user name. \n",
        "        *kwargs: additional information to be stored.\n",
        "\n",
        "    Attributes: \n",
        "        left (DatabaseNode): left child. Defaults to None.\n",
        "        right (DatabaseNode): right child. Defaults to None.\n",
        "        name (int): unique user name\n",
        "        add_info (dict): additional information to be stored.\n",
        "\n",
        "    \"\"\"\n",
        "    \n",
        "    def __init__(self, name, **kwargs):\n",
        "        assert isinstance(name, str)\n",
        "        self.name = name\n",
        "        self.add_info = kwargs\n",
        "        self.left = None \n",
        "        self.right = None "
      ]
    },
    {
      "cell_type": "code",
      "execution_count": 2,
      "id": "fda2371c-2f4b-40d7-94bc-634f67224545",
      "metadata": {
        "cell_content_type": "code_demo",
        "changed": false,
        "deletable": false,
        "editable": true,
        "hint": "If you would like, you can discuss this in the forum under *Binary search trees*.",
        "original-content": "!pytest test_tree.py::test_node_init test_tree.py::test_node_init_errors",
        "protected": false,
        "selectable": true
      },
      "outputs": [
        {
          "name": "stdout",
          "output_type": "stream",
          "text": [
            "\u001b[1m============================= test session starts ==============================\u001b[0m\n",
            "platform linux -- Python 3.8.10, pytest-6.2.4, py-1.11.0, pluggy-0.13.1\n",
            "rootdir: /home/jovyan/work/pyprog/stackfuel-python-programmer-product-de/module-05/chapter-01-solutions\n",
            "plugins: anyio-3.5.0\n",
            "collected 2 items                                                              \u001b[0m\n",
            "\n",
            "test_tree.py \u001b[32m.\u001b[0m\u001b[32m.\u001b[0m\u001b[32m                                                          [100%]\u001b[0m\n",
            "\n",
            "\u001b[32m============================== \u001b[32m\u001b[1m2 passed\u001b[0m\u001b[32m in 0.20s\u001b[0m\u001b[32m ===============================\u001b[0m\n"
          ]
        }
      ],
      "source": [
        "!pytest test_tree.py::test_node_init test_tree.py::test_node_init_errors"
      ]
    },
    {
      "cell_type": "markdown",
      "id": "f82cd28a-1019-4c9a-9958-4a417eacb3df",
      "metadata": {
        "cell_content_type": "markdown_default",
        "changed": false,
        "deletable": false,
        "editable": false,
        "original-content": "We can use the basic structure for our use case. \nIn order for the tree to become a binary search tree, the nodes need to be arranged in a certain way, which is called the *binary search tree property*. \nIt ensures that we can search the tree with a binary search algorithm like the one we implemented in the first exercise.\nIf new nodes are added to the tree, the property should be retained. \nWe learn about it in the next section.\n",
        "protected": false,
        "selectable": false
      },
      "source": [
        "We can use the basic structure for our use case. \n",
        "In order for the tree to become a binary search tree, the nodes need to be arranged in a certain way, which is called the *binary search tree property*. \n",
        "It ensures that we can search the tree with a binary search algorithm like the one we implemented in the first exercise.\n",
        "If new nodes are added to the tree, the property should be retained. \n",
        "We learn about it in the next section.\n"
      ]
    },
    {
      "cell_type": "markdown",
      "id": "44240ee5-1825-408f-b448-c71448fabe33",
      "metadata": {
        "cell_content_type": "markdown_default",
        "changed": false,
        "deletable": false,
        "editable": false,
        "original-content": "## The binary search tree property\n",
        "protected": false,
        "selectable": false
      },
      "source": [
        "## The binary search tree property\n"
      ]
    },
    {
      "cell_type": "markdown",
      "id": "c49e35a6-32a6-4f4b-8f9b-bf5f22bb5d21",
      "metadata": {
        "cell_content_type": "markdown_default",
        "changed": false,
        "deletable": false,
        "editable": false,
        "original-content": "Our online retail business has a service center that deals with inquiries, about things like an order's status.\nFor each request, an employee searches for the corresponding user account via a search query in the system.  Our task is to make this search operation as fast as possible.\nHow could we systematically search a tree for a user account? \n\nDo you remember the binary search algorithm from the first exercise? \nIn that lesson, we searched an alphabetically sorted library for a given title. To do this, we used a binary search algorithm that repeatedly divided the shelf into two parts. \nWe can take a similar approach here! \nHowever, to do this, our nodes must be arranged in such a way that we can always know whether the node we are looking for is to the left or right of node we are visiting. \n\nThis is exactly what the binary search tree property describes:  \n\n* The keys of all the nodes in the left child are smaller than the key of the node itself.\n* The keys of all the nodes in the right child are larger than the key of the node itself.\n\nThe binary search tree property distinguishes the binary search tree from the more general binary tree. Incidentally, it makes no assumptions about the distribution of nodes in the tree. In contrast to our book search example from the first exercise, the search space here is not necessarily divided into two equal parts.\n",
        "protected": false,
        "selectable": false
      },
      "source": [
        "Our online retail business has a service center that deals with inquiries, about things like an order's status.\n",
        "For each request, an employee searches for the corresponding user account via a search query in the system.  Our task is to make this search operation as fast as possible.\n",
        "How could we systematically search a tree for a user account? \n",
        "\n",
        "Do you remember the binary search algorithm from the first exercise? \n",
        "In that lesson, we searched an alphabetically sorted library for a given title. To do this, we used a binary search algorithm that repeatedly divided the shelf into two parts. \n",
        "We can take a similar approach here! \n",
        "However, to do this, our nodes must be arranged in such a way that we can always know whether the node we are looking for is to the left or right of node we are visiting. \n",
        "\n",
        "This is exactly what the binary search tree property describes:  \n",
        "\n",
        "* The keys of all the nodes in the left child are smaller than the key of the node itself.\n",
        "* The keys of all the nodes in the right child are larger than the key of the node itself.\n",
        "\n",
        "The binary search tree property distinguishes the binary search tree from the more general binary tree. Incidentally, it makes no assumptions about the distribution of nodes in the tree. In contrast to our book search example from the first exercise, the search space here is not necessarily divided into two equal parts.\n"
      ]
    },
    {
      "cell_type": "markdown",
      "id": "c3f50ced-7952-4db5-8967-903858dab4cd",
      "metadata": {
        "cell_content_type": "markdown_default",
        "changed": false,
        "deletable": false,
        "editable": false,
        "original-content": "Let's take another look at the illustration from above.\nThe nodes do not follow any particular order.\nIn the next task, you should sort the nodes so that the binary search tree property is fulfilled. \nHere is the tree again:\n\n<img src=\"pyp_ads_nb4_binaerbaum_struktur.png\" alt=\"Binary tree\" style=\"width: 600px;\"/>\n",
        "protected": false,
        "selectable": false,
        "tags": []
      },
      "source": [
        "Let's take another look at the illustration from above.\n",
        "The nodes do not follow any particular order.\n",
        "In the next task, you should sort the nodes so that the binary search tree property is fulfilled. \n",
        "Here is the tree again:\n",
        "\n",
        "<img src=\"pyp_ads_nb4_binaerbaum_struktur.png\" alt=\"Binary tree\" style=\"width: 600px;\"/>\n"
      ]
    },
    {
      "cell_type": "markdown",
      "id": "6b89f440-c794-41e6-a007-d0a9733648e4",
      "metadata": {
        "cell_content_type": "markdown_default",
        "changed": false,
        "deletable": false,
        "editable": false,
        "original-content": "##### <font color=\"#3399DB\">Task 2</font>\n> Sort the nodes in the diagram so that the binary search tree property is fulfilled.\n> Leave the structure in place: To the left of the root there should be five nodes again in the same place and to the right there should be three.\n> Write down your solution as comments in the following cell.\n",
        "protected": false,
        "selectable": false
      },
      "source": [
        "##### <font color=\"#3399DB\">Task 2</font>\n",
        "> Sort the nodes in the diagram so that the binary search tree property is fulfilled.\n",
        "> Leave the structure in place: To the left of the root there should be five nodes again in the same place and to the right there should be three.\n",
        "> Write down your solution as comments in the following cell.\n"
      ]
    },
    {
      "cell_type": "code",
      "execution_count": null,
      "id": "dd0a5226-73aa-4d61-8410-b10a5ca0d45a",
      "metadata": {
        "cell_content_type": "code_user",
        "changed": false,
        "deletable": false,
        "editable": true,
        "hint": "If you would like, you can discuss this cell in the forum under *Binary Search Trees*.",
        "hint_counter": 0,
        "original-content": "#Solution \n#No change: fred \n#Root: paolo\n\n#vanessa --> alfred_10\n#paolo --> emma22\n#fred --> fred\n#zoe --> george\n#goerge --> hans1998\n#alfred_10 --> paolo\n#hans1998 --> rita\n#rita --> vanessa\n#emma22 --> zoe@g.de",
        "protected": false,
        "selectable": true,
        "tags": []
      },
      "outputs": [],
      "source": [
        "#Solution \n",
        "#No change: fred \n",
        "#Root: paolo\n",
        "\n",
        "#vanessa --> alfred_10\n",
        "#paolo --> emma22\n",
        "#fred --> fred\n",
        "#zoe --> george\n",
        "#goerge --> hans1998\n",
        "#alfred_10 --> paolo\n",
        "#hans1998 --> rita\n",
        "#rita --> vanessa\n",
        "#emma22 --> zoe@g.de"
      ]
    },
    {
      "cell_type": "markdown",
      "id": "d9943497-753b-48d0-bfe2-0a5eaa34e359",
      "metadata": {
        "cell_content_type": "markdown_default",
        "changed": false,
        "deletable": false,
        "editable": false,
        "original-content": "In your rearranged tree, the node with the user name 'fred' should be in the same place as before. The corresponding user name of the root node is now `paolo`.\nWe recommend keeping your draft with the new arrangement. You'll need it again later!\n",
        "protected": false,
        "selectable": false
      },
      "source": [
        "In your rearranged tree, the node with the user name 'fred' should be in the same place as before. The corresponding user name of the root node is now `paolo`.\n",
        "We recommend keeping your draft with the new arrangement. You'll need it again later!\n"
      ]
    },
    {
      "cell_type": "markdown",
      "id": "4bbd883d-2861-412c-8d4b-a7295f83c2fd",
      "metadata": {
        "cell_content_type": "markdown_default",
        "changed": false,
        "deletable": false,
        "editable": false,
        "original-content": "## Finding a node in the tree\n",
        "protected": false,
        "selectable": false
      },
      "source": [
        "## Finding a node in the tree\n"
      ]
    },
    {
      "cell_type": "markdown",
      "id": "a3739410-9874-44d7-8529-dba74f616621",
      "metadata": {
        "cell_content_type": "markdown_default",
        "changed": false,
        "deletable": false,
        "editable": false,
        "original-content": "We now know the binary search tree property and how the nodes in our tree should be arranged.\nIf a user account is added, this property must be retained.\nWe'll take care of that in a second. \nLet's start by looking for a user account. We can assume that the binary search property is fulfilled. \nThe search should be carried out using a `find()` method in our `DatabaseTree` class. \n\n``` python \ndef find(self, name): \n    \"\"\"\n    Return DatabaseNode with provided user name. Return None if no node is found or if tree is empty.\n\n    Args: \n        name (str): user name to be searched for. \n\n    Returns: \n       DatabaseNode with specified user name, or None if nothing found. \n\n    \"\"\"\n```\n",
        "protected": false,
        "selectable": true
      },
      "source": [
        "We now know the binary search tree property and how the nodes in our tree should be arranged.\n",
        "If a user account is added, this property must be retained.\n",
        "We'll take care of that in a second. \n",
        "Let's start by looking for a user account. We can assume that the binary search property is fulfilled. \n",
        "The search should be carried out using a `find()` method in our `DatabaseTree` class. \n",
        "\n",
        "``` python \n",
        "def find(self, name): \n",
        "    \"\"\"\n",
        "    Return DatabaseNode with provided user name. Return None if no node is found or if tree is empty.\n",
        "\n",
        "    Args: \n",
        "        name (str): user name to be searched for. \n",
        "\n",
        "    Returns: \n",
        "       DatabaseNode with specified user name, or None if nothing found. \n",
        "\n",
        "    \"\"\"\n",
        "```\n"
      ]
    },
    {
      "cell_type": "markdown",
      "id": "a417398c-9a25-45be-b3c9-19ae9c0a4235",
      "metadata": {
        "cell_content_type": "markdown_default",
        "changed": false,
        "deletable": false,
        "editable": false,
        "original-content": "In the next task, you should first think about possible helper functions and the required variables. If necessary, take another look at your solution from exercise 1.\nJust like in the first exercise, a recursive implementation is also suitable here.\n",
        "protected": false,
        "selectable": false
      },
      "source": [
        "In the next task, you should first think about possible helper functions and the required variables. If necessary, take another look at your solution from exercise 1.\n",
        "Just like in the first exercise, a recursive implementation is also suitable here.\n"
      ]
    },
    {
      "cell_type": "markdown",
      "id": "f3321acb-579f-4e62-b0c9-58ad0db1e0a6",
      "metadata": {
        "cell_content_type": "markdown_default",
        "changed": false,
        "deletable": false,
        "editable": false,
        "original-content": "##### <font color=\"#3399DB\">Task 3</font>\n> Write down the pseudocode for `find()` and any helper functions in the following cell.\n> Try and use a recursive implementation.\n",
        "protected": false,
        "selectable": true
      },
      "source": [
        "##### <font color=\"#3399DB\">Task 3</font>\n",
        "> Write down the pseudocode for `find()` and any helper functions in the following cell.\n",
        "> Try and use a recursive implementation.\n"
      ]
    },
    {
      "cell_type": "code",
      "execution_count": null,
      "id": "f71cae07-9e1f-4af6-bb53-a494b8f211c4",
      "metadata": {
        "cell_content_type": "code_user",
        "changed": false,
        "deletable": false,
        "editable": true,
        "hint": "One possibility is to create a helper function in `DatabaseTree` that searches the tree recursively and is called with `find()`. In contrast to the binary search algorithm from exercise 1, the method no longer has to output an index. It is therefore sufficient if this helper function is equipped with an additional variable `sub_root`, which marks the start of the search in the recursive process and is updated in the process.",
        "hint_counter": 0,
        "original-content": "#Solution \n#Pseudocode \n\n#find():\n#input: name (str)\n#call and return recursive helper function _find_rec with root node and name as input\n\n#_find_rec()\n#input: name (str), node (DatabaseNode)\n#output: node (DatabaseNode) or None \n\n##base case 1: nothing found \n#if node is None: return None \n\n##base case 2: node found \n#if node.name is name: return node \n\n##recursive step: \n#if name < node.name: recursively call and return _find_rec() in left subtree \n#if name > node.name: recursively call and return _find_rec() in right subtree \n",
        "protected": false,
        "selectable": true,
        "tags": []
      },
      "outputs": [],
      "source": [
        "#Solution \n",
        "#Pseudocode \n",
        "\n",
        "#find():\n",
        "#input: name (str)\n",
        "#call and return recursive helper function _find_rec with root node and name as input\n",
        "\n",
        "#_find_rec()\n",
        "#input: name (str), node (DatabaseNode)\n",
        "#output: node (DatabaseNode) or None \n",
        "\n",
        "##base case 1: nothing found \n",
        "#if node is None: return None \n",
        "\n",
        "##base case 2: node found \n",
        "#if node.name is name: return node \n",
        "\n",
        "##recursive step: \n",
        "#if name < node.name: recursively call and return _find_rec() in left subtree \n",
        "#if name > node.name: recursively call and return _find_rec() in right subtree \n"
      ]
    },
    {
      "cell_type": "markdown",
      "id": "e54879f4-f638-4091-ae46-2cc06ef05c4e",
      "metadata": {
        "cell_content_type": "markdown_default",
        "changed": false,
        "deletable": false,
        "editable": false,
        "original-content": "Now that your concept is ready, you can start implementing it.\n\n\n##### <font color=\"#3399DB\">Task 4</font>\n> Implement `find()` and any required helper functions.\n> Add the method for the `DatabaseTree` class to the script *tree.py*.\n> Then test your code again with the prepared unit tests.\n",
        "protected": false,
        "selectable": true
      },
      "source": [
        "Now that your concept is ready, you can start implementing it.\n",
        "\n",
        "\n",
        "##### <font color=\"#3399DB\">Task 4</font>\n",
        "> Implement `find()` and any required helper functions.\n",
        "> Add the method for the `DatabaseTree` class to the script *tree.py*.\n",
        "> Then test your code again with the prepared unit tests.\n"
      ]
    },
    {
      "cell_type": "code",
      "execution_count": null,
      "id": "c41c2268-6dda-40da-a58f-396689cab760",
      "metadata": {
        "cell_content_type": "code_user",
        "changed": false,
        "deletable": false,
        "editable": true,
        "hint": "If you would like, you can discuss this cell in the forum under *Binary Search Trees*.",
        "hint_counter": 0,
        "original-content": "#Solution\nclass DatabaseTree: \n    \"\"\"A basic binary tree data structure. \n\n    Attributes: \n        root (DatabaseNode): the root node. Defaults to None.\n\n    \"\"\"\n    \n    def __init__(self): \n        self.root = None\n\n    def find(self, name): \n        \"\"\"\n        Return DatabaseNode with provided user name. Return None if no node is found or if tree is empty.\n\n        Args: \n            name (str): user name to be searched for. \n\n        Returns: \n           DatabaseNode with specified user name, or None if nothing found. \n\n        \"\"\"\n        \n        assert isinstance(name, str)\n        return self._find_rec(self.root, name)\n    \n    def _find_rec(self, sub_root, name):\n        #recursive helper function for find. Returns DatabaseNode object or None if nothing found. \n        if sub_root is None: #base case 1: nothing found\n            return sub_root\n        if sub_root.name == name: #base case 2: node found  \n            return sub_root \n        if name < sub_root.name: #recursive step\n            new_root = sub_root.left\n        if name > sub_root.name: \n            new_root = sub_root.right\n        return self._find_rec(new_root, name)",
        "protected": false,
        "selectable": true,
        "tags": []
      },
      "outputs": [],
      "source": [
        "#Solution\n",
        "class DatabaseTree: \n",
        "    \"\"\"A basic binary tree data structure. \n",
        "\n",
        "    Attributes: \n",
        "        root (DatabaseNode): the root node. Defaults to None.\n",
        "\n",
        "    \"\"\"\n",
        "    \n",
        "    def __init__(self): \n",
        "        self.root = None\n",
        "\n",
        "    def find(self, name): \n",
        "        \"\"\"\n",
        "        Return DatabaseNode with provided user name. Return None if no node is found or if tree is empty.\n",
        "\n",
        "        Args: \n",
        "            name (str): user name to be searched for. \n",
        "\n",
        "        Returns: \n",
        "           DatabaseNode with specified user name, or None if nothing found. \n",
        "\n",
        "        \"\"\"\n",
        "        \n",
        "        assert isinstance(name, str)\n",
        "        return self._find_rec(self.root, name)\n",
        "    \n",
        "    def _find_rec(self, sub_root, name):\n",
        "        #recursive helper function for find. Returns DatabaseNode object or None if nothing found. \n",
        "        if sub_root is None: #base case 1: nothing found\n",
        "            return sub_root\n",
        "        if sub_root.name == name: #base case 2: node found  \n",
        "            return sub_root \n",
        "        if name < sub_root.name: #recursive step\n",
        "            new_root = sub_root.left\n",
        "        if name > sub_root.name: \n",
        "            new_root = sub_root.right\n",
        "        return self._find_rec(new_root, name)"
      ]
    },
    {
      "cell_type": "code",
      "execution_count": 3,
      "id": "f5956c9d-749d-442c-99b5-e1e351a297c0",
      "metadata": {
        "cell_content_type": "code_demo",
        "changed": false,
        "deletable": false,
        "editable": true,
        "hint": "If you would like, you can discuss this in the forum under *Binary search trees*.",
        "original-content": "!pytest test_tree.py::test_find",
        "protected": false,
        "selectable": true
      },
      "outputs": [
        {
          "name": "stdout",
          "output_type": "stream",
          "text": [
            "\u001b[1m============================= test session starts ==============================\u001b[0m\n",
            "platform linux -- Python 3.8.10, pytest-6.2.4, py-1.11.0, pluggy-0.13.1\n",
            "rootdir: /home/jovyan/work/pyprog/stackfuel-python-programmer-product-de/module-05/chapter-01-solutions\n",
            "plugins: anyio-3.5.0\n",
            "collected 1 item                                                               \u001b[0m\n",
            "\n",
            "test_tree.py \u001b[32m.\u001b[0m\u001b[32m                                                           [100%]\u001b[0m\n",
            "\n",
            "\u001b[32m============================== \u001b[32m\u001b[1m1 passed\u001b[0m\u001b[32m in 0.11s\u001b[0m\u001b[32m ===============================\u001b[0m\n"
          ]
        }
      ],
      "source": [
        "!pytest test_tree.py::test_find"
      ]
    },
    {
      "cell_type": "markdown",
      "id": "c3e519f8-4d6f-4326-ab8f-f6e532776bec",
      "metadata": {
        "cell_content_type": "markdown_default",
        "changed": false,
        "deletable": false,
        "editable": false,
        "original-content": "Employees at the service center should now be able to get results quickly in response to their search queries.\nBut how quickly?\nIn exercise 1, we already thought a bit about the time complexity of a binary search.\nThe algorithm from exercise 1 always divided the shelf into two approximately equal parts.\nOur binary search tree is not necessarily balanced: A tree can be longer on one side than on the other.\nIn the example tree from the diagram, we have to potentially search longer for nodes to the left of the root than for nodes on the right-hand side.\n",
        "protected": false,
        "selectable": false
      },
      "source": [
        "Employees at the service center should now be able to get results quickly in response to their search queries.\n",
        "But how quickly?\n",
        "In exercise 1, we already thought a bit about the time complexity of a binary search.\n",
        "The algorithm from exercise 1 always divided the shelf into two approximately equal parts.\n",
        "Our binary search tree is not necessarily balanced: A tree can be longer on one side than on the other.\n",
        "In the example tree from the diagram, we have to potentially search longer for nodes to the left of the root than for nodes on the right-hand side.\n"
      ]
    },
    {
      "cell_type": "markdown",
      "id": "188466bb-3722-4435-991f-d1317ce43484",
      "metadata": {
        "cell_content_type": "markdown_default",
        "changed": false,
        "deletable": false,
        "editable": false,
        "original-content": "##### <font color=\"#3399DB\">Task 5</font>\n> If $h$ is the number of nodes from the root to the furthest child, what is the time complexity of `find()`?\n> 1) $O(n)$\n> 2) $O(h)$\n> 3) $O(log \\: n)$\n> 4) $O(log \\: h)$\n> \n> Write down your answer as a comment in the following code cell. You will find the solution again in the following expandable box.\n",
        "protected": false,
        "selectable": true,
        "tags": []
      },
      "source": [
        "##### <font color=\"#3399DB\">Task 5</font>\n",
        "> If $h$ is the number of nodes from the root to the furthest child, what is the time complexity of `find()`?\n",
        "> 1) $O(n)$\n",
        "> 2) $O(h)$\n",
        "> 3) $O(log \\: n)$\n",
        "> 4) $O(log \\: h)$\n",
        "> \n",
        "> Write down your answer as a comment in the following code cell. You will find the solution again in the following expandable box.\n"
      ]
    },
    {
      "cell_type": "code",
      "execution_count": 8,
      "id": "21a299bb-8e7d-48ed-914d-b66c93ce67c4",
      "metadata": {
        "cell_content_type": "code_user",
        "changed": false,
        "deletable": false,
        "editable": true,
        "hint": "If you would like, you can discuss this cell in the forum under *Binary Search Trees*.",
        "original-content": "#Solution \n# O(h), as we would potentially have to visit every node along the longest path from the root\n# O(log n) would be the efficiency in a balanced tree in which the path to the left and right of the root would have approximately the same length (+-1)",
        "protected": false,
        "selectable": true
      },
      "outputs": [],
      "source": [
        "#Solution \n",
        "# O(h), as we would potentially have to visit every node along the longest path from the root\n",
        "# O(log n) would be the efficiency in a balanced tree in which the path to the left and right of the root would have approximately the same length (+-1)"
      ]
    },
    {
      "cell_type": "markdown",
      "id": "50032aaf-15c0-48b8-a5f3-9a44c21ccae5",
      "metadata": {
        "cell_content_type": "markdown_default",
        "changed": false,
        "deletable": false,
        "editable": false,
        "messageType": "vertiefung",
        "original-content": "**Solution**: Time complexity of `find()`. \n<div class=\"details\">\nIn the worst case, the user account you are looking for is located in the leaf that is furthest away from the root, or is not found there.\nThe distance is exactly the number of nodes that you have to traverse.\nBecause all the nodes you traverse are visited along the way, this results in a time complexity of $O(h)$.\nIf the tree were balanced, or approximately balanced, as in the book search example from exercise 1, the time complexity would again be $O(log n)$.\n</div>\n",
        "protected": false,
        "selectable": true,
        "tags": []
      },
      "source": [
        "**Solution**: Time complexity of `find()`. \n",
        "<div class=\"details\">\n",
        "In the worst case, the user account you are looking for is located in the leaf that is furthest away from the root, or is not found there.\n",
        "The distance is exactly the number of nodes that you have to traverse.\n",
        "Because all the nodes you traverse are visited along the way, this results in a time complexity of $O(h)$.\n",
        "If the tree were balanced, or approximately balanced, as in the book search example from exercise 1, the time complexity would again be $O(log n)$.\n",
        "</div>\n"
      ]
    },
    {
      "cell_type": "markdown",
      "id": "5be9875c-ad7e-4f13-90fc-b2b5c1e42994",
      "metadata": {
        "cell_content_type": "markdown_default",
        "changed": false,
        "deletable": false,
        "editable": false,
        "original-content": "We achieve the best time complexity for `find()` with balanced binary search trees, because then the path from the root to the most distant child is as short as possible.\nThere are special subforms of the binary search tree that balance themselves as soon as nodes are inserted or removed.\n*AVL-Tree* or *Red-Black Tree* are examples of this.\nThey use different mechanisms to balance themselves. \nAs the balancing itself also uses resources, it's important to weigh up the pros and cons of using it.\nIn use cases like our scenario, where finding nodes is very important, the advantages of balancing usually outweigh the disadvantages. However, in this exercise we will forgo this balancing. In the next section, we will only focus on inserting nodes into `DatabaseTree` in a way that doesn't violate the binary search tree property. So, we have to just 'hope' that our binary search tree is automatically balanced to some extent.\n",
        "protected": false,
        "selectable": true,
        "tags": []
      },
      "source": [
        "We achieve the best time complexity for `find()` with balanced binary search trees, because then the path from the root to the most distant child is as short as possible.\n",
        "There are special subforms of the binary search tree that balance themselves as soon as nodes are inserted or removed.\n",
        "*AVL-Tree* or *Red-Black Tree* are examples of this.\n",
        "They use different mechanisms to balance themselves. \n",
        "As the balancing itself also uses resources, it's important to weigh up the pros and cons of using it.\n",
        "In use cases like our scenario, where finding nodes is very important, the advantages of balancing usually outweigh the disadvantages. However, in this exercise we will forgo this balancing. In the next section, we will only focus on inserting nodes into `DatabaseTree` in a way that doesn't violate the binary search tree property. So, we have to just 'hope' that our binary search tree is automatically balanced to some extent.\n"
      ]
    },
    {
      "cell_type": "markdown",
      "id": "f823b2c6-e968-45ae-8b18-d6e28926ab64",
      "metadata": {
        "cell_content_type": "markdown_default",
        "changed": false,
        "deletable": false,
        "editable": false,
        "original-content": "## Inserting a node into the tree\n",
        "protected": false,
        "selectable": false
      },
      "source": [
        "## Inserting a node into the tree\n"
      ]
    },
    {
      "cell_type": "markdown",
      "id": "074c43e2-8213-41f1-aad9-39303db52b51",
      "metadata": {
        "cell_content_type": "markdown_default",
        "changed": false,
        "deletable": false,
        "editable": false,
        "original-content": "We haven't set up our data system yet.\nTo do this, we need a method for adding new accounts.\nWe will create the method in the `DatabaseTree` class again.\nHere is the docstring for the `insert()` method:\n\n```python \ndef insert(self, node): \n    \"\"\"\n    Insert DatabaseNode object into self. The binary search tree property must be preserved. \n    \n    Args: \n        node (DatabaseNode): node to be inserted. \n    \n    Returns: \n        None \n        \n    \"\"\"\n```\n",
        "protected": false,
        "selectable": true
      },
      "source": [
        "We haven't set up our data system yet.\n",
        "To do this, we need a method for adding new accounts.\n",
        "We will create the method in the `DatabaseTree` class again.\n",
        "Here is the docstring for the `insert()` method:\n",
        "\n",
        "```python \n",
        "def insert(self, node): \n",
        "    \"\"\"\n",
        "    Insert DatabaseNode object into self. The binary search tree property must be preserved. \n",
        "    \n",
        "    Args: \n",
        "        node (DatabaseNode): node to be inserted. \n",
        "    \n",
        "    Returns: \n",
        "        None \n",
        "        \n",
        "    \"\"\"\n",
        "```\n"
      ]
    },
    {
      "cell_type": "markdown",
      "id": "e5dbe6c7-43ca-4e2f-8f4b-cacb6d36406d",
      "metadata": {
        "cell_content_type": "markdown_default",
        "changed": false,
        "deletable": false,
        "editable": false,
        "original-content": "We still have to answer one important question before implementation.\nHow can we insert a data point into our binary search tree without violating the binary search tree property? \nIn principle, we proceed in a very similar way to the search:\nWe recursively search for the key to our new account.\nWe won't find it, because it has to be unique, i.e. it must not yet exist.\nInstead, we will come across an as yet unoccupied space.\nThis is exactly where we can insert the account. \n\nThe algorithm for `insert()` can be described as follows: \n1. If the binary search tree is empty, add the new account as a root to the tree and end the process. \n2. Otherwise, look at the user name of the root of the tree. If the user name of the new account comes before the user name of the root alphabetically, continue with the left child of the root. If it comes after, continue with the right child and call the corresponding child the root. Repeat all steps from 1.\n",
        "protected": false,
        "selectable": true
      },
      "source": [
        "We still have to answer one important question before implementation.\n",
        "How can we insert a data point into our binary search tree without violating the binary search tree property? \n",
        "In principle, we proceed in a very similar way to the search:\n",
        "We recursively search for the key to our new account.\n",
        "We won't find it, because it has to be unique, i.e. it must not yet exist.\n",
        "Instead, we will come across an as yet unoccupied space.\n",
        "This is exactly where we can insert the account. \n",
        "\n",
        "The algorithm for `insert()` can be described as follows: \n",
        "1. If the binary search tree is empty, add the new account as a root to the tree and end the process. \n",
        "2. Otherwise, look at the user name of the root of the tree. If the user name of the new account comes before the user name of the root alphabetically, continue with the left child of the root. If it comes after, continue with the right child and call the corresponding child the root. Repeat all steps from 1.\n"
      ]
    },
    {
      "cell_type": "markdown",
      "id": "2298a3bb-cc95-420c-bd76-1448bf6ac2c9",
      "metadata": {
        "cell_content_type": "markdown_default",
        "changed": false,
        "deletable": false,
        "editable": false,
        "original-content": "Now it's your turn. In the next task, you should consider where new user accounts should be inserted in our example tree.\nLook again at your draft of the corrected tree from the diagram above, which you created in task 2.\n",
        "protected": false,
        "selectable": false
      },
      "source": [
        "Now it's your turn. In the next task, you should consider where new user accounts should be inserted in our example tree.\n",
        "Look again at your draft of the corrected tree from the diagram above, which you created in task 2.\n"
      ]
    },
    {
      "cell_type": "markdown",
      "id": "4bed25fd-f3ba-4f22-bd3f-6fbd34f44a87",
      "metadata": {
        "cell_content_type": "markdown_default",
        "changed": false,
        "deletable": false,
        "editable": false,
        "original-content": "##### <font color=\"#3399DB\">Task 6</font>\n> Add user accounts with the user names 'rahel123' and 'ali_ali' to the corrected tree from task 2.\n> Proceed as described in the algorithm.\n> Whose left child is 'rahel123', whose right child is 'ali_ali'?\n> Write down your results again as comments in the following cell.\n",
        "protected": false,
        "selectable": false
      },
      "source": [
        "##### <font color=\"#3399DB\">Task 6</font>\n",
        "> Add user accounts with the user names 'rahel123' and 'ali_ali' to the corrected tree from task 2.\n",
        "> Proceed as described in the algorithm.\n",
        "> Whose left child is 'rahel123', whose right child is 'ali_ali'?\n",
        "> Write down your results again as comments in the following cell.\n"
      ]
    },
    {
      "cell_type": "code",
      "execution_count": null,
      "id": "7ff224a8-5d3f-4c49-95f0-9ddad0180246",
      "metadata": {
        "cell_content_type": "code_user",
        "changed": false,
        "deletable": false,
        "editable": true,
        "hint": "If you would like, you can discuss this cell in the forum under *Binary Search Trees*.",
        "original-content": "#Solution \n#rahel123 ist linkes Kind von rita\n#ali_ali ist rechtes Kind von alfred_10 ",
        "protected": false,
        "selectable": true
      },
      "outputs": [],
      "source": [
        "#Solution \n",
        "#rahel123 ist linkes Kind von rita\n",
        "#ali_ali ist rechtes Kind von alfred_10 "
      ]
    },
    {
      "cell_type": "markdown",
      "id": "9f80d7b4-82ea-4aaa-97cd-0b3503084237",
      "metadata": {
        "cell_content_type": "markdown_default",
        "changed": false,
        "deletable": false,
        "editable": false,
        "messageType": "vertiefung",
        "original-content": "**Solution**: Inserting 'rahel123' and 'ali_ali' into the binary search tree. \n<div class=\"details\">\n'rahel123' should now be the left child of 'rita', 'ali_ali' should be the right child of 'alfred_10'. \n</div>\n",
        "protected": false,
        "selectable": false,
        "tags": []
      },
      "source": [
        "**Solution**: Inserting 'rahel123' and 'ali_ali' into the binary search tree. \n",
        "<div class=\"details\">\n",
        "'rahel123' should now be the left child of 'rita', 'ali_ali' should be the right child of 'alfred_10'. \n",
        "</div>\n"
      ]
    },
    {
      "cell_type": "markdown",
      "id": "8e593e73-5687-4a71-9158-f143f8906c92",
      "metadata": {
        "cell_content_type": "markdown_default",
        "changed": false,
        "deletable": false,
        "editable": false,
        "original-content": "Now that we've looked at the basic procedure, we can prepare the implementation for `find()`. \n\n\n##### <font color=\"#3399DB\">Task 7</font>\n> In preparation, write down the pseudo code for `insert()` and any helper functions. Try to use a recursive implementation again.\n",
        "protected": false,
        "selectable": true
      },
      "source": [
        "Now that we've looked at the basic procedure, we can prepare the implementation for `find()`. \n",
        "\n",
        "\n",
        "##### <font color=\"#3399DB\">Task 7</font>\n",
        "> In preparation, write down the pseudo code for `insert()` and any helper functions. Try to use a recursive implementation again.\n"
      ]
    },
    {
      "cell_type": "code",
      "execution_count": null,
      "id": "39377581-4a82-451e-bc46-ccaa3c7ae299",
      "metadata": {
        "cell_content_type": "code_user",
        "changed": false,
        "deletable": false,
        "editable": true,
        "hint": "One possibility is to fill the root with the new account in `insert()` if the tree is empty, and otherwise call a recursive helper function that returns nothing. The base case in the recursive process is the one where the next child under consideration is None. The new account can then be inserted there. Remember that the process really needs to end then.",
        "hint_counter": 0,
        "original-content": "#Solution \n#Pseudocode \n\n#insert()\n#input: node (DatabaseNode)\n#if tree is empty: set node as root \n#else recursively call helper function with root as subroot\n\n#recursive helper function: _insert_rec()\n#input: node (DatabaseNode), sub_root (DatabaseNode) (recursive variable)\n\n#determine pos = next node (left child or right child)\n##base case:  \n#if pos is None: \n    #insert node to parent\n    #stop process\n    \n#recursive process: \n#if pos is not None: \n    #recursively call _insert_rec() with pos (left or right child) as new sub_root",
        "protected": false,
        "selectable": true,
        "tags": []
      },
      "outputs": [],
      "source": [
        "#Solution \n",
        "#Pseudocode \n",
        "\n",
        "#insert()\n",
        "#input: node (DatabaseNode)\n",
        "#if tree is empty: set node as root \n",
        "#else recursively call helper function with root as subroot\n",
        "\n",
        "#recursive helper function: _insert_rec()\n",
        "#input: node (DatabaseNode), sub_root (DatabaseNode) (recursive variable)\n",
        "\n",
        "#determine pos = next node (left child or right child)\n",
        "##base case:  \n",
        "#if pos is None: \n",
        "    #insert node to parent\n",
        "    #stop process\n",
        "    \n",
        "#recursive process: \n",
        "#if pos is not None: \n",
        "    #recursively call _insert_rec() with pos (left or right child) as new sub_root"
      ]
    },
    {
      "cell_type": "markdown",
      "id": "4b35bdc4-6994-4d97-9a08-be53b3085f08",
      "metadata": {
        "cell_content_type": "markdown_default",
        "changed": false,
        "deletable": false,
        "editable": false,
        "original-content": "We are now ready and can implement `insert()`. \n\n\n##### <font color=\"#3399DB\">Task 8</font>\n> Implement `insert()`. Add the method to the `DatabaseTree` class again in your existing script *tree.py*.\n> Then use the prepared tests again to check your code.\n",
        "protected": false,
        "selectable": true
      },
      "source": [
        "We are now ready and can implement `insert()`. \n",
        "\n",
        "\n",
        "##### <font color=\"#3399DB\">Task 8</font>\n",
        "> Implement `insert()`. Add the method to the `DatabaseTree` class again in your existing script *tree.py*.\n",
        "> Then use the prepared tests again to check your code.\n"
      ]
    },
    {
      "cell_type": "code",
      "execution_count": null,
      "id": "ecb17274-d6a2-4350-8a55-bb63753559be",
      "metadata": {
        "cell_content_type": "code_user",
        "changed": false,
        "deletable": false,
        "editable": true,
        "hint": "If you would like, you can discuss this cell in the forum under *Binary Search Trees*.",
        "original-content": "#Solution \n#See script",
        "protected": false,
        "selectable": true
      },
      "outputs": [],
      "source": [
        "#Solution \n",
        "#See script"
      ]
    },
    {
      "cell_type": "code",
      "execution_count": 5,
      "id": "5b1c6c25-cb4c-47bd-b56e-1468a53e2223",
      "metadata": {
        "cell_content_type": "code_demo",
        "changed": false,
        "deletable": false,
        "editable": true,
        "hint": "If you would like, you can discuss this in the forum under *Binary search trees*.",
        "original-content": "!pytest test_tree.py::test_insert test_tree.py::test_insert_empty",
        "protected": false,
        "selectable": true
      },
      "outputs": [
        {
          "name": "stdout",
          "output_type": "stream",
          "text": [
            "\u001b[1m============================= test session starts ==============================\u001b[0m\n",
            "platform linux -- Python 3.8.10, pytest-6.2.4, py-1.11.0, pluggy-0.13.1\n",
            "rootdir: /home/jovyan/work/pyprog/stackfuel-python-programmer-product-de/module-05/chapter-01-solutions\n",
            "plugins: anyio-3.5.0\n",
            "collected 2 items                                                              \u001b[0m\n",
            "\n",
            "test_tree.py \u001b[32m.\u001b[0m\u001b[32m.\u001b[0m\u001b[32m                                                          [100%]\u001b[0m\n",
            "\n",
            "\u001b[32m============================== \u001b[32m\u001b[1m2 passed\u001b[0m\u001b[32m in 0.16s\u001b[0m\u001b[32m ===============================\u001b[0m\n"
          ]
        }
      ],
      "source": [
        "!pytest test_tree.py::test_insert test_tree.py::test_insert_empty"
      ]
    },
    {
      "cell_type": "markdown",
      "id": "dbda8c2c-deb1-43d0-a996-06868b375277",
      "metadata": {
        "cell_content_type": "markdown_default",
        "changed": false,
        "deletable": false,
        "editable": false,
        "original-content": "Outstanding. If a new user account is created on the website, the system calls the `insert()` method of the `DatabaseTree` class in the background. Finally, think again about the time complexity of `insert()`.\n\n\n##### <font color=\"#3399DB\">Task 9</font>\n> If $h$ is the number of nodes from the root to the furthest child, what is the time complexity of `insert()`? \n> \n> 1) $O(n)$\n> 2) $O(h)$\n> 3) $O(log \\: n)$\n> 4) $O(log \\: h)$\n> \n> Write down your answer as a comment in the following code cell.\n",
        "protected": false,
        "selectable": true
      },
      "source": [
        "Outstanding. If a new user account is created on the website, the system calls the `insert()` method of the `DatabaseTree` class in the background. Finally, think again about the time complexity of `insert()`.\n",
        "\n",
        "\n",
        "##### <font color=\"#3399DB\">Task 9</font>\n",
        "> If $h$ is the number of nodes from the root to the furthest child, what is the time complexity of `insert()`? \n",
        "> \n",
        "> 1) $O(n)$\n",
        "> 2) $O(h)$\n",
        "> 3) $O(log \\: n)$\n",
        "> 4) $O(log \\: h)$\n",
        "> \n",
        "> Write down your answer as a comment in the following code cell.\n"
      ]
    },
    {
      "cell_type": "code",
      "execution_count": null,
      "id": "afb693df-299b-415b-aa1c-30860f3ca0b6",
      "metadata": {
        "cell_content_type": "code_user",
        "changed": false,
        "deletable": false,
        "editable": true,
        "hint": "If you would like, you can discuss this cell in the forum under *Binary Search Trees*.",
        "original-content": "#Solution \n#like find(): \n#O(h) or O(log n) in a balanced tree ",
        "protected": false,
        "selectable": true
      },
      "outputs": [],
      "source": [
        "#Solution \n",
        "#like find(): \n",
        "#O(h) or O(log n) in a balanced tree "
      ]
    },
    {
      "cell_type": "markdown",
      "id": "7cebea67-b7f7-43ab-9a06-495890a3781f",
      "metadata": {
        "cell_content_type": "markdown_default",
        "changed": false,
        "deletable": false,
        "editable": false,
        "original-content": "You can see the solution to task 9 if you open the following box.\n",
        "selectable": false
      },
      "source": [
        "You can see the solution to task 9 if you open the following box.\n"
      ]
    },
    {
      "cell_type": "markdown",
      "id": "d1f39794-8765-4d33-9a25-1bba1227d400",
      "metadata": {
        "cell_content_type": "markdown_default",
        "changed": false,
        "deletable": false,
        "editable": false,
        "messageType": "vertiefung",
        "original-content": "**Solution**: Time complexity of `insert()`. \n<div class=\"details\">\nIn the worst case, you have to traverse the tree to the leaf with the greatest distance to the root in order to insert the new node there. \nBecause all the nodes you traverse are visited along the way again, this also results in a time complexity of $O(h)$.\n</div>\n",
        "protected": false,
        "selectable": true,
        "tags": []
      },
      "source": [
        "**Solution**: Time complexity of `insert()`. \n",
        "<div class=\"details\">\n",
        "In the worst case, you have to traverse the tree to the leaf with the greatest distance to the root in order to insert the new node there. \n",
        "Because all the nodes you traverse are visited along the way again, this also results in a time complexity of $O(h)$.\n",
        "</div>\n"
      ]
    },
    {
      "cell_type": "markdown",
      "id": "ddba2099-e1f8-4628-9c9f-ac6c800d5f7f",
      "metadata": {
        "cell_content_type": "markdown_default",
        "changed": false,
        "deletable": false,
        "editable": false,
        "messageType": "glueckwunsch",
        "original-content": "**Congratulations**:\nYou have implemented the data structure as a binary search tree. New user accounts can now be easily added and found in the system. You observe the structure of the system for a while to make sure that the tree is not too unbalanced.\n",
        "protected": false,
        "selectable": false,
        "tags": []
      },
      "source": [
        "**Congratulations**:\n",
        "You have implemented the data structure as a binary search tree. New user accounts can now be easily added and found in the system. You observe the structure of the system for a while to make sure that the tree is not too unbalanced.\n"
      ]
    },
    {
      "cell_type": "markdown",
      "id": "88b2737f-ddaa-4c29-a731-977e3e65b4f4",
      "metadata": {
        "cell_content_type": "markdown_default",
        "changed": false,
        "deletable": false,
        "editable": false,
        "messageType": "merke",
        "original-content": "**Remember**: \n* A binary tree is a data structure in which each node has a maximum of two children, which are also binary trees.\n* If a binary tree fulfills the binary search tree property, we call this a binary search tree. \n* The binary search tree is a set structure. It does not manage data in a sequence specified by the user. \n* Binary search trees are well suited to searching for nodes with a key and inserting nodes.\n* Balanced binary search trees are better at finding nodes than unbalanced ones. However, the balancing process itself uses resources when inserting and removing nodes.\n",
        "protected": false,
        "selectable": false,
        "tags": []
      },
      "source": [
        "**Remember**: \n",
        "* A binary tree is a data structure in which each node has a maximum of two children, which are also binary trees.\n",
        "* If a binary tree fulfills the binary search tree property, we call this a binary search tree. \n",
        "* The binary search tree is a set structure. It does not manage data in a sequence specified by the user. \n",
        "* Binary search trees are well suited to searching for nodes with a key and inserting nodes.\n",
        "* Balanced binary search trees are better at finding nodes than unbalanced ones. However, the balancing process itself uses resources when inserting and removing nodes.\n"
      ]
    },
    {
      "cell_type": "markdown",
      "id": "114c7435",
      "metadata": {
        "cell_content_type": "markdown_default",
        "changed": false,
        "deletable": false,
        "editable": false,
        "original-content": "***\nDo you have any questions about this exercise? Look in the forum to see if they have already been discussed.\n***\nFound a mistake? Contact Support at support@stackfuel.com.\n***\n",
        "protected": false,
        "selectable": false
      },
      "source": [
        "***\n",
        "Do you have any questions about this exercise? Look in the forum to see if they have already been discussed.\n",
        "***\n",
        "Found a mistake? Contact Support at support@stackfuel.com.\n",
        "***\n"
      ]
    }
  ],
  "metadata": {
    "content_id": "b0bf1f06-575a-4370-8123-ec4f2efd3a5d",
    "content_language": "en",
    "content_title": "Binary search trees",
    "content_type": "solution",
    "kernelspec": {
      "display_name": "Python 3 (ipykernel)",
      "language": "python",
      "name": "python3"
    },
    "language_info": {
      "codemirror_mode": {
        "name": "ipython",
        "version": 3
      },
      "file_extension": ".py",
      "mimetype": "text/x-python",
      "name": "python",
      "nbconvert_exporter": "python",
      "pygments_lexer": "ipython3",
      "version": "3.8.10"
    }
  },
  "nbformat": 4,
  "nbformat_minor": 5
}