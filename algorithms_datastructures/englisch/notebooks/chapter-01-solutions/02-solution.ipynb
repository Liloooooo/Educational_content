{
  "cells": [
    {
      "cell_type": "markdown",
      "id": "8c595f67-c5ef-4033-ad59-2dba8ca7ea87",
      "metadata": {
        "cell_content_type": "markdown_default",
        "changed": false,
        "deletable": false,
        "editable": false,
        "original-content": "# Linked Lists (Solution)\nModule Algorithms & Data structures | Chapter 1 | Notebook 2\n\n***\nIn the text lesson, we saw that the linked list data structure is well suited to implementing a queue. In this notebook you will implement it. By the end of this Exercise you will be able to: \n\n* Implement a queue that performs its core tasks in constant runtime. \n\n***\n",
        "protected": false,
        "selectable": false
      },
      "source": [
        "# Linked Lists (Solution)\n",
        "Module Algorithms & Data structures | Chapter 1 | Notebook 2\n",
        "\n",
        "***\n",
        "In the text lesson, we saw that the linked list data structure is well suited to implementing a queue. In this notebook you will implement it. By the end of this Exercise you will be able to: \n",
        "\n",
        "* Implement a queue that performs its core tasks in constant runtime. \n",
        "\n",
        "***\n"
      ]
    },
    {
      "cell_type": "markdown",
      "id": "901da4b5-6ea1-4f5b-909e-c879520776d6",
      "metadata": {
        "cell_content_type": "markdown_default",
        "changed": false,
        "deletable": false,
        "editable": false,
        "messageType": "szenario",
        "original-content": "**Scenario:**\nAt an online retail company, incoming orders are processed successively. When an order is received, it is placed in a queue. If the order changes to processing status, it is removed from the front of the queue and moved to a processing system. The solution used so far used a Python list for the task. In the meantime, however, efficiency problems are becoming increasingly apparent, so that an alternative implementation is required. The management asks you to provide code for the queue.\n",
        "protected": false,
        "selectable": false,
        "tags": []
      },
      "source": [
        "**Scenario:**\n",
        "At an online retail company, incoming orders are processed successively. When an order is received, it is placed in a queue. If the order changes to processing status, it is removed from the front of the queue and moved to a processing system. The solution used so far used a Python list for the task. In the meantime, however, efficiency problems are becoming increasingly apparent, so that an alternative implementation is required. The management asks you to provide code for the queue.\n"
      ]
    },
    {
      "cell_type": "markdown",
      "id": "3203f643-b2fe-43fd-9a79-15958debd79d",
      "metadata": {
        "cell_content_type": "markdown_default",
        "changed": false,
        "deletable": false,
        "editable": false,
        "original-content": "In the previous text lesson, we looked at two alternative sequential data structures: The array and the linked list. We have analyzed both time complexities when it comes to the core tasks of the queue. The two core tasks are: \n\n1. If an order is received, a data point is inserted at the end. \n2. If an order changes to processing status, it is removed from the front of the queue. \n\nWe saw that the linked list can perform both tasks in constant runtime if we provide it with a *tail*-pointer in addition to the *head*-pointer already provided. The array, on the other hand, copes much less well with the second task.\nWhile the array is very prominent in Python with the built-in `list` data type, the linked list has no similarly well-known representative. In this notebook, we want to implement it for our waiting loop example. \n\nTo do this, we will create a class `LLQueue` with *head* and *tail* pointers as attributes. \nWe will give it the methods `delete_first()` and `insert_last()` in this exercise. \nWe will also create a `LinkedNode` class for the orders. The entire linked list is held together by the *next* pointers in `LinkedNode`, which in turn are just their attributes. We have defined the docstrings accordingly as follows:\n",
        "protected": false,
        "selectable": true
      },
      "source": [
        "In the previous text lesson, we looked at two alternative sequential data structures: The array and the linked list. We have analyzed both time complexities when it comes to the core tasks of the queue. The two core tasks are: \n",
        "\n",
        "1. If an order is received, a data point is inserted at the end. \n",
        "2. If an order changes to processing status, it is removed from the front of the queue. \n",
        "\n",
        "We saw that the linked list can perform both tasks in constant runtime if we provide it with a *tail*-pointer in addition to the *head*-pointer already provided. The array, on the other hand, copes much less well with the second task.\n",
        "While the array is very prominent in Python with the built-in `list` data type, the linked list has no similarly well-known representative. In this notebook, we want to implement it for our waiting loop example. \n",
        "\n",
        "To do this, we will create a class `LLQueue` with *head* and *tail* pointers as attributes. \n",
        "We will give it the methods `delete_first()` and `insert_last()` in this exercise. \n",
        "We will also create a `LinkedNode` class for the orders. The entire linked list is held together by the *next* pointers in `LinkedNode`, which in turn are just their attributes. We have defined the docstrings accordingly as follows:\n"
      ]
    },
    {
      "cell_type": "markdown",
      "id": "c39db337-cfbf-4870-ba54-b34be5d232da",
      "metadata": {
        "cell_content_type": "markdown_default",
        "changed": false,
        "deletable": false,
        "editable": false,
        "original-content": "```python\nclass LLQueue:\n    \"\"\"\n    A queue implemented as a linked list.\n\n    Attributes:\n        head (LinkedNode): Head node of linked list. Defaults to None. \n        tail (LinkedNode): Tail node of linked list. Defaults to None. \n        \n    \"\"\"\n    \nclass LinkedNode:\n    \"\"\"\n    A node in a linked list.\n    \n    Args: \n        order_id (int): a unique id that is assigned to a specific order. \n        **kwargs: additional data to be stored for an order.\n\n    Attributes:\n        order_id (int): a unique id that is assigned to a specific order.\n        order_info (dict): additional data to be stored for an order. Defaults to {}.\n        next (LinkedNode): next node. Defaults to None. \n    \"\"\"\n    \n\n```\n",
        "protected": false,
        "selectable": true
      },
      "source": [
        "```python\n",
        "class LLQueue:\n",
        "    \"\"\"\n",
        "    A queue implemented as a linked list.\n",
        "\n",
        "    Attributes:\n",
        "        head (LinkedNode): Head node of linked list. Defaults to None. \n",
        "        tail (LinkedNode): Tail node of linked list. Defaults to None. \n",
        "        \n",
        "    \"\"\"\n",
        "    \n",
        "class LinkedNode:\n",
        "    \"\"\"\n",
        "    A node in a linked list.\n",
        "    \n",
        "    Args: \n",
        "        order_id (int): a unique id that is assigned to a specific order. \n",
        "        **kwargs: additional data to be stored for an order.\n",
        "\n",
        "    Attributes:\n",
        "        order_id (int): a unique id that is assigned to a specific order.\n",
        "        order_info (dict): additional data to be stored for an order. Defaults to {}.\n",
        "        next (LinkedNode): next node. Defaults to None. \n",
        "    \"\"\"\n",
        "    \n",
        "\n",
        "```\n"
      ]
    },
    {
      "cell_type": "markdown",
      "id": "d19ddf2e-50cd-49a9-ac74-703355a8932d",
      "metadata": {
        "cell_content_type": "markdown_default",
        "changed": false,
        "deletable": false,
        "editable": false,
        "original-content": "For each order - each instance of `LinkedNode` - further information, such as payment method or the number of products ordered, can be stored in addition to the integer order number.\nIn `LinkedNode` they are stored in the `order_info` attribute as a `dict`. \nAs an exercise, assume that the user enters this additional information as a variable and not in the form of a `dict`. In other words: Use the `**kwargs` to remind yourself how they work.\n",
        "protected": false,
        "selectable": true
      },
      "source": [
        "For each order - each instance of `LinkedNode` - further information, such as payment method or the number of products ordered, can be stored in addition to the integer order number.\n",
        "In `LinkedNode` they are stored in the `order_info` attribute as a `dict`. \n",
        "As an exercise, assume that the user enters this additional information as a variable and not in the form of a `dict`. In other words: Use the `**kwargs` to remind yourself how they work.\n"
      ]
    },
    {
      "cell_type": "markdown",
      "id": "906ae3ee-c6da-40a4-a9fd-29321df40f16",
      "metadata": {
        "cell_content_type": "markdown_default",
        "changed": false,
        "deletable": false,
        "editable": false,
        "original-content": "##### <font color=\"#3399DB\">Task 1</font>\n> Implement the queue as a linked list for the application example.\n> Use the default docstrings and create a script with the name *linkedlist.py*.\n> Then check your code using the prepared unit tests.\n> As always, you can use the empty code cell to design your code if you wish.\n",
        "selectable": true
      },
      "source": [
        "##### <font color=\"#3399DB\">Task 1</font>\n",
        "> Implement the queue as a linked list for the application example.\n",
        "> Use the default docstrings and create a script with the name *linkedlist.py*.\n",
        "> Then check your code using the prepared unit tests.\n",
        "> As always, you can use the empty code cell to design your code if you wish.\n"
      ]
    },
    {
      "cell_type": "code",
      "execution_count": 1,
      "id": "69f7306c-98c7-42c6-bd85-b89ec4c1292e",
      "metadata": {
        "cell_content_type": "code_user",
        "changed": false,
        "deletable": false,
        "editable": true,
        "hint": "To use the `**kwargs` within a function, you can simply assign them to a variable: `var=kwargs`. In this case, `var` has the data type `dict`.",
        "hint_counter": 0,
        "original-content": "#Solution \nclass LLQueue:\n    \"\"\"\n    A queue implemented as a linked list.\n\n    Attributes:\n        head (LinkedNode): Head node of linked list. Defaults to None. \n        tail (LinkedNode): Tail node of linked list. Defaults to None. \n        \n    \"\"\"\n    \n    def __init__(self): \n        self.head = None \n        self.tail = None \n\n            \nclass LinkedNode:\n    \"\"\"\n    A node in a linked list.\n    \n    Args: \n        order_id (int): a unique id that is assigned to a specific order. \n        **kwargs: additional data to be stored for an order.\n\n    Attributes:\n        order_id (int): a unique id that is assigned to a specific order.\n        order_info (dict): additional data to be stored for an order. Defaults to {}.\n        next (LinkedNode): next node. Defaults to None. \n    \"\"\"\n    \n    def __init__(self, order_id, **kwargs): \n        assert isinstance(order_id, int), 'order_id must be an integer'\n        self.order_id = order_id\n        self.order_info = kwargs\n        self.next = None",
        "protected": false,
        "selectable": true,
        "tags": []
      },
      "outputs": [],
      "source": [
        "#Solution \n",
        "class LLQueue:\n",
        "    \"\"\"\n",
        "    A queue implemented as a linked list.\n",
        "\n",
        "    Attributes:\n",
        "        head (LinkedNode): Head node of linked list. Defaults to None. \n",
        "        tail (LinkedNode): Tail node of linked list. Defaults to None. \n",
        "        \n",
        "    \"\"\"\n",
        "    \n",
        "    def __init__(self): \n",
        "        self.head = None \n",
        "        self.tail = None \n",
        "\n",
        "            \n",
        "class LinkedNode:\n",
        "    \"\"\"\n",
        "    A node in a linked list.\n",
        "    \n",
        "    Args: \n",
        "        order_id (int): a unique id that is assigned to a specific order. \n",
        "        **kwargs: additional data to be stored for an order.\n",
        "\n",
        "    Attributes:\n",
        "        order_id (int): a unique id that is assigned to a specific order.\n",
        "        order_info (dict): additional data to be stored for an order. Defaults to {}.\n",
        "        next (LinkedNode): next node. Defaults to None. \n",
        "    \"\"\"\n",
        "    \n",
        "    def __init__(self, order_id, **kwargs): \n",
        "        assert isinstance(order_id, int), 'order_id must be an integer'\n",
        "        self.order_id = order_id\n",
        "        self.order_info = kwargs\n",
        "        self.next = None"
      ]
    },
    {
      "cell_type": "code",
      "execution_count": 1,
      "id": "5eebdf3f-33b8-43a5-aafe-5c7942ebbb2d",
      "metadata": {
        "cell_content_type": "code_demo",
        "changed": false,
        "deletable": false,
        "editable": true,
        "hint": "If you would like, you can discuss this in the forum under *Linked Lists*.",
        "hint_counter": 0,
        "original-content": "!pytest test_linkedlist.py::test_node_init test_linkedlist.py::test_node_init_errors",
        "protected": false,
        "selectable": true,
        "tags": []
      },
      "outputs": [
        {
          "name": "stdout",
          "output_type": "stream",
          "text": [
            "\u001b[1m============================= test session starts ==============================\u001b[0m\n",
            "platform linux -- Python 3.8.10, pytest-6.2.4, py-1.11.0, pluggy-0.13.1\n",
            "rootdir: /home/jovyan/work/pyprog/stackfuel-python-programmer-product-de/module-05/chapter-01-solutions\n",
            "plugins: anyio-3.5.0\n",
            "collected 2 items                                                              \u001b[0m\n",
            "\n",
            "test_linkedlist.py \u001b[32m.\u001b[0m\u001b[32m.\u001b[0m\u001b[32m                                                    [100%]\u001b[0m\n",
            "\n",
            "\u001b[32m============================== \u001b[32m\u001b[1m2 passed\u001b[0m\u001b[32m in 0.08s\u001b[0m\u001b[32m ===============================\u001b[0m\n"
          ]
        }
      ],
      "source": [
        "!pytest test_linkedlist.py::test_node_init test_linkedlist.py::test_node_init_errors"
      ]
    },
    {
      "cell_type": "markdown",
      "id": "bb8a3c3e-51f5-4319-bc67-b0df172c2723",
      "metadata": {
        "cell_content_type": "markdown_default",
        "changed": false,
        "deletable": false,
        "editable": false,
        "original-content": "The basic structure for our queue, including all the designated pointers, is now in place.  \nThe person processing the order can save all the relevant information on an order and it is ensured that the order number is an integer value. We can now take care of writing methods for our data structure.\n",
        "selectable": false
      },
      "source": [
        "The basic structure for our queue, including all the designated pointers, is now in place.  \n",
        "The person processing the order can save all the relevant information on an order and it is ensured that the order number is an integer value. We can now take care of writing methods for our data structure.\n"
      ]
    },
    {
      "cell_type": "markdown",
      "id": "026a49ad-a266-4072-822a-1b7a68acadf5",
      "metadata": {
        "cell_content_type": "markdown_default",
        "changed": false,
        "deletable": false,
        "editable": false,
        "original-content": "## Inserting an element in the last position\n",
        "protected": false,
        "selectable": false
      },
      "source": [
        "## Inserting an element in the last position\n"
      ]
    },
    {
      "cell_type": "markdown",
      "id": "a16ee0c7-9024-4182-bc0b-a7d77a649276",
      "metadata": {
        "cell_content_type": "markdown_default",
        "changed": false,
        "deletable": false,
        "editable": false,
        "original-content": "First we will look at `insert_last()`. Using this method, new incoming orders are placed in our queue by the person processing them or by the system. We saw in the text lesson that the time complexity of the method is constant thanks to the *tail*-pointer. This means that the implementation should work without loops or recursions.\n",
        "protected": false,
        "selectable": true
      },
      "source": [
        "First we will look at `insert_last()`. Using this method, new incoming orders are placed in our queue by the person processing them or by the system. We saw in the text lesson that the time complexity of the method is constant thanks to the *tail*-pointer. This means that the implementation should work without loops or recursions.\n"
      ]
    },
    {
      "cell_type": "markdown",
      "id": "e31f476b-9ab6-4a1e-b4e5-5c1a27c19519",
      "metadata": {
        "cell_content_type": "markdown_default",
        "changed": false,
        "deletable": false,
        "editable": false,
        "original-content": "```python\ndef insert_last(self, data)    \n    \"\"\"\n    Insert a new node at the last position of the queue. \n        \n    Args: \n        data (LinkedNode): the node to be appended. \n        \n    Returns: \n        None \n        \n    \"\"\"\n```\n",
        "protected": false,
        "selectable": true
      },
      "source": [
        "```python\n",
        "def insert_last(self, data)    \n",
        "    \"\"\"\n",
        "    Insert a new node at the last position of the queue. \n",
        "        \n",
        "    Args: \n",
        "        data (LinkedNode): the node to be appended. \n",
        "        \n",
        "    Returns: \n",
        "        None \n",
        "        \n",
        "    \"\"\"\n",
        "```\n"
      ]
    },
    {
      "cell_type": "markdown",
      "id": "af3fd300-1a1d-4049-8c20-d320d99bfc89",
      "metadata": {
        "cell_content_type": "markdown_default",
        "changed": false,
        "deletable": false,
        "editable": false,
        "original-content": "##### <font color=\"#3399DB\">Task 2</font>\n> Implement `insert_last()` in the class `LLQueue` in $O(1)$. Write your code in the script *linkedlist.py*, which we have already created. Then use the prepared unit tests again to check your code. You can use the empty cell again to draft your code.\n",
        "protected": false,
        "selectable": true
      },
      "source": [
        "##### <font color=\"#3399DB\">Task 2</font>\n",
        "> Implement `insert_last()` in the class `LLQueue` in $O(1)$. Write your code in the script *linkedlist.py*, which we have already created. Then use the prepared unit tests again to check your code. You can use the empty cell again to draft your code.\n"
      ]
    },
    {
      "cell_type": "code",
      "execution_count": 6,
      "id": "62faf4ac-676b-43a8-b681-ba837633c5b6",
      "metadata": {
        "cell_content_type": "code_user",
        "changed": false,
        "deletable": false,
        "editable": true,
        "hint": "Remember to deal with `tail`. Each time we add an element at the end, it needs to be adjusted. You should also change the *next* pointer of the former last element.",
        "hint_counter": 0,
        "original-content": "#Solution \nclass LLQueue:\n    \"\"\"\n    A queue implemented as a linked list.\n\n    Attributes:\n        head (LinkedNode): Head node of linked list. Defaults to None. \n        tail (LinkedNode): Tail node of linked list. Defaults to None. \n        \n    \"\"\"\n    \n    def __init__(self): \n        self.head = None \n        self.tail = None \n        \n    def insert_last(self, data): \n        \"\"\"\n        Insert a new node at the last position of the queue. \n        \n        Args: \n            data (LinkedNode): the node to be appended. \n        \n        Returns: \n            None \n            \n        \"\"\"\n        \n        assert isinstance(data, LinkedNode) \n        if self.tail is None: #queue empty\n            self.tail, self.head = data, data #set head and tail to new order \n        else: #queue not empty\n            self.tail.next = data #set next pointer of previous tail \n            self.tail = data #then adjust tail-pointer\n            ",
        "protected": false,
        "selectable": true,
        "tags": []
      },
      "outputs": [],
      "source": [
        "#Solution \n",
        "class LLQueue:\n",
        "    \"\"\"\n",
        "    A queue implemented as a linked list.\n",
        "\n",
        "    Attributes:\n",
        "        head (LinkedNode): Head node of linked list. Defaults to None. \n",
        "        tail (LinkedNode): Tail node of linked list. Defaults to None. \n",
        "        \n",
        "    \"\"\"\n",
        "    \n",
        "    def __init__(self): \n",
        "        self.head = None \n",
        "        self.tail = None \n",
        "        \n",
        "    def insert_last(self, data): \n",
        "        \"\"\"\n",
        "        Insert a new node at the last position of the queue. \n",
        "        \n",
        "        Args: \n",
        "            data (LinkedNode): the node to be appended. \n",
        "        \n",
        "        Returns: \n",
        "            None \n",
        "            \n",
        "        \"\"\"\n",
        "        \n",
        "        assert isinstance(data, LinkedNode) \n",
        "        if self.tail is None: #queue empty\n",
        "            self.tail, self.head = data, data #set head and tail to new order \n",
        "        else: #queue not empty\n",
        "            self.tail.next = data #set next pointer of previous tail \n",
        "            self.tail = data #then adjust tail-pointer\n",
        "            "
      ]
    },
    {
      "cell_type": "code",
      "execution_count": 40,
      "id": "c7a992c1-313f-4bb5-8201-fcb9337d6e3f",
      "metadata": {
        "cell_content_type": "code_demo",
        "changed": false,
        "deletable": false,
        "editable": true,
        "hint": "If you would like, you can discuss this in the forum under *Linked Lists*.",
        "original-content": "!pytest test_linkedlist.py::test_insert_last test_linkedlist.py::test_insert_last_errors\n    ",
        "protected": false,
        "selectable": true
      },
      "outputs": [
        {
          "name": "stdout",
          "output_type": "stream",
          "text": [
            "\u001b[1m============================= test session starts ==============================\u001b[0m\n",
            "platform linux -- Python 3.8.10, pytest-6.2.4, py-1.11.0, pluggy-0.13.1\n",
            "rootdir: /home/jovyan/work/pyprog/stackfuel-python-programmer-product-de/module-05/chapter-01-solutions\n",
            "plugins: anyio-3.5.0\n",
            "collected 2 items                                                              \u001b[0m\n",
            "\n",
            "test_linkedlist.py \u001b[32m.\u001b[0m\u001b[32m.\u001b[0m\u001b[32m                                                    [100%]\u001b[0m\n",
            "\n",
            "\u001b[32m============================== \u001b[32m\u001b[1m2 passed\u001b[0m\u001b[32m in 0.05s\u001b[0m\u001b[32m ===============================\u001b[0m\n"
          ]
        }
      ],
      "source": [
        "!pytest test_linkedlist.py::test_insert_last test_linkedlist.py::test_insert_last_errors\n",
        "    "
      ]
    },
    {
      "cell_type": "markdown",
      "id": "fad7bbe6-2b5e-461a-b2fc-082d5d72427a",
      "metadata": {
        "cell_content_type": "markdown_default",
        "changed": false,
        "deletable": false,
        "editable": false,
        "original-content": "Using the `insert_last()` method, users or the system can now place new incoming orders in the queue. Both the *next*-pointer of the former last order and the *tail*-pointer of the structure are adjusted in the method. In the next step, we will turn our attention to the second core task of the queue.\n",
        "selectable": true
      },
      "source": [
        "Using the `insert_last()` method, users or the system can now place new incoming orders in the queue. Both the *next*-pointer of the former last order and the *tail*-pointer of the structure are adjusted in the method. In the next step, we will turn our attention to the second core task of the queue.\n"
      ]
    },
    {
      "cell_type": "markdown",
      "id": "ed9e406a-c6ce-4284-8a6f-f588ee9fca1d",
      "metadata": {
        "cell_content_type": "markdown_default",
        "changed": false,
        "deletable": false,
        "editable": false,
        "original-content": "## Removing an element at the beginning\n",
        "protected": false,
        "selectable": false
      },
      "source": [
        "## Removing an element at the beginning\n"
      ]
    },
    {
      "cell_type": "markdown",
      "id": "da739c85-852a-48a0-9998-1f6f1d65404d",
      "metadata": {
        "cell_content_type": "markdown_default",
        "changed": false,
        "deletable": false,
        "editable": false,
        "original-content": "If an order changes to processing status, it must be removed from the front of our queue. The element should also be output, as the system needs the information to be able to process the order further. \nWe will implement the corresponding method in our `LLQueue` class. \n    \n```python \ndef delete_first(self): \n    \"\"\"\n    Delete first node. Print message if queue contains no elements, and nothing is deleted. \n\n    Returns: \n        Deleted node (LinkedNode), None if self was empty.  \n\n    \"\"\"\n``` \n\nWe have already seen in the text lesson that removing the first order from the queue also has a constant time complexity. We only need to adjust the *head*-pointer.\n",
        "protected": false,
        "selectable": true
      },
      "source": [
        "If an order changes to processing status, it must be removed from the front of our queue. The element should also be output, as the system needs the information to be able to process the order further. \n",
        "We will implement the corresponding method in our `LLQueue` class. \n",
        "    \n",
        "```python \n",
        "def delete_first(self): \n",
        "    \"\"\"\n",
        "    Delete first node. Print message if queue contains no elements, and nothing is deleted. \n",
        "\n",
        "    Returns: \n",
        "        Deleted node (LinkedNode), None if self was empty.  \n",
        "\n",
        "    \"\"\"\n",
        "``` \n",
        "\n",
        "We have already seen in the text lesson that removing the first order from the queue also has a constant time complexity. We only need to adjust the *head*-pointer.\n"
      ]
    },
    {
      "cell_type": "markdown",
      "id": "0403dad8-1d53-454d-a64e-9716277dbd48",
      "metadata": {
        "cell_content_type": "markdown_default",
        "changed": false,
        "deletable": false,
        "editable": false,
        "original-content": "##### <font color=\"#3399DB\">Task 3</font>\n> Implement `delete_first()` in $O(1)$. Add the method to your `LLQueue` class in the *linkedlist.py* script. You can use the empty code cell again to draft your code. Check your code again using the available unit tests.\n",
        "selectable": true
      },
      "source": [
        "##### <font color=\"#3399DB\">Task 3</font>\n",
        "> Implement `delete_first()` in $O(1)$. Add the method to your `LLQueue` class in the *linkedlist.py* script. You can use the empty code cell again to draft your code. Check your code again using the available unit tests.\n"
      ]
    },
    {
      "cell_type": "code",
      "execution_count": 2,
      "id": "191116f5-9e07-4176-a96f-4dc6d8d3a085",
      "metadata": {
        "cell_content_type": "code_user",
        "changed": false,
        "deletable": false,
        "editable": true,
        "hint": "If you would like, you can discuss this cell in the forum under *Linked Lists*.",
        "original-content": "#Solution \nclass LLQueue:\n    \"\"\"\n    A queue implemented as a linked list.\n\n    Attributes:\n        head (LinkedNode): Head node of linked list. Defaults to None. \n        tail (LinkedNode): Tail node of linked list. Defaults to None. \n        \n    \"\"\"\n    \n    def __init__(self): \n        self.head = None \n        self.tail = None \n        \n    def insert_last(self, data): \n        \"\"\"\n        Insert a new node at the last position of the queue. \n        \n        Args: \n            data (LinkedNode): the node to be appended. \n        \n        Returns: \n            None \n            \n        \"\"\"\n        \n        assert isinstance(data, LinkedNode) \n        if self.tail is None: #queue empty\n            self.tail, self.head = data, data #set head and tail to new order \n        else: #queue not empty\n            self.tail.next = data #set next pointer of previous tail \n            self.tail = data #then adjust tail-pointer\n            \n    \n            \n    def delete_first(self): \n        \"\"\"\n        Delete first node. Print message if queue contains no elements, and nothing is deleted. \n\n        Returns: \n            Deleted node (LinkedNode), None if self was empty.  \n\n        \"\"\"\n\n        if self.tail is None: \n            print('Queue contains no elements')\n            return None\n        pop = self.head\n        self.head = self.head.next \n        if self.head is None: \n            self.tail = None \n        return pop",
        "protected": false,
        "selectable": true
      },
      "outputs": [],
      "source": [
        "#Solution \n",
        "class LLQueue:\n",
        "    \"\"\"\n",
        "    A queue implemented as a linked list.\n",
        "\n",
        "    Attributes:\n",
        "        head (LinkedNode): Head node of linked list. Defaults to None. \n",
        "        tail (LinkedNode): Tail node of linked list. Defaults to None. \n",
        "        \n",
        "    \"\"\"\n",
        "    \n",
        "    def __init__(self): \n",
        "        self.head = None \n",
        "        self.tail = None \n",
        "        \n",
        "    def insert_last(self, data): \n",
        "        \"\"\"\n",
        "        Insert a new node at the last position of the queue. \n",
        "        \n",
        "        Args: \n",
        "            data (LinkedNode): the node to be appended. \n",
        "        \n",
        "        Returns: \n",
        "            None \n",
        "            \n",
        "        \"\"\"\n",
        "        \n",
        "        assert isinstance(data, LinkedNode) \n",
        "        if self.tail is None: #queue empty\n",
        "            self.tail, self.head = data, data #set head and tail to new order \n",
        "        else: #queue not empty\n",
        "            self.tail.next = data #set next pointer of previous tail \n",
        "            self.tail = data #then adjust tail-pointer\n",
        "            \n",
        "    \n",
        "            \n",
        "    def delete_first(self): \n",
        "        \"\"\"\n",
        "        Delete first node. Print message if queue contains no elements, and nothing is deleted. \n",
        "\n",
        "        Returns: \n",
        "            Deleted node (LinkedNode), None if self was empty.  \n",
        "\n",
        "        \"\"\"\n",
        "\n",
        "        if self.tail is None: \n",
        "            print('Queue contains no elements')\n",
        "            return None\n",
        "        pop = self.head\n",
        "        self.head = self.head.next \n",
        "        if self.head is None: \n",
        "            self.tail = None \n",
        "        return pop"
      ]
    },
    {
      "cell_type": "code",
      "execution_count": 5,
      "id": "15b81e4b-0974-4078-922f-e6377281ce41",
      "metadata": {
        "cell_content_type": "code_demo",
        "changed": false,
        "deletable": false,
        "editable": true,
        "hint": "If you would like, you can discuss this in the forum under *Linked Lists*.",
        "original-content": "!pytest test_linkedlist.py::test_delete_first",
        "protected": false,
        "selectable": true
      },
      "outputs": [
        {
          "name": "stdout",
          "output_type": "stream",
          "text": [
            "\u001b[1m============================= test session starts ==============================\u001b[0m\n",
            "platform linux -- Python 3.8.10, pytest-6.2.4, py-1.11.0, pluggy-0.13.1\n",
            "rootdir: /home/jovyan/work/pyprog/stackfuel-python-programmer-product-de/module-05/chapter-01-solutions\n",
            "plugins: anyio-3.5.0\n",
            "collected 1 item                                                               \u001b[0m\n",
            "\n",
            "test_linkedlist.py \u001b[32m.\u001b[0m\u001b[32m                                                     [100%]\u001b[0m\n",
            "\n",
            "\u001b[32m============================== \u001b[32m\u001b[1m1 passed\u001b[0m\u001b[32m in 0.05s\u001b[0m\u001b[32m ===============================\u001b[0m\n"
          ]
        }
      ],
      "source": [
        "!pytest test_linkedlist.py::test_delete_first"
      ]
    },
    {
      "cell_type": "markdown",
      "id": "bef8c1c9-6a1b-47c1-a2c0-f29b480d6d2f",
      "metadata": {
        "cell_content_type": "markdown_default",
        "changed": false,
        "deletable": false,
        "editable": false,
        "original-content": "The queue can now perform its core tasks. New incoming orders can be entered and orders that have changed to processing status can be removed from the front. \n\nYou may be wondering what happened to the order that is removed from the queue. Doesn't it continue to occupy unnecessary storage space? \nTheoretically, we should empty this memory space. Conveniently, we don't have to worry about this in Python - a built-in garbage collector does it for us. You can find out more about it by expanding the deep dive box.\n",
        "selectable": false
      },
      "source": [
        "The queue can now perform its core tasks. New incoming orders can be entered and orders that have changed to processing status can be removed from the front. \n",
        "\n",
        "You may be wondering what happened to the order that is removed from the queue. Doesn't it continue to occupy unnecessary storage space? \n",
        "Theoretically, we should empty this memory space. Conveniently, we don't have to worry about this in Python - a built-in garbage collector does it for us. You can find out more about it by expanding the deep dive box.\n"
      ]
    },
    {
      "cell_type": "markdown",
      "id": "264ebfbd-367c-4b4a-9bca-661aa02fc3f8",
      "metadata": {
        "cell_content_type": "markdown_default",
        "changed": false,
        "deletable": false,
        "editable": false,
        "messageType": "vertiefung",
        "original-content": "**Deep dive**: Python's Garbage Collector. \n\n<div class=\"details\">\n\nPython manages the memory automatically via its built-in garbage collector. The garbage collector empties the memory of objects that are no longer referenced. In a pointer-based data structure, this means that elements that do not have a pointer pointing to them are removed. In some other programming languages, such as `C`, you have to manage the memory manually.  \nYou can control the garbage collector in Python using the `gc` module. We can use the `weakref` module to manually check whether `delete_first()` has actually removed the first order from the memory. Here you can see a simple example: \n\n```python \nimport weakref \n\nqueue = LLQueue()\nnode1 = LinkedNode(1234)\nqueue.insert_last(node1)\nn1_ref = weakref.ref(node1)\ndel node1 #needed to delete reference to variable\nprint(n1_ref()) #prints reference from queue\nqueue.delete_first() \nprint(n1_ref()) #prints None\n```\n\nIn this example, we create a weak reference to our order (`node1`) with `weakref.ref()`. Calling this reference returns the object if it exists. If we only delete `node1`, the order still exists - in `queue`. However, if we remove it from the queue using `delete_first()`, it should no longer exist. The last `print` command then outputs `None`. We can therefore be sure that the object no longer exists. The reverse is not necessarily correct: Even objects removed from the garbage collector can still be identified by a weak reference. \n\n</div>\n",
        "selectable": true,
        "tags": []
      },
      "source": [
        "**Deep dive**: Python's Garbage Collector. \n",
        "\n",
        "<div class=\"details\">\n",
        "\n",
        "Python manages the memory automatically via its built-in garbage collector. The garbage collector empties the memory of objects that are no longer referenced. In a pointer-based data structure, this means that elements that do not have a pointer pointing to them are removed. In some other programming languages, such as `C`, you have to manage the memory manually.  \n",
        "You can control the garbage collector in Python using the `gc` module. We can use the `weakref` module to manually check whether `delete_first()` has actually removed the first order from the memory. Here you can see a simple example: \n",
        "\n",
        "```python \n",
        "import weakref \n",
        "\n",
        "queue = LLQueue()\n",
        "node1 = LinkedNode(1234)\n",
        "queue.insert_last(node1)\n",
        "n1_ref = weakref.ref(node1)\n",
        "del node1 #needed to delete reference to variable\n",
        "print(n1_ref()) #prints reference from queue\n",
        "queue.delete_first() \n",
        "print(n1_ref()) #prints None\n",
        "```\n",
        "\n",
        "In this example, we create a weak reference to our order (`node1`) with `weakref.ref()`. Calling this reference returns the object if it exists. If we only delete `node1`, the order still exists - in `queue`. However, if we remove it from the queue using `delete_first()`, it should no longer exist. The last `print` command then outputs `None`. We can therefore be sure that the object no longer exists. The reverse is not necessarily correct: Even objects removed from the garbage collector can still be identified by a weak reference. \n",
        "\n",
        "</div>\n"
      ]
    },
    {
      "cell_type": "markdown",
      "id": "a9a48910-78b8-479c-a1e7-4893a519b9a2",
      "metadata": {
        "cell_content_type": "markdown_default",
        "changed": false,
        "deletable": false,
        "editable": false,
        "original-content": "By the way: If you want to use the linked list in Python, you don't have to program it yourself every time. Python has a built-in class for this: `collections.deque`. \nIt uses a linked list data structure that can remove or add elements at the beginning or end in $O(1)$.\n",
        "protected": false,
        "selectable": true,
        "tags": []
      },
      "source": [
        "By the way: If you want to use the linked list in Python, you don't have to program it yourself every time. Python has a built-in class for this: `collections.deque`. \n",
        "It uses a linked list data structure that can remove or add elements at the beginning or end in $O(1)$.\n"
      ]
    },
    {
      "cell_type": "markdown",
      "id": "b791a120-f1fd-4d93-b8e3-3d9e8a43bce0",
      "metadata": {
        "cell_content_type": "markdown_default",
        "changed": false,
        "deletable": false,
        "editable": false,
        "original-content": "Since `delete_first()` works without recursions or loops, the number of operations is independent of the number of orders in the queue, and therefore has a time complexity of $O(1)$. It doesn't get better than this. \nFinally, let's recap how the `list` in Python removes the first element: all the subsequent elements are moved. \nThe more orders there are in the queue, the greater the computing savings of the new solution for the online retail company.\n",
        "protected": false,
        "selectable": true
      },
      "source": [
        "Since `delete_first()` works without recursions or loops, the number of operations is independent of the number of orders in the queue, and therefore has a time complexity of $O(1)$. It doesn't get better than this. \n",
        "Finally, let's recap how the `list` in Python removes the first element: all the subsequent elements are moved. \n",
        "The more orders there are in the queue, the greater the computing savings of the new solution for the online retail company.\n"
      ]
    },
    {
      "cell_type": "markdown",
      "id": "08c96bf6-9f68-4ee3-8301-cbec1b2c350f",
      "metadata": {
        "cell_content_type": "markdown_default",
        "changed": false,
        "deletable": false,
        "editable": false,
        "messageType": "glueckwunsch",
        "original-content": "**Congratulations**: The online retail company can now use your queue. Compared to the original solution, which used a Python list, orders can also be removed from the front of the queue in constant runtime. Management is very satisfied with your work so far!\n",
        "protected": false,
        "selectable": false,
        "tags": []
      },
      "source": [
        "**Congratulations**: The online retail company can now use your queue. Compared to the original solution, which used a Python list, orders can also be removed from the front of the queue in constant runtime. Management is very satisfied with your work so far!\n"
      ]
    },
    {
      "cell_type": "markdown",
      "id": "c71dcae3-ae6a-410a-9018-b22a2e6bcdcd",
      "metadata": {
        "cell_content_type": "markdown_default",
        "changed": false,
        "deletable": false,
        "editable": false,
        "messageType": "merke",
        "original-content": "**Remember**: \n* A modified version of the linked list is ideal as a queue.  \n* `collections.deque` is a lesser known representative of the linked list in Python. \n* Python has a built-in garbage collector that automatically removes unreferenced objects.\n",
        "protected": false,
        "selectable": true,
        "tags": []
      },
      "source": [
        "**Remember**: \n",
        "* A modified version of the linked list is ideal as a queue.  \n",
        "* `collections.deque` is a lesser known representative of the linked list in Python. \n",
        "* Python has a built-in garbage collector that automatically removes unreferenced objects.\n"
      ]
    },
    {
      "cell_type": "markdown",
      "id": "0a6ba2a4-23b1-49f9-a958-bbc06e1fcacc",
      "metadata": {
        "cell_content_type": "markdown_default",
        "changed": false,
        "deletable": false,
        "editable": false,
        "original-content": "***\nDo you have any questions about this exercise? Look in the forum to see if they have already been discussed.\n***\nFound a mistake? Contact Support at support@stackfuel.com.\n***\n",
        "protected": false,
        "selectable": false
      },
      "source": [
        "***\n",
        "Do you have any questions about this exercise? Look in the forum to see if they have already been discussed.\n",
        "***\n",
        "Found a mistake? Contact Support at support@stackfuel.com.\n",
        "***\n"
      ]
    }
  ],
  "metadata": {
    "content_id": "d3093952-4a1a-4198-9fbc-662dbb2803c7",
    "content_language": "en",
    "content_title": "Linked Lists",
    "content_type": "solution",
    "kernelspec": {
      "display_name": "Python 3 (ipykernel)",
      "language": "python",
      "name": "python3"
    },
    "language_info": {
      "codemirror_mode": {
        "name": "ipython",
        "version": 3
      },
      "file_extension": ".py",
      "mimetype": "text/x-python",
      "name": "python",
      "nbconvert_exporter": "python",
      "pygments_lexer": "ipython3",
      "version": "3.8.10"
    }
  },
  "nbformat": 4,
  "nbformat_minor": 5
}