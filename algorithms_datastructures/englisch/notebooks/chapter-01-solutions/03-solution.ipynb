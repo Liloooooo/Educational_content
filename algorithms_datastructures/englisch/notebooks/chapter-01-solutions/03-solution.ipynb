{
  "cells": [
    {
      "cell_type": "markdown",
      "id": "bbbaf4ce-dfc3-4e70-8ce5-dfed91165b3a",
      "metadata": {
        "cell_content_type": "markdown_default",
        "changed": false,
        "deletable": false,
        "editable": false,
        "original-content": "# Optional: Linked Lists II (Solution) \nModule Algorithms & Data structures | Chapter 1 | Notebook 3\n\n***\nIn this exercise, we will also equip our queue with a method that deletes orders from the middle. We will also implement the `len()` method using *data structure augmentation*. By the end of this exercise you will be able to: \n\n\n* Add a (recursive) method and any helper functions to the linked list independently, \n* Use *data structure augmentation* to make code more efficient. \n***\n",
        "protected": false,
        "selectable": true,
        "tags": []
      },
      "source": [
        "# Optional: Linked Lists II (Solution) \n",
        "Module Algorithms & Data structures | Chapter 1 | Notebook 3\n",
        "\n",
        "***\n",
        "In this exercise, we will also equip our queue with a method that deletes orders from the middle. We will also implement the `len()` method using *data structure augmentation*. By the end of this exercise you will be able to: \n",
        "\n",
        "\n",
        "* Add a (recursive) method and any helper functions to the linked list independently, \n",
        "* Use *data structure augmentation* to make code more efficient. \n",
        "***\n"
      ]
    },
    {
      "cell_type": "markdown",
      "id": "bf8d20cc-0233-496a-ac0e-2c47f3c45b2c",
      "metadata": {
        "cell_content_type": "markdown_default",
        "changed": false,
        "deletable": false,
        "editable": false,
        "messageType": "szenario",
        "original-content": "**Scenario:**\nIncoming orders are now piling up for the online retail company. Unfortunately, this also leads to an increase in the number of cancellations. Your data structure is performing well, and management asks you to also create a method for deleting orders. The relevant order should be found using the order number. \nThey would also like to be able to view the amount of orders that are currently awaiting processing at any time.\n",
        "protected": false,
        "selectable": false,
        "tags": []
      },
      "source": [
        "**Scenario:**\n",
        "Incoming orders are now piling up for the online retail company. Unfortunately, this also leads to an increase in the number of cancellations. Your data structure is performing well, and management asks you to also create a method for deleting orders. The relevant order should be found using the order number. \n",
        "They would also like to be able to view the amount of orders that are currently awaiting processing at any time.\n"
      ]
    },
    {
      "cell_type": "markdown",
      "id": "8e5c2758-fddb-4b54-b1d8-5e1cb57f822e",
      "metadata": {
        "cell_content_type": "markdown_default",
        "changed": false,
        "deletable": false,
        "editable": false,
        "original-content": "In this exercise, we will first deal with management's first concern: We will implement a method that allows us to delete orders from the queue. However, in contrast to `delete_first()`, the order is not necessarily at the beginning of the queue. It should be found using its unique order number. We have already created the `order_id` attribute in our `LLQueue` class.\n",
        "protected": false,
        "selectable": true
      },
      "source": [
        "In this exercise, we will first deal with management's first concern: We will implement a method that allows us to delete orders from the queue. However, in contrast to `delete_first()`, the order is not necessarily at the beginning of the queue. It should be found using its unique order number. We have already created the `order_id` attribute in our `LLQueue` class.\n"
      ]
    },
    {
      "cell_type": "markdown",
      "id": "29c7f34e-65d7-44d2-b610-15b2c5904af0",
      "metadata": {
        "cell_content_type": "markdown_default",
        "changed": false,
        "deletable": false,
        "editable": false,
        "original-content": "Before we get started, please note the following: \nYou will have a lot of freedom in this lesson, and this is intentional. You can use this experience to develop your skills in method design. \nThis means that you may need a little more time than usual to find a good structure and to accommodate all eventualities in your code. We will provide you with pseudocode here in the notebook in case you get stuck. But it's best to try it out first to see if you can find the solution on your own.\n",
        "protected": false,
        "selectable": false
      },
      "source": [
        "Before we get started, please note the following: \n",
        "You will have a lot of freedom in this lesson, and this is intentional. You can use this experience to develop your skills in method design. \n",
        "This means that you may need a little more time than usual to find a good structure and to accommodate all eventualities in your code. We will provide you with pseudocode here in the notebook in case you get stuck. But it's best to try it out first to see if you can find the solution on your own.\n"
      ]
    },
    {
      "cell_type": "markdown",
      "id": "1a8ab1e2-f7bc-4edd-92f7-a2104a330079",
      "metadata": {
        "cell_content_type": "markdown_default",
        "changed": false,
        "deletable": false,
        "editable": false,
        "original-content": "## Deleting an element from the middle\n",
        "protected": false,
        "selectable": false
      },
      "source": [
        "## Deleting an element from the middle\n"
      ]
    },
    {
      "cell_type": "markdown",
      "id": "7792e082-8b2e-4e7d-bb9d-07f3ba593e0a",
      "metadata": {
        "cell_content_type": "markdown_default",
        "changed": false,
        "deletable": false,
        "editable": false,
        "original-content": "In the previous exercise, you implemented a modified linked list, which is ideal for use as a queue.  \nNow the company has a new requirement: if an order is canceled, it must be deleted.\n",
        "protected": false,
        "selectable": false
      },
      "source": [
        "In the previous exercise, you implemented a modified linked list, which is ideal for use as a queue.  \n",
        "Now the company has a new requirement: if an order is canceled, it must be deleted.\n"
      ]
    },
    {
      "cell_type": "markdown",
      "id": "6f94f1e0-6cf3-4bf8-9f6d-cb0cc6d568d7",
      "metadata": {
        "cell_content_type": "markdown_default",
        "changed": false,
        "deletable": false,
        "editable": false,
        "original-content": "We will create the `delete_node()` method in the `LLQueue` class. \n\n```python \ndef delete_node(self, order_id): \n    \"\"\"\n    Delete node with specific order_id. Return deleted node, and None if nothing found. Print message if nothing is found. \n\n    Args: \n        order_id (int): unique order_id of LinkedNode object to be deleted from self. \n\n    Returns: \n        Deleted node (LinkedNode), None if self was empty.  \n\n    \"\"\"\n    \n```\n",
        "protected": false,
        "selectable": true
      },
      "source": [
        "We will create the `delete_node()` method in the `LLQueue` class. \n",
        "\n",
        "```python \n",
        "def delete_node(self, order_id): \n",
        "    \"\"\"\n",
        "    Delete node with specific order_id. Return deleted node, and None if nothing found. Print message if nothing is found. \n",
        "\n",
        "    Args: \n",
        "        order_id (int): unique order_id of LinkedNode object to be deleted from self. \n",
        "\n",
        "    Returns: \n",
        "        Deleted node (LinkedNode), None if self was empty.  \n",
        "\n",
        "    \"\"\"\n",
        "    \n",
        "```\n"
      ]
    },
    {
      "cell_type": "markdown",
      "id": "c5f59398-5b54-4329-bdc2-06ee1b19653f",
      "metadata": {
        "cell_content_type": "markdown_default",
        "changed": false,
        "deletable": false,
        "editable": false,
        "original-content": "We put a lot of thought into the time complexity of our methods in advance. Both `delete_first()` and `insert_last()` could be implemented in $O(1)$. However, we had not yet dealt with deleting from the middle. We'll rectify this now. So what is the best possible time complexity of `delete_node()` in big O notation?\n\nIn contrast to `delete_first()` and `insert_last()`, we no longer know where the order to be deleted is located. This means that we first have to find it, or rather the entry that comes before it. Only then can we reset the pointers and thus delete the order. The `delete_node()` method is intended to process both tasks. In the following three questions, you should think about the time complexities of these tasks and the entire method. You will find the solutions to the tasks in the following expandable boxes.\n",
        "protected": false,
        "selectable": true
      },
      "source": [
        "We put a lot of thought into the time complexity of our methods in advance. Both `delete_first()` and `insert_last()` could be implemented in $O(1)$. However, we had not yet dealt with deleting from the middle. We'll rectify this now. So what is the best possible time complexity of `delete_node()` in big O notation?\n",
        "\n",
        "In contrast to `delete_first()` and `insert_last()`, we no longer know where the order to be deleted is located. This means that we first have to find it, or rather the entry that comes before it. Only then can we reset the pointers and thus delete the order. The `delete_node()` method is intended to process both tasks. In the following three questions, you should think about the time complexities of these tasks and the entire method. You will find the solutions to the tasks in the following expandable boxes.\n"
      ]
    },
    {
      "cell_type": "markdown",
      "id": "23088864-ac6c-417e-8668-9c64707362aa",
      "metadata": {
        "cell_content_type": "markdown_default",
        "changed": false,
        "deletable": false,
        "editable": false,
        "original-content": "##### <font color=\"#3399DB\">Task 1</font>\n> What is the time complexity for **finding** an order using its order number in `LLQueue`? Which is the worst case? Use the following code cell for your notes.\n",
        "protected": false,
        "selectable": true
      },
      "source": [
        "##### <font color=\"#3399DB\">Task 1</font>\n",
        "> What is the time complexity for **finding** an order using its order number in `LLQueue`? Which is the worst case? Use the following code cell for your notes.\n"
      ]
    },
    {
      "cell_type": "code",
      "execution_count": null,
      "id": "99c2dcd2-d2bb-4613-b250-908de7f09907",
      "metadata": {
        "cell_content_type": "code_user",
        "changed": false,
        "deletable": false,
        "editable": true,
        "hint": "If you would like, you can discuss this cell in the forum under *Optional: Linked Lists II*.",
        "original-content": "#Solution \n\n#O(n)\n#in the worst case, the element is in the (second to) last position or cannot be found. ",
        "protected": false,
        "selectable": true
      },
      "outputs": [],
      "source": [
        "#Solution \n",
        "\n",
        "#O(n)\n",
        "#in the worst case, the element is in the (second to) last position or cannot be found. "
      ]
    },
    {
      "cell_type": "markdown",
      "id": "0c199b0c-23ab-48d5-86d7-9e4dd7266de2",
      "metadata": {
        "cell_content_type": "markdown_default",
        "changed": false,
        "deletable": false,
        "editable": false,
        "messageType": "vertiefung",
        "original-content": "**Solution**: Finding an order in the *linked list*.\n\n<div class=\"details\">\n\nDue to the way the *linked list* is arranged in the memory, all orders must be visited, starting from the beginning until the one you are looking for is found, or no order for the specified order number is found. The worst case scenario is always when the order is not found. The time complexity is linear, i.e. $O(n)$.  \n\n</div>\n",
        "protected": false,
        "selectable": false,
        "tags": []
      },
      "source": [
        "**Solution**: Finding an order in the *linked list*.\n",
        "\n",
        "<div class=\"details\">\n",
        "\n",
        "Due to the way the *linked list* is arranged in the memory, all orders must be visited, starting from the beginning until the one you are looking for is found, or no order for the specified order number is found. The worst case scenario is always when the order is not found. The time complexity is linear, i.e. $O(n)$.  \n",
        "\n",
        "</div>\n"
      ]
    },
    {
      "cell_type": "markdown",
      "id": "1fef22ad-1f29-47f0-850e-86049bd0d500",
      "metadata": {
        "cell_content_type": "markdown_default",
        "changed": false,
        "deletable": false,
        "editable": false,
        "original-content": "##### <font color=\"#3399DB\">Task 2</font>\n> What is the time complexity for **deleting** an order in `LLQueue` if the order, or the preceding order, has already been found? Use the following code cell for your notes.\n",
        "protected": false,
        "selectable": true
      },
      "source": [
        "##### <font color=\"#3399DB\">Task 2</font>\n",
        "> What is the time complexity for **deleting** an order in `LLQueue` if the order, or the preceding order, has already been found? Use the following code cell for your notes.\n"
      ]
    },
    {
      "cell_type": "code",
      "execution_count": null,
      "id": "c421d2a2-83f1-4c0f-9fe3-d4a801c41dc1",
      "metadata": {
        "cell_content_type": "code_user",
        "changed": false,
        "deletable": false,
        "editable": true,
        "hint": "If you would like, you can discuss this cell in the forum under *Optional: Linked Lists II*.",
        "hint_counter": 0,
        "original-content": "#Solution: \n\n#O(1)",
        "protected": false,
        "selectable": true,
        "tags": []
      },
      "outputs": [],
      "source": [
        "#Solution: \n",
        "\n",
        "#O(1)"
      ]
    },
    {
      "cell_type": "markdown",
      "id": "6862a8ef-0d17-4157-b74b-42cb6fff9f4f",
      "metadata": {
        "cell_content_type": "markdown_default",
        "changed": false,
        "deletable": false,
        "editable": false,
        "messageType": "vertiefung",
        "original-content": "**Solution:** Deleting an order from the *linked list*.\n\n<div class=\"details\">\nFor the deletion itself, the pointer of the preceding element just needs to be redirected. This is independent of the number of elements in the linked list, i.e. $O(1)$.\n</div>\n",
        "protected": false,
        "selectable": false,
        "tags": []
      },
      "source": [
        "**Solution:** Deleting an order from the *linked list*.\n",
        "\n",
        "<div class=\"details\">\n",
        "For the deletion itself, the pointer of the preceding element just needs to be redirected. This is independent of the number of elements in the linked list, i.e. $O(1)$.\n",
        "</div>\n"
      ]
    },
    {
      "cell_type": "markdown",
      "id": "2956d3b1-2baf-4e49-99e0-a23d0ac0e4a0",
      "metadata": {
        "cell_content_type": "markdown_default",
        "changed": false,
        "deletable": false,
        "editable": false,
        "original-content": "##### <font color=\"#3399DB\">Task 3</font>\n> What is the time complexity of `delete_node()`? The method should include both finding the preceding order and deleting the order. Use the following code cell for your notes.\n",
        "protected": false,
        "selectable": true,
        "tags": []
      },
      "source": [
        "##### <font color=\"#3399DB\">Task 3</font>\n",
        "> What is the time complexity of `delete_node()`? The method should include both finding the preceding order and deleting the order. Use the following code cell for your notes.\n"
      ]
    },
    {
      "cell_type": "code",
      "execution_count": null,
      "id": "f3b82cdd-8cff-46fd-9cd6-fbf1909b3b3b",
      "metadata": {
        "cell_content_type": "code_user",
        "changed": false,
        "deletable": false,
        "editable": true,
        "hint": "If you would like, you can discuss this cell in the forum under *Optional: Linked Lists II*.",
        "original-content": "#Solution \n\n#O(n)",
        "protected": false,
        "selectable": true
      },
      "outputs": [],
      "source": [
        "#Solution \n",
        "\n",
        "#O(n)"
      ]
    },
    {
      "cell_type": "markdown",
      "id": "4ec04505-d0bb-4e8b-8d32-825e30d83891",
      "metadata": {
        "cell_content_type": "markdown_default",
        "changed": false,
        "deletable": false,
        "editable": false,
        "messageType": "vertiefung",
        "original-content": "**Solution:** Time complexity of `delete_node()`. \n\n<div class=\"details\">\nFinding the predecessor has a linear runtime, whereas deleting it is constant. The time complexity is linear, i.e. $O(n)$. \n</div>\n",
        "protected": false,
        "selectable": true,
        "tags": []
      },
      "source": [
        "**Solution:** Time complexity of `delete_node()`. \n",
        "\n",
        "<div class=\"details\">\n",
        "Finding the predecessor has a linear runtime, whereas deleting it is constant. The time complexity is linear, i.e. $O(n)$. \n",
        "</div>\n"
      ]
    },
    {
      "cell_type": "markdown",
      "id": "cf4bda09-3bea-48d5-b26c-f0e5d6db3efc",
      "metadata": {
        "cell_content_type": "markdown_default",
        "changed": false,
        "deletable": false,
        "editable": false,
        "original-content": "Now that we have thought about the time complexity of `delete_node()`, we can move on to the implementation. The next step is to write pseudocode. This allows us to consider in advance which helper functions we can use. \n\nAt this point, we should also decide whether we want to implement the method iteratively or recursively. In the first exercise, we discovered that a recursive solution is always suitable when a problem can be broken down into several smaller but essentially identical sub-problems. One example of this was the binary search. Our problem is similar to a linear search, for which an iterative algorithm is more suitable. \nThe recursive solution is particularly useful for practice purposes. Therefore, the suggested pseudocode also uses the recursive version. If you prefer an iterative solution, you can of course also implement that.\n",
        "protected": false,
        "selectable": true
      },
      "source": [
        "Now that we have thought about the time complexity of `delete_node()`, we can move on to the implementation. The next step is to write pseudocode. This allows us to consider in advance which helper functions we can use. \n",
        "\n",
        "At this point, we should also decide whether we want to implement the method iteratively or recursively. In the first exercise, we discovered that a recursive solution is always suitable when a problem can be broken down into several smaller but essentially identical sub-problems. One example of this was the binary search. Our problem is similar to a linear search, for which an iterative algorithm is more suitable. \n",
        "The recursive solution is particularly useful for practice purposes. Therefore, the suggested pseudocode also uses the recursive version. If you prefer an iterative solution, you can of course also implement that.\n"
      ]
    },
    {
      "cell_type": "markdown",
      "id": "3599d3e8-cb44-49c2-989d-03a7d1f9f2c3",
      "metadata": {
        "cell_content_type": "markdown_default",
        "changed": false,
        "deletable": false,
        "editable": false,
        "original-content": "##### <font color=\"#3399DB\">Task 4</font>\n> Formulate pseudocode for `delete_node()`. Which helper function(s) do you need? Write your notes in the following cell. Make sure that you implement the method with the best possible time complexity. You can find some possible pseudocode in the following expandable box.\n",
        "protected": false,
        "selectable": true
      },
      "source": [
        "##### <font color=\"#3399DB\">Task 4</font>\n",
        "> Formulate pseudocode for `delete_node()`. Which helper function(s) do you need? Write your notes in the following cell. Make sure that you implement the method with the best possible time complexity. You can find some possible pseudocode in the following expandable box.\n"
      ]
    },
    {
      "cell_type": "code",
      "execution_count": null,
      "id": "bc07cce9-fe24-4fa8-898b-6838180c265c",
      "metadata": {
        "cell_content_type": "code_user",
        "changed": false,
        "deletable": false,
        "editable": true,
        "hint": "If you would like, you can discuss this cell in the forum under *Optional: Linked Lists II*.",
        "hint_counter": 0,
        "original-content": "#Solution \n\n#Your own solution ",
        "protected": false,
        "selectable": true,
        "tags": []
      },
      "outputs": [],
      "source": [
        "#Solution \n",
        "\n",
        "#Your own solution "
      ]
    },
    {
      "cell_type": "markdown",
      "id": "79f448e3-c28b-4d3d-81f1-519abac8270c",
      "metadata": {
        "cell_content_type": "markdown_default",
        "changed": false,
        "deletable": false,
        "editable": false,
        "hint_counter": 2,
        "messageType": "vertiefung",
        "original-content": "**Possible solution:** pseudocode for `delete_node()`. \n\n<div class=\"details\">\n\nSince the task can be very clearly divided into subtasks (finding and deleting), it makes sense to structure the method accordingly. As a helper function, we can recursively implement finding and then use it in the main method.  \nThe pseudocode could look a bit like the following: \n\n\n> **Input:** `order_id` (`int`)\n> * if `queue` is empty -> return None     \n> * Else if `queue` is not empty:\n>   * `find_previous` in `self` (helper function)\n>   * if previous node is `None`:\n>    *   if `node` itself is `head node` -> return `delete_first()` (implemented)\n>     *   else if `node` itself is not found -> return `None`\n>   * else if previous `node` was found:\n>       * adjust next pointers \n>       * if node is tail -> update tail-pointer and return node\n> \n> Helper function: *find_previous()*\n>\n> **Input:** `order_id` (`int`), start_node(`LinkedNode`, helper for recursion):\n> \n> **Process:**\n> * **Base case 1**: If start_node has `order_id`: -> return `None` (is not previous)\n> * **Base case 2**: If linked list fully searched, nothing found -> return `None`  (nothing found)\n> * **Base case 3**: If next element has `order_id`: -> return `start_node` (previous node found)\n> \n> **Recursive step:** \n> * Else if linked list not fully searched and node not found:\n>   * set `start_node` to next element\n>   * call function recursively with new `start_node` (and return it)\n\n</div>\n",
        "protected": false,
        "selectable": true,
        "tags": []
      },
      "source": [
        "**Possible solution:** pseudocode for `delete_node()`. \n",
        "\n",
        "<div class=\"details\">\n",
        "\n",
        "Since the task can be very clearly divided into subtasks (finding and deleting), it makes sense to structure the method accordingly. As a helper function, we can recursively implement finding and then use it in the main method.  \n",
        "The pseudocode could look a bit like the following: \n",
        "\n",
        "\n",
        "> **Input:** `order_id` (`int`)\n",
        "> * if `queue` is empty -> return None     \n",
        "> * Else if `queue` is not empty:\n",
        ">   * `find_previous` in `self` (helper function)\n",
        ">   * if previous node is `None`:\n",
        ">    *   if `node` itself is `head node` -> return `delete_first()` (implemented)\n",
        ">     *   else if `node` itself is not found -> return `None`\n",
        ">   * else if previous `node` was found:\n",
        ">       * adjust next pointers \n",
        ">       * if node is tail -> update tail-pointer and return node\n",
        "> \n",
        "> Helper function: *find_previous()*\n",
        ">\n",
        "> **Input:** `order_id` (`int`), start_node(`LinkedNode`, helper for recursion):\n",
        "> \n",
        "> **Process:**\n",
        "> * **Base case 1**: If start_node has `order_id`: -> return `None` (is not previous)\n",
        "> * **Base case 2**: If linked list fully searched, nothing found -> return `None`  (nothing found)\n",
        "> * **Base case 3**: If next element has `order_id`: -> return `start_node` (previous node found)\n",
        "> \n",
        "> **Recursive step:** \n",
        "> * Else if linked list not fully searched and node not found:\n",
        ">   * set `start_node` to next element\n",
        ">   * call function recursively with new `start_node` (and return it)\n",
        "\n",
        "</div>\n"
      ]
    },
    {
      "cell_type": "markdown",
      "id": "61c21b3c-1845-451b-925d-58ea84669402",
      "metadata": {
        "cell_content_type": "markdown_default",
        "changed": false,
        "deletable": false,
        "editable": false,
        "original-content": "We are now ready and can implement `delete_node()`. Here you can see a simple example: \n\n```python \ndef delete_node(self, order_id): \n    \"\"\"\n    Delete node with specific order_id. Return deleted node, and None if nothing found. Print message if nothing is found. \n\n    Args: \n        order_id (int): unique order_id of LinkedNode object to be deleted from self. \n\n    Returns: \n        Deleted node (LinkedNode), None if self was empty.  \n\n    \"\"\"\n    \n```\n",
        "protected": false,
        "selectable": true
      },
      "source": [
        "We are now ready and can implement `delete_node()`. Here you can see a simple example: \n",
        "\n",
        "```python \n",
        "def delete_node(self, order_id): \n",
        "    \"\"\"\n",
        "    Delete node with specific order_id. Return deleted node, and None if nothing found. Print message if nothing is found. \n",
        "\n",
        "    Args: \n",
        "        order_id (int): unique order_id of LinkedNode object to be deleted from self. \n",
        "\n",
        "    Returns: \n",
        "        Deleted node (LinkedNode), None if self was empty.  \n",
        "\n",
        "    \"\"\"\n",
        "    \n",
        "```\n"
      ]
    },
    {
      "cell_type": "markdown",
      "id": "111ab8ce-2f88-4186-a610-9da74cb57343",
      "metadata": {
        "cell_content_type": "markdown_default",
        "changed": false,
        "deletable": false,
        "editable": false,
        "original-content": "##### <font color=\"#3399DB\">Task 5</font>\n> Now implement `delete_node()`. Add the method to your `LLQueue` class in the *linkedlist.py* script. Then use the prepared unit tests again to test your code.\n",
        "protected": false,
        "selectable": true
      },
      "source": [
        "##### <font color=\"#3399DB\">Task 5</font>\n",
        "> Now implement `delete_node()`. Add the method to your `LLQueue` class in the *linkedlist.py* script. Then use the prepared unit tests again to test your code.\n"
      ]
    },
    {
      "cell_type": "code",
      "execution_count": null,
      "id": "9a116c30-5081-4dcb-89d2-b35915c4e4d0",
      "metadata": {
        "cell_content_type": "code_user",
        "changed": false,
        "deletable": false,
        "editable": true,
        "hint": "If you want to search for an element from `LLQueue` recursively, the easiest way is to introduce a variable `start_node`, which is then adjusted in the recursion.",
        "hint_counter": 0,
        "original-content": "#Solution: \nclass LLQueue:\n    \"\"\"\n    A queue implemented as a linked list.\n\n    Attributes:\n        head (LinkedNode): Head node of linked list. Defaults to None. \n        tail (LinkedNode): Tail node of linked list. Defaults to None. \n        \n    \"\"\"\n    \n\n    def __init__(self): \n        self.head = None \n        self.tail = None \n\n\n    def insert_last(self, data): \n        #implemented\n\n\n    def delete_first(self): \n        #implemented\n    \n\n    def find_previous(self, order_id, start_node): \n        #helper function to recursively search for previous node\n        if start_node.order_id == order_id: #base case: end if gone too far\n            print('Node itself has order_id')\n            return None \n        if start_node.next is None: #base case: nothing found \n            print(f'No node with order_id {order_id} found')\n            return None \n        if start_node.next.order_id == order_id: #base case: node found \n            return start_node \n        else: #recursive step\n            return self.find_previous(order_id, start_node.next)\n    \n\n    def delete_node(self, order_id): \n        \"\"\"\n        Delete node with specific order_id. Return deleted node, and none if nothing found. Print message if nothing is found. \n        \n        Args: \n            order_id (int): unique order id of LinkedNode object to be deleted from self. \n            \n        Returns: \n            Deleted node (LinkedNode), None is self was empty.  \n            \n        \"\"\"\n\n        assert isinstance(order_id, int)\n        if self.tail is None: #empty queue\n            return None\n        node_prev = self.find_previous(order_id, self.head)\n        if node_prev is None: #node does not exist\n            if self.head.order_id == order_id: \n                return self.delete_first()\n            return None \n        node = node_prev.next  \n        node_prev.next = node.next\n        self.length -= 1 \n        if self.tail == node: \n            self.tail = node_prev\n        return node \n        \n            \nclass LinkedNode: \n    #implemented\n  ",
        "protected": false,
        "selectable": true,
        "tags": []
      },
      "outputs": [],
      "source": [
        "#Solution: \n",
        "class LLQueue:\n",
        "    \"\"\"\n",
        "    A queue implemented as a linked list.\n",
        "\n",
        "    Attributes:\n",
        "        head (LinkedNode): Head node of linked list. Defaults to None. \n",
        "        tail (LinkedNode): Tail node of linked list. Defaults to None. \n",
        "        \n",
        "    \"\"\"\n",
        "    \n",
        "\n",
        "    def __init__(self): \n",
        "        self.head = None \n",
        "        self.tail = None \n",
        "\n",
        "\n",
        "    def insert_last(self, data): \n",
        "        #implemented\n",
        "\n",
        "\n",
        "    def delete_first(self): \n",
        "        #implemented\n",
        "    \n",
        "\n",
        "    def find_previous(self, order_id, start_node): \n",
        "        #helper function to recursively search for previous node\n",
        "        if start_node.order_id == order_id: #base case: end if gone too far\n",
        "            print('Node itself has order_id')\n",
        "            return None \n",
        "        if start_node.next is None: #base case: nothing found \n",
        "            print(f'No node with order_id {order_id} found')\n",
        "            return None \n",
        "        if start_node.next.order_id == order_id: #base case: node found \n",
        "            return start_node \n",
        "        else: #recursive step\n",
        "            return self.find_previous(order_id, start_node.next)\n",
        "    \n",
        "\n",
        "    def delete_node(self, order_id): \n",
        "        \"\"\"\n",
        "        Delete node with specific order_id. Return deleted node, and none if nothing found. Print message if nothing is found. \n",
        "        \n",
        "        Args: \n",
        "            order_id (int): unique order id of LinkedNode object to be deleted from self. \n",
        "            \n",
        "        Returns: \n",
        "            Deleted node (LinkedNode), None is self was empty.  \n",
        "            \n",
        "        \"\"\"\n",
        "\n",
        "        assert isinstance(order_id, int)\n",
        "        if self.tail is None: #empty queue\n",
        "            return None\n",
        "        node_prev = self.find_previous(order_id, self.head)\n",
        "        if node_prev is None: #node does not exist\n",
        "            if self.head.order_id == order_id: \n",
        "                return self.delete_first()\n",
        "            return None \n",
        "        node = node_prev.next  \n",
        "        node_prev.next = node.next\n",
        "        self.length -= 1 \n",
        "        if self.tail == node: \n",
        "            self.tail = node_prev\n",
        "        return node \n",
        "        \n",
        "            \n",
        "class LinkedNode: \n",
        "    #implemented\n",
        "  "
      ]
    },
    {
      "cell_type": "code",
      "execution_count": 2,
      "id": "8702ed24-8a70-414f-baff-270226d41207",
      "metadata": {
        "cell_content_type": "code_demo",
        "changed": false,
        "deletable": false,
        "editable": true,
        "hint": "If you would like, you can discuss this in the forum under *Optional: Linked Lists II*.",
        "original-content": "!pytest test_linkedlist.py::test_delete_node test_linkedlist.py::test_delete_node_2",
        "protected": false,
        "selectable": true
      },
      "outputs": [
        {
          "name": "stdout",
          "output_type": "stream",
          "text": [
            "\u001b[1m============================= test session starts ==============================\u001b[0m\n",
            "platform linux -- Python 3.8.10, pytest-6.2.4, py-1.11.0, pluggy-0.13.1\n",
            "rootdir: /home/jovyan/work/pyprog/stackfuel-python-programmer-product-de/module-05/chapter-01-solutions\n",
            "plugins: anyio-3.5.0\n",
            "collected 2 items                                                              \u001b[0m\n",
            "\n",
            "test_linkedlist.py \u001b[32m.\u001b[0m\u001b[32m.\u001b[0m\u001b[32m                                                    [100%]\u001b[0m\n",
            "\n",
            "\u001b[32m============================== \u001b[32m\u001b[1m2 passed\u001b[0m\u001b[32m in 0.16s\u001b[0m\u001b[32m ===============================\u001b[0m\n"
          ]
        }
      ],
      "source": [
        "!pytest test_linkedlist.py::test_delete_node test_linkedlist.py::test_delete_node_2"
      ]
    },
    {
      "cell_type": "markdown",
      "id": "27c7c965-0b84-4269-a676-1483d61b02c5",
      "metadata": {
        "cell_content_type": "markdown_default",
        "changed": false,
        "deletable": false,
        "editable": false,
        "original-content": "Excellent, you have implemented `delete_node()`. The method searches for orders using an order number and then deletes them. So now it's also possible to cancel orders. \nYou inform management that the time complexity is unfortunately not ideal, but that you still consider the linked list to be suitable. Cancellations are the exception rather than the rule.\n",
        "protected": false,
        "selectable": true
      },
      "source": [
        "Excellent, you have implemented `delete_node()`. The method searches for orders using an order number and then deletes them. So now it's also possible to cancel orders. \n",
        "You inform management that the time complexity is unfortunately not ideal, but that you still consider the linked list to be suitable. Cancellations are the exception rather than the rule.\n"
      ]
    },
    {
      "cell_type": "markdown",
      "id": "bac1fd7f-45a9-4bfc-a4b7-67de45999146",
      "metadata": {
        "cell_content_type": "markdown_default",
        "changed": false,
        "deletable": false,
        "editable": false,
        "original-content": "## The length of the linked list\n",
        "protected": false,
        "selectable": false,
        "tags": []
      },
      "source": [
        "## The length of the linked list\n"
      ]
    },
    {
      "cell_type": "markdown",
      "id": "b190b827-1760-4696-b490-a0024c64b7fd",
      "metadata": {
        "cell_content_type": "markdown_default",
        "changed": false,
        "deletable": false,
        "editable": false,
        "original-content": "Our data structure now has the most important functions. The company's management asks you for one last addition: To calculate its performance criteria, it needs a regular overview of how many orders are currently in the queue. To do this, we will implement the Dunder method `__len__(self)` in `LLQueue`.\n",
        "protected": false,
        "selectable": true
      },
      "source": [
        "Our data structure now has the most important functions. The company's management asks you for one last addition: To calculate its performance criteria, it needs a regular overview of how many orders are currently in the queue. To do this, we will implement the Dunder method `__len__(self)` in `LLQueue`.\n"
      ]
    },
    {
      "cell_type": "markdown",
      "id": "bd57c24b-9e2f-4aad-8e7c-6c8e436a92c8",
      "metadata": {
        "cell_content_type": "markdown_default",
        "changed": false,
        "deletable": false,
        "editable": false,
        "original-content": "```python \ndef __len__(self): \n    \"\"\"Return number of LinkedNode objects in self.\"\"\"\n```\n",
        "protected": false,
        "selectable": true
      },
      "source": [
        "```python \n",
        "def __len__(self): \n",
        "    \"\"\"Return number of LinkedNode objects in self.\"\"\"\n",
        "```\n"
      ]
    },
    {
      "cell_type": "markdown",
      "id": "0d194d9c-be52-4746-b4b2-ee3cbf448b7b",
      "metadata": {
        "cell_content_type": "markdown_default",
        "changed": false,
        "deletable": false,
        "editable": false,
        "original-content": "In this section we will use *data structure augmentation* to improve the time complexity of `__len__()`. Let's recap: we already augmented a data structure in our `LLQueue` class by assigning it the `tail` attribute. This attribute is not provided by default in a linked list, but by implementing it, we were able to improve the time complexity of `insert_last()` from $O(n)$ to $O(1)$. In return, we had to work on the attribute a little and adjust the *tail*-pointer in all the methods if necessary.\n\nWe will proceed in a similar way for `__len__()`: We will provide `LLQueue` with an attribute `length`. This means that we don't have to iterate through the entire queue every time we call `__len__()`. In comparison to `tail`, we now insert the attribute afterwards, so that we now have to adjust all the methods we have already implemented again if necessary.\n",
        "protected": false,
        "selectable": true
      },
      "source": [
        "In this section we will use *data structure augmentation* to improve the time complexity of `__len__()`. Let's recap: we already augmented a data structure in our `LLQueue` class by assigning it the `tail` attribute. This attribute is not provided by default in a linked list, but by implementing it, we were able to improve the time complexity of `insert_last()` from $O(n)$ to $O(1)$. In return, we had to work on the attribute a little and adjust the *tail*-pointer in all the methods if necessary.\n",
        "\n",
        "We will proceed in a similar way for `__len__()`: We will provide `LLQueue` with an attribute `length`. This means that we don't have to iterate through the entire queue every time we call `__len__()`. In comparison to `tail`, we now insert the attribute afterwards, so that we now have to adjust all the methods we have already implemented again if necessary.\n"
      ]
    },
    {
      "cell_type": "markdown",
      "id": "685cb4dc-755e-42a3-8343-70b1d5e0757f",
      "metadata": {
        "cell_content_type": "markdown_default",
        "changed": false,
        "deletable": false,
        "editable": false,
        "original-content": "##### <font color=\"#3399DB\">Task 6</font>\n> Implement `__len__()` in $O(1)$. To do this, add the attribute `length` to `LLQueue` in *linkedlist.py* with an attribute `length` and make sure to update the attribute in the methods you have already implemented if necessary. You can use the empty code cell again to draft your code. Then use the prepared unit test again to test your method.\n",
        "protected": false,
        "selectable": true
      },
      "source": [
        "##### <font color=\"#3399DB\">Task 6</font>\n",
        "> Implement `__len__()` in $O(1)$. To do this, add the attribute `length` to `LLQueue` in *linkedlist.py* with an attribute `length` and make sure to update the attribute in the methods you have already implemented if necessary. You can use the empty code cell again to draft your code. Then use the prepared unit test again to test your method.\n"
      ]
    },
    {
      "cell_type": "code",
      "execution_count": null,
      "id": "1571fc06-448b-488a-bcdd-3b9eefbad6b9",
      "metadata": {
        "cell_content_type": "code_user",
        "changed": false,
        "deletable": false,
        "editable": true,
        "hint": "If you would like, you can discuss this cell in the forum under *Optional: Linked Lists II*.",
        "hint_counter": 0,
        "original-content": "#Solution: \nclass LLQueue: \n    def __init__(self): \n        self.head = None \n        self.tail = None \n        self.length = 0\n        \n    def __len__(self): \n        \"\"\"Return number of LinkedNode objects in self.\"\"\"\n        return self.length  \n\n    def insert_last(self, data): \n        \"\"\"\n        Insert a new node at the last position of the queue. \n        \n        Args: \n            data (LinkedNode): the node to be appended. \n        \n        Returns: \n            None \n            \n        \"\"\"\n        \n        assert isinstance(data, LinkedNode)\n        self.length += 1 #adjustment \n        if self.tail is None: \n            self.tail, self.head = data, data\n        else: \n            self.tail.next = data\n            self.tail = data \n            \n\n    def delete_first(self): \n        \"\"\"\n        Delete first node. Print message if queue contains no elements, and nothing is deleted. \n        \n        Returns: \n            Deleted node (LinkedNode), None is self was empty.  \n            \n        \"\"\"\n        \n        if self.tail is None: \n            print('Queue contains no elements')\n            return None\n        self.length -= 1 #adjustment \n        pop = self.head\n        self.head = self.head.next \n        if self.head is None: \n            self.tail = None \n        return pop\n\n\n    def delete_node(self, order_id): \n        \"\"\"\n        Delete node with specific order_id. Return deleted node, and none if nothing found. \n        Print message if nothing is found. \n        \n        Args: \n            order_id (int): unique order id of LinkedNode object to be deleted from self. \n            \n        Returns: \n            Deleted node (LinkedNode), None is self was empty.  \n            \n        \"\"\"\n\n        assert isinstance(order_id, int)\n        if self.tail is None: #then empty queue\n            return None\n        node_prev = self.find_previous(order_id, self.head)\n        if node_prev is None: #node does not exist\n            if self.head.order_id == order_id: \n                return self.delete_first()\n            return None \n        node = node_prev.next  \n        node_prev.next = node.next\n        self.length -= 1 #adjustment \n        if self.tail == node: \n            self.tail = node_prev\n        return node ",
        "protected": false,
        "selectable": true,
        "tags": []
      },
      "outputs": [],
      "source": [
        "#Solution: \n",
        "class LLQueue: \n",
        "    def __init__(self): \n",
        "        self.head = None \n",
        "        self.tail = None \n",
        "        self.length = 0\n",
        "        \n",
        "    def __len__(self): \n",
        "        \"\"\"Return number of LinkedNode objects in self.\"\"\"\n",
        "        return self.length  \n",
        "\n",
        "    def insert_last(self, data): \n",
        "        \"\"\"\n",
        "        Insert a new node at the last position of the queue. \n",
        "        \n",
        "        Args: \n",
        "            data (LinkedNode): the node to be appended. \n",
        "        \n",
        "        Returns: \n",
        "            None \n",
        "            \n",
        "        \"\"\"\n",
        "        \n",
        "        assert isinstance(data, LinkedNode)\n",
        "        self.length += 1 #adjustment \n",
        "        if self.tail is None: \n",
        "            self.tail, self.head = data, data\n",
        "        else: \n",
        "            self.tail.next = data\n",
        "            self.tail = data \n",
        "            \n",
        "\n",
        "    def delete_first(self): \n",
        "        \"\"\"\n",
        "        Delete first node. Print message if queue contains no elements, and nothing is deleted. \n",
        "        \n",
        "        Returns: \n",
        "            Deleted node (LinkedNode), None is self was empty.  \n",
        "            \n",
        "        \"\"\"\n",
        "        \n",
        "        if self.tail is None: \n",
        "            print('Queue contains no elements')\n",
        "            return None\n",
        "        self.length -= 1 #adjustment \n",
        "        pop = self.head\n",
        "        self.head = self.head.next \n",
        "        if self.head is None: \n",
        "            self.tail = None \n",
        "        return pop\n",
        "\n",
        "\n",
        "    def delete_node(self, order_id): \n",
        "        \"\"\"\n",
        "        Delete node with specific order_id. Return deleted node, and none if nothing found. \n",
        "        Print message if nothing is found. \n",
        "        \n",
        "        Args: \n",
        "            order_id (int): unique order id of LinkedNode object to be deleted from self. \n",
        "            \n",
        "        Returns: \n",
        "            Deleted node (LinkedNode), None is self was empty.  \n",
        "            \n",
        "        \"\"\"\n",
        "\n",
        "        assert isinstance(order_id, int)\n",
        "        if self.tail is None: #then empty queue\n",
        "            return None\n",
        "        node_prev = self.find_previous(order_id, self.head)\n",
        "        if node_prev is None: #node does not exist\n",
        "            if self.head.order_id == order_id: \n",
        "                return self.delete_first()\n",
        "            return None \n",
        "        node = node_prev.next  \n",
        "        node_prev.next = node.next\n",
        "        self.length -= 1 #adjustment \n",
        "        if self.tail == node: \n",
        "            self.tail = node_prev\n",
        "        return node "
      ]
    },
    {
      "cell_type": "code",
      "execution_count": 3,
      "id": "28cb7e39-f433-4f52-bcc2-9ec7b56e4f71",
      "metadata": {
        "cell_content_type": "code_demo",
        "changed": false,
        "deletable": false,
        "editable": true,
        "hint": "If you would like, you can discuss this in the forum under *Optional: Linked Lists II*.",
        "original-content": "!pytest test_linkedlist.py::test_len",
        "protected": false,
        "selectable": true
      },
      "outputs": [
        {
          "name": "stdout",
          "output_type": "stream",
          "text": [
            "\u001b[1m============================= test session starts ==============================\u001b[0m\n",
            "platform linux -- Python 3.8.10, pytest-6.2.4, py-1.11.0, pluggy-0.13.1\n",
            "rootdir: /home/jovyan/work/pyprog/stackfuel-python-programmer-product-de/module-05/chapter-01-solutions\n",
            "plugins: anyio-3.5.0\n",
            "collected 1 item                                                               \u001b[0m\n",
            "\n",
            "test_linkedlist.py \u001b[32m.\u001b[0m\u001b[32m                                                     [100%]\u001b[0m\n",
            "\n",
            "\u001b[32m============================== \u001b[32m\u001b[1m1 passed\u001b[0m\u001b[32m in 0.05s\u001b[0m\u001b[32m ===============================\u001b[0m\n"
          ]
        }
      ],
      "source": [
        "!pytest test_linkedlist.py::test_len"
      ]
    },
    {
      "cell_type": "markdown",
      "id": "5ae762f4-5689-4f57-9667-26efe0023343",
      "metadata": {
        "cell_content_type": "markdown_default",
        "changed": false,
        "deletable": false,
        "editable": false,
        "original-content": "The number of orders in the queue can now be called in constant runtime with `len(my_queue)`.\n",
        "protected": false,
        "selectable": true
      },
      "source": [
        "The number of orders in the queue can now be called in constant runtime with `len(my_queue)`.\n"
      ]
    },
    {
      "cell_type": "markdown",
      "id": "456c4b2f-29c3-49ec-aa7e-a4a9368762d0",
      "metadata": {
        "cell_content_type": "markdown_default",
        "changed": false,
        "deletable": false,
        "editable": false,
        "messageType": "glueckwunsch",
        "original-content": "**Congratulations**: Your linked list now has all the functionalities the company needs. New incoming orders can be placed in the queue and orders that have changed processing status can be delete from the start of the queue. If an order is canceled, it can be easily deleted. Furthermore, management can easily get an overview of the number of orders in the queue. Management is very satisfied!\n",
        "protected": false,
        "selectable": false,
        "tags": []
      },
      "source": [
        "**Congratulations**: Your linked list now has all the functionalities the company needs. New incoming orders can be placed in the queue and orders that have changed processing status can be delete from the start of the queue. If an order is canceled, it can be easily deleted. Furthermore, management can easily get an overview of the number of orders in the queue. Management is very satisfied!\n"
      ]
    },
    {
      "cell_type": "markdown",
      "id": "6daae14d-2a5c-429d-8604-7be00947f6a4",
      "metadata": {
        "cell_content_type": "markdown_default",
        "changed": false,
        "deletable": false,
        "editable": false,
        "messageType": "merke",
        "original-content": "**Remember**:\n* Deletion of elements can be implemented in the linked list in $O(1)$. \n* Finding the order to be deleted is less straightforward. The time complexity for this is $O(n)$ in the linked list.  \n* When we implement methods, it makes sense to write helper functions if the functionalities can be clearly distinguished from one another. \n* If we augment a data structure with new attributes, we may also have to adapt methods that have already been implemented accordingly.\n",
        "protected": false,
        "selectable": false,
        "tags": []
      },
      "source": [
        "**Remember**:\n",
        "* Deletion of elements can be implemented in the linked list in $O(1)$. \n",
        "* Finding the order to be deleted is less straightforward. The time complexity for this is $O(n)$ in the linked list.  \n",
        "* When we implement methods, it makes sense to write helper functions if the functionalities can be clearly distinguished from one another. \n",
        "* If we augment a data structure with new attributes, we may also have to adapt methods that have already been implemented accordingly.\n"
      ]
    },
    {
      "cell_type": "markdown",
      "id": "b7c29d78-c73e-42dd-970a-569b8d33ff8a",
      "metadata": {
        "cell_content_type": "markdown_default",
        "changed": false,
        "deletable": false,
        "editable": false,
        "original-content": "***\nDo you have any questions about this exercise? Look in the forum to see if they have already been discussed.\n***\nFound a mistake? Contact Support at support@stackfuel.com.\n***\n",
        "protected": false,
        "selectable": false
      },
      "source": [
        "***\n",
        "Do you have any questions about this exercise? Look in the forum to see if they have already been discussed.\n",
        "***\n",
        "Found a mistake? Contact Support at support@stackfuel.com.\n",
        "***\n"
      ]
    }
  ],
  "metadata": {
    "content_id": "7e3cb868-c504-46bb-a49d-40996711cfb2",
    "content_language": "en",
    "content_title": "Optional: Linked Lists II",
    "content_type": "solution",
    "kernelspec": {
      "display_name": "Python 3 (ipykernel)",
      "language": "python",
      "name": "python3"
    },
    "language_info": {
      "codemirror_mode": {
        "name": "ipython",
        "version": 3
      },
      "file_extension": ".py",
      "mimetype": "text/x-python",
      "name": "python",
      "nbconvert_exporter": "python",
      "pygments_lexer": "ipython3",
      "version": "3.8.10"
    }
  },
  "nbformat": 4,
  "nbformat_minor": 5
}