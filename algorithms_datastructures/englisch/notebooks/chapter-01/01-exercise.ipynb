{
  "cells": [
    {
      "cell_type": "markdown",
      "id": "ffbd1ab0-917d-4ea7-bb43-768176b7b38f",
      "metadata": {
        "cell_content_type": "markdown_default",
        "changed": false,
        "deletable": false,
        "editable": false,
        "original-content": "# Introduction: Algorithms (Solution)\n\nModule Algorithms and Data Structures | Chapter 1 | Notebook 1\n\n***\nWelcome to your first exercise in the Algorithms and Data Structures module! In this exercise you will get to know recursive implementation of algorithms. \nBy the end of this exercise you will be able to: \n* Tell the difference between recursive and iterative algorithms \n* Describe when recursive algorithms are advantageous, \n* Implement the binary search algorithm recursively.\n\n***\n",
        "protected": false,
        "selectable": false,
        "tags": []
      },
      "source": [
        "# Introduction: Algorithms\n",
        "\n",
        "Module Algorithms and Data Structures | Chapter 1 | Notebook 1\n",
        "\n",
        "***\n",
        "Welcome to your first exercise in the Algorithms and Data Structures module! In this exercise you will get to know recursive implementation of algorithms. \n",
        "By the end of this exercise you will be able to: \n",
        "* Tell the difference between recursive and iterative algorithms \n",
        "* Describe when recursive algorithms are advantageous, \n",
        "* Implement the binary search algorithm recursively.\n",
        "\n",
        "***\n"
      ]
    },
    {
      "cell_type": "markdown",
      "id": "dddecb3d-ee29-4a94-abf3-63ab444f72d9",
      "metadata": {
        "cell_content_type": "markdown_default",
        "changed": false,
        "deletable": false,
        "editable": false,
        "original-content": "## Linear search algorithm\n",
        "protected": false,
        "selectable": false
      },
      "source": [
        "## Linear search algorithm\n"
      ]
    },
    {
      "cell_type": "markdown",
      "id": "c0a4af5b-09ac-4ee8-a777-851e3b39ffb2",
      "metadata": {
        "cell_content_type": "markdown_default",
        "changed": false,
        "deletable": false,
        "editable": false,
        "original-content": "Let's go back to our book search example from the text lesson. \nOur algorithm was described as follows: \n\n1)\tStart searching on the far left of the shelf.  \n2)\tIf there is no book at the position, end the search and report that the title you are looking for was not found.  \n3)\tIf a book is available, look at the title of the book. If the title matches what you are looking for, enter the book and its position and end the search.\n4)\tMove one position to the right and repeat all steps from step 2.\n\n\nWe saw that this algorithm has a time complexity of $O(n)$ and that this is a *linear search algorithm*. We also discussed that there cannot be a faster algorithm - at least not if the library is not sorted. The situation is different if our library is already sorted. The faster algorithm you learned about in this context is the *binary search algorithm*. We want to implement this later in this exercise.\n",
        "protected": false,
        "selectable": false
      },
      "source": [
        "Let's go back to our book search example from the text lesson. \n",
        "Our algorithm was described as follows: \n",
        "\n",
        "1)\tStart searching on the far left of the shelf.  \n",
        "2)\tIf there is no book at the position, end the search and report that the title you are looking for was not found.  \n",
        "3)\tIf a book is available, look at the title of the book. If the title matches what you are looking for, enter the book and its position and end the search.\n",
        "4)\tMove one position to the right and repeat all steps from step 2.\n",
        "\n",
        "\n",
        "We saw that this algorithm has a time complexity of $O(n)$ and that this is a *linear search algorithm*. We also discussed that there cannot be a faster algorithm - at least not if the library is not sorted. The situation is different if our library is already sorted. The faster algorithm you learned about in this context is the *binary search algorithm*. We want to implement this later in this exercise.\n"
      ]
    },
    {
      "cell_type": "markdown",
      "id": "8432c92f-7a40-4b80-8b3e-ae4fab749969",
      "metadata": {
        "cell_content_type": "markdown_default",
        "changed": false,
        "deletable": false,
        "editable": false,
        "original-content": "We can translate our linear search algorithm into code. When implementing functions or algorithms, we often have two conceptual approaches at our disposal: iterative and recursive.\n\n* With the **iterative** method, we look at the problem \"from the beginning\". We use loop structures such as `for` or `while` to search through the data. These structures are generally intuitive and things we are familiar with.\n\n* With the **recursive** method, a function calls itself with modified arguments until a base condition is met that ends the recursive call. Recursion can often be more elegant and shorter to write. However, the approach takes some getting used to and requires a little practice. \n\nFor our linear search algorithm, we will look at the iterative version first. Conceptually, we will go through our data list and check each element until we either find the element we are looking for or realize that it is not in the list.\n",
        "protected": false,
        "selectable": true
      },
      "source": [
        "We can translate our linear search algorithm into code. When implementing functions or algorithms, we often have two conceptual approaches at our disposal: iterative and recursive.\n",
        "\n",
        "* With the **iterative** method, we look at the problem \"from the beginning\". We use loop structures such as `for` or `while` to search through the data. These structures are generally intuitive and things we are familiar with.\n",
        "\n",
        "* With the **recursive** method, a function calls itself with modified arguments until a base condition is met that ends the recursive call. Recursion can often be more elegant and shorter to write. However, the approach takes some getting used to and requires a little practice. \n",
        "\n",
        "For our linear search algorithm, we will look at the iterative version first. Conceptually, we will go through our data list and check each element until we either find the element we are looking for or realize that it is not in the list.\n"
      ]
    },
    {
      "cell_type": "markdown",
      "id": "d8fb1240-1ae1-45a6-a40c-a03b0e76ce2d",
      "metadata": {
        "cell_content_type": "markdown_default",
        "changed": false,
        "deletable": false,
        "editable": false,
        "original-content": "##### <font color=\"#17415F\">Code example I</font>\n> The `linear_search_iter()` function is an example of an iterative implementation of our linear search algorithm.\n",
        "protected": false,
        "selectable": true,
        "tags": []
      },
      "source": [
        "##### <font color=\"#17415F\">Code example I</font>\n",
        "> The `linear_search_iter()` function is an example of an iterative implementation of our linear search algorithm.\n"
      ]
    },
    {
      "cell_type": "code",
      "execution_count": null,
      "id": "d138c6e6-63e7-4046-b0a6-a3cbee4c6ef8",
      "metadata": {
        "cell_content_type": "code_demo",
        "changed": false,
        "deletable": false,
        "editable": true,
        "hint": "If you would like, you can discuss this in the forum under *Introduction: Algorithms*.",
        "original-content": "def linear_search_iter(title, library): \n    \"\"\"\n    Return book with given title as well as position in library and None as well as -1 if nothing is found. \n    \n    Args: \n        title (str): book title to be searched for. \n        library (list): list of book titles in the library. \n        \n    Returns: \n        (title, index position in library) and (None, -1) if title was not found.\n        \n    \"\"\"\n    \n    if len(library) > 0: \n      pos = 0\n      while pos < len(library): \n          if title == library[pos]: \n              return (title, pos)\n          pos += 1\n    return (None, -1)",
        "protected": false,
        "selectable": true
      },
      "outputs": [],
      "source": [
        "def linear_search_iter(title, library): \n",
        "    \"\"\"\n",
        "    Return book with given title as well as position in library and None as well as -1 if nothing is found. \n",
        "    \n",
        "    Args: \n",
        "        title (str): book title to be searched for. \n",
        "        library (list): list of book titles in the library. \n",
        "        \n",
        "    Returns: \n",
        "        (title, index position in library) and (None, -1) if title was not found.\n",
        "        \n",
        "    \"\"\"\n",
        "    \n",
        "    if len(library) > 0: \n",
        "      pos = 0\n",
        "      while pos < len(library): \n",
        "          if title == library[pos]: \n",
        "              return (title, pos)\n",
        "          pos += 1\n",
        "    return (None, -1)"
      ]
    },
    {
      "cell_type": "markdown",
      "id": "a7af3bf2-0390-4448-8577-f66289ef67aa",
      "metadata": {
        "cell_content_type": "markdown_default",
        "changed": false,
        "deletable": false,
        "editable": false,
        "original-content": "In this implementation, we use a `while` loop to search all entries of `library` in a linear way. \nWe had already established that the linear search algorithm, as described above, has a time complexity of $O(n)$. Our implementation should have the same time complexity. Is that really the case?\n\nIn `linear_search_iter()` we used a built-in method for lists: `len()`. If we want to evaluate the time complexity of our algorithm, we must also consider the runtime of `len()`. A naive implementation, which iterates through all list elements and counts them, would have a linear runtime. However, the time complexity of the `len()` function is actually $O(1)$. This is related to how `list` is implemented as a data structure. We will come across this again in the second part of the module. But until then here's a little bit of information: In Python, the length of a list is stored as an attribute, so that when the `len()` method is called, this value is retrieved directly without having to iterate through the list. \nThis constant runtime is therefore negligible compared to the linear runtime, which we have in any case, since our `while` loop runs through all entries in case of doubt if no hits were found beforehand.\n",
        "protected": false,
        "selectable": true
      },
      "source": [
        "In this implementation, we use a `while` loop to search all entries of `library` in a linear way. \n",
        "We had already established that the linear search algorithm, as described above, has a time complexity of $O(n)$. Our implementation should have the same time complexity. Is that really the case?\n",
        "\n",
        "In `linear_search_iter()` we used a built-in method for lists: `len()`. If we want to evaluate the time complexity of our algorithm, we must also consider the runtime of `len()`. A naive implementation, which iterates through all list elements and counts them, would have a linear runtime. However, the time complexity of the `len()` function is actually $O(1)$. This is related to how `list` is implemented as a data structure. We will come across this again in the second part of the module. But until then here's a little bit of information: In Python, the length of a list is stored as an attribute, so that when the `len()` method is called, this value is retrieved directly without having to iterate through the list. \n",
        "This constant runtime is therefore negligible compared to the linear runtime, which we have in any case, since our `while` loop runs through all entries in case of doubt if no hits were found beforehand.\n"
      ]
    },
    {
      "cell_type": "markdown",
      "id": "8bd0760d-3ebc-4d6c-a98f-3bee2f92a88f",
      "metadata": {
        "cell_content_type": "markdown_default",
        "changed": false,
        "deletable": false,
        "editable": false,
        "original-content": "Now let's look at the recursive solution. We design our implementation in such a way that the function calls itself again and again. The search area is reduced with each call until the element being searched for is found or the search area is exhausted.\n",
        "protected": false,
        "selectable": false
      },
      "source": [
        "Now let's look at the recursive solution. We design our implementation in such a way that the function calls itself again and again. The search area is reduced with each call until the element being searched for is found or the search area is exhausted.\n"
      ]
    },
    {
      "cell_type": "markdown",
      "id": "ee9a6cba-9dbd-4f27-bab8-fbc6ab2e5510",
      "metadata": {
        "cell_content_type": "markdown_default",
        "changed": false,
        "deletable": false,
        "editable": false,
        "original-content": "##### <font color=\"#17415F\">Code example II</font>\n> The `linear_search_rec()` function is an example of a recursive implementation of our linear search.\n",
        "protected": false,
        "selectable": true
      },
      "source": [
        "##### <font color=\"#17415F\">Code example II</font>\n",
        "> The `linear_search_rec()` function is an example of a recursive implementation of our linear search.\n"
      ]
    },
    {
      "cell_type": "code",
      "execution_count": null,
      "id": "680e4907-87dd-46e3-9b0b-4f42bd01e901",
      "metadata": {
        "cell_content_type": "code_demo",
        "changed": false,
        "deletable": false,
        "editable": true,
        "hint": "If you would like, you can discuss this in the forum under *Introduction: Algorithms*.",
        "original-content": "def linear_search_rec(title, library, index=0): \n    \"\"\"\n    Recursively return book with given title as well as position in library and None as well as -1 if nothing is found. \n    \n    Args: \n        title (str): book title to be searched for. \n        library (list): list of book titles in the library.\n        index (int): index to be checked in current recursive step.\n        \n    Returns: \n        (title, index position in library) and (None, -1) if title was not found.\n        \n    \"\"\"\n    \n    if index == len(library): #base case 1: no title found\n        return (None, -1)\n    if library[index] == title: #base case 2: title found \n        return (title, index)\n    return linear_search_rec(title, library, index+1) #recursion ",
        "protected": false,
        "selectable": true
      },
      "outputs": [],
      "source": [
        "def linear_search_rec(title, library, index=0): \n",
        "    \"\"\"\n",
        "    Recursively return book with given title as well as position in library and None as well as -1 if nothing is found. \n",
        "    \n",
        "    Args: \n",
        "        title (str): book title to be searched for. \n",
        "        library (list): list of book titles in the library.\n",
        "        index (int): index to be checked in current recursive step.\n",
        "        \n",
        "    Returns: \n",
        "        (title, index position in library) and (None, -1) if title was not found.\n",
        "        \n",
        "    \"\"\"\n",
        "    \n",
        "    if index == len(library): #base case 1: no title found\n",
        "        return (None, -1)\n",
        "    if library[index] == title: #base case 2: title found \n",
        "        return (title, index)\n",
        "    return linear_search_rec(title, library, index+1) #recursion "
      ]
    },
    {
      "cell_type": "markdown",
      "id": "70f15fba-28e6-483b-b950-1c308fa933e6",
      "metadata": {
        "cell_content_type": "markdown_default",
        "changed": false,
        "deletable": false,
        "editable": false,
        "original-content": "Let's take a closer look at how this recursive implementation works. In addition to the parameters `title` and `library`, there is an additional argument `index`. This serves as a pointer that guides us through the book list and is adjusted during the recursion.\n\nIn every recursive function, there are one or more base cases that end the recursion. We have two of these cases in our implementation:\n\n1. When the end of the shelf (or list) is reached and the book we are looking for has not been found.\n2. If the book at the current position (`index`) matches the title you are looking for.\n\nIf none of these base cases occur, the function goes into the recursive step and calls itself with an incremented `index`. This allows us to systematically go through the book list without using a loop. Adjusting the `index` value with each recursive call ensures that the search progresses and eventually reaches a base case.\n\nIn summary, recursion is characterized by the following features:\n\n* There is **at least one base case** that ends the recursion.\n* Often **additional arguments** are used that are especially important for the recursive process. It makes sense to assign default values to these arguments in order to make it more user friendly.\n* The function **calls itself**, adjusting the arguments so that the recursive process progresses and eventually reaches a base case.\n",
        "protected": false,
        "selectable": true
      },
      "source": [
        "Let's take a closer look at how this recursive implementation works. In addition to the parameters `title` and `library`, there is an additional argument `index`. This serves as a pointer that guides us through the book list and is adjusted during the recursion.\n",
        "\n",
        "In every recursive function, there are one or more base cases that end the recursion. We have two of these cases in our implementation:\n",
        "\n",
        "1. When the end of the shelf (or list) is reached and the book we are looking for has not been found.\n",
        "2. If the book at the current position (`index`) matches the title you are looking for.\n",
        "\n",
        "If none of these base cases occur, the function goes into the recursive step and calls itself with an incremented `index`. This allows us to systematically go through the book list without using a loop. Adjusting the `index` value with each recursive call ensures that the search progresses and eventually reaches a base case.\n",
        "\n",
        "In summary, recursion is characterized by the following features:\n",
        "\n",
        "* There is **at least one base case** that ends the recursion.\n",
        "* Often **additional arguments** are used that are especially important for the recursive process. It makes sense to assign default values to these arguments in order to make it more user friendly.\n",
        "* The function **calls itself**, adjusting the arguments so that the recursive process progresses and eventually reaches a base case.\n"
      ]
    },
    {
      "cell_type": "markdown",
      "id": "fde5a9e9-0cdb-459d-8c72-42d165eade57",
      "metadata": {
        "cell_content_type": "markdown_default",
        "changed": false,
        "deletable": false,
        "editable": false,
        "original-content": "Now it's your turn. Now try to implement an algorithm recursively yourself. The algorithm is similar to our previous linear search algorithm, with the difference that the search should now start on the right-hand side of the shelf. Write your code directly into the cell, we don't need a script for this exercise.\n",
        "protected": false,
        "selectable": false
      },
      "source": [
        "Now it's your turn. Now try to implement an algorithm recursively yourself. The algorithm is similar to our previous linear search algorithm, with the difference that the search should now start on the right-hand side of the shelf. Write your code directly into the cell, we don't need a script for this exercise.\n"
      ]
    },
    {
      "cell_type": "markdown",
      "id": "9a0471b9-62be-44c8-9938-c01fde908f1e",
      "metadata": {
        "cell_content_type": "markdown_default",
        "changed": false,
        "deletable": false,
        "editable": false,
        "original-content": "##### <font color=\"#3399DB\">Task 1</font>\n> Write a recursive function `linear_search_rec_inv()`. Proceed in the same way to `linear_search_rec()`, but start your search on the right. The index positions should be output as before. Use the prepared tests in the following cell to test your code.\n",
        "protected": false,
        "selectable": true
      },
      "source": [
        "##### <font color=\"#3399DB\">Task 1</font>\n",
        "> Write a recursive function `linear_search_rec_inv()`. Proceed in the same way to `linear_search_rec()`, but start your search on the right. The index positions should be output as before. Use the prepared tests in the following cell to test your code.\n"
      ]
    },
    {
      "cell_type": "code",
      "execution_count": null,
      "id": "4907b1fb-bd3a-4b48-b80e-f55f1f2567f1",
      "metadata": {
        "cell_content_type": "code_user",
        "changed": false,
        "deletable": false,
        "editable": true,
        "hint": "You can first assign None to the *index* variable and then overwrite it within the function with the start value.",
        "hint_counter": 0,
        "original-content": "",
        "protected": false,
        "selectable": true,
        "tags": []
      },
      "outputs": [],
      "source": []
    },
    {
      "cell_type": "code",
      "execution_count": null,
      "id": "ae2a8130-c176-4b72-9c67-e05918245639",
      "metadata": {
        "cell_content_type": "code_demo",
        "changed": false,
        "deletable": false,
        "editable": true,
        "hint": "If you would like, you can discuss this in the forum under *Introduction: Algorithms*.",
        "original-content": "#Test your code \nlib = ['great_gatsby', 'tonio_krueger', 'infinite_jest', 'garp', 'python_for_dummies', 'linear_algebra_1', 'crimson_labyrinth', 'garp', 'ulysses', 'don_quixote' ]\nassert linear_search_rec_inv('ulysses', lib) == ('ulysses', 8)\nassert linear_search_rec_inv('garp', lib) == ('garp', 7)\nassert linear_search_rec_inv('great_gatsby', lib) == ('great_gatsby', 0)\nassert linear_search_rec_inv('lord_of_the_rings', lib) == (None, -1)\nprint('tests passed')",
        "protected": false,
        "selectable": true
      },
      "outputs": [],
      "source": [
        "#Test your code \n",
        "lib = ['great_gatsby', 'tonio_krueger', 'infinite_jest', 'garp', 'python_for_dummies', 'linear_algebra_1', 'crimson_labyrinth', 'garp', 'ulysses', 'don_quixote' ]\n",
        "assert linear_search_rec_inv('ulysses', lib) == ('ulysses', 8)\n",
        "assert linear_search_rec_inv('garp', lib) == ('garp', 7)\n",
        "assert linear_search_rec_inv('great_gatsby', lib) == ('great_gatsby', 0)\n",
        "assert linear_search_rec_inv('lord_of_the_rings', lib) == (None, -1)\n",
        "print('tests passed')"
      ]
    },
    {
      "cell_type": "markdown",
      "id": "d1f9a561-616f-4e09-8370-eb72487cf343",
      "metadata": {
        "cell_content_type": "markdown_default",
        "changed": false,
        "deletable": false,
        "editable": false,
        "original-content": "Recursive approaches are not always the first choice, especially when the iterative approach is obvious and intuitive, as in our previous example. However, there are scenarios where recursion simplifies problem solving considerably. Especially if a problem can be broken down into several smaller but essentially identical sub-problems, the recursive structure can represent this break down naturally and clearly. Recursive code can often be shorter and more concise, as it can dispense with a lot of case distinctions. This leads to increased readability and elegance, reduces the likelihood of errors and makes the debugging process clearer. A classic example of recursion's strength is the binary search algorithm, which we will look at next.\n",
        "protected": false,
        "selectable": false
      },
      "source": [
        "Recursive approaches are not always the first choice, especially when the iterative approach is obvious and intuitive, as in our previous example. However, there are scenarios where recursion simplifies problem solving considerably. Especially if a problem can be broken down into several smaller but essentially identical sub-problems, the recursive structure can represent this break down naturally and clearly. Recursive code can often be shorter and more concise, as it can dispense with a lot of case distinctions. This leads to increased readability and elegance, reduces the likelihood of errors and makes the debugging process clearer. A classic example of recursion's strength is the binary search algorithm, which we will look at next.\n"
      ]
    },
    {
      "cell_type": "markdown",
      "id": "e621fcf6-ea9a-4241-a705-26b6a3ff15bd",
      "metadata": {
        "cell_content_type": "markdown_default",
        "changed": false,
        "deletable": false,
        "editable": false,
        "original-content": "## The binary search algorithm\n",
        "protected": false,
        "selectable": false
      },
      "source": [
        "## The binary search algorithm\n"
      ]
    },
    {
      "cell_type": "markdown",
      "id": "13651263-1d08-445b-9056-4f20bc298bed",
      "metadata": {
        "cell_content_type": "markdown_default",
        "changed": false,
        "deletable": false,
        "editable": false,
        "original-content": "If our library is sorted alphabetically by title, we can use a faster search algorithm: the binary search algorithm. We already looked at this in the last text lesson. This algorithm utilizes the sorted structure of the library and achieves a very good time complexity of $O(\\log n)$. Here is the procedure:\n\n1. If the shelf is empty, end the search. Otherwise, start with the book in the middle of the shelf. If the number of books is even, take the book directly to the left of the center.\n2. Check the title of the book. If it matches the title you are looking for, enter the book title and its position on the shelf and end the search.\n3. If not, decide based on the first letter of the title you are looking for: If this is before the book title of the current book in the alphabet, continue with the left half of the shelf. If it is after it, concentrate on the right half. Restart the search process in the selected area from step 1.\n\n\nBy repeatedly halving the search space, the binary search algorithm effectively reduces the number of steps required to find the desired book or to determine that it is not on the shelf. The algorithm bears its name because it successively divides the search space into two (not necessarily equally sized) parts.\nWe will implement this algorithm recursively in a moment. \n\nThe illustration shows an example of the process for searching for a book that is not on the shelf: \n    \n<img src=\"pyp_ads_nb1_binaersuchalgo.png\" alt=\"Binary search algorithm\" style=\"width: 600px;\"/>\n\nIn the shelf with 10 books, we first look at the fifth book (index position 4) (step 1). The title does not match the one you are looking for (step 2). The title comes forward in the alphabet, so we turn to the half of the shelf to the left of index position 4 (step 3). To do this, we repeat the process. After the third iteration, we would again look at the half of the shelf to the left of the book with the title `garp`. That half of the shelf is empty, so step 1 ends the process.\n",
        "protected": false,
        "selectable": false,
        "tags": []
      },
      "source": [
        "If our library is sorted alphabetically by title, we can use a faster search algorithm: the binary search algorithm. We already looked at this in the last text lesson. This algorithm utilizes the sorted structure of the library and achieves a very good time complexity of $O(\\log n)$. Here is the procedure:\n",
        "\n",
        "1. If the shelf is empty, end the search. Otherwise, start with the book in the middle of the shelf. If the number of books is even, take the book directly to the left of the center.\n",
        "2. Check the title of the book. If it matches the title you are looking for, enter the book title and its position on the shelf and end the search.\n",
        "3. If not, decide based on the first letter of the title you are looking for: If this is before the book title of the current book in the alphabet, continue with the left half of the shelf. If it is after it, concentrate on the right half. Restart the search process in the selected area from step 1.\n",
        "\n",
        "\n",
        "By repeatedly halving the search space, the binary search algorithm effectively reduces the number of steps required to find the desired book or to determine that it is not on the shelf. The algorithm bears its name because it successively divides the search space into two (not necessarily equally sized) parts.\n",
        "We will implement this algorithm recursively in a moment. \n",
        "\n",
        "The illustration shows an example of the process for searching for a book that is not on the shelf: \n",
        "    \n",
        "<img src=\"pyp_ads_nb1_binaersuchalgo.png\" alt=\"Binary search algorithm\" style=\"width: 600px;\"/>\n",
        "\n",
        "In the shelf with 10 books, we first look at the fifth book (index position 4) (step 1). The title does not match the one you are looking for (step 2). The title comes forward in the alphabet, so we turn to the half of the shelf to the left of index position 4 (step 3). To do this, we repeat the process. After the third iteration, we would again look at the half of the shelf to the left of the book with the title `garp`. That half of the shelf is empty, so step 1 ends the process.\n"
      ]
    },
    {
      "cell_type": "markdown",
      "id": "7154cb68-ac2c-459b-923f-b54bd3d6a826",
      "metadata": {
        "cell_content_type": "markdown_default",
        "changed": false,
        "deletable": false,
        "editable": false,
        "original-content": "We face a number of challenges when implementing the binary search algorithm. In order to get a clear overview of the upcoming steps, it makes sense to first write some **pseudocode**.\n\nPseudocode is a kind of intermediate step between the verbal description of an algorithm and the actual code. Here, we formulate the sequence of our algorithm in a structured way that follows the logic of a programming language, but without getting caught up in specific syntactic details. It serves as a bridge that allows us to focus on the core logic of the algorithm before we start with the actual programming.\n",
        "protected": false,
        "selectable": false
      },
      "source": [
        "We face a number of challenges when implementing the binary search algorithm. In order to get a clear overview of the upcoming steps, it makes sense to first write some **pseudocode**.\n",
        "\n",
        "Pseudocode is a kind of intermediate step between the verbal description of an algorithm and the actual code. Here, we formulate the sequence of our algorithm in a structured way that follows the logic of a programming language, but without getting caught up in specific syntactic details. It serves as a bridge that allows us to focus on the core logic of the algorithm before we start with the actual programming.\n"
      ]
    },
    {
      "cell_type": "markdown",
      "id": "e603c581-6300-47ce-83ee-5cc76e5f59db",
      "metadata": {
        "cell_content_type": "markdown_default",
        "changed": false,
        "deletable": false,
        "editable": false,
        "original-content": "For example, the pseudocode of `linear_search_rec()`, the recursive version of our linear algorithm above, could look like this: \n\n> **Input:** `library` (`list` of books), `title` (`str` containing title), `index` (helper variable for recursion)\n>\n> **Process:**\n> * **Base case 1**: If index out of range (library fully searched) -> Return `(None, -1)`\n> * **Base case 2**: If title found at current index: -> Return `(title, index)`\n>\n> **Recursive step:**\n> * Else if library not fully searched and title not found:\n>  * `index += 1`\n>  * Recursively call function with new `index` (and return it)\n",
        "protected": false,
        "selectable": true
      },
      "source": [
        "For example, the pseudocode of `linear_search_rec()`, the recursive version of our linear algorithm above, could look like this: \n",
        "\n",
        "> **Input:** `library` (`list` of books), `title` (`str` containing title), `index` (helper variable for recursion)\n",
        ">\n",
        "> **Process:**\n",
        "> * **Base case 1**: If index out of range (library fully searched) -> Return `(None, -1)`\n",
        "> * **Base case 2**: If title found at current index: -> Return `(title, index)`\n",
        ">\n",
        "> **Recursive step:**\n",
        "> * Else if library not fully searched and title not found:\n",
        ">  * `index += 1`\n",
        ">  * Recursively call function with new `index` (and return it)\n"
      ]
    },
    {
      "cell_type": "markdown",
      "id": "32ca526b-3884-4ad4-8cf0-faa63fe8ab52",
      "metadata": {
        "cell_content_type": "markdown_default",
        "changed": false,
        "deletable": false,
        "editable": false,
        "original-content": "The pseudocode already looks very similar to our final code. This is because Python is a high-level programming language. The syntax is similar to our language and way of thinking. This means that the path from pseudocode to code is not far. Nevertheless, pseudocode can help you to organize your thoughts.\n",
        "protected": false,
        "selectable": false
      },
      "source": [
        "The pseudocode already looks very similar to our final code. This is because Python is a high-level programming language. The syntax is similar to our language and way of thinking. This means that the path from pseudocode to code is not far. Nevertheless, pseudocode can help you to organize your thoughts.\n"
      ]
    },
    {
      "cell_type": "markdown",
      "id": "bb8ca75a-5731-47ca-aaa5-f87f236aef2f",
      "metadata": {
        "cell_content_type": "markdown_default",
        "changed": false,
        "deletable": false,
        "editable": false,
        "original-content": "Before we start with the recursive implementation of our binary search algorithm, we will outline the structure and flow of the algorithm using pseudocode. It is important to us that the function not only returns the book title searched for, but also its position on the shelf.\n\nOur aim is for the implementation to achieve a time complexity of $O(\\log n)$. To ensure this and to avoid being influenced by external factors, we refrain from using existing methods - with one exception: The list method `len()`, which has a constant time complexity of $O(1)$, may be used because it has no influence on our overall target complexity.\n",
        "protected": false,
        "selectable": true
      },
      "source": [
        "Before we start with the recursive implementation of our binary search algorithm, we will outline the structure and flow of the algorithm using pseudocode. It is important to us that the function not only returns the book title searched for, but also its position on the shelf.\n",
        "\n",
        "Our aim is for the implementation to achieve a time complexity of $O(\\log n)$. To ensure this and to avoid being influenced by external factors, we refrain from using existing methods - with one exception: The list method `len()`, which has a constant time complexity of $O(1)$, may be used because it has no influence on our overall target complexity.\n"
      ]
    },
    {
      "cell_type": "markdown",
      "id": "ca708cfd-d7b5-4cd2-bf92-104bf38bd875",
      "metadata": {
        "cell_content_type": "markdown_default",
        "changed": false,
        "deletable": false,
        "editable": false,
        "original-content": "##### <font color=\"#3399DB\">Task 2</font>\n> First, write pseudocode for the binary search algorithm in our library example. What additional variables do you need for the recursion? What are the base cases? You may assume that the titles are in alphabetical order. You can also use the list method `len()` in your later code. Do not use any methods that we have already implemented. Remember that the algorithm should output both the title and the index position if the book is found.\n",
        "protected": false,
        "selectable": true
      },
      "source": [
        "##### <font color=\"#3399DB\">Task 2</font>\n",
        "> First, write pseudocode for the binary search algorithm in our library example. What additional variables do you need for the recursion? What are the base cases? You may assume that the titles are in alphabetical order. You can also use the list method `len()` in your later code. Do not use any methods that we have already implemented. Remember that the algorithm should output both the title and the index position if the book is found.\n"
      ]
    },
    {
      "cell_type": "code",
      "execution_count": null,
      "id": "746fab63-612c-479f-8c0f-0f05d3443fd0",
      "metadata": {
        "cell_content_type": "code_user",
        "changed": false,
        "deletable": false,
        "editable": true,
        "hint": "You can find a way to define the additional variables for the recursion if you look at the docstring in the hint box. You define the base case in the same way as above: either the book could certainly not be found, or it was found. Also remember that the book's index position should also be output.",
        "hint_counter": 0,
        "original-content": "",
        "protected": false,
        "selectable": true,
        "tags": []
      },
      "outputs": [],
      "source": []
    },
    {
      "cell_type": "markdown",
      "id": "90e60aa9-ebea-457e-bd2e-6d968afc16e8",
      "metadata": {
        "cell_content_type": "markdown_default",
        "changed": false,
        "deletable": false,
        "editable": false,
        "original-content": "In the following box you can see the docstring for a possible solution. It gives you an idea of which additional variables you can use for the recursive process.\n",
        "protected": false,
        "selectable": false
      },
      "source": [
        "In the following box you can see the docstring for a possible solution. It gives you an idea of which additional variables you can use for the recursive process.\n"
      ]
    },
    {
      "cell_type": "markdown",
      "id": "c506c469-a0fa-4e4f-ba6f-18d22cc59770",
      "metadata": {
        "cell_content_type": "markdown_default",
        "changed": false,
        "deletable": false,
        "editable": false,
        "messageType": "vertiefung",
        "original-content": "**Note:** Open this box to see the docstring for a possible solution:\n\n<div class=\"details\">\n\n```python \ndef binary_search_rec(title, library, low=0, high=None): \n    \"\"\"\n    Recursively return book title and position in library and None and -1 if nothing is found. \n    \n    Args: \n        title (str): book title to be searched for. \n        library (list): list of book titles in the library.\n        low (int): lower index bound for recursion. Defaults to 0.\n        high (int): higher index bound for recursion. Defaults to None. \n        \n    Returns: \n        (title, index position in library) and (None, -1) if no title was found.\n        \n    \"\"\"\n```\n</div>\n",
        "protected": false,
        "selectable": true,
        "tags": []
      },
      "source": [
        "**Note:** Open this box to see the docstring for a possible solution:\n",
        "\n",
        "<div class=\"details\">\n",
        "\n",
        "```python \n",
        "def binary_search_rec(title, library, low=0, high=None): \n",
        "    \"\"\"\n",
        "    Recursively return book title and position in library and None and -1 if nothing is found. \n",
        "    \n",
        "    Args: \n",
        "        title (str): book title to be searched for. \n",
        "        library (list): list of book titles in the library.\n",
        "        low (int): lower index bound for recursion. Defaults to 0.\n",
        "        high (int): higher index bound for recursion. Defaults to None. \n",
        "        \n",
        "    Returns: \n",
        "        (title, index position in library) and (None, -1) if no title was found.\n",
        "        \n",
        "    \"\"\"\n",
        "```\n",
        "</div>\n"
      ]
    },
    {
      "cell_type": "markdown",
      "id": "f92c41ea-90e4-4960-9ce5-c020524c24e3",
      "metadata": {
        "cell_content_type": "markdown_default",
        "changed": false,
        "deletable": false,
        "editable": false,
        "original-content": "Does your pseudocode provide for other recursion variables or just one of these variables? Then feel free to use your own version for the implementation. If you like, please share your solution in the forum.\n",
        "protected": false,
        "selectable": false
      },
      "source": [
        "Does your pseudocode provide for other recursion variables or just one of these variables? Then feel free to use your own version for the implementation. If you like, please share your solution in the forum.\n"
      ]
    },
    {
      "cell_type": "markdown",
      "id": "9433a18d-bdf2-4e0c-8d68-114e17c7e72d",
      "metadata": {
        "cell_content_type": "markdown_default",
        "changed": false,
        "deletable": false,
        "editable": false,
        "original-content": "##### <font color=\"#3399DB\">Task 3</font>\n> Now implement `binary_search_rec()` in the following code cell. Avoid using any methods that we have already implemented. An exception to this is the list method `len()`.\n> Use the prepared tests in the following cell to test your code.\n",
        "protected": false,
        "selectable": true,
        "tags": []
      },
      "source": [
        "##### <font color=\"#3399DB\">Task 3</font>\n",
        "> Now implement `binary_search_rec()` in the following code cell. Avoid using any methods that we have already implemented. An exception to this is the list method `len()`.\n",
        "> Use the prepared tests in the following cell to test your code.\n"
      ]
    },
    {
      "cell_type": "code",
      "execution_count": null,
      "id": "a1d1cc79-7608-467a-8fb8-5dc6dcbabdcd",
      "metadata": {
        "cell_content_type": "code_user",
        "changed": false,
        "deletable": false,
        "editable": true,
        "hint": "If you would like, you can discuss this cell in the forum under *Introduction: Algorithms*.",
        "original-content": "",
        "protected": false,
        "selectable": true
      },
      "outputs": [],
      "source": []
    },
    {
      "cell_type": "code",
      "execution_count": null,
      "id": "ada3f2bf-18a9-4098-bfaa-70a30bd5b108",
      "metadata": {
        "cell_content_type": "code_demo",
        "changed": false,
        "deletable": false,
        "editable": true,
        "hint": "If you would like, you can discuss this in the forum under *Introduction: Algorithms*.",
        "original-content": "#Test your code \nlib_sorted = ['crimson_labyrinth',\n 'don_quixote',\n 'garp',\n 'garp',\n 'great_gatsby',\n 'infinite_jest',\n 'linear_algebra_1',\n 'python_for_dummies',\n 'tonio_krueger',\n 'ulysses']\n\nassert binary_search_rec('ulysses', lib_sorted) == ('ulysses', 9)\nassert binary_search_rec('garp', lib_sorted) == ('garp', 2)\nassert binary_search_rec('crimson_labyrinth', lib_sorted) == ('crimson_labyrinth', 0)\nassert binary_search_rec('infinite_jest', lib_sorted) == ('infinite_jest', 5)\nassert binary_search_rec('lord_of_the_rings', lib_sorted) == (None, -1)\nprint('tests passed')",
        "protected": false,
        "selectable": true
      },
      "outputs": [],
      "source": [
        "#Test your code \n",
        "lib_sorted = ['crimson_labyrinth',\n",
        " 'don_quixote',\n",
        " 'garp',\n",
        " 'garp',\n",
        " 'great_gatsby',\n",
        " 'infinite_jest',\n",
        " 'linear_algebra_1',\n",
        " 'python_for_dummies',\n",
        " 'tonio_krueger',\n",
        " 'ulysses']\n",
        "\n",
        "assert binary_search_rec('ulysses', lib_sorted) == ('ulysses', 9)\n",
        "assert binary_search_rec('garp', lib_sorted) == ('garp', 2)\n",
        "assert binary_search_rec('crimson_labyrinth', lib_sorted) == ('crimson_labyrinth', 0)\n",
        "assert binary_search_rec('infinite_jest', lib_sorted) == ('infinite_jest', 5)\n",
        "assert binary_search_rec('lord_of_the_rings', lib_sorted) == (None, -1)\n",
        "print('tests passed')"
      ]
    },
    {
      "cell_type": "markdown",
      "id": "d9ab9992-31ae-443a-8cc6-4abe3021fb02",
      "metadata": {
        "cell_content_type": "markdown_default",
        "changed": false,
        "deletable": false,
        "editable": false,
        "messageType": "glueckwunsch",
        "original-content": "**Congratulations:** You have implemented a binary search recursively. It is an example of an algorithm based on the *divide and conquer* principle: The actual problem is repeatedly divided into basically identical sub-problems. This recursion therefore represents the natural structure of the search.\n",
        "protected": false,
        "selectable": false,
        "tags": []
      },
      "source": [
        "**Congratulations:** You have implemented a binary search recursively. It is an example of an algorithm based on the *divide and conquer* principle: The actual problem is repeatedly divided into basically identical sub-problems. This recursion therefore represents the natural structure of the search.\n"
      ]
    },
    {
      "cell_type": "markdown",
      "id": "7ab40ee0-f0ee-4128-a8c2-ad6bcb622390",
      "metadata": {
        "cell_content_type": "markdown_default",
        "changed": false,
        "deletable": false,
        "editable": false,
        "messageType": "vertiefung",
        "original-content": "**Deep dive:** the Quicksort algorithm. \n<div class=\"details\">\nIn our exercise, we have assumed that our library is sorted alphabetically. We can therefore implement our search in $O(\\log n)$ instead of $O(n)$ as before. However, sorting itself involves a lot of work. In the previous text lesson, we assumed in question 2 that sorting in $O(n \\log n)$ is possible. In fact, $O(n \\log n)$ is the best time complexity we can achieve for sorting. We can achieve this using the <i>Quicksort</i> algorithm, among other things. In the algorithm, what we call a <i>pivot</i> element is compared with all the other elements in each recursion step. Larger elements are arranged to the right of the pivot, smaller ones to the left. \nIf you are interested in this, you can read more \n<a href=\"https://realpython.com/sorting-algorithms-python/#the-quicksort-algorithm-in-python\">here</a>, for example.\n</div>\n",
        "protected": false,
        "selectable": false,
        "tags": []
      },
      "source": [
        "**Deep dive:** the Quicksort algorithm. \n",
        "<div class=\"details\">\n",
        "In our exercise, we have assumed that our library is sorted alphabetically. We can therefore implement our search in $O(\\log n)$ instead of $O(n)$ as before. However, sorting itself involves a lot of work. In the previous text lesson, we assumed in question 2 that sorting in $O(n \\log n)$ is possible. In fact, $O(n \\log n)$ is the best time complexity we can achieve for sorting. We can achieve this using the <i>Quicksort</i> algorithm, among other things. In the algorithm, what we call a <i>pivot</i> element is compared with all the other elements in each recursion step. Larger elements are arranged to the right of the pivot, smaller ones to the left. \n",
        "If you are interested in this, you can read more \n",
        "<a href=\"https://realpython.com/sorting-algorithms-python/#the-quicksort-algorithm-in-python\">here</a>, for example.\n",
        "</div>\n"
      ]
    },
    {
      "cell_type": "markdown",
      "id": "08e70952-20a7-4f7d-8ab7-48c19f859fc4",
      "metadata": {
        "cell_content_type": "markdown_default",
        "changed": false,
        "deletable": false,
        "editable": false,
        "original-content": "Later in the module we will get to know the binary search tree data structure. If we want to implement a search method in this data structure, we also use a binary search algorithm. \nHowever, in the following text lesson, we will first look at what data structures are and why we should be concerned about them.\n",
        "protected": false,
        "selectable": false
      },
      "source": [
        "Later in the module we will get to know the binary search tree data structure. If we want to implement a search method in this data structure, we also use a binary search algorithm. \n",
        "However, in the following text lesson, we will first look at what data structures are and why we should be concerned about them.\n"
      ]
    },
    {
      "cell_type": "markdown",
      "id": "b6b1e151-dc97-4b21-b248-737f6f5c5554",
      "metadata": {
        "cell_content_type": "markdown_default",
        "changed": false,
        "deletable": false,
        "editable": false,
        "messageType": "merke",
        "original-content": "**Remember:** \n* Many problems can be solved both iteratively and recursively.\n* Recursive implementations are advantageous for problems where their natural structure can be broken down into identical subproblems.\n* The binary search is an example of one of these problems.\n* Pseudocode can help you to pre-structure your thoughts.\n",
        "protected": false,
        "selectable": false,
        "tags": []
      },
      "source": [
        "**Remember:** \n",
        "* Many problems can be solved both iteratively and recursively.\n",
        "* Recursive implementations are advantageous for problems where their natural structure can be broken down into identical subproblems.\n",
        "* The binary search is an example of one of these problems.\n",
        "* Pseudocode can help you to pre-structure your thoughts.\n"
      ]
    },
    {
      "cell_type": "markdown",
      "id": "71d74318-d16a-4417-ac09-d009aef2d37c",
      "metadata": {
        "cell_content_type": "markdown_default",
        "changed": false,
        "deletable": false,
        "editable": false,
        "original-content": "***\nDo you have any questions about this exercise? Look in the forum to see if they have already been discussed.\n***\nFound a mistake? Contact Support at support@stackfuel.com.\n***\n",
        "protected": false,
        "selectable": false
      },
      "source": [
        "***\n",
        "Do you have any questions about this exercise? Look in the forum to see if they have already been discussed.\n",
        "***\n",
        "Found a mistake? Contact Support at support@stackfuel.com.\n",
        "***\n"
      ]
    }
  ],
  "metadata": {
    "content_id": "b48369be-9fd2-4cca-9ada-80c592cf93b4",
    "content_language": "en",
    "content_title": "Introduction: Algorithms",
    "content_type": "exercise",
    "kernelspec": {
      "display_name": "Python 3 (ipykernel)",
      "language": "python",
      "name": "python3"
    },
    "language_info": {
      "codemirror_mode": {
        "name": "ipython",
        "version": 3
      },
      "file_extension": ".py",
      "mimetype": "text/x-python",
      "name": "python",
      "nbconvert_exporter": "python",
      "pygments_lexer": "ipython3",
      "version": "3.8.10"
    }
  },
  "nbformat": 4,
  "nbformat_minor": 5
}