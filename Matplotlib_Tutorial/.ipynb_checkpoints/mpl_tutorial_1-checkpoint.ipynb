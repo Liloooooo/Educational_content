{
 "cells": [
  {
   "cell_type": "markdown",
   "id": "3aa5005d",
   "metadata": {},
   "source": [
    "# Zeitreihendaten visualisieren, Teil I: pandas"
   ]
  },
  {
   "cell_type": "markdown",
   "id": "d8466c2a",
   "metadata": {},
   "source": [
    "Für dieses Tutorial solltest du mit den grundlegenden Funktionen von Python vertraut sein. Außerdem ist es hilfreich, wenn du bereits weißt, wie in `pandas` Daten eingelesen, exploriert und manipuliert werden.  "
   ]
  },
  {
   "cell_type": "markdown",
   "id": "6cd1d124-4ad4-4d99-91e4-6b2a690e669b",
   "metadata": {},
   "source": [
    "In dieser Übung werden wir `pandas` nutzen, um Daten zu visualisieren. Genauer: um Zeitreihendaten zu analysieren. Zeitreihendaten sind Daten, deren x-Achse mit Datumsangaben versehen ist. Die Methode `pandas.DataFrame.plot()` interagiert sehr gut mit Daten im `datetime`-Format, und stellt sie ansprechend dar. Wir werden uns hier exemplarisch mit der Darstellung eines Aktienkurses über eine Periode von 30 Tagen befassen. "
   ]
  },
  {
   "cell_type": "markdown",
   "id": "f4a1b82d-cbc6-4365-bfa0-e1b3a4622818",
   "metadata": {},
   "source": [
    "Am Ende dieser Übung wird deine Visualisierung in etwa so aussehen:\n",
    "\n",
    "![grafik.png](data/meta_df_final.png)\n"
   ]
  },
  {
   "cell_type": "markdown",
   "id": "fc2518a0",
   "metadata": {},
   "source": [
    "Die `pandas.DataFrame.plot()`-Methode baut auf einer umfassenden Visualisierungsbibliothek auf, `matplotlib`. Wollen wir Anpassungen über die eingebauten Funktionalitäten von `pandas.DataFrame.plot()` vornehmen, können wir beide Bibliotheken einfach miteinander kombinieren. Wie das funktioniert, schauen wir uns im zweiten Teil der Übung an. Denn hast du verstanden, wie die Bibliothek funktioniert, hast du alle Freiheiten, deine Visualisierung nach deinen Wünschen zu gestalten. "
   ]
  },
  {
   "cell_type": "markdown",
   "id": "d3a3f74e",
   "metadata": {},
   "source": [
    "-------------------------------------------------------------------------------------------------------------------------------"
   ]
  },
  {
   "cell_type": "markdown",
   "id": "6a185dc7",
   "metadata": {},
   "source": [
    "**Aufgabe:** Lies die Daten zunächst ein. Du kannst hierfür die Default-Optionen von `pandas.read_csv()` nutzen. Die Datei liegt im Ordner *data/*, der Dateiname ist *meta_shares.csv*. Speichere den `pandas.DataFrame` unter dem Namen `meta_df` ab. Lass dir im Anschluss die ersten 5 Zeilen ausgeben. Vergiss nicht, die `pandas`-Bibliothek unter dem üblichen Kürzel zu importieren. "
   ]
  },
  {
   "cell_type": "code",
   "execution_count": null,
   "id": "0c8000be",
   "metadata": {},
   "outputs": [],
   "source": []
  },
  {
   "cell_type": "markdown",
   "id": "87c435b9",
   "metadata": {},
   "source": [
    "Die Spalte *Close/Last* stellt die Schlusskurse des jeweiligen Tages in US-Dollar dar. Wir werden sie als y-Werte nutzen. Auf den ersten Blick wirkt es nicht so, als seien die Daten in einem numerischen Format vorhanden. "
   ]
  },
  {
   "cell_type": "markdown",
   "id": "7f9ed506",
   "metadata": {},
   "source": [
    "Bevor wir uns mit den Datentypen beschäftigen, sollten wir noch sichergehen, dass die beiden Spalten *Date* und *Close/Last* keine NaN-Werte enthalten. \n",
    "\n",
    "**Aufgabe:** Nutze die folgende Codezelle, um das Vorhandensein von NaN-Werten zu überprüfen. "
   ]
  },
  {
   "cell_type": "code",
   "execution_count": null,
   "id": "83674413",
   "metadata": {
    "hint_counter": 1
   },
   "outputs": [],
   "source": []
  },
  {
   "cell_type": "markdown",
   "id": "81b3b7e0",
   "metadata": {},
   "source": [
    "Wunderbar, alle Daten sind vorhanden. Dann können wir uns nun dem Datentypen der Spalte *Close/Last* zuwenden. *Date* interessiert uns auch.\n",
    "\n",
    "**Aufgabe:** Lass dir die Datentypen der Spalten *Close/Last* und *Date* ausgeben.  "
   ]
  },
  {
   "cell_type": "code",
   "execution_count": null,
   "id": "1b46ae14",
   "metadata": {},
   "outputs": [],
   "source": []
  },
  {
   "cell_type": "markdown",
   "id": "ceb0bd88",
   "metadata": {},
   "source": [
    "Es handelt sich also um den Datentypen `object`. Diese Kategorie wird für alle Series ausgegeben, deren Werte entweder nur Strings enthalten, oder gemischte Datentypen aufweisen. Es scheint hier so, als lägen die Werte beider Spalten im String-Format vor. "
   ]
  },
  {
   "cell_type": "markdown",
   "id": "a6d6089e",
   "metadata": {},
   "source": [
    "**Aufgabe:** Stelle den Aktienkurs in einem so genannten *Liniendiagramm* dar. \n",
    "Dazu müssen mindestens die y-Werte in einem numerischen Format vorliegen. \n",
    "Entferne zunächst die Dollar-Zeichen aus den Werten der Spalte *Close/Last* und wandle sie anschließend in den Datentyp `float` um. Weißt du nicht mehr auf Anhieb, wie das funktioniert, recherchiere doch mal im Internet oder lies dir den Hinweis durch. Lass dir anschließend die Datentypen nochmal ausgeben. *Close/Last* sollte nun im `float`-Format vorliegen. \n",
    "\n",
    "*[Hinweis: Mithilfe von pandas.Series.str.replace() kannst du das Dollar-Zeichen entfernen. pandas.Series.astype() kannst du nutzen, um den String anschliessend in ein float-Format umzuwandeln. Vergiss nicht, die neuen Werte der Spalte zuzuordnen. ]*"
   ]
  },
  {
   "cell_type": "code",
   "execution_count": null,
   "id": "cfebcafd",
   "metadata": {},
   "outputs": [],
   "source": []
  },
  {
   "cell_type": "markdown",
   "id": "2b7f0b1d",
   "metadata": {},
   "source": [
    "## Abbildungen mit `pandas.DataFrame.plot()` erzeugen "
   ]
  },
  {
   "cell_type": "markdown",
   "id": "34e31ca4",
   "metadata": {},
   "source": [
    "Jetzt, da unsere y-Werte in einem numerischen Format vorliegen, können wir uns bereits an unsere erste Visualisierung wagen. Wir nutzen hierfür die Methode `pandas.DataFrame.plot()`. Die Minimalversion unseres *Liniendiagramms* können wir erzeugen, indem wir der Methode lediglich den Namen der darzustellenden Spalte als String mit dem Keyword `y` übergeben. Führe die folgende Zelle aus."
   ]
  },
  {
   "cell_type": "code",
   "execution_count": null,
   "id": "27bc6d42",
   "metadata": {},
   "outputs": [],
   "source": [
    "meta_df.plot(y='Close/Last')"
   ]
  },
  {
   "cell_type": "markdown",
   "id": "76ade80f",
   "metadata": {},
   "source": [
    "Wie du siehst, kümmert sich `pandas.DataFrame.plot()` selbst um die Werte und Beschriftung der x-Achse, wenn wir ihr keine Werte zur Verfügung stellen. Sie nutzt hier die Werte des Index, sowohl für die Werte als auch für die Beschriftung. Sie nutzt allerdings nicht alle Indexwerte, sondern bestimmt automatisch, an welchen Stellen die Ticks und deren Beschriftungen sich befinden sollen.  "
   ]
  },
  {
   "cell_type": "markdown",
   "id": "3191c081",
   "metadata": {},
   "source": [
    "Werfen wir einen Blick in die [Dokumentation](https://pandas.pydata.org/docs/reference/api/pandas.DataFrame.plot.html), so sehen wir einige Variablen, die wir festlegen können. \n",
    "Sehen wir uns exemplarisch mal die x-Achse etwas genauer an, denn dort finden sich in unserer Zeitreihendarstellung die Datumsangaben. \n",
    "\n",
    "Wollen wir also beispielsweise alle Indexwerte auf der x-Achse sehen, könnten wir in der Methode das Keyword `xticks` mit allen unseren Indexwerten belegen. \n",
    "Alternativ können dem Argument jede beliebige Liste an numerischen Werten übergeben, für die wir eine Beschriftung der x-Achse wünschen. \n",
    "\n",
    "**Aufgabe:** Nutze die folgende Codezelle, um dich mit dem `xticks`-Argument vertraut zu machen: \n",
    "- Versuche zunächst, dir jeden Indexwert anzeigen zu lassen.\n",
    "- Kannst du dir auch nur jeden zweiten Indexwert anzeigen lassen? \n",
    "- Lass dir doch nur mal die Werte 2.13, 10.1 und 15.8 auf der x-Achse anzeigen   \n",
    "- Was passiert, wenn `xticks` Werte spezifiziert, die ausserhalb des Bereichs der Indexwerte liegen, z.B. von -10 bis 25?  \n",
    "\n",
    "*[Hinweis: die Indexwerte kannst du mit meta_df.index abrufen]*"
   ]
  },
  {
   "cell_type": "code",
   "execution_count": null,
   "id": "71c8b5b2",
   "metadata": {},
   "outputs": [],
   "source": [
    "xt_alle = #dein Code hier\n",
    "meta_df.plot(y='Close/Last', xticks=xt_alle)\n",
    "\n",
    "xt_zweiten = #dein Code hier\n",
    "meta_df.plot(y='Close/Last', xticks=xt_zweiten)\n",
    "\n",
    "xt_liste = #dein Code hier\n",
    "meta_df.plot(y='Close/Last', xticks=xt_liste)\n",
    "\n",
    "xt_aussen = #dein Code hier\n",
    "meta_df.plot(y='Close/Last', xticks=xt_aussen)"
   ]
  },
  {
   "cell_type": "markdown",
   "id": "a4f6e243",
   "metadata": {},
   "source": [
    "Was ist hier passiert? Wir müssen hier ein paar Sachen auseinanderhalten: \n",
    "- die *x-Werte*, auf die sich unser Plot, also die Linie, bezieht - sie müssen numerisch sein;  \n",
    "- die Werte der *Ticks*, die auch numerisch sind; \n",
    "- die *Beschriftungen* der Ticks, die auch Strings sein dürfen. \n",
    "\n",
    "Die *x-Werte* in unseren Abbildungen scheinen sich auf die Indexwerte bzw. -positionen zu beziehen, weil wir der Methode keine anderslautenden numerischen Werte als x-Argument übergeben haben. \n",
    "Geben wir dem `xticks`-Argument aber numerischen Input, dann plaziert die Methode ebendort die *Ticks* und deren *Beschriftungen*. In der letzten Abbildung haben wir dem Argument Werte gegeben, die über die eigentlichen x-Werte hinausgehen. Die Werte der Ticks und deren Beschriftungen werden von `xticks` übernommen, allerdings gibt es nun nicht mehr überall abzubildenden Werte.  "
   ]
  },
  {
   "cell_type": "markdown",
   "id": "2be5f667",
   "metadata": {},
   "source": [
    "<div class=\"alert alert-block alert-success\"> Durch die Betrachtung der des xticks-Arguments merkst du bereits: hinter den Kulissen spielt sich hier ganz schön viel ab. Eine Abbildung hat x-Werte, xTicks, die Beschriftungen der xTicks, und vieles mehr. Wir werden uns im zweiten Teil noch ausführlicher mit dem beschäftigen, was im Hintergrund passiert. </div>"
   ]
  },
  {
   "cell_type": "markdown",
   "id": "17fbdfa8",
   "metadata": {},
   "source": [
    "Wir wünschen eine Darstellung, bei der die x-Achse mit den entsprechenden Datumsangaben gekennzeichnet ist. \n",
    "\n",
    "\n",
    "**Aufgabe:** Übergebe demselben Plot zusätzlich unter dem Argument `x` noch `Date`. Wähle `xticks` so, dass jedes zweite Datum angezeigt wird. \n",
    "Du solltest auch die Beschriftungen der x-Achse rotieren, damit sie lesbar bleiben. Suche in der [Dokumentation](https://pandas.pydata.org/docs/reference/api/pandas.DataFrame.plot.html) nach dem passenden Argument hierfür. \n",
    "\n",
    "Übrigens: möchtest du den Text, der vor dem Plot erscheint, unterdrücken, kannst du ans Ende der Zeile ein Semikolon setzen. Wir werden später noch auf die Bedeutung des Texts zurückkommen. \n",
    "\n",
    "*[Hinweis: hast du möglicherweise dem xticks-Argument nicht-numerische Werte übergegeben? Du kannst dich nicht auf deine Date-Spalte beziehen, deren Einträge ja Strings sind.]*"
   ]
  },
  {
   "cell_type": "code",
   "execution_count": null,
   "id": "16360ef9",
   "metadata": {},
   "outputs": [],
   "source": []
  },
  {
   "cell_type": "markdown",
   "id": "396cbe18",
   "metadata": {},
   "source": [
    "Wie du siehst, funktioniert es hier wunderbar, dem Argument `x` eine mit Strings befüllte Spalte zu übergeben. \n",
    "\n",
    "So wie oben schon gilt: bekommt die Methode keinen numerischen Input unter dem Argument `x`, greift sie auf die Indexpositionen zur Bestimmung der x-Werte zurück. `xticks` haben wir numerischen Input gegeben, der mit dem Intervall der x-Werte übereinstimmt. Die Beschriftung der Ticks sind die String-Werte, die wir der Methode unter dem Argument `x` übergeben haben. "
   ]
  },
  {
   "cell_type": "markdown",
   "id": "9ab375e3",
   "metadata": {},
   "source": [
    "Vermutlich wirst du bemerkt haben, dass die Daten umgekehrt chronologisch dargestellt sind. \n",
    "Gewöhnlich werden Aktienkurse anders herum dargestellt: frühere Datumsangaben finden sich weiter links. Wir sollten es der betrachtenden Person so einfach wie möglich machen, und der Konvention folgen. "
   ]
  },
  {
   "cell_type": "markdown",
   "id": "bea7d306",
   "metadata": {},
   "source": [
    "**Aufgabe:** Manipuliere `meta_df` so, dass die Darstellung in der korrekten chronologischen Reihenfolge erfolgt. Gib dem manipulierten Datensatz einen neuen Namen `meta_df_rev`. Lasse dir den Plot in der zweiten Codezelle darstellen. Jedes zweite Datum sollte angezeigt werden. \n",
    "\n",
    "*[Hinweis: eine Möglichkeit wäre, den DataFrame zunächst umzudrehen, und anschließend den Index neu zu setzen.]*"
   ]
  },
  {
   "cell_type": "code",
   "execution_count": null,
   "id": "e11f79e9",
   "metadata": {
    "hint_counter": 1
   },
   "outputs": [],
   "source": []
  },
  {
   "cell_type": "code",
   "execution_count": null,
   "id": "d13777e2",
   "metadata": {},
   "outputs": [],
   "source": []
  },
  {
   "cell_type": "markdown",
   "id": "0a1c0ebb",
   "metadata": {},
   "source": [
    "Deine Visualisierung sollte nun in etwa so aussehen: \n",
    "\n",
    "![grafik.png](data/meta_df_rev.png)\n"
   ]
  },
  {
   "cell_type": "markdown",
   "id": "f7ff2932",
   "metadata": {},
   "source": [
    "Unsere Grundelemente sind nun alle vorhanden. Wie du bereits gesehen hast, hat `pandas.DataFrame.plot()` noch einiges mehr zu bieten als die Argumente, die wir uns bisher angesehen haben.  \n",
    "\n",
    "**Aufgabe:** Es ist nun an dir, deine Visualisierung ansprechender zu gestalten.  Schau dir dazu nun noch einmal die [Dokumentation](https://pandas.pydata.org/docs/reference/api/pandas.DataFrame.plot.html) an.  \n",
    "- Entferne die Legende. \n",
    "- Nutze stattdessen einen aussagekräftigen Titel. Verweise dabei unbedingt auf die Einheit der y-Achse, da wir kein y-Label ausgeben lassen.\n",
    "- Eine Gitteransicht macht deine Graphik übersichtlicher.\n",
    "- Wähle eine breitere Darstellung mit den Maßen 14 Zoll Breite und 4 Zoll Höhe. \n",
    "- Stelle die Datumsangaben im Format *MM/DD* dar. Manipuliere hierzu deinen Datensatz.  \n",
    "- Auf der x-Achse sollte jeder Tag angezeigt werden.\n",
    "- Die Schriftgröße deiner x-Achsenbeschriftungen und y-Achsenbeschriftungen sollte 12 betragen, die Rotation 70. \n",
    "\n",
    "Wenn du möchtest, kannst du auch den `style` der Linie ändern. In `pandas.DataFrame.plot()` kannst du hierfür einen [Linestyle](https://matplotlib.org/stable/api/_as_gen/matplotlib.lines.Line2D.html#matplotlib.lines.Line2D.set_linestyle) und einen [Markerstyle](https://matplotlib.org/stable/api/markers_api.html) ohne Leerzeichen kombinieren. '-.o' würde beispielsweise funktionieren. Du kannst auch nur einen Linestyle wählen, nicht aber nur einen Markerstyle.  "
   ]
  },
  {
   "cell_type": "code",
   "execution_count": null,
   "id": "338a37cd",
   "metadata": {},
   "outputs": [],
   "source": []
  },
  {
   "cell_type": "markdown",
   "id": "f103a733",
   "metadata": {},
   "source": [
    "Deine Graphik sollte nun in etwa so aussehen: \n",
    "\n",
    "![grafik.png](data/meta_df_rev2.png)\n"
   ]
  },
  {
   "cell_type": "markdown",
   "id": "bebff35a",
   "metadata": {},
   "source": [
    "## Das Datetime-Format "
   ]
  },
  {
   "cell_type": "markdown",
   "id": "6e9e5fbf",
   "metadata": {},
   "source": [
    "Deine Graphik sieht schon recht ansprechend aus. Nicht immer liegen die Zeitdaten allerdings so vollständig und gut geordnet vor. Außerdem werden die Wochenenden hier unterschlagen, auch handelsfreie Feiertage würden einfach übergangen. \n",
    " \n",
    "Praktischer wäre es, wenn `pandas` die x-Achse selbst evaluieren könnte. Dazu müssen die Datumsangaben in einem numerischen Format vorliegen. \n",
    "\n",
    "**Aufgabe:**\n",
    "Nutze `pandas.to_datetime()` um deine `Date`-Spalte in ein `datetime`-Format umzuwandeln (hier findest du die [Dokumentation](https://pandas.pydata.org/docs/reference/api/pandas.to_datetime.html)). \n",
    "Speichere vorher eine Kopie von `meta_df` unter dem Namen `meta_df_date` ab, damit du deinen Originaldatensatz nicht aus Versehen manipulierst. Überprüfe anschließend die Datentypen von `meta_df_date`. "
   ]
  },
  {
   "cell_type": "code",
   "execution_count": null,
   "id": "5805d08d",
   "metadata": {},
   "outputs": [],
   "source": []
  },
  {
   "cell_type": "markdown",
   "id": "f90dfd5c",
   "metadata": {},
   "source": [
    "**Aufgabe:** Übernimm nun die Variablen aus deiner vorigen Abbildung, aber wähle als Argument `x` deine `Date`-Spalte. Lasse die `xticks` zunächst weg. "
   ]
  },
  {
   "cell_type": "code",
   "execution_count": null,
   "id": "d1f7a420",
   "metadata": {},
   "outputs": [],
   "source": []
  },
  {
   "cell_type": "markdown",
   "id": "1f776ca3",
   "metadata": {},
   "source": [
    "Die Daten werden hier also bereits chronologisch sortiert, obwohl wir unseren Datensatz gar nicht umgedreht hatten. \n",
    "\n",
    "Wenn du die Abbildung mit deiner vorigen vergleichst, wirst du noch einen weiteren Unterschied feststellen: die Wochenendtage sind nun ebenfalls auf der x-Achse bewertet. Das hat damit zu tun, dass das `datetime`-Format ein numerisches ist, welches von der Methode evaluiert werden kann. "
   ]
  },
  {
   "cell_type": "markdown",
   "id": "60d7d176",
   "metadata": {},
   "source": [
    "Der Nachteil ist die mangelnde Flexibilität in der Anpassung der Datenformate. Wünschen wir eine andere Darstellung der Beschriftung, müssen wir weitere Module importieren und nutzen."
   ]
  },
  {
   "cell_type": "markdown",
   "id": "6cc9d05d",
   "metadata": {},
   "source": [
    "Das wollen wir hier aber nicht machen. Wenden wir uns stattdessen noch einmal dem Argument `xticks` zu. Erinnerst du dich, wie es funktioniert? \n",
    "\n",
    "**Aufgabe:** Lasse dir alle Datumsangaben in der Abbildung anzeigen. Übernimm dazu alle Argumente aus der vorigen Zelle, und füge dem Argument `xticks` die entsprechenden Werte hinzu. \n",
    "\n",
    "*[Hinweis: xticks sollte sich im gleichen Range wie die X-Werte befinden, damit die Darstellung ansprechend gelingt.]*"
   ]
  },
  {
   "cell_type": "code",
   "execution_count": null,
   "id": "464413bf",
   "metadata": {},
   "outputs": [],
   "source": []
  },
  {
   "cell_type": "markdown",
   "id": "5e9b8260",
   "metadata": {},
   "source": [
    "Wenn du alles richtig gemacht hast, sollte deine Graphik nun in etwa so aussehen: \n",
    "\n",
    "![grafik.png](data/meta_df_final.png)\n"
   ]
  },
  {
   "cell_type": "markdown",
   "id": "f0424557",
   "metadata": {},
   "source": [
    "<div class=\"alert alert-block alert-info\"> <b>Herzlichen Glückwunsch.</b> Du hast den Aktienkurs mit Hilfe von pandas in ein ansprechendes Format gebracht. Du hast zwei Versionen entworfen: eine, die Wochenendtage mit darstellt, und eine ohne diese Darstellung. Beides sind gängige Formate.  \n",
    "Der Verlauf des Aktienkurses ist ohne Weiteres zu erkennen, x- und y-Achsen sind eindeutig beschriftet.\n",
    "In der nächsten Übung werden wir uns ansehen, wie die matplotlib-Bibliothek hinter den Kulissen funktioniert.**Merke**: \n",
    "- `pandas.DataFrame.plot()` eignet sich gut dazu, um schnell und einfach aussagekräftige Abbildungen zu produzieren. Besonders, wenn du eine Designabteilung im Rücken hast, ist die Methode oft schon ausreichend.  \n",
    "- `pandas.DataFrame.plot()` konvertiert Zeitdaten im datetime-Format direkt in eine Darstellung, die auch nicht in den Daten enthaltene Tage mit abbildet.  "
   ]
  },
  {
   "cell_type": "markdown",
   "id": "1791d57f-748d-4419-ba42-8d354bc612fd",
   "metadata": {},
   "source": [
    "**Merke**: \n",
    "- `pandas.DataFrame.plot()` eignet sich gut dazu, um schnell und einfach aussagekräftige Abbildungen zu produzieren. Besonders, wenn du eine Designabteilung im Rücken hast, ist die Methode oft schon ausreichend.  \n",
    "- `pandas.DataFrame.plot()` konvertiert Zeitdaten im datetime-Format direkt in eine Darstellung, die auch nicht in den Daten enthaltene Tage mit abbildet. "
   ]
  }
 ],
 "metadata": {
  "kernelspec": {
   "display_name": "Python 3",
   "language": "python",
   "name": "python3"
  },
  "language_info": {
   "codemirror_mode": {
    "name": "ipython",
    "version": 3
   },
   "file_extension": ".py",
   "mimetype": "text/x-python",
   "name": "python",
   "nbconvert_exporter": "python",
   "pygments_lexer": "ipython3",
   "version": "3.7.1"
  }
 },
 "nbformat": 4,
 "nbformat_minor": 5
}
